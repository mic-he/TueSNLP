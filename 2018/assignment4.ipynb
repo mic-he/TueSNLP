{
 "cells": [
  {
   "cell_type": "markdown",
   "metadata": {},
   "source": [
    "# Assignment 4\n",
    "## Clustering languages\n",
    "The assignment and data are available here: https://snlp2018.github.io/assignments.html\n",
    "\n",
    "The main dataset for the assignment is in the file `northeuralex-words.gz`. It contains IPA phonetic representation of more than 1000 words in more than 100 languages of Northern Eurasia; the dataset consists of two tab-separated columns: 3-letter ISO language code and tokenize IPA representation of a word."
   ]
  },
  {
   "cell_type": "markdown",
   "metadata": {},
   "source": [
    "### Exercise 1\n",
    "Read the data and extract the features. In particular, each language in the dataset will be represented as a vector of integers, one for each IPA token in the dataset. Each integer should correspond to the count of the IPA token in the words of that language."
   ]
  },
  {
   "cell_type": "code",
   "execution_count": 64,
   "metadata": {},
   "outputs": [],
   "source": [
    "import pandas as pd\n",
    "import progressbar"
   ]
  },
  {
   "cell_type": "code",
   "execution_count": 2,
   "metadata": {},
   "outputs": [
    {
     "name": "stdout",
     "output_type": "stream",
     "text": [
      "  lang          ipa\n",
      "0  fin    s i l m æ\n",
      "1  fin    k ɔ r ʋ ɑ\n",
      "2  fin      n ɛ n æ\n",
      "3  fin        s u u\n",
      "4  fin  h ɑ m m ɑ s\n",
      "      lang   ipa\n",
      "lang            \n",
      "ava      1   954\n",
      "azj      1  1017\n",
      "bak      1   962\n",
      "bel      1  1042\n",
      "ben      1   930\n",
      "...    ...   ...\n",
      "udm      1   973\n",
      "ukr      1  1044\n",
      "uzn      1   960\n",
      "vep      1  1004\n",
      "yrk      1  1014\n",
      "\n",
      "[80 rows x 2 columns]\n"
     ]
    }
   ],
   "source": [
    "# read data\n",
    "df_raw = pd.read_csv(\"data/northeuralex-words\", sep = \"\\t\", names = [\"lang\", \"ipa\"])\n",
    "print(df_raw.head()) # let's take a look at df\n",
    "print(df_raw.groupby(\"lang\").nunique())"
   ]
  },
  {
   "cell_type": "markdown",
   "metadata": {},
   "source": [
    "Next, we want to wrangle the df in such a way that we have one language per row and a list of all the IPA tokens appearing in the words of that language as value:"
   ]
  },
  {
   "cell_type": "code",
   "execution_count": 3,
   "metadata": {},
   "outputs": [],
   "source": [
    "df_by_lang = df_raw.groupby(\"lang\")[\"ipa\"].apply(lambda x: ' '.join(x)) # group by language code and join all rows"
   ]
  },
  {
   "cell_type": "code",
   "execution_count": 4,
   "metadata": {},
   "outputs": [
    {
     "name": "stdout",
     "output_type": "stream",
     "text": [
      "lang\n",
      "ava    ʕ i n m j e ʕ j e r kʼ a l ʕ u s m a t͡s ʼ kʼ ...\n",
      "azj    ɟ œ z ɡ u l ɑ ɡ b u r u n ɑ ɣ ɯ z d ɪ ʃ d ɪ l ...\n",
      "bak    k y ð q o l a q t a n a u a u ɯ ð t e ʃ t e l ...\n",
      "bel    v ɔ k a v u x a n ɔ s r ɔ t z u b j a z ɨ k ɣ ...\n",
      "ben    t͡ʃ ɔ k kʰ u k ɔ r n o n a k m u kʰ d ã t ɔ d...\n",
      "bre    l ɑ ɑ ɡ a t s k u u a ʀ n f ʀ i i ɡ ẽ ẽ n u ...\n",
      "bul    ɔ k ɔ u x ɔ n ɔ s u s t a z ɤ p ɛ z i k u s t ...\n",
      "cat    u ʎ u ɾ ɛ ʎ ə n a s b ɔ k ə d ɛ n ʎ ɛ n ɣ w ə ...\n",
      "ces    o k o u x o n o s p u s a z u p j a z ɪ k r ɛ ...\n",
      "che    b ʡ æ r ɡ l e r ɡ m ə r ə b ə ɡ ə t͡s e r ɡ m ...\n",
      "Name: ipa, dtype: object\n",
      "(80,)\n"
     ]
    }
   ],
   "source": [
    "print(df_by_lang.head(10))\n",
    "print(df_by_lang.shape)"
   ]
  },
  {
   "cell_type": "markdown",
   "metadata": {},
   "source": [
    "Next, we use `CountVectorizer` from `sklearn` to get the feature matrix:"
   ]
  },
  {
   "cell_type": "code",
   "execution_count": 5,
   "metadata": {},
   "outputs": [],
   "source": [
    "from sklearn.feature_extraction.text import CountVectorizer"
   ]
  },
  {
   "cell_type": "code",
   "execution_count": 6,
   "metadata": {},
   "outputs": [
    {
     "data": {
      "text/plain": [
       "CountVectorizer(analyzer='word', binary=False, decode_error='strict',\n",
       "                dtype=<class 'numpy.int64'>, encoding='utf-8', input='content',\n",
       "                lowercase=True, max_df=1.0, max_features=None, min_df=1,\n",
       "                ngram_range=(1, 1), preprocessor=None, stop_words=None,\n",
       "                strip_accents=None, token_pattern='(?u)\\\\b\\\\w\\\\w+\\\\b',\n",
       "                tokenizer=None, vocabulary=None)"
      ]
     },
     "execution_count": 6,
     "metadata": {},
     "output_type": "execute_result"
    }
   ],
   "source": [
    "cv = CountVectorizer()\n",
    "cv.fit(df_by_lang)"
   ]
  },
  {
   "cell_type": "code",
   "execution_count": 7,
   "metadata": {},
   "outputs": [],
   "source": [
    "features = cv.transform(df_by_lang)"
   ]
  },
  {
   "cell_type": "code",
   "execution_count": 8,
   "metadata": {},
   "outputs": [
    {
     "data": {
      "text/plain": [
       "<80x145 sparse matrix of type '<class 'numpy.int64'>'\n",
       "\twith 464 stored elements in Compressed Sparse Row format>"
      ]
     },
     "execution_count": 8,
     "metadata": {},
     "output_type": "execute_result"
    }
   ],
   "source": [
    "features"
   ]
  },
  {
   "cell_type": "code",
   "execution_count": 9,
   "metadata": {},
   "outputs": [],
   "source": [
    "dense_features = features.todense()"
   ]
  },
  {
   "cell_type": "code",
   "execution_count": 10,
   "metadata": {},
   "outputs": [
    {
     "data": {
      "text/plain": [
       "matrix([[ 0,  0,  0, ...,  0,  0,  0],\n",
       "        [ 0,  0,  0, ...,  0,  0,  0],\n",
       "        [ 0,  0,  0, ...,  0,  0,  0],\n",
       "        ...,\n",
       "        [ 0,  0,  0, ...,  0,  0,  0],\n",
       "        [ 0,  0,  0, ...,  0,  0,  0],\n",
       "        [ 0, 39,  0, ...,  0,  0,  0]], dtype=int64)"
      ]
     },
     "execution_count": 10,
     "metadata": {},
     "output_type": "execute_result"
    }
   ],
   "source": [
    "dense_features"
   ]
  },
  {
   "cell_type": "markdown",
   "metadata": {},
   "source": [
    "Finally, let's get a list of language codes in the same order:"
   ]
  },
  {
   "cell_type": "code",
   "execution_count": 11,
   "metadata": {},
   "outputs": [
    {
     "data": {
      "text/plain": [
       "['ava', 'azj', 'bak', 'bel', 'ben', 'bre', 'bul', 'cat', 'ces']"
      ]
     },
     "execution_count": 11,
     "metadata": {},
     "output_type": "execute_result"
    }
   ],
   "source": [
    "languages = list(df_by_lang.index) # to make sure we keep the alignment features/labels\n",
    "languages[0:9]"
   ]
  },
  {
   "cell_type": "markdown",
   "metadata": {},
   "source": [
    "### Exercise 2\n",
    "K-means clustering. Repeat clustering of `features` for `k` in `[2,70]` and plot error function and silhouette score for each `k`."
   ]
  },
  {
   "cell_type": "code",
   "execution_count": 52,
   "metadata": {},
   "outputs": [],
   "source": [
    "from sklearn.cluster import KMeans\n",
    "from sklearn.metrics import silhouette_score"
   ]
  },
  {
   "cell_type": "code",
   "execution_count": 65,
   "metadata": {},
   "outputs": [],
   "source": [
    "def kmeans(features, max_k):\n",
    "    error_scores = [] # initialize arrays to keep track\n",
    "    sil_scores = []\n",
    "    \n",
    "    # it might take a while, so let's add a progressbar to have an idea of the running time\n",
    "    bar = progressbar.ProgressBar(maxval = features.shape[0], \\\n",
    "        widgets = [progressbar.Bar('=', '[', ']'), ' ', progressbar.Percentage()])\n",
    "    bar.start()\n",
    "    \n",
    "    for k in range(2, max_k + 1):\n",
    "        km = KMeans(n_clusters = k) # initialize model\n",
    "        km.fit(features) # fit on data\n",
    "        km_labels = km.predict(features) # generate labels for cluster\n",
    "        error = km.inertia_ # get error score (sum of squared distances from centroids)\n",
    "        silhouette = silhouette_score(features, km_labels) # get silhouette score\n",
    "        error_scores.append(error)\n",
    "        sil_scores.append(silhouette)\n",
    "        bar.update(k + 1)\n",
    "        \n",
    "    bar.finish()\n",
    "    \n",
    "    return(error_scores, sil_scores)"
   ]
  },
  {
   "cell_type": "code",
   "execution_count": 71,
   "metadata": {},
   "outputs": [
    {
     "name": "stderr",
     "output_type": "stream",
     "text": [
      "[========================================================================] 100%\n"
     ]
    }
   ],
   "source": [
    "max_k = 70\n",
    "\n",
    "import warnings\n",
    "with warnings.catch_warnings(): # silence convergence warning\n",
    "    warnings.simplefilter(\"ignore\")\n",
    "    error_scores, sil_scores = kmeans(dense_features, max_k)"
   ]
  },
  {
   "cell_type": "markdown",
   "metadata": {},
   "source": [
    "Plot scores as a function of `k`:"
   ]
  },
  {
   "cell_type": "code",
   "execution_count": 72,
   "metadata": {},
   "outputs": [],
   "source": [
    "import matplotlib.pyplot as plt\n",
    "%matplotlib inline"
   ]
  },
  {
   "cell_type": "code",
   "execution_count": 73,
   "metadata": {},
   "outputs": [
    {
     "data": {
      "image/png": "[encoded data removed]",
      "text/plain": [
       "<Figure size 432x288 with 1 Axes>"
      ]
     },
     "metadata": {
      "needs_background": "light"
     },
     "output_type": "display_data"
    }
   ],
   "source": [
    "# error\n",
    "plt.plot(range(2, max_k + 1), error_scores, \"bs\", label = 'error')\n",
    "plt.xlabel(\"Number of clusters (k)\")\n",
    "plt.ylabel('Error score')\n",
    "plt.legend()\n",
    "plt.title(\"Error score for each k-value\")\n",
    "plt.show()"
   ]
  },
  {
   "cell_type": "markdown",
   "metadata": {},
   "source": [
    "The so-called \"elbow\" appears to be around 10-13 clusters."
   ]
  },
  {
   "cell_type": "code",
   "execution_count": 74,
   "metadata": {},
   "outputs": [
    {
     "data": {
      "image/png": "[encoded data removed]",
      "text/plain": [
       "<Figure size 432x288 with 1 Axes>"
      ]
     },
     "metadata": {
      "needs_background": "light"
     },
     "output_type": "display_data"
    }
   ],
   "source": [
    "# silhouette\n",
    "plt.plot(range(2, max_k + 1), sil_scores, \"r^\", label = 'silhouette')\n",
    "plt.xlabel(\"Number of clusters (k)\")\n",
    "plt.ylabel('Silhouete score')\n",
    "plt.legend()\n",
    "plt.title(\"Silhouette score for each k-value\")\n",
    "plt.show()"
   ]
  },
  {
   "cell_type": "markdown",
   "metadata": {},
   "source": [
    "Is this reasonable?"
   ]
  }
 ],
 "metadata": {
  "kernelspec": {
   "display_name": "Python 3",
   "language": "python",
   "name": "python3"
  },
  "language_info": {
   "codemirror_mode": {
    "name": "ipython",
    "version": 3
   },
   "file_extension": ".py",
   "mimetype": "text/x-python",
   "name": "python",
   "nbconvert_exporter": "python",
   "pygments_lexer": "ipython3",
   "version": "3.7.6"
  }
 },
 "nbformat": 4,
 "nbformat_minor": 4
}
