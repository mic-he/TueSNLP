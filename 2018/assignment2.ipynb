{
 "cells": [
  {
   "cell_type": "markdown",
   "metadata": {},
   "source": [
    "# TueSNLP - Assignment 2"
   ]
  },
  {
   "cell_type": "markdown",
   "metadata": {},
   "source": [
    "## Linear regression\n",
    "The assignment and data are available here: https://snlp2018.github.io/assignments.html.\n",
    "\n",
    "The data (already splitted in training and testing sets) is a list of timestamps of tweets, in the UNIX format. The goal of the assignment is to model the distribution of tweets during the hours of a day."
   ]
  },
  {
   "cell_type": "markdown",
   "metadata": {},
   "source": [
    "### Exercise 1\n",
    "Load the data, convert it into more informative format and count the number of tweets in each hour of each day. The goal of the exercise is to output two `numpy` arrays, one with the hours (0,1,...,23,0,1,...) and the other with the count of tweets in each hour."
   ]
  },
  {
   "cell_type": "code",
   "execution_count": 1,
   "metadata": {},
   "outputs": [],
   "source": [
    "# libraries\n",
    "import gzip\n",
    "import numpy as np\n",
    "import pandas as pd\n",
    "import time"
   ]
  },
  {
   "cell_type": "code",
   "execution_count": 2,
   "metadata": {},
   "outputs": [],
   "source": [
    "# read data (\"rt\" mode makes sure we read as text)\n",
    "with gzip.open(\"data/timestamps.train.gz\", \"rt\") as input_f:\n",
    "    timestamps_train_raw = input_f.read().splitlines()"
   ]
  },
  {
   "cell_type": "markdown",
   "metadata": {},
   "source": [
    "It looks like this:"
   ]
  },
  {
   "cell_type": "code",
   "execution_count": 3,
   "metadata": {},
   "outputs": [
    {
     "name": "stdout",
     "output_type": "stream",
     "text": [
      "['1522533600', '1522533600', '1522533602', '1522533603', '1522533603', '1522533604', '1522533604', '1522533604', '1522533605', '1522533606']\n"
     ]
    }
   ],
   "source": [
    "print(timestamps_train_raw[0:10])"
   ]
  },
  {
   "cell_type": "markdown",
   "metadata": {},
   "source": [
    "We can convert the UNIX format with `time.localtime()`; for example:"
   ]
  },
  {
   "cell_type": "code",
   "execution_count": 4,
   "metadata": {},
   "outputs": [
    {
     "name": "stdout",
     "output_type": "stream",
     "text": [
      "time.struct_time(tm_year=2018, tm_mon=4, tm_mday=1, tm_hour=0, tm_min=0, tm_sec=0, tm_wday=6, tm_yday=91, tm_isdst=1)\n",
      "time.struct_time(tm_year=2018, tm_mon=4, tm_mday=1, tm_hour=0, tm_min=0, tm_sec=0, tm_wday=6, tm_yday=91, tm_isdst=1)\n",
      "time.struct_time(tm_year=2018, tm_mon=4, tm_mday=1, tm_hour=0, tm_min=0, tm_sec=2, tm_wday=6, tm_yday=91, tm_isdst=1)\n"
     ]
    }
   ],
   "source": [
    "print(time.localtime(int(timestamps_train_raw[0])))\n",
    "print(time.localtime(int(timestamps_train_raw[1])))\n",
    "print(time.localtime(int(timestamps_train_raw[2])))"
   ]
  },
  {
   "cell_type": "markdown",
   "metadata": {},
   "source": [
    "We can see that the attribute `hour` might just be what we need:"
   ]
  },
  {
   "cell_type": "code",
   "execution_count": 5,
   "metadata": {},
   "outputs": [
    {
     "data": {
      "text/plain": [
       "[1522533600,\n",
       " 1522533600,\n",
       " 1522533602,\n",
       " 1522533603,\n",
       " 1522533603,\n",
       " 1522533604,\n",
       " 1522533604,\n",
       " 1522533604,\n",
       " 1522533605,\n",
       " 1522533606]"
      ]
     },
     "execution_count": 5,
     "metadata": {},
     "output_type": "execute_result"
    }
   ],
   "source": [
    "timestamps_train_int = [int(entry) for entry in timestamps_train_raw] # convert to integer\n",
    "timestamps_train_int[0:10]"
   ]
  },
  {
   "cell_type": "code",
   "execution_count": 6,
   "metadata": {},
   "outputs": [
    {
     "data": {
      "text/plain": [
       "array([0, 0, 0, 0, 0, 0, 0, 0, 0, 0])"
      ]
     },
     "execution_count": 6,
     "metadata": {},
     "output_type": "execute_result"
    }
   ],
   "source": [
    "# convert with localtime and extract hour attribute\n",
    "timestamps_train_converted = [time.localtime(entry) for entry in timestamps_train_int]\n",
    "timestamps_train_hours = np.array([entry.tm_hour for entry in timestamps_train_converted])\n",
    "timestamps_train_hours[0:10]"
   ]
  },
  {
   "cell_type": "markdown",
   "metadata": {},
   "source": [
    "We want to count tweets in each hour in each day, so we need more information, i.e. year, month, day as well:"
   ]
  },
  {
   "cell_type": "code",
   "execution_count": 7,
   "metadata": {},
   "outputs": [],
   "source": [
    "timestamps_train_keys = [(entry.tm_year, entry.tm_mon, entry.tm_mday, entry.tm_hour) \n",
    "                         for entry in timestamps_train_converted]"
   ]
  },
  {
   "cell_type": "code",
   "execution_count": 8,
   "metadata": {},
   "outputs": [
    {
     "data": {
      "text/plain": [
       "[(2018, 4, 1, 0),\n",
       " (2018, 4, 1, 0),\n",
       " (2018, 4, 1, 0),\n",
       " (2018, 4, 1, 0),\n",
       " (2018, 4, 1, 0)]"
      ]
     },
     "execution_count": 8,
     "metadata": {},
     "output_type": "execute_result"
    }
   ],
   "source": [
    "timestamps_train_keys[0:5]"
   ]
  },
  {
   "cell_type": "code",
   "execution_count": 9,
   "metadata": {},
   "outputs": [
    {
     "data": {
      "text/html": [
       "<div>\n",
       "<style scoped>\n",
       "    .dataframe tbody tr th:only-of-type {\n",
       "        vertical-align: middle;\n",
       "    }\n",
       "\n",
       "    .dataframe tbody tr th {\n",
       "        vertical-align: top;\n",
       "    }\n",
       "\n",
       "    .dataframe thead th {\n",
       "        text-align: right;\n",
       "    }\n",
       "</style>\n",
       "<table border=\"1\" class=\"dataframe\">\n",
       "  <thead>\n",
       "    <tr style=\"text-align: right;\">\n",
       "      <th></th>\n",
       "      <th>key</th>\n",
       "    </tr>\n",
       "  </thead>\n",
       "  <tbody>\n",
       "    <tr>\n",
       "      <th>0</th>\n",
       "      <td>(2018, 4, 1, 0)</td>\n",
       "    </tr>\n",
       "    <tr>\n",
       "      <th>1</th>\n",
       "      <td>(2018, 4, 1, 0)</td>\n",
       "    </tr>\n",
       "    <tr>\n",
       "      <th>2</th>\n",
       "      <td>(2018, 4, 1, 0)</td>\n",
       "    </tr>\n",
       "    <tr>\n",
       "      <th>3</th>\n",
       "      <td>(2018, 4, 1, 0)</td>\n",
       "    </tr>\n",
       "    <tr>\n",
       "      <th>4</th>\n",
       "      <td>(2018, 4, 1, 0)</td>\n",
       "    </tr>\n",
       "  </tbody>\n",
       "</table>\n",
       "</div>"
      ],
      "text/plain": [
       "               key\n",
       "0  (2018, 4, 1, 0)\n",
       "1  (2018, 4, 1, 0)\n",
       "2  (2018, 4, 1, 0)\n",
       "3  (2018, 4, 1, 0)\n",
       "4  (2018, 4, 1, 0)"
      ]
     },
     "execution_count": 9,
     "metadata": {},
     "output_type": "execute_result"
    }
   ],
   "source": [
    "train_df = pd.DataFrame()\n",
    "train_df[\"key\"] = timestamps_train_keys\n",
    "train_df.head()"
   ]
  },
  {
   "cell_type": "code",
   "execution_count": 10,
   "metadata": {},
   "outputs": [
    {
     "data": {
      "text/html": [
       "<div>\n",
       "<style scoped>\n",
       "    .dataframe tbody tr th:only-of-type {\n",
       "        vertical-align: middle;\n",
       "    }\n",
       "\n",
       "    .dataframe tbody tr th {\n",
       "        vertical-align: top;\n",
       "    }\n",
       "\n",
       "    .dataframe thead th {\n",
       "        text-align: right;\n",
       "    }\n",
       "</style>\n",
       "<table border=\"1\" class=\"dataframe\">\n",
       "  <thead>\n",
       "    <tr style=\"text-align: right;\">\n",
       "      <th></th>\n",
       "      <th>key</th>\n",
       "      <th>count</th>\n",
       "      <th>hour</th>\n",
       "    </tr>\n",
       "  </thead>\n",
       "  <tbody>\n",
       "    <tr>\n",
       "      <th>0</th>\n",
       "      <td>(2018, 4, 1, 0)</td>\n",
       "      <td>5682</td>\n",
       "      <td>0</td>\n",
       "    </tr>\n",
       "    <tr>\n",
       "      <th>1</th>\n",
       "      <td>(2018, 4, 1, 1)</td>\n",
       "      <td>3480</td>\n",
       "      <td>1</td>\n",
       "    </tr>\n",
       "    <tr>\n",
       "      <th>2</th>\n",
       "      <td>(2018, 4, 1, 2)</td>\n",
       "      <td>1782</td>\n",
       "      <td>2</td>\n",
       "    </tr>\n",
       "    <tr>\n",
       "      <th>3</th>\n",
       "      <td>(2018, 4, 1, 3)</td>\n",
       "      <td>1029</td>\n",
       "      <td>3</td>\n",
       "    </tr>\n",
       "    <tr>\n",
       "      <th>4</th>\n",
       "      <td>(2018, 4, 1, 4)</td>\n",
       "      <td>911</td>\n",
       "      <td>4</td>\n",
       "    </tr>\n",
       "    <tr>\n",
       "      <th>5</th>\n",
       "      <td>(2018, 4, 1, 5)</td>\n",
       "      <td>836</td>\n",
       "      <td>5</td>\n",
       "    </tr>\n",
       "    <tr>\n",
       "      <th>6</th>\n",
       "      <td>(2018, 4, 1, 6)</td>\n",
       "      <td>1112</td>\n",
       "      <td>6</td>\n",
       "    </tr>\n",
       "    <tr>\n",
       "      <th>7</th>\n",
       "      <td>(2018, 4, 1, 7)</td>\n",
       "      <td>2783</td>\n",
       "      <td>7</td>\n",
       "    </tr>\n",
       "    <tr>\n",
       "      <th>8</th>\n",
       "      <td>(2018, 4, 1, 8)</td>\n",
       "      <td>2820</td>\n",
       "      <td>8</td>\n",
       "    </tr>\n",
       "    <tr>\n",
       "      <th>9</th>\n",
       "      <td>(2018, 4, 1, 9)</td>\n",
       "      <td>3588</td>\n",
       "      <td>9</td>\n",
       "    </tr>\n",
       "  </tbody>\n",
       "</table>\n",
       "</div>"
      ],
      "text/plain": [
       "               key  count  hour\n",
       "0  (2018, 4, 1, 0)   5682     0\n",
       "1  (2018, 4, 1, 1)   3480     1\n",
       "2  (2018, 4, 1, 2)   1782     2\n",
       "3  (2018, 4, 1, 3)   1029     3\n",
       "4  (2018, 4, 1, 4)    911     4\n",
       "5  (2018, 4, 1, 5)    836     5\n",
       "6  (2018, 4, 1, 6)   1112     6\n",
       "7  (2018, 4, 1, 7)   2783     7\n",
       "8  (2018, 4, 1, 8)   2820     8\n",
       "9  (2018, 4, 1, 9)   3588     9"
      ]
     },
     "execution_count": 10,
     "metadata": {},
     "output_type": "execute_result"
    }
   ],
   "source": [
    "counts_df = train_df.groupby([\"key\"]).size().reset_index(name=\"count\")\n",
    "counts_df[\"hour\"] = [entry[3] for entry in counts_df[\"key\"]]\n",
    "counts_df.head(10)"
   ]
  },
  {
   "cell_type": "markdown",
   "metadata": {},
   "source": [
    "### Exercise 2\n",
    "Fit a linear model to predict the number of tweets in each hour of the day, using `sklearn.linear_model`. Output `R^2` score on training and testing data, and make predictions for a few samples."
   ]
  },
  {
   "cell_type": "code",
   "execution_count": 11,
   "metadata": {},
   "outputs": [],
   "source": [
    "import sklearn.linear_model as lm"
   ]
  },
  {
   "cell_type": "code",
   "execution_count": 12,
   "metadata": {},
   "outputs": [
    {
     "data": {
      "text/plain": [
       "LinearRegression(copy_X=True, fit_intercept=True, n_jobs=None, normalize=False)"
      ]
     },
     "execution_count": 12,
     "metadata": {},
     "output_type": "execute_result"
    }
   ],
   "source": [
    "# initialize model\n",
    "lm_model = lm.LinearRegression()\n",
    "\n",
    "# train\n",
    "lm_model.fit(X = counts_df[\"hour\"].values.reshape(-1,1), \n",
    "             y = counts_df[\"count\"]) # reshape needed to obtain 2D array)"
   ]
  },
  {
   "cell_type": "code",
   "execution_count": 13,
   "metadata": {},
   "outputs": [
    {
     "data": {
      "text/plain": [
       "0.5180059433647819"
      ]
     },
     "execution_count": 13,
     "metadata": {},
     "output_type": "execute_result"
    }
   ],
   "source": [
    "# R^2 score on training data\n",
    "lm_model.score(X = counts_df[\"hour\"].values.reshape(-1,1), \n",
    "             y = counts_df[\"count\"]) # reshape needed to obtain 2D array)"
   ]
  },
  {
   "cell_type": "code",
   "execution_count": 14,
   "metadata": {},
   "outputs": [
    {
     "name": "stdout",
     "output_type": "stream",
     "text": [
      "[641.0975942]\n",
      "79.61377777777761\n"
     ]
    }
   ],
   "source": [
    "# coefficients\n",
    "print(lm_model.coef_)\n",
    "print(lm_model.intercept_)"
   ]
  },
  {
   "cell_type": "code",
   "execution_count": 15,
   "metadata": {},
   "outputs": [
    {
     "data": {
      "text/plain": [
       "array([   79.61377778,  5208.3945314 ,  7772.78490821, 11619.37047343,\n",
       "       14824.85844444])"
      ]
     },
     "execution_count": 15,
     "metadata": {},
     "output_type": "execute_result"
    }
   ],
   "source": [
    "# some predictions\n",
    "X_predict = np.array([0, 8, 12, 18, 23]).reshape(-1,1)\n",
    "lm_model.predict(X_predict)"
   ]
  },
  {
   "cell_type": "markdown",
   "metadata": {},
   "source": [
    "Do all this with test data as well :)"
   ]
  },
  {
   "cell_type": "code",
   "execution_count": 16,
   "metadata": {},
   "outputs": [],
   "source": [
    "# read and process data\n",
    "with gzip.open(\"data/timestamps.test.gz\", \"rt\") as input_f:\n",
    "    timestamps_test_raw = input_f.read().splitlines()\n",
    "\n",
    "timestamps_test_converted = [time.localtime(int(entry)) for entry in timestamps_test_raw]\n",
    "timestamps_test_hours = np.array([entry.tm_hour for entry in timestamps_test_converted])\n",
    "timestamps_test_keys = [(entry.tm_year, entry.tm_mon, entry.tm_mday, entry.tm_hour) \n",
    "                         for entry in timestamps_test_converted]"
   ]
  },
  {
   "cell_type": "code",
   "execution_count": 17,
   "metadata": {},
   "outputs": [],
   "source": [
    "# df\n",
    "test_df = pd.DataFrame()\n",
    "test_df[\"key\"] = timestamps_test_keys\n",
    "test_df.head()\n",
    "test_counts_df = test_df.groupby([\"key\"]).size().reset_index(name=\"count\")\n",
    "test_counts_df[\"hour\"] = [entry[3] for entry in test_counts_df[\"key\"]]"
   ]
  },
  {
   "cell_type": "code",
   "execution_count": 18,
   "metadata": {},
   "outputs": [
    {
     "data": {
      "text/plain": [
       "0.053960363488884555"
      ]
     },
     "execution_count": 18,
     "metadata": {},
     "output_type": "execute_result"
    }
   ],
   "source": [
    "# model\n",
    "lm_model.score(X = test_counts_df[\"hour\"].values.reshape(-1,1),\n",
    "               y = test_counts_df[\"count\"]) # reshape needed to obtain 2D array"
   ]
  },
  {
   "cell_type": "markdown",
   "metadata": {},
   "source": [
    "Pretty low."
   ]
  },
  {
   "cell_type": "markdown",
   "metadata": {},
   "source": [
    "### Exercise 3\n",
    "Fit 9 polynomial regression models, each increasing by one the order of the function, i.e. exponent of the maximal term, starting from 2. Output `R^2` score for each model on training and testing data.\n",
    "\n",
    "We use `PolynomialFeatures`:"
   ]
  },
  {
   "cell_type": "code",
   "execution_count": 19,
   "metadata": {},
   "outputs": [],
   "source": [
    "from sklearn.preprocessing import PolynomialFeatures"
   ]
  },
  {
   "cell_type": "code",
   "execution_count": 20,
   "metadata": {},
   "outputs": [],
   "source": [
    "# polynomial features\n",
    "poly = PolynomialFeatures(degree = 2) # initialize constructor\n",
    "poly_counts = poly.fit_transform(counts_df[\"count\"].values.reshape(-1,1)) # add polynomial feature"
   ]
  },
  {
   "cell_type": "code",
   "execution_count": 21,
   "metadata": {},
   "outputs": [
    {
     "name": "stderr",
     "output_type": "stream",
     "text": [
      "/home/mic_he/lib/python3.5/site-packages/sklearn/base.py:434: FutureWarning: The default value of multioutput (not exposed in score method) will change from 'variance_weighted' to 'uniform_average' in 0.23 to keep consistent with 'metrics.r2_score'. To specify the default value manually and avoid the warning, please either call 'metrics.r2_score' directly or make a custom scorer with 'metrics.make_scorer' (the built-in scorer 'r2' uses multioutput='uniform_average').\n",
      "  \"multioutput='uniform_average').\", FutureWarning)\n"
     ]
    },
    {
     "data": {
      "text/plain": [
       "0.2866714225119515"
      ]
     },
     "execution_count": 21,
     "metadata": {},
     "output_type": "execute_result"
    }
   ],
   "source": [
    "# model\n",
    "lm_model = lm.LinearRegression()\n",
    "lm_model.fit(X = counts_df[\"hour\"].values.reshape(-1,1), y = poly_counts)\n",
    "lm_model.score(X = counts_df[\"hour\"].values.reshape(-1,1), y = poly_counts)"
   ]
  },
  {
   "cell_type": "markdown",
   "metadata": {},
   "source": [
    "As a function:"
   ]
  },
  {
   "cell_type": "code",
   "execution_count": 22,
   "metadata": {},
   "outputs": [],
   "source": [
    "def polynomial_regression(n, X_train, y_train, X_test, y_test):\n",
    "    poly = PolynomialFeatures(degree = n) # initialize constructor\n",
    "    poly_X_train = poly.fit_transform(X_train) # add polynomial feature\n",
    "    lm_model = lm.LinearRegression()\n",
    "    lm_model.fit(X = poly_X_train, y = y_train)\n",
    "    score_train = lm_model.score(X = poly_X_train, y = y_train)\n",
    "    print(\"R^2 score with degree \"+str(n)+\" on training data: \"+str(score_train))\n",
    "    poly_X_test = poly.fit_transform(X_test)\n",
    "    score_test = lm_model.score(X = poly_X_test, y = y_test)\n",
    "    print(\"R^2 score with degree \"+str(n)+\" on testing data: \"+str(score_test))   "
   ]
  },
  {
   "cell_type": "markdown",
   "metadata": {},
   "source": [
    "For example:"
   ]
  },
  {
   "cell_type": "code",
   "execution_count": 23,
   "metadata": {},
   "outputs": [
    {
     "name": "stdout",
     "output_type": "stream",
     "text": [
      "R^2 score with degree 2 on training data: 0.5212131379797482\n",
      "R^2 score with degree 2 on testing data: 0.060189867017389154\n"
     ]
    }
   ],
   "source": [
    "polynomial_regression(n = 2, X_train = counts_df[\"hour\"].values.reshape(-1,1), \n",
    "                      y_train = counts_df[\"count\"].values.reshape(-1,1), \n",
    "                      X_test = test_counts_df[\"hour\"].values.reshape(-1,1),\n",
    "                      y_test = test_counts_df[\"count\"].values.reshape(-1,1))"
   ]
  },
  {
   "cell_type": "markdown",
   "metadata": {},
   "source": [
    "Let's run it for each value from 2 to 9 on both training and testing data:"
   ]
  },
  {
   "cell_type": "code",
   "execution_count": 24,
   "metadata": {},
   "outputs": [
    {
     "name": "stdout",
     "output_type": "stream",
     "text": [
      "R^2 score with degree 2 on training data: 0.5212131379797482\n",
      "R^2 score with degree 2 on testing data: 0.060189867017389154\n",
      "\n",
      "R^2 score with degree 3 on training data: 0.6156576360819128\n",
      "R^2 score with degree 3 on testing data: 0.09684404167136207\n",
      "\n",
      "R^2 score with degree 4 on training data: 0.6300433428418803\n",
      "R^2 score with degree 4 on testing data: 0.0399555868664474\n",
      "\n",
      "R^2 score with degree 5 on training data: 0.6827144707505652\n",
      "R^2 score with degree 5 on testing data: 0.08407760569658584\n",
      "\n",
      "R^2 score with degree 6 on training data: 0.6860602020493982\n",
      "R^2 score with degree 6 on testing data: 0.08237905960931335\n",
      "\n",
      "R^2 score with degree 7 on training data: 0.6932243442370838\n",
      "R^2 score with degree 7 on testing data: 0.09112296550693255\n",
      "\n",
      "R^2 score with degree 8 on training data: 0.7014440741951585\n",
      "R^2 score with degree 8 on testing data: 0.09284888814166503\n",
      "\n",
      "R^2 score with degree 9 on training data: 0.7033983505131709\n",
      "R^2 score with degree 9 on testing data: 0.09416684850350865\n",
      "\n"
     ]
    }
   ],
   "source": [
    "X_train = counts_df[\"hour\"].values.reshape(-1,1)\n",
    "y_train = counts_df[\"count\"].values.reshape(-1,1)\n",
    "X_test = test_counts_df[\"hour\"].values.reshape(-1,1)\n",
    "y_test = test_counts_df[\"count\"].values.reshape(-1,1)\n",
    "\n",
    "for n in range(2,10):\n",
    "    polynomial_regression(n, X_train, y_train, X_test, y_test)\n",
    "    print(\"\")"
   ]
  },
  {
   "cell_type": "markdown",
   "metadata": {},
   "source": [
    "Performance on training set peak at degree 9. However performance on testing set always very poor."
   ]
  },
  {
   "cell_type": "markdown",
   "metadata": {},
   "source": [
    "### Exercise 4\n",
    "Try to use the predictor `hour` not as continuous variable but as categorial, i.e. encode it with one-hot encoding"
   ]
  },
  {
   "cell_type": "code",
   "execution_count": 25,
   "metadata": {},
   "outputs": [],
   "source": [
    "# one-hot encoding function\n",
    "def onehot_encoder(input_array):\n",
    "    unique_elements = list(set(input_array)) # the \"vocabulary\" of the input\n",
    "    output_array = [None]*len(input_array) # output has the same length as input\n",
    "    for i in range(0, len(input_array)): # encode each element...\n",
    "        current_element = input_array[i]\n",
    "        output_array[i] = [0]*len(unique_elements) # ...as an array of zeros...\n",
    "        for j in range(0, len(unique_elements)):\n",
    "            if current_element == unique_elements[j]: # ... except for the position corresponding to the element's position in the vocabulary\n",
    "                output_array[i][j] = 1\n",
    "    return(output_array)"
   ]
  },
  {
   "cell_type": "markdown",
   "metadata": {},
   "source": [
    "For example:"
   ]
  },
  {
   "cell_type": "code",
   "execution_count": 26,
   "metadata": {},
   "outputs": [
    {
     "data": {
      "text/plain": [
       "[[1, 0, 0, 0],\n",
       " [0, 1, 0, 0],\n",
       " [0, 0, 1, 0],\n",
       " [0, 0, 0, 1],\n",
       " [1, 0, 0, 0],\n",
       " [0, 1, 0, 0]]"
      ]
     },
     "execution_count": 26,
     "metadata": {},
     "output_type": "execute_result"
    }
   ],
   "source": [
    "input_array = [1,2,3,4,1,2]\n",
    "onehot_encoder(input_array)"
   ]
  },
  {
   "cell_type": "code",
   "execution_count": 27,
   "metadata": {},
   "outputs": [],
   "source": [
    "# let's encode our predictors\n",
    "X_train_onehot = onehot_encoder(counts_df[\"hour\"])\n",
    "X_test_onehot = onehot_encoder(test_counts_df[\"hour\"])"
   ]
  },
  {
   "cell_type": "code",
   "execution_count": 28,
   "metadata": {},
   "outputs": [
    {
     "name": "stdout",
     "output_type": "stream",
     "text": [
      "R^2 score with one-hot encoding on training data: 0.705505679430722\n",
      "R^2 score with one-hot encoding on testing data: 0.09335098663741248\n"
     ]
    }
   ],
   "source": [
    "lm_model = lm.LinearRegression()\n",
    "lm_model.fit(X_train_onehot, y_train)\n",
    "score_train = lm_model.score(X = X_train_onehot, y = y_train)\n",
    "score_test = lm_model.score(X = X_test_onehot, y = y_test)\n",
    "print(\"R^2 score with one-hot encoding on training data: \"+str(score_train))\n",
    "print(\"R^2 score with one-hot encoding on testing data: \"+str(score_test))"
   ]
  },
  {
   "cell_type": "markdown",
   "metadata": {},
   "source": [
    "Just to be sure... Let's double check this using `OneHotEncoder` from `sklearn`:"
   ]
  },
  {
   "cell_type": "code",
   "execution_count": 29,
   "metadata": {},
   "outputs": [
    {
     "name": "stdout",
     "output_type": "stream",
     "text": [
      "R^2 score with one-hot encoding on training data: 0.705505679430722\n",
      "R^2 score with one-hot encoding on testing data: 0.09335098663741248\n"
     ]
    }
   ],
   "source": [
    "from sklearn.preprocessing import OneHotEncoder\n",
    "encoder = OneHotEncoder()\n",
    "\n",
    "encoder.fit(counts_df[\"hour\"].values.reshape(-1, 1))\n",
    "\n",
    "X_train_onehot1 = encoder.transform(counts_df[\"hour\"].values.reshape(-1, 1)).toarray()\n",
    "X_test_onehot1 = encoder.transform(test_counts_df[\"hour\"].values.reshape(-1, 1)).toarray()\n",
    "\n",
    "lm_model = lm.LinearRegression()\n",
    "lm_model.fit(X_train_onehot1, y_train)\n",
    "score_train = lm_model.score(X = X_train_onehot1, y = y_train)\n",
    "score_test = lm_model.score(X = X_test_onehot1, y = y_test)\n",
    "print(\"R^2 score with one-hot encoding on training data: \"+str(score_train))\n",
    "print(\"R^2 score with one-hot encoding on testing data: \"+str(score_test))"
   ]
  },
  {
   "cell_type": "markdown",
   "metadata": {},
   "source": [
    "Exactly the same."
   ]
  },
  {
   "cell_type": "markdown",
   "metadata": {},
   "source": [
    "### Exercise 5\n",
    "Regularization: run the same model of Exercise 4 with varying strengths of L2 regularization, between 0 and 30 with a step of 1."
   ]
  },
  {
   "cell_type": "code",
   "execution_count": 30,
   "metadata": {},
   "outputs": [
    {
     "name": "stdout",
     "output_type": "stream",
     "text": [
      "R^2 score with L2 reg. (strength=0) on training data: 0.7055053106088267\n",
      "R^2 score with L2 reg. (strength=0) on testing data: 0.09400801290111051\n"
     ]
    }
   ],
   "source": [
    "alpha = 0 # regularization strength\n",
    "ridge_model = lm.Ridge(alpha) # initialize\n",
    "ridge_model.fit(X_train_onehot, y_train) # fit\n",
    "score_train = ridge_model.score(X_train_onehot, y_train) # extract scores\n",
    "score_test = ridge_model.score(X_test_onehot, y_test)\n",
    "print(\"R^2 score with L2 reg. (strength={}) on training data: \".format(alpha)+str(score_train))\n",
    "print(\"R^2 score with L2 reg. (strength={}) on testing data: \".format(alpha)+str(score_test))"
   ]
  },
  {
   "cell_type": "markdown",
   "metadata": {},
   "source": [
    "As a function of `alpha`:"
   ]
  },
  {
   "cell_type": "code",
   "execution_count": 31,
   "metadata": {},
   "outputs": [],
   "source": [
    "def ridge_regression(alpha, X_train, y_train, X_test, y_test):\n",
    "    ridge_model = lm.Ridge(alpha) # initialize\n",
    "    ridge_model.fit(X_train, y_train) # fit\n",
    "    score_train = ridge_model.score(X_train, y_train) # extract scores\n",
    "    score_test = ridge_model.score(X_test, y_test)\n",
    "    #print(\"R^2 score with L2 reg. (strength={}) on training data: \".format(alpha)+str(score_train))\n",
    "    #print(\"R^2 score with L2 reg. (strength={}) on testing data: \".format(alpha)+str(score_test))\n",
    "    return(score_train, score_test) # return these in order to collect and plot against reg. strenghts"
   ]
  },
  {
   "cell_type": "code",
   "execution_count": 32,
   "metadata": {},
   "outputs": [],
   "source": [
    "X_train = X_train_onehot\n",
    "y_train = y_train\n",
    "X_test = X_test_onehot\n",
    "y_test = y_test\n",
    "\n",
    "scores_train = []\n",
    "scores_test = []\n",
    "\n",
    "for alpha in range(0, 31):\n",
    "    score_train, score_test = ridge_regression(alpha, X_train, y_train, X_test, y_test)\n",
    "    scores_train.append(score_train)\n",
    "    scores_test.append(score_test)"
   ]
  },
  {
   "cell_type": "markdown",
   "metadata": {},
   "source": [
    "Plot scores against regularization strength `alpha`s:"
   ]
  },
  {
   "cell_type": "code",
   "execution_count": 33,
   "metadata": {},
   "outputs": [],
   "source": [
    "import matplotlib.pyplot as plt\n",
    "%matplotlib inline"
   ]
  },
  {
   "cell_type": "code",
   "execution_count": 34,
   "metadata": {},
   "outputs": [
    {
     "data": {
      "image/png": "[encoded data removed]",
      "text/plain": [
       "<Figure size 432x288 with 1 Axes>"
      ]
     },
     "metadata": {
      "needs_background": "light"
     },
     "output_type": "display_data"
    }
   ],
   "source": [
    "plt.plot(range(0, 31), scores_train, \"bs\", label = 'train')\n",
    "plt.plot(range(0, 31), scores_test, \"r^\", label = 'test')\n",
    "plt.xlabel(\"Regularization strenght\")\n",
    "plt.ylabel('R^2 score')\n",
    "plt.legend()\n",
    "plt.title(\"Effect of L2 reg. strength on R^2 score\")\n",
    "plt.show()"
   ]
  }
 ],
 "metadata": {
  "kernelspec": {
   "display_name": "Python 3",
   "language": "python",
   "name": "python3"
  },
  "language_info": {
   "codemirror_mode": {
    "name": "ipython",
    "version": 3
   },
   "file_extension": ".py",
   "mimetype": "text/x-python",
   "name": "python",
   "nbconvert_exporter": "python",
   "pygments_lexer": "ipython3",
   "version": "3.7.6"
  }
 },
 "nbformat": 4,
 "nbformat_minor": 2
}
