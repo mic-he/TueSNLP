{
 "cells": [
  {
   "cell_type": "markdown",
   "metadata": {},
   "source": [
    "# TueSNLP - Assignment 2"
   ]
  },
  {
   "cell_type": "markdown",
   "metadata": {},
   "source": [
    "## Linear regression\n",
    "The assignment and data are available here: https://snlp2018.github.io/assignments.html.\n",
    "\n",
    "The data (already splitted in training and testing sets) is a list of timestamps of tweets, in the UNIX format. The goal of the assignment is to model the distribution of tweets during the hours of a day."
   ]
  },
  {
   "cell_type": "markdown",
   "metadata": {},
   "source": [
    "### Exercise 1\n",
    "Load the data, convert it into more informative format and count the number of tweets in each hour of each day. The goal of the exercise is to output two `numpy` arrays, one with the hours (0,1,...,23,0,1,...) and the other with the count of tweets in each hour."
   ]
  },
  {
   "cell_type": "code",
   "execution_count": 3,
   "metadata": {},
   "outputs": [],
   "source": [
    "# libraries\n",
    "import gzip\n",
    "import numpy as np\n",
    "import pandas as pd\n",
    "import time"
   ]
  },
  {
   "cell_type": "code",
   "execution_count": 4,
   "metadata": {},
   "outputs": [],
   "source": [
    "# read data (\"rt\" mode makes sure we read as text)\n",
    "with gzip.open(\"data/timestamps.train.gz\", \"rt\") as input_f:\n",
    "    timestamps_train_raw = input_f.read().splitlines()"
   ]
  },
  {
   "cell_type": "markdown",
   "metadata": {},
   "source": [
    "It looks like this:"
   ]
  },
  {
   "cell_type": "code",
   "execution_count": 5,
   "metadata": {},
   "outputs": [
    {
     "name": "stdout",
     "output_type": "stream",
     "text": [
      "['1522533600', '1522533600', '1522533602', '1522533603', '1522533603', '1522533604', '1522533604', '1522533604', '1522533605', '1522533606']\n"
     ]
    }
   ],
   "source": [
    "print(timestamps_train_raw[0:10])"
   ]
  },
  {
   "cell_type": "markdown",
   "metadata": {},
   "source": [
    "We can convert the UNIX format with `time.localtime()`; for example:"
   ]
  },
  {
   "cell_type": "code",
   "execution_count": 6,
   "metadata": {},
   "outputs": [
    {
     "name": "stdout",
     "output_type": "stream",
     "text": [
      "time.struct_time(tm_year=2018, tm_mon=4, tm_mday=1, tm_hour=0, tm_min=0, tm_sec=0, tm_wday=6, tm_yday=91, tm_isdst=1)\n",
      "time.struct_time(tm_year=2018, tm_mon=4, tm_mday=1, tm_hour=0, tm_min=0, tm_sec=0, tm_wday=6, tm_yday=91, tm_isdst=1)\n",
      "time.struct_time(tm_year=2018, tm_mon=4, tm_mday=1, tm_hour=0, tm_min=0, tm_sec=2, tm_wday=6, tm_yday=91, tm_isdst=1)\n"
     ]
    }
   ],
   "source": [
    "print(time.localtime(int(timestamps_train_raw[0])))\n",
    "print(time.localtime(int(timestamps_train_raw[1])))\n",
    "print(time.localtime(int(timestamps_train_raw[2])))"
   ]
  },
  {
   "cell_type": "markdown",
   "metadata": {},
   "source": [
    "We can see that the attribute `hour` might just be what we need:"
   ]
  },
  {
   "cell_type": "code",
   "execution_count": 70,
   "metadata": {},
   "outputs": [
    {
     "data": {
      "text/plain": [
       "[1522533600,\n",
       " 1522533600,\n",
       " 1522533602,\n",
       " 1522533603,\n",
       " 1522533603,\n",
       " 1522533604,\n",
       " 1522533604,\n",
       " 1522533604,\n",
       " 1522533605,\n",
       " 1522533606]"
      ]
     },
     "execution_count": 70,
     "metadata": {},
     "output_type": "execute_result"
    }
   ],
   "source": [
    "timestamps_train_int = [int(entry) for entry in timestamps_train_raw] # convert to integer\n",
    "timestamps_train_int[0:10]"
   ]
  },
  {
   "cell_type": "code",
   "execution_count": 71,
   "metadata": {},
   "outputs": [
    {
     "data": {
      "text/plain": [
       "array([0, 0, 0, 0, 0, 0, 0, 0, 0, 0])"
      ]
     },
     "execution_count": 71,
     "metadata": {},
     "output_type": "execute_result"
    }
   ],
   "source": [
    "# convert with localtime and extract hour attribute\n",
    "timestamps_train_converted = [time.localtime(entry) for entry in timestamps_train_int]\n",
    "timestamps_train_hours = np.array([entry.tm_hour for entry in timestamps_train_converted])\n",
    "timestamps_train_hours[0:10]"
   ]
  },
  {
   "cell_type": "markdown",
   "metadata": {},
   "source": [
    "We want to count tweets in each hour in each day, so we need more information, i.e. year, month, day as well:"
   ]
  },
  {
   "cell_type": "code",
   "execution_count": 89,
   "metadata": {},
   "outputs": [],
   "source": [
    "timestamps_train_keys = [(entry.tm_year, entry.tm_mon, entry.tm_mday, entry.tm_hour) \n",
    "                         for entry in timestamps_train_converted]"
   ]
  },
  {
   "cell_type": "code",
   "execution_count": 90,
   "metadata": {},
   "outputs": [
    {
     "data": {
      "text/plain": [
       "[(2018, 4, 1, 0),\n",
       " (2018, 4, 1, 0),\n",
       " (2018, 4, 1, 0),\n",
       " (2018, 4, 1, 0),\n",
       " (2018, 4, 1, 0)]"
      ]
     },
     "execution_count": 90,
     "metadata": {},
     "output_type": "execute_result"
    }
   ],
   "source": [
    "timestamps_train_keys[0:5]"
   ]
  },
  {
   "cell_type": "code",
   "execution_count": 91,
   "metadata": {},
   "outputs": [
    {
     "data": {
      "text/html": [
       "<div>\n",
       "<style scoped>\n",
       "    .dataframe tbody tr th:only-of-type {\n",
       "        vertical-align: middle;\n",
       "    }\n",
       "\n",
       "    .dataframe tbody tr th {\n",
       "        vertical-align: top;\n",
       "    }\n",
       "\n",
       "    .dataframe thead th {\n",
       "        text-align: right;\n",
       "    }\n",
       "</style>\n",
       "<table border=\"1\" class=\"dataframe\">\n",
       "  <thead>\n",
       "    <tr style=\"text-align: right;\">\n",
       "      <th></th>\n",
       "      <th>key</th>\n",
       "    </tr>\n",
       "  </thead>\n",
       "  <tbody>\n",
       "    <tr>\n",
       "      <th>0</th>\n",
       "      <td>(2018, 4, 1, 0)</td>\n",
       "    </tr>\n",
       "    <tr>\n",
       "      <th>1</th>\n",
       "      <td>(2018, 4, 1, 0)</td>\n",
       "    </tr>\n",
       "    <tr>\n",
       "      <th>2</th>\n",
       "      <td>(2018, 4, 1, 0)</td>\n",
       "    </tr>\n",
       "    <tr>\n",
       "      <th>3</th>\n",
       "      <td>(2018, 4, 1, 0)</td>\n",
       "    </tr>\n",
       "    <tr>\n",
       "      <th>4</th>\n",
       "      <td>(2018, 4, 1, 0)</td>\n",
       "    </tr>\n",
       "  </tbody>\n",
       "</table>\n",
       "</div>"
      ],
      "text/plain": [
       "               key\n",
       "0  (2018, 4, 1, 0)\n",
       "1  (2018, 4, 1, 0)\n",
       "2  (2018, 4, 1, 0)\n",
       "3  (2018, 4, 1, 0)\n",
       "4  (2018, 4, 1, 0)"
      ]
     },
     "execution_count": 91,
     "metadata": {},
     "output_type": "execute_result"
    }
   ],
   "source": [
    "train_df = pd.DataFrame()\n",
    "train_df[\"key\"] = timestamps_train_keys\n",
    "train_df.head()"
   ]
  },
  {
   "cell_type": "code",
   "execution_count": 95,
   "metadata": {},
   "outputs": [
    {
     "data": {
      "text/html": [
       "<div>\n",
       "<style scoped>\n",
       "    .dataframe tbody tr th:only-of-type {\n",
       "        vertical-align: middle;\n",
       "    }\n",
       "\n",
       "    .dataframe tbody tr th {\n",
       "        vertical-align: top;\n",
       "    }\n",
       "\n",
       "    .dataframe thead th {\n",
       "        text-align: right;\n",
       "    }\n",
       "</style>\n",
       "<table border=\"1\" class=\"dataframe\">\n",
       "  <thead>\n",
       "    <tr style=\"text-align: right;\">\n",
       "      <th></th>\n",
       "      <th>key</th>\n",
       "      <th>count</th>\n",
       "      <th>hour</th>\n",
       "    </tr>\n",
       "  </thead>\n",
       "  <tbody>\n",
       "    <tr>\n",
       "      <th>0</th>\n",
       "      <td>(2018, 4, 1, 0)</td>\n",
       "      <td>5682</td>\n",
       "      <td>0</td>\n",
       "    </tr>\n",
       "    <tr>\n",
       "      <th>1</th>\n",
       "      <td>(2018, 4, 1, 1)</td>\n",
       "      <td>3480</td>\n",
       "      <td>1</td>\n",
       "    </tr>\n",
       "    <tr>\n",
       "      <th>2</th>\n",
       "      <td>(2018, 4, 1, 2)</td>\n",
       "      <td>1782</td>\n",
       "      <td>2</td>\n",
       "    </tr>\n",
       "    <tr>\n",
       "      <th>3</th>\n",
       "      <td>(2018, 4, 1, 3)</td>\n",
       "      <td>1029</td>\n",
       "      <td>3</td>\n",
       "    </tr>\n",
       "    <tr>\n",
       "      <th>4</th>\n",
       "      <td>(2018, 4, 1, 4)</td>\n",
       "      <td>911</td>\n",
       "      <td>4</td>\n",
       "    </tr>\n",
       "  </tbody>\n",
       "</table>\n",
       "</div>"
      ],
      "text/plain": [
       "               key  count  hour\n",
       "0  (2018, 4, 1, 0)   5682     0\n",
       "1  (2018, 4, 1, 1)   3480     1\n",
       "2  (2018, 4, 1, 2)   1782     2\n",
       "3  (2018, 4, 1, 3)   1029     3\n",
       "4  (2018, 4, 1, 4)    911     4"
      ]
     },
     "execution_count": 95,
     "metadata": {},
     "output_type": "execute_result"
    }
   ],
   "source": [
    "counts_df = train_df.groupby([\"key\"]).size().reset_index(name=\"count\")\n",
    "counts_df[\"hour\"] = [entry[3] for entry in counts_df[\"key\"]]\n",
    "counts_df.head()"
   ]
  },
  {
   "cell_type": "markdown",
   "metadata": {},
   "source": [
    "### Exercise 2\n",
    "Fit a linear model to predict the number of tweets in each hour of the day, using `sklearn.linear_model`. Output `R^2` score on training and testing data, and make predictions for a few samples."
   ]
  },
  {
   "cell_type": "code",
   "execution_count": 96,
   "metadata": {},
   "outputs": [],
   "source": [
    "import sklearn.linear_model as lm"
   ]
  },
  {
   "cell_type": "code",
   "execution_count": 105,
   "metadata": {},
   "outputs": [
    {
     "data": {
      "text/plain": [
       "LinearRegression(copy_X=True, fit_intercept=True, n_jobs=None, normalize=False)"
      ]
     },
     "execution_count": 105,
     "metadata": {},
     "output_type": "execute_result"
    }
   ],
   "source": [
    "# initialize model\n",
    "lm_model = lm.LinearRegression()\n",
    "\n",
    "# train\n",
    "lm_model.fit(X = counts_df[\"count\"].values.reshape(-1,1), # reshape needed to obtain 2D array\n",
    "             y = counts_df[\"hour\"])"
   ]
  },
  {
   "cell_type": "code",
   "execution_count": 106,
   "metadata": {},
   "outputs": [
    {
     "data": {
      "text/plain": [
       "0.518005943364782"
      ]
     },
     "execution_count": 106,
     "metadata": {},
     "output_type": "execute_result"
    }
   ],
   "source": [
    "# R^2 score on training data\n",
    "lm_model.score(X = counts_df[\"count\"].values.reshape(-1,1), # reshape needed to obtain 2D array\n",
    "               y = counts_df[\"hour\"])"
   ]
  },
  {
   "cell_type": "code",
   "execution_count": 115,
   "metadata": {},
   "outputs": [
    {
     "data": {
      "text/plain": [
       "array([5.47860383, 5.48506782, 5.48829982, 5.49314781, 5.4971878 ])"
      ]
     },
     "execution_count": 115,
     "metadata": {},
     "output_type": "execute_result"
    }
   ],
   "source": [
    "# some predictions\n",
    "lm_model.predict(X = np.array([0,8,12,18,23]).reshape(-1,1))"
   ]
  },
  {
   "cell_type": "markdown",
   "metadata": {},
   "source": [
    "Do all this with test data as well :)"
   ]
  },
  {
   "cell_type": "code",
   "execution_count": 117,
   "metadata": {},
   "outputs": [],
   "source": [
    "# read and process data\n",
    "with gzip.open(\"data/timestamps.test.gz\", \"rt\") as input_f:\n",
    "    timestamps_test_raw = input_f.read().splitlines()\n",
    "\n",
    "timestamps_test_converted = [time.localtime(int(entry)) for entry in timestamps_test_raw]\n",
    "timestamps_test_hours = np.array([entry.tm_hour for entry in timestamps_test_converted])\n",
    "timestamps_test_keys = [(entry.tm_year, entry.tm_mon, entry.tm_mday, entry.tm_hour) \n",
    "                         for entry in timestamps_test_converted]"
   ]
  },
  {
   "cell_type": "code",
   "execution_count": 119,
   "metadata": {},
   "outputs": [],
   "source": [
    "# df\n",
    "test_df = pd.DataFrame()\n",
    "test_df[\"key\"] = timestamps_test_keys\n",
    "test_df.head()\n",
    "test_counts_df = test_df.groupby([\"key\"]).size().reset_index(name=\"count\")\n",
    "test_counts_df[\"hour\"] = [entry[3] for entry in test_counts_df[\"key\"]]"
   ]
  },
  {
   "cell_type": "code",
   "execution_count": 121,
   "metadata": {},
   "outputs": [
    {
     "data": {
      "text/plain": [
       "0.4214312293344443"
      ]
     },
     "execution_count": 121,
     "metadata": {},
     "output_type": "execute_result"
    }
   ],
   "source": [
    "# model\n",
    "lm_model = lm.LinearRegression()\n",
    "\n",
    "lm_model.fit(X = counts_df[\"count\"].values.reshape(-1,1), # reshape needed to obtain 2D array\n",
    "             y = counts_df[\"hour\"])\n",
    "\n",
    "lm_model.score(X = test_counts_df[\"count\"].values.reshape(-1,1), # reshape needed to obtain 2D array\n",
    "               y = test_counts_df[\"hour\"])"
   ]
  },
  {
   "cell_type": "markdown",
   "metadata": {},
   "source": [
    "### Exercise 3\n",
    "Fit 9 polynomial regression models, each increasing by one the order of the function, i.e. exponent of the maximal term, starting from 2. Output `R^2` score for each model on training and testing data.\n",
    "\n",
    "We use `PolynomialFeatures`:"
   ]
  },
  {
   "cell_type": "code",
   "execution_count": 122,
   "metadata": {},
   "outputs": [],
   "source": [
    "from sklearn.preprocessing import PolynomialFeatures"
   ]
  },
  {
   "cell_type": "code",
   "execution_count": 124,
   "metadata": {},
   "outputs": [],
   "source": [
    "# polynomial features\n",
    "poly = PolynomialFeatures(degree = 2) # initialize constructor\n",
    "poly_counts = poly.fit_transform(counts_df[\"count\"].values.reshape(-1,1)) # add polynomial feature"
   ]
  },
  {
   "cell_type": "code",
   "execution_count": 126,
   "metadata": {},
   "outputs": [
    {
     "data": {
      "text/plain": [
       "0.6671070445831935"
      ]
     },
     "execution_count": 126,
     "metadata": {},
     "output_type": "execute_result"
    }
   ],
   "source": [
    "# model\n",
    "lm_model = lm.LinearRegression()\n",
    "lm_model.fit(X = poly_counts, y = counts_df[\"hour\"])\n",
    "lm_model.score(X = poly_counts, y = counts_df[\"hour\"])"
   ]
  },
  {
   "cell_type": "markdown",
   "metadata": {},
   "source": [
    "As a function:"
   ]
  },
  {
   "cell_type": "code",
   "execution_count": 146,
   "metadata": {},
   "outputs": [],
   "source": [
    "def polynomial_regression(n, X_train, y_train, X_test, y_test):\n",
    "    poly = PolynomialFeatures(degree = n) # initialize constructor\n",
    "    poly_X_train = poly.fit_transform(X_train) # add polynomial feature\n",
    "    lm_model = lm.LinearRegression()\n",
    "    lm_model.fit(X = poly_X_train, y = y_train)\n",
    "    score_train = lm_model.score(X = poly_X_train, y = y_train)\n",
    "    print(\"R^2 score with degree \"+str(n)+\" on training data: \"+str(score_train))\n",
    "    poly_X_test = poly.fit_transform(X_test)\n",
    "    score_test = lm_model.score(X = poly_X_test, y = y_test)\n",
    "    print(\"R^2 score with degree \"+str(n)+\" on testing data: \"+str(score_test))   "
   ]
  },
  {
   "cell_type": "markdown",
   "metadata": {},
   "source": [
    "For example:"
   ]
  },
  {
   "cell_type": "code",
   "execution_count": 137,
   "metadata": {},
   "outputs": [
    {
     "name": "stdout",
     "output_type": "stream",
     "text": [
      "R^2 score with degree 2 on training data:0.6671070445831935\n",
      "R^2 score with degree 2 on testing data:0.6198662583600794\n"
     ]
    }
   ],
   "source": [
    "polynomial_regression(n = 2, X_train = counts_df[\"count\"].values.reshape(-1,1), y_train = counts_df[\"hour\"], \n",
    "                     X_test = test_counts_df[\"count\"].values.reshape(-1,1), y_test = test_counts_df[\"hour\"])"
   ]
  },
  {
   "cell_type": "markdown",
   "metadata": {},
   "source": [
    "Let's run it for each value from 2 to 9 on both training and testing data:"
   ]
  },
  {
   "cell_type": "code",
   "execution_count": 147,
   "metadata": {},
   "outputs": [
    {
     "name": "stdout",
     "output_type": "stream",
     "text": [
      "R^2 score with degree 2 on training data: 0.6671070445831935\n",
      "R^2 score with degree 2 on testing data: 0.6198662583600794\n",
      "\n",
      "R^2 score with degree 3 on training data: 0.6845080968714403\n",
      "R^2 score with degree 3 on testing data: 0.6462106869714331\n",
      "\n",
      "R^2 score with degree 4 on training data: 0.686429937799754\n",
      "R^2 score with degree 4 on testing data: 0.6501344099219183\n",
      "\n",
      "R^2 score with degree 5 on training data: 0.7040726102662854\n",
      "R^2 score with degree 5 on testing data: 0.6844282943198319\n",
      "\n",
      "R^2 score with degree 6 on training data: 0.6325925869456348\n",
      "R^2 score with degree 6 on testing data: 0.5740567894636623\n",
      "\n",
      "R^2 score with degree 7 on training data: 0.4938746612869205\n",
      "R^2 score with degree 7 on testing data: 0.36389313938593926\n",
      "\n",
      "R^2 score with degree 8 on training data: 0.19047518826271015\n",
      "R^2 score with degree 8 on testing data: 0.03158609258730105\n",
      "\n",
      "R^2 score with degree 9 on training data: 0.1478869139419121\n",
      "R^2 score with degree 9 on testing data: 0.013864090396260575\n",
      "\n"
     ]
    }
   ],
   "source": [
    "X_train = counts_df[\"count\"].values.reshape(-1,1)\n",
    "y_train = counts_df[\"hour\"]\n",
    "X_test = test_counts_df[\"count\"].values.reshape(-1,1)\n",
    "y_test = test_counts_df[\"hour\"]\n",
    "\n",
    "for n in range(2,10):\n",
    "    polynomial_regression(n, X_train, y_train, X_test, y_test)\n",
    "    print(\"\")"
   ]
  },
  {
   "cell_type": "markdown",
   "metadata": {},
   "source": [
    "Performance peak at degree 5."
   ]
  }
 ],
 "metadata": {
  "kernelspec": {
   "display_name": "Python 3",
   "language": "python",
   "name": "python3"
  },
  "language_info": {
   "codemirror_mode": {
    "name": "ipython",
    "version": 3
   },
   "file_extension": ".py",
   "mimetype": "text/x-python",
   "name": "python",
   "nbconvert_exporter": "python",
   "pygments_lexer": "ipython3",
   "version": "3.5.2"
  }
 },
 "nbformat": 4,
 "nbformat_minor": 2
}
