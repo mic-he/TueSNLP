{
 "nbformat": 4,
 "nbformat_minor": 2,
 "metadata": {
  "language_info": {
   "name": "python",
   "codemirror_mode": {
    "name": "ipython",
    "version": 3
   },
   "version": "3.7.6-final"
  },
  "orig_nbformat": 2,
  "file_extension": ".py",
  "mimetype": "text/x-python",
  "name": "python",
  "npconvert_exporter": "python",
  "pygments_lexer": "ipython3",
  "version": 3,
  "kernelspec": {
   "name": "python37664bitbasevenv23cd022687ab470688da671eade16340",
   "display_name": "Python 3.7.6 64-bit ('base': venv)"
  }
 },
 "cells": [
  {
   "cell_type": "markdown",
   "metadata": {},
   "source": [
    "# Assignment 7\n",
    "## GermEval 2018 shared task: identification of offensive language\n",
    "\n",
    "GermEval task: https://projects.fzai.h-da.de/iggsa/germeval-2018/\n",
    "\n",
    "Assignment: https://snlp2018.github.io/assignments.html"
   ]
  },
  {
   "cell_type": "markdown",
   "metadata": {},
   "source": [
    "### Task 1\n",
    "The goal of Task 1 is to detect offensive language in social media posts in German: tweets have to be classified as either `OFFENSE` or `OTHER`.\n",
    "\n",
    "Data: https://github.com/uds-lsv/GermEval-2018-Data\n",
    "\n",
    "The file `germeval2018.training.txt` is a tab-separated list of labelled tweets; this is the development set to be used in training and tuning of model(s). The file `germeval2018.test.txt` contains the \"gold-standard\" data against which the final model should be (and has been, in the actual shared task) evaluated."
   ]
  },
  {
   "cell_type": "markdown",
   "metadata": {},
   "source": [
    "#### The data\n",
    "First of all, let's read and take a quick look at the data:"
   ]
  },
  {
   "cell_type": "code",
   "execution_count": 2,
   "metadata": {},
   "outputs": [],
   "source": [
    "import pandas as pd"
   ]
  },
  {
   "cell_type": "code",
   "execution_count": 40,
   "metadata": {},
   "outputs": [],
   "source": [
    "df = pd.read_csv(\"data/germeval2018.training.txt\", sep = \"\\t\", encoding = \"utf-8\", header = None)"
   ]
  },
  {
   "cell_type": "code",
   "execution_count": 41,
   "metadata": {},
   "outputs": [
    {
     "data": {
      "text/html": "<div>\n<style scoped>\n    .dataframe tbody tr th:only-of-type {\n        vertical-align: middle;\n    }\n\n    .dataframe tbody tr th {\n        vertical-align: top;\n    }\n\n    .dataframe thead th {\n        text-align: right;\n    }\n</style>\n<table border=\"1\" class=\"dataframe\">\n  <thead>\n    <tr style=\"text-align: right;\">\n      <th></th>\n      <th>0</th>\n      <th>1</th>\n      <th>2</th>\n    </tr>\n  </thead>\n  <tbody>\n    <tr>\n      <th>0</th>\n      <td>@corinnamilborn Liebe Corinna, wir würden dich...</td>\n      <td>OTHER</td>\n      <td>OTHER</td>\n    </tr>\n    <tr>\n      <th>1</th>\n      <td>@Martin28a Sie haben ja auch Recht. Unser Twee...</td>\n      <td>OTHER</td>\n      <td>OTHER</td>\n    </tr>\n    <tr>\n      <th>2</th>\n      <td>@ahrens_theo fröhlicher gruß aus der schönsten...</td>\n      <td>OTHER</td>\n      <td>OTHER</td>\n    </tr>\n    <tr>\n      <th>3</th>\n      <td>@dushanwegner Amis hätten alles und jeden gewä...</td>\n      <td>OTHER</td>\n      <td>OTHER</td>\n    </tr>\n    <tr>\n      <th>4</th>\n      <td>@spdde kein verläßlicher Verhandlungspartner. ...</td>\n      <td>OFFENSE</td>\n      <td>INSULT</td>\n    </tr>\n  </tbody>\n</table>\n</div>",
      "text/plain": "                                                   0        1       2\n0  @corinnamilborn Liebe Corinna, wir würden dich...    OTHER   OTHER\n1  @Martin28a Sie haben ja auch Recht. Unser Twee...    OTHER   OTHER\n2  @ahrens_theo fröhlicher gruß aus der schönsten...    OTHER   OTHER\n3  @dushanwegner Amis hätten alles und jeden gewä...    OTHER   OTHER\n4  @spdde kein verläßlicher Verhandlungspartner. ...  OFFENSE  INSULT"
     },
     "execution_count": 41,
     "metadata": {},
     "output_type": "execute_result"
    }
   ],
   "source": [
    "df.head()"
   ]
  },
  {
   "cell_type": "markdown",
   "metadata": {},
   "source": [
    "We can observe: first column contains tweet and second column the labels `OFFENSE` or `OTHER`; third column contains finer-grained labeling which we are not interesed in at the moment. Let's drop the latter and give the other two columns user-friendly names:"
   ]
  },
  {
   "cell_type": "code",
   "execution_count": 42,
   "metadata": {},
   "outputs": [],
   "source": [
    "df.drop(df.columns[2], axis = 1, inplace = True)\n",
    "df.columns = [\"tweet\", \"category\"]"
   ]
  },
  {
   "cell_type": "code",
   "execution_count": 43,
   "metadata": {},
   "outputs": [
    {
     "data": {
      "text/html": "<div>\n<style scoped>\n    .dataframe tbody tr th:only-of-type {\n        vertical-align: middle;\n    }\n\n    .dataframe tbody tr th {\n        vertical-align: top;\n    }\n\n    .dataframe thead th {\n        text-align: right;\n    }\n</style>\n<table border=\"1\" class=\"dataframe\">\n  <thead>\n    <tr style=\"text-align: right;\">\n      <th></th>\n      <th>tweet</th>\n      <th>category</th>\n    </tr>\n  </thead>\n  <tbody>\n    <tr>\n      <th>0</th>\n      <td>@corinnamilborn Liebe Corinna, wir würden dich...</td>\n      <td>OTHER</td>\n    </tr>\n    <tr>\n      <th>1</th>\n      <td>@Martin28a Sie haben ja auch Recht. Unser Twee...</td>\n      <td>OTHER</td>\n    </tr>\n    <tr>\n      <th>2</th>\n      <td>@ahrens_theo fröhlicher gruß aus der schönsten...</td>\n      <td>OTHER</td>\n    </tr>\n    <tr>\n      <th>3</th>\n      <td>@dushanwegner Amis hätten alles und jeden gewä...</td>\n      <td>OTHER</td>\n    </tr>\n    <tr>\n      <th>4</th>\n      <td>@spdde kein verläßlicher Verhandlungspartner. ...</td>\n      <td>OFFENSE</td>\n    </tr>\n  </tbody>\n</table>\n</div>",
      "text/plain": "                                               tweet category\n0  @corinnamilborn Liebe Corinna, wir würden dich...    OTHER\n1  @Martin28a Sie haben ja auch Recht. Unser Twee...    OTHER\n2  @ahrens_theo fröhlicher gruß aus der schönsten...    OTHER\n3  @dushanwegner Amis hätten alles und jeden gewä...    OTHER\n4  @spdde kein verläßlicher Verhandlungspartner. ...  OFFENSE"
     },
     "execution_count": 43,
     "metadata": {},
     "output_type": "execute_result"
    }
   ],
   "source": [
    "df.head()"
   ]
  },
  {
   "cell_type": "markdown",
   "metadata": {},
   "source": [
    "Is the data balanced? Let's find out:"
   ]
  },
  {
   "cell_type": "code",
   "execution_count": 46,
   "metadata": {},
   "outputs": [
    {
     "data": {
      "text/html": "<div>\n<style scoped>\n    .dataframe tbody tr th:only-of-type {\n        vertical-align: middle;\n    }\n\n    .dataframe tbody tr th {\n        vertical-align: top;\n    }\n\n    .dataframe thead th {\n        text-align: right;\n    }\n</style>\n<table border=\"1\" class=\"dataframe\">\n  <thead>\n    <tr style=\"text-align: right;\">\n      <th></th>\n      <th>tweet</th>\n    </tr>\n    <tr>\n      <th>category</th>\n      <th></th>\n    </tr>\n  </thead>\n  <tbody>\n    <tr>\n      <th>OFFENSE</th>\n      <td>1688</td>\n    </tr>\n    <tr>\n      <th>OTHER</th>\n      <td>3321</td>\n    </tr>\n  </tbody>\n</table>\n</div>",
      "text/plain": "          tweet\ncategory       \nOFFENSE    1688\nOTHER      3321"
     },
     "execution_count": 46,
     "metadata": {},
     "output_type": "execute_result"
    }
   ],
   "source": [
    "df.groupby(\"category\").count()"
   ]
  },
  {
   "cell_type": "markdown",
   "metadata": {},
   "source": [
    "Not quite, there are twice as many tweets labelled as `OTHER` than tweets labelled as `OFFENSE`. Is this a problem? It can be; so: 1) we won't use accuracy but precision and recall metrics and 2) we might need to weight the loss function(s) of our model(s). We'll come back to this later."
   ]
  },
  {
   "cell_type": "markdown",
   "metadata": {},
   "source": [
    "#### Preprocessing\n"
   ]
  },
  {
   "cell_type": "code",
   "execution_count": null,
   "metadata": {},
   "outputs": [],
   "source": []
  }
 ]
}