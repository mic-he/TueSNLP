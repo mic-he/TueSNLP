{
 "cells": [
  {
   "cell_type": "markdown",
   "metadata": {},
   "source": [
    "# Assignment 5\n",
    "## Word class prediction with neural networks\n",
    "The assignment and data are available here: https://snlp2018.github.io/assignments.html\n",
    "\n",
    "The file `data/train.txt` (and `test.txt` as well) contains a two-column, tab-separated dataset of German words, either nouns or verbs, each with its class label. We train a character-level neutral network to learn the word classes."
   ]
  },
  {
   "cell_type": "markdown",
   "metadata": {},
   "source": [
    "### Exercise 1\n",
    "Data pre-processing. Read the data and encode as follows: target labels as 0s and 1s;  word characters to integers and words to lists of integers.\n",
    "\n",
    "First, read data:"
   ]
  },
  {
   "cell_type": "code",
   "execution_count": 1,
   "metadata": {},
   "outputs": [],
   "source": [
    "import pandas as pd\n",
    "import numpy as np"
   ]
  },
  {
   "cell_type": "code",
   "execution_count": 2,
   "metadata": {},
   "outputs": [
    {
     "data": {
      "text/html": "<div>\n<style scoped>\n    .dataframe tbody tr th:only-of-type {\n        vertical-align: middle;\n    }\n\n    .dataframe tbody tr th {\n        vertical-align: top;\n    }\n\n    .dataframe thead th {\n        text-align: right;\n    }\n</style>\n<table border=\"1\" class=\"dataframe\">\n  <thead>\n    <tr style=\"text-align: right;\">\n      <th></th>\n      <th>class</th>\n      <th>word</th>\n    </tr>\n  </thead>\n  <tbody>\n    <tr>\n      <th>0</th>\n      <td>noun</td>\n      <td>gemeinderat</td>\n    </tr>\n    <tr>\n      <th>1</th>\n      <td>noun</td>\n      <td>grenzpolizei</td>\n    </tr>\n    <tr>\n      <th>2</th>\n      <td>verb</td>\n      <td>ruinieren</td>\n    </tr>\n    <tr>\n      <th>3</th>\n      <td>noun</td>\n      <td>halbtönen</td>\n    </tr>\n    <tr>\n      <th>4</th>\n      <td>noun</td>\n      <td>energieexporteuren</td>\n    </tr>\n  </tbody>\n</table>\n</div>",
      "text/plain": "  class                word\n0  noun         gemeinderat\n1  noun        grenzpolizei\n2  verb           ruinieren\n3  noun           halbtönen\n4  noun  energieexporteuren"
     },
     "execution_count": 2,
     "metadata": {},
     "output_type": "execute_result"
    }
   ],
   "source": [
    "df_train = pd.read_csv(\"data/train.txt\", sep = \"\\t\", names = [\"class\", \"word\"])\n",
    "df_train.head()"
   ]
  },
  {
   "cell_type": "code",
   "execution_count": 3,
   "metadata": {},
   "outputs": [
    {
     "data": {
      "text/html": "<div>\n<style scoped>\n    .dataframe tbody tr th:only-of-type {\n        vertical-align: middle;\n    }\n\n    .dataframe tbody tr th {\n        vertical-align: top;\n    }\n\n    .dataframe thead th {\n        text-align: right;\n    }\n</style>\n<table border=\"1\" class=\"dataframe\">\n  <thead>\n    <tr style=\"text-align: right;\">\n      <th></th>\n      <th>class</th>\n      <th>word</th>\n    </tr>\n  </thead>\n  <tbody>\n    <tr>\n      <th>0</th>\n      <td>noun</td>\n      <td>kaufverpflichtung</td>\n    </tr>\n    <tr>\n      <th>1</th>\n      <td>verb</td>\n      <td>kosten</td>\n    </tr>\n    <tr>\n      <th>2</th>\n      <td>noun</td>\n      <td>n</td>\n    </tr>\n    <tr>\n      <th>3</th>\n      <td>noun</td>\n      <td>blousons</td>\n    </tr>\n    <tr>\n      <th>4</th>\n      <td>noun</td>\n      <td>verwaltungsgeschäfte</td>\n    </tr>\n  </tbody>\n</table>\n</div>",
      "text/plain": "  class                  word\n0  noun     kaufverpflichtung\n1  verb                kosten\n2  noun                     n\n3  noun              blousons\n4  noun  verwaltungsgeschäfte"
     },
     "execution_count": 3,
     "metadata": {},
     "output_type": "execute_result"
    }
   ],
   "source": [
    "df_test = pd.read_csv(\"data/test.txt\", sep = \"\\t\", names = [\"class\", \"word\"])\n",
    "df_test.head()"
   ]
  },
  {
   "cell_type": "markdown",
   "metadata": {},
   "source": [
    "Next, encode `class`; convention: `noun` -> `0`; `verb` -> `1`"
   ]
  },
  {
   "cell_type": "code",
   "execution_count": 4,
   "metadata": {},
   "outputs": [
    {
     "data": {
      "text/plain": "array([0, 0, 1, 0, 0])"
     },
     "execution_count": 4,
     "metadata": {},
     "output_type": "execute_result"
    }
   ],
   "source": [
    "train_y = np.where(df_train[\"class\"] == \"noun\", 0, 1)\n",
    "train_y[0:5]"
   ]
  },
  {
   "cell_type": "code",
   "execution_count": 5,
   "metadata": {},
   "outputs": [
    {
     "data": {
      "text/plain": "array([0, 1, 0, 0, 0])"
     },
     "execution_count": 5,
     "metadata": {},
     "output_type": "execute_result"
    }
   ],
   "source": [
    "test_y = np.where(df_test[\"class\"] == \"noun\", 0, 1)\n",
    "test_y[0:5]"
   ]
  },
  {
   "cell_type": "markdown",
   "metadata": {},
   "source": [
    "Next, extract alphabet of Unicode characters from `df_train[\"words\"]` and map each to an integer (its position in the list will do):"
   ]
  },
  {
   "cell_type": "code",
   "execution_count": 6,
   "metadata": {},
   "outputs": [],
   "source": [
    "alphabet = list(set([c for word in [list(str(word)) for word in df_train[\"word\"].tolist()] for c in word]))"
   ]
  },
  {
   "cell_type": "code",
   "execution_count": 7,
   "metadata": {},
   "outputs": [
    {
     "name": "stdout",
     "output_type": "stream",
     "text": "['a', 'b', 'm', 'ß', 'j', 'u', 'x', 's', 'g', 'e', 'y', 'k', 'w', 'q', 'p', 'h', 'd', 'v', 'f', 'i', 'ö', 'o', 'ä', 'ü', 'l', 'z', 'n', 'r', 'c', 't']\n30\n"
    }
   ],
   "source": [
    "print(alphabet)\n",
    "print(len(alphabet))"
   ]
  },
  {
   "cell_type": "markdown",
   "metadata": {},
   "source": [
    "We define a function which takes a word and an alphabet and return a list of integers which encodes the input word: "
   ]
  },
  {
   "cell_type": "code",
   "execution_count": 8,
   "metadata": {},
   "outputs": [],
   "source": [
    "def word_encoder(word, alphabet):\n",
    "    word = str(word)\n",
    "    out_list = np.zeros(shape = len(word), dtype = \"int32\")\n",
    "    for i, char in enumerate(word):\n",
    "        if char in alphabet: # if the character belongs to the alphabet...\n",
    "            out_list[i] = alphabet.index(char)+1 # ...its encoding is simply its position plus one, we'll use 0 for padding\n",
    "        else:\n",
    "            out_list[i] = 999 # integer reserved for out-of-alphabet characters\n",
    "    return out_list"
   ]
  },
  {
   "cell_type": "markdown",
   "metadata": {},
   "source": [
    "For example:"
   ]
  },
  {
   "cell_type": "code",
   "execution_count": 10,
   "metadata": {},
   "outputs": [
    {
     "data": {
      "text/plain": "array([25, 10, 23])"
     },
     "execution_count": 10,
     "metadata": {},
     "output_type": "execute_result"
    }
   ],
   "source": [
    "word_encoder(\"hey\", alphabet)"
   ]
  },
  {
   "cell_type": "code",
   "execution_count": 11,
   "metadata": {},
   "outputs": [
    {
     "data": {
      "text/plain": "array([ 25,  10, 999])"
     },
     "execution_count": 11,
     "metadata": {},
     "output_type": "execute_result"
    }
   ],
   "source": [
    "word_encoder(\"heÿ\", alphabet)"
   ]
  },
  {
   "cell_type": "code",
   "execution_count": 12,
   "metadata": {},
   "outputs": [
    {
     "data": {
      "text/plain": "array([ 23,  10,  25, 999])"
     },
     "execution_count": 12,
     "metadata": {},
     "output_type": "execute_result"
    }
   ],
   "source": [
    "word_encoder(\"yehÿ\", alphabet)"
   ]
  },
  {
   "cell_type": "markdown",
   "metadata": {},
   "source": [
    "It works!\n",
    "\n",
    "Next, apply this function to each row in our dfs:"
   ]
  },
  {
   "cell_type": "code",
   "execution_count": 13,
   "metadata": {},
   "outputs": [],
   "source": [
    "train_x = df_train.apply(lambda row: word_encoder(row.word, alphabet), axis = 1)"
   ]
  },
  {
   "cell_type": "code",
   "execution_count": 14,
   "metadata": {},
   "outputs": [
    {
     "data": {
      "text/plain": "0           [30, 10, 27, 10, 3, 26, 14, 10, 13, 20, 6]\n1       [30, 13, 10, 26, 12, 15, 11, 19, 3, 12, 10, 3]\n2                   [13, 29, 3, 26, 3, 10, 13, 10, 26]\n3                   [25, 20, 19, 17, 6, 2, 26, 10, 26]\n4    [10, 26, 10, 13, 30, 3, 10, 10, 5, 15, 11, 13,...\ndtype: object"
     },
     "execution_count": 14,
     "metadata": {},
     "output_type": "execute_result"
    }
   ],
   "source": [
    "train_x[0:5]"
   ]
  },
  {
   "cell_type": "code",
   "execution_count": 15,
   "metadata": {},
   "outputs": [],
   "source": [
    "test_x = df_test.apply(lambda row: word_encoder(row.word, alphabet), axis = 1)"
   ]
  },
  {
   "cell_type": "code",
   "execution_count": 16,
   "metadata": {},
   "outputs": [
    {
     "data": {
      "text/plain": "0    [22, 20, 29, 28, 4, 10, 13, 15, 28, 19, 3, 1, ...\n1                               [22, 11, 8, 6, 10, 26]\n2                                                 [26]\n3                       [17, 19, 11, 29, 8, 11, 26, 8]\n4    [4, 10, 13, 21, 20, 19, 6, 29, 26, 30, 8, 30, ...\ndtype: object"
     },
     "execution_count": 16,
     "metadata": {},
     "output_type": "execute_result"
    }
   ],
   "source": [
    "test_x[0:5]"
   ]
  },
  {
   "cell_type": "markdown",
   "metadata": {},
   "source": [
    "Next, padding: the sequences of features should all be of the same length (we use the length of the longest sequence). To do so, we use `sequence.pad_sequences` from `keras.preprocessing`:"
   ]
  },
  {
   "cell_type": "code",
   "execution_count": 11,
   "metadata": {},
   "outputs": [
    {
     "name": "stderr",
     "output_type": "stream",
     "text": "Using TensorFlow backend.\n"
    }
   ],
   "source": [
    "from keras.preprocessing.sequence import pad_sequences"
   ]
  },
  {
   "cell_type": "code",
   "execution_count": 84,
   "metadata": {},
   "outputs": [
    {
     "name": "stdout",
     "output_type": "stream",
     "text": "31\n"
    }
   ],
   "source": [
    "# how long is the longest word?\n",
    "max_word = max(len(word) for word in train_x)\n",
    "print(max_word)"
   ]
  },
  {
   "cell_type": "code",
   "execution_count": 85,
   "metadata": {},
   "outputs": [],
   "source": [
    "train_x = pad_sequences(train_x)"
   ]
  },
  {
   "cell_type": "code",
   "execution_count": 86,
   "metadata": {},
   "outputs": [
    {
     "data": {
      "text/plain": "(20000, 31)"
     },
     "execution_count": 86,
     "metadata": {},
     "output_type": "execute_result"
    }
   ],
   "source": [
    "train_x.shape"
   ]
  },
  {
   "cell_type": "code",
   "execution_count": 87,
   "metadata": {},
   "outputs": [
    {
     "data": {
      "text/plain": "array([ 0,  0,  0,  0,  0,  0,  0,  0,  0,  0,  0,  0,  0,  0,  0,  0,  0,\n        0,  0,  0,  3, 19, 18, 19, 10, 23,  4, 19, 22, 28, 30])"
     },
     "execution_count": 87,
     "metadata": {},
     "output_type": "execute_result"
    }
   ],
   "source": [
    "# for example\n",
    "train_x[0]"
   ]
  },
  {
   "cell_type": "code",
   "execution_count": 88,
   "metadata": {},
   "outputs": [],
   "source": [
    "# same for test features\n",
    "test_x = pad_sequences(test_x, maxlen = train_x.shape[1]) # the max length be the same between train and test"
   ]
  },
  {
   "cell_type": "markdown",
   "metadata": {},
   "source": [
    "Finally, one-hot encoding for characters (hence words are encoded into lists of vectors of 0s and 1s). We use `to_categorical` from `keras.utils`:"
   ]
  },
  {
   "cell_type": "code",
   "execution_count": 89,
   "metadata": {},
   "outputs": [],
   "source": [
    "from keras.utils import to_categorical"
   ]
  },
  {
   "cell_type": "code",
   "execution_count": 90,
   "metadata": {},
   "outputs": [],
   "source": [
    "train_x_cat = to_categorical(train_x)"
   ]
  },
  {
   "cell_type": "code",
   "execution_count": 91,
   "metadata": {},
   "outputs": [
    {
     "data": {
      "text/plain": "(20000, 31, 31)"
     },
     "execution_count": 91,
     "metadata": {},
     "output_type": "execute_result"
    }
   ],
   "source": [
    "train_x_cat.shape"
   ]
  },
  {
   "cell_type": "code",
   "execution_count": 92,
   "metadata": {},
   "outputs": [],
   "source": [
    "# flatten each row\n",
    "onehot_train = train_x_cat.reshape(train_x_cat.shape[0], train_x_cat.shape[1]*train_x_cat.shape[2])"
   ]
  },
  {
   "cell_type": "code",
   "execution_count": 93,
   "metadata": {},
   "outputs": [
    {
     "data": {
      "text/plain": "(20000, 961)"
     },
     "execution_count": 93,
     "metadata": {},
     "output_type": "execute_result"
    }
   ],
   "source": [
    "onehot_train.shape"
   ]
  },
  {
   "cell_type": "code",
   "execution_count": 94,
   "metadata": {},
   "outputs": [],
   "source": [
    "# same for test\n",
    "test_x_cat = to_categorical(test_x)\n",
    "\n",
    "onehot_test = test_x_cat.reshape(test_x_cat.shape[0], test_x_cat.shape[1]*test_x_cat.shape[2])"
   ]
  },
  {
   "cell_type": "code",
   "execution_count": 95,
   "metadata": {},
   "outputs": [
    {
     "data": {
      "text/plain": "(6561, 961)"
     },
     "execution_count": 95,
     "metadata": {},
     "output_type": "execute_result"
    }
   ],
   "source": [
    "onehot_test.shape"
   ]
  },
  {
   "cell_type": "markdown",
   "metadata": {},
   "source": [
    "### Exercise 2\n",
    "We train and tune a simple feed-forward nn with `train_onehot` (features) as input and `train_y` (labels) as output, using `keras`.\n",
    "\n",
    "First, describe the model:"
   ]
  },
  {
   "cell_type": "code",
   "execution_count": 12,
   "metadata": {},
   "outputs": [],
   "source": [
    "from keras.models import Sequential\n",
    "from keras.layers import Dense, Activation, Dropout"
   ]
  },
  {
   "cell_type": "code",
   "execution_count": 105,
   "metadata": {},
   "outputs": [],
   "source": [
    "# model\n",
    "model = Sequential() # initialize\n",
    "model.add(Dense(64, activation = \"relu\", input_dim = onehot_train.shape[1])) # dense layer with ReLU activation\n",
    "model.add(Dropout(0.2)) # droput\n",
    "model.add(Dense(1, activation = 'sigmoid')) # binary classification\n",
    "\n",
    "model.compile(loss = 'binary_crossentropy',\n",
    "              optimizer = 'adam',\n",
    "              metrics = ['accuracy'])"
   ]
  },
  {
   "cell_type": "code",
   "execution_count": 106,
   "metadata": {},
   "outputs": [
    {
     "name": "stdout",
     "output_type": "stream",
     "text": "Model: \"sequential_8\"\n_________________________________________________________________\nLayer (type)                 Output Shape              Param #   \n=================================================================\ndense_14 (Dense)             (None, 64)                61568     \n_________________________________________________________________\ndropout_7 (Dropout)          (None, 64)                0         \n_________________________________________________________________\ndense_15 (Dense)             (None, 1)                 65        \n=================================================================\nTotal params: 61,633\nTrainable params: 61,633\nNon-trainable params: 0\n_________________________________________________________________\n"
    }
   ],
   "source": [
    "model.summary()"
   ]
  },
  {
   "cell_type": "markdown",
   "metadata": {},
   "source": [
    "Training:"
   ]
  },
  {
   "cell_type": "code",
   "execution_count": 107,
   "metadata": {},
   "outputs": [
    {
     "name": "stdout",
     "output_type": "stream",
     "text": "Train on 16000 samples, validate on 4000 samples\nEpoch 1/30\n16000/16000 [==============================] - 2s 117us/step - loss: 0.3497 - accuracy: 0.8395 - val_loss: 0.3014 - val_accuracy: 0.8615\nEpoch 2/30\n16000/16000 [==============================] - 1s 89us/step - loss: 0.2647 - accuracy: 0.8823 - val_loss: 0.2766 - val_accuracy: 0.8788\nEpoch 3/30\n16000/16000 [==============================] - 1s 88us/step - loss: 0.2448 - accuracy: 0.8915 - val_loss: 0.2671 - val_accuracy: 0.8805\nEpoch 4/30\n16000/16000 [==============================] - 1s 89us/step - loss: 0.2291 - accuracy: 0.9001 - val_loss: 0.2576 - val_accuracy: 0.8882\nEpoch 5/30\n16000/16000 [==============================] - 1s 87us/step - loss: 0.2149 - accuracy: 0.9059 - val_loss: 0.2508 - val_accuracy: 0.8940\nEpoch 6/30\n16000/16000 [==============================] - 1s 88us/step - loss: 0.2027 - accuracy: 0.9126 - val_loss: 0.2454 - val_accuracy: 0.8963\nEpoch 7/30\n16000/16000 [==============================] - 1s 90us/step - loss: 0.1910 - accuracy: 0.9197 - val_loss: 0.2386 - val_accuracy: 0.9018\nEpoch 8/30\n16000/16000 [==============================] - 1s 93us/step - loss: 0.1802 - accuracy: 0.9266 - val_loss: 0.2424 - val_accuracy: 0.8965\nEpoch 9/30\n16000/16000 [==============================] - 1s 91us/step - loss: 0.1705 - accuracy: 0.9303 - val_loss: 0.2367 - val_accuracy: 0.9040\nEpoch 10/30\n16000/16000 [==============================] - 2s 137us/step - loss: 0.1629 - accuracy: 0.9328 - val_loss: 0.2322 - val_accuracy: 0.9095\nEpoch 11/30\n16000/16000 [==============================] - 2s 133us/step - loss: 0.1552 - accuracy: 0.9345 - val_loss: 0.2299 - val_accuracy: 0.9115\nEpoch 12/30\n16000/16000 [==============================] - 2s 105us/step - loss: 0.1466 - accuracy: 0.9404 - val_loss: 0.2315 - val_accuracy: 0.9107\nEpoch 13/30\n16000/16000 [==============================] - 2s 112us/step - loss: 0.1423 - accuracy: 0.9417 - val_loss: 0.2386 - val_accuracy: 0.9045\nEpoch 14/30\n16000/16000 [==============================] - 2s 111us/step - loss: 0.1338 - accuracy: 0.9463 - val_loss: 0.2362 - val_accuracy: 0.9070\nEpoch 15/30\n16000/16000 [==============================] - 1s 89us/step - loss: 0.1277 - accuracy: 0.9475 - val_loss: 0.2366 - val_accuracy: 0.9105\nEpoch 16/30\n16000/16000 [==============================] - 2s 132us/step - loss: 0.1230 - accuracy: 0.9504 - val_loss: 0.2393 - val_accuracy: 0.9085\nEpoch 17/30\n16000/16000 [==============================] - 2s 97us/step - loss: 0.1183 - accuracy: 0.9516 - val_loss: 0.2377 - val_accuracy: 0.9068\nEpoch 18/30\n16000/16000 [==============================] - 1s 84us/step - loss: 0.1152 - accuracy: 0.9556 - val_loss: 0.2499 - val_accuracy: 0.9080\nEpoch 19/30\n16000/16000 [==============================] - 2s 98us/step - loss: 0.1092 - accuracy: 0.9552 - val_loss: 0.2459 - val_accuracy: 0.9103\nEpoch 20/30\n16000/16000 [==============================] - 2s 100us/step - loss: 0.1047 - accuracy: 0.9581 - val_loss: 0.2565 - val_accuracy: 0.9007\nEpoch 21/30\n16000/16000 [==============================] - 2s 143us/step - loss: 0.1026 - accuracy: 0.9580 - val_loss: 0.2560 - val_accuracy: 0.9070\nEpoch 22/30\n16000/16000 [==============================] - 2s 133us/step - loss: 0.0987 - accuracy: 0.9602 - val_loss: 0.2590 - val_accuracy: 0.9070\nEpoch 23/30\n16000/16000 [==============================] - 2s 138us/step - loss: 0.0968 - accuracy: 0.9595 - val_loss: 0.2699 - val_accuracy: 0.9072\nEpoch 24/30\n16000/16000 [==============================] - 2s 138us/step - loss: 0.0912 - accuracy: 0.9628 - val_loss: 0.2616 - val_accuracy: 0.9075\nEpoch 25/30\n16000/16000 [==============================] - 3s 182us/step - loss: 0.0927 - accuracy: 0.9612 - val_loss: 0.2653 - val_accuracy: 0.9078\nEpoch 26/30\n16000/16000 [==============================] - 3s 193us/step - loss: 0.0895 - accuracy: 0.9627 - val_loss: 0.2673 - val_accuracy: 0.9090\nEpoch 27/30\n16000/16000 [==============================] - 3s 180us/step - loss: 0.0865 - accuracy: 0.9654 - val_loss: 0.2654 - val_accuracy: 0.9095\nEpoch 28/30\n16000/16000 [==============================] - 2s 152us/step - loss: 0.0845 - accuracy: 0.9667 - val_loss: 0.2791 - val_accuracy: 0.9085\nEpoch 29/30\n16000/16000 [==============================] - 2s 144us/step - loss: 0.0830 - accuracy: 0.9649 - val_loss: 0.2837 - val_accuracy: 0.9055\nEpoch 30/30\n16000/16000 [==============================] - 2s 139us/step - loss: 0.0789 - accuracy: 0.9674 - val_loss: 0.2892 - val_accuracy: 0.9078\n"
    }
   ],
   "source": [
    "# training\n",
    "history = model.fit(onehot_train,\n",
    "                    train_y,\n",
    "                    epochs = 30,\n",
    "                    batch_size = 32,\n",
    "                    validation_split = 0.2,\n",
    "                    verbose = 1)"
   ]
  },
  {
   "cell_type": "markdown",
   "metadata": {},
   "source": [
    "Tune the dropout rate:"
   ]
  },
  {
   "cell_type": "code",
   "execution_count": 108,
   "metadata": {},
   "outputs": [],
   "source": [
    "dropouts = [0.1, 0.2, 0.3, 0.4, 0.5, 0.6, 0.7, 0.8, 0.9]"
   ]
  },
  {
   "cell_type": "code",
   "execution_count": 161,
   "metadata": {},
   "outputs": [
    {
     "name": "stdout",
     "output_type": "stream",
     "text": "Training with dropout=0.1...\nTraining with dropout=0.2...\nTraining with dropout=0.3...\nTraining with dropout=0.4...\nTraining with dropout=0.5...\nTraining with dropout=0.6...\nWARNING:tensorflow:Large dropout rate: 0.6 (>0.5). In TensorFlow 2.x, dropout() uses dropout rate instead of keep_prob. Please ensure that this is intended.\nTraining with dropout=0.7...\nWARNING:tensorflow:Large dropout rate: 0.7 (>0.5). In TensorFlow 2.x, dropout() uses dropout rate instead of keep_prob. Please ensure that this is intended.\nTraining with dropout=0.8...\nWARNING:tensorflow:Large dropout rate: 0.8 (>0.5). In TensorFlow 2.x, dropout() uses dropout rate instead of keep_prob. Please ensure that this is intended.\nTraining with dropout=0.9...\nWARNING:tensorflow:Large dropout rate: 0.9 (>0.5). In TensorFlow 2.x, dropout() uses dropout rate instead of keep_prob. Please ensure that this is intended.\nDone!\n"
    }
   ],
   "source": [
    "validation_accuracies = []\n",
    "for dropout_value in dropouts:\n",
    "    print(\"Training with dropout={}...\".format(dropout_value))\n",
    "    # model\n",
    "    model = Sequential() # initialize\n",
    "    model.add(Dense(64, activation = \"relu\", input_dim = onehot_train.shape[1])) # dense layer with ReLU activation\n",
    "    model.add(Dropout(dropout_value)) # droput\n",
    "    model.add(Dense(1, activation = 'sigmoid')) # binary classification\n",
    "\n",
    "    model.compile(loss = 'binary_crossentropy',\n",
    "                  optimizer = 'adam',\n",
    "                  metrics = ['accuracy'])\n",
    "    history = model.fit(onehot_train,\n",
    "              train_y,\n",
    "              epochs = 30,\n",
    "              batch_size = 32,\n",
    "              validation_split = 0.2,\n",
    "              verbose = 0)\n",
    "    validation_accuracies.append(history.history[\"val_accuracy\"])\n",
    "print(\"Done!\")    "
   ]
  },
  {
   "cell_type": "markdown",
   "metadata": {},
   "source": [
    "Let's try to visualize this:"
   ]
  },
  {
   "cell_type": "code",
   "execution_count": 118,
   "metadata": {},
   "outputs": [],
   "source": [
    "import matplotlib.pyplot as plt\n",
    "%matplotlib inline"
   ]
  },
  {
   "cell_type": "code",
   "execution_count": 162,
   "metadata": {},
   "outputs": [
    {
     "data": {
      "image/png": "[encoded data removed]",
      "image/svg+xml": "<?xml version=\"1.0\" encoding=\"utf-8\" standalone=\"no\"?>\r\n<!DOCTYPE svg PUBLIC \"-//W3C//DTD SVG 1.1//EN\"\r\n  \"http://www.w3.org/Graphics/SVG/1.1/DTD/svg11.dtd\">\r\n<!-- Created with matplotlib (https://matplotlib.org/) -->\r\n<svg height=\"277.314375pt\" version=\"1.1\" viewBox=\"0 0 392.14375 277.314375\" width=\"392.14375pt\" xmlns=\"http://www.w3.org/2000/svg\" xmlns:xlink=\"http://www.w3.org/1999/xlink\">\r\n <defs>\r\n  <style type=\"text/css\">\r\n*{stroke-linecap:butt;stroke-linejoin:round;}\r\n  </style>\r\n </defs>\r\n <g id=\"figure_1\">\r\n  <g id=\"patch_1\">\r\n   <path d=\"M 0 277.314375 \r\nL 392.14375 277.314375 \r\nL 392.14375 0 \r\nL 0 0 \r\nz\r\n\" style=\"fill:none;\"/>\r\n  </g>\r\n  <g id=\"axes_1\">\r\n   <g id=\"patch_2\">\r\n    <path d=\"M 50.14375 239.758125 \r\nL 384.94375 239.758125 \r\nL 384.94375 22.318125 \r\nL 50.14375 22.318125 \r\nz\r\n\" style=\"fill:#ffffff;\"/>\r\n   </g>\r\n   <g id=\"matplotlib.axis_1\">\r\n    <g id=\"xtick_1\">\r\n     <g id=\"line2d_1\">\r\n      <defs>\r\n       <path d=\"M 0 0 \r\nL 0 3.5 \r\n\" id=\"m3a0fe6e98d\" style=\"stroke:#000000;stroke-width:0.8;\"/>\r\n      </defs>\r\n      <g>\r\n       <use style=\"stroke:#000000;stroke-width:0.8;\" x=\"54.866634\" xlink:href=\"#m3a0fe6e98d\" y=\"239.758125\"/>\r\n      </g>\r\n     </g>\r\n     <g id=\"text_1\">\r\n      <!-- 0 -->\r\n      <defs>\r\n       <path d=\"M 31.78125 66.40625 \r\nQ 24.171875 66.40625 20.328125 58.90625 \r\nQ 16.5 51.421875 16.5 36.375 \r\nQ 16.5 21.390625 20.328125 13.890625 \r\nQ 24.171875 6.390625 31.78125 6.390625 \r\nQ 39.453125 6.390625 43.28125 13.890625 \r\nQ 47.125 21.390625 47.125 36.375 \r\nQ 47.125 51.421875 43.28125 58.90625 \r\nQ 39.453125 66.40625 31.78125 66.40625 \r\nz\r\nM 31.78125 74.21875 \r\nQ 44.046875 74.21875 50.515625 64.515625 \r\nQ 56.984375 54.828125 56.984375 36.375 \r\nQ 56.984375 17.96875 50.515625 8.265625 \r\nQ 44.046875 -1.421875 31.78125 -1.421875 \r\nQ 19.53125 -1.421875 13.0625 8.265625 \r\nQ 6.59375 17.96875 6.59375 36.375 \r\nQ 6.59375 54.828125 13.0625 64.515625 \r\nQ 19.53125 74.21875 31.78125 74.21875 \r\nz\r\n\" id=\"DejaVuSans-48\"/>\r\n      </defs>\r\n      <g transform=\"translate(51.685384 254.356562)scale(0.1 -0.1)\">\r\n       <use xlink:href=\"#DejaVuSans-48\"/>\r\n      </g>\r\n     </g>\r\n    </g>\r\n    <g id=\"xtick_2\">\r\n     <g id=\"line2d_2\">\r\n      <g>\r\n       <use style=\"stroke:#000000;stroke-width:0.8;\" x=\"107.343123\" xlink:href=\"#m3a0fe6e98d\" y=\"239.758125\"/>\r\n      </g>\r\n     </g>\r\n     <g id=\"text_2\">\r\n      <!-- 5 -->\r\n      <defs>\r\n       <path d=\"M 10.796875 72.90625 \r\nL 49.515625 72.90625 \r\nL 49.515625 64.59375 \r\nL 19.828125 64.59375 \r\nL 19.828125 46.734375 \r\nQ 21.96875 47.46875 24.109375 47.828125 \r\nQ 26.265625 48.1875 28.421875 48.1875 \r\nQ 40.625 48.1875 47.75 41.5 \r\nQ 54.890625 34.8125 54.890625 23.390625 \r\nQ 54.890625 11.625 47.5625 5.09375 \r\nQ 40.234375 -1.421875 26.90625 -1.421875 \r\nQ 22.3125 -1.421875 17.546875 -0.640625 \r\nQ 12.796875 0.140625 7.71875 1.703125 \r\nL 7.71875 11.625 \r\nQ 12.109375 9.234375 16.796875 8.0625 \r\nQ 21.484375 6.890625 26.703125 6.890625 \r\nQ 35.15625 6.890625 40.078125 11.328125 \r\nQ 45.015625 15.765625 45.015625 23.390625 \r\nQ 45.015625 31 40.078125 35.4375 \r\nQ 35.15625 39.890625 26.703125 39.890625 \r\nQ 22.75 39.890625 18.8125 39.015625 \r\nQ 14.890625 38.140625 10.796875 36.28125 \r\nz\r\n\" id=\"DejaVuSans-53\"/>\r\n      </defs>\r\n      <g transform=\"translate(104.161873 254.356562)scale(0.1 -0.1)\">\r\n       <use xlink:href=\"#DejaVuSans-53\"/>\r\n      </g>\r\n     </g>\r\n    </g>\r\n    <g id=\"xtick_3\">\r\n     <g id=\"line2d_3\">\r\n      <g>\r\n       <use style=\"stroke:#000000;stroke-width:0.8;\" x=\"159.819612\" xlink:href=\"#m3a0fe6e98d\" y=\"239.758125\"/>\r\n      </g>\r\n     </g>\r\n     <g id=\"text_3\">\r\n      <!-- 10 -->\r\n      <defs>\r\n       <path d=\"M 12.40625 8.296875 \r\nL 28.515625 8.296875 \r\nL 28.515625 63.921875 \r\nL 10.984375 60.40625 \r\nL 10.984375 69.390625 \r\nL 28.421875 72.90625 \r\nL 38.28125 72.90625 \r\nL 38.28125 8.296875 \r\nL 54.390625 8.296875 \r\nL 54.390625 0 \r\nL 12.40625 0 \r\nz\r\n\" id=\"DejaVuSans-49\"/>\r\n      </defs>\r\n      <g transform=\"translate(153.457112 254.356562)scale(0.1 -0.1)\">\r\n       <use xlink:href=\"#DejaVuSans-49\"/>\r\n       <use x=\"63.623047\" xlink:href=\"#DejaVuSans-48\"/>\r\n      </g>\r\n     </g>\r\n    </g>\r\n    <g id=\"xtick_4\">\r\n     <g id=\"line2d_4\">\r\n      <g>\r\n       <use style=\"stroke:#000000;stroke-width:0.8;\" x=\"212.296101\" xlink:href=\"#m3a0fe6e98d\" y=\"239.758125\"/>\r\n      </g>\r\n     </g>\r\n     <g id=\"text_4\">\r\n      <!-- 15 -->\r\n      <g transform=\"translate(205.933601 254.356562)scale(0.1 -0.1)\">\r\n       <use xlink:href=\"#DejaVuSans-49\"/>\r\n       <use x=\"63.623047\" xlink:href=\"#DejaVuSans-53\"/>\r\n      </g>\r\n     </g>\r\n    </g>\r\n    <g id=\"xtick_5\">\r\n     <g id=\"line2d_5\">\r\n      <g>\r\n       <use style=\"stroke:#000000;stroke-width:0.8;\" x=\"264.77259\" xlink:href=\"#m3a0fe6e98d\" y=\"239.758125\"/>\r\n      </g>\r\n     </g>\r\n     <g id=\"text_5\">\r\n      <!-- 20 -->\r\n      <defs>\r\n       <path d=\"M 19.1875 8.296875 \r\nL 53.609375 8.296875 \r\nL 53.609375 0 \r\nL 7.328125 0 \r\nL 7.328125 8.296875 \r\nQ 12.9375 14.109375 22.625 23.890625 \r\nQ 32.328125 33.6875 34.8125 36.53125 \r\nQ 39.546875 41.84375 41.421875 45.53125 \r\nQ 43.3125 49.21875 43.3125 52.78125 \r\nQ 43.3125 58.59375 39.234375 62.25 \r\nQ 35.15625 65.921875 28.609375 65.921875 \r\nQ 23.96875 65.921875 18.8125 64.3125 \r\nQ 13.671875 62.703125 7.8125 59.421875 \r\nL 7.8125 69.390625 \r\nQ 13.765625 71.78125 18.9375 73 \r\nQ 24.125 74.21875 28.421875 74.21875 \r\nQ 39.75 74.21875 46.484375 68.546875 \r\nQ 53.21875 62.890625 53.21875 53.421875 \r\nQ 53.21875 48.921875 51.53125 44.890625 \r\nQ 49.859375 40.875 45.40625 35.40625 \r\nQ 44.1875 33.984375 37.640625 27.21875 \r\nQ 31.109375 20.453125 19.1875 8.296875 \r\nz\r\n\" id=\"DejaVuSans-50\"/>\r\n      </defs>\r\n      <g transform=\"translate(258.41009 254.356562)scale(0.1 -0.1)\">\r\n       <use xlink:href=\"#DejaVuSans-50\"/>\r\n       <use x=\"63.623047\" xlink:href=\"#DejaVuSans-48\"/>\r\n      </g>\r\n     </g>\r\n    </g>\r\n    <g id=\"xtick_6\">\r\n     <g id=\"line2d_6\">\r\n      <g>\r\n       <use style=\"stroke:#000000;stroke-width:0.8;\" x=\"317.249079\" xlink:href=\"#m3a0fe6e98d\" y=\"239.758125\"/>\r\n      </g>\r\n     </g>\r\n     <g id=\"text_6\">\r\n      <!-- 25 -->\r\n      <g transform=\"translate(310.886579 254.356562)scale(0.1 -0.1)\">\r\n       <use xlink:href=\"#DejaVuSans-50\"/>\r\n       <use x=\"63.623047\" xlink:href=\"#DejaVuSans-53\"/>\r\n      </g>\r\n     </g>\r\n    </g>\r\n    <g id=\"xtick_7\">\r\n     <g id=\"line2d_7\">\r\n      <g>\r\n       <use style=\"stroke:#000000;stroke-width:0.8;\" x=\"369.725568\" xlink:href=\"#m3a0fe6e98d\" y=\"239.758125\"/>\r\n      </g>\r\n     </g>\r\n     <g id=\"text_7\">\r\n      <!-- 30 -->\r\n      <defs>\r\n       <path d=\"M 40.578125 39.3125 \r\nQ 47.65625 37.796875 51.625 33 \r\nQ 55.609375 28.21875 55.609375 21.1875 \r\nQ 55.609375 10.40625 48.1875 4.484375 \r\nQ 40.765625 -1.421875 27.09375 -1.421875 \r\nQ 22.515625 -1.421875 17.65625 -0.515625 \r\nQ 12.796875 0.390625 7.625 2.203125 \r\nL 7.625 11.71875 \r\nQ 11.71875 9.328125 16.59375 8.109375 \r\nQ 21.484375 6.890625 26.8125 6.890625 \r\nQ 36.078125 6.890625 40.9375 10.546875 \r\nQ 45.796875 14.203125 45.796875 21.1875 \r\nQ 45.796875 27.640625 41.28125 31.265625 \r\nQ 36.765625 34.90625 28.71875 34.90625 \r\nL 20.21875 34.90625 \r\nL 20.21875 43.015625 \r\nL 29.109375 43.015625 \r\nQ 36.375 43.015625 40.234375 45.921875 \r\nQ 44.09375 48.828125 44.09375 54.296875 \r\nQ 44.09375 59.90625 40.109375 62.90625 \r\nQ 36.140625 65.921875 28.71875 65.921875 \r\nQ 24.65625 65.921875 20.015625 65.03125 \r\nQ 15.375 64.15625 9.8125 62.3125 \r\nL 9.8125 71.09375 \r\nQ 15.4375 72.65625 20.34375 73.4375 \r\nQ 25.25 74.21875 29.59375 74.21875 \r\nQ 40.828125 74.21875 47.359375 69.109375 \r\nQ 53.90625 64.015625 53.90625 55.328125 \r\nQ 53.90625 49.265625 50.4375 45.09375 \r\nQ 46.96875 40.921875 40.578125 39.3125 \r\nz\r\n\" id=\"DejaVuSans-51\"/>\r\n      </defs>\r\n      <g transform=\"translate(363.363068 254.356562)scale(0.1 -0.1)\">\r\n       <use xlink:href=\"#DejaVuSans-51\"/>\r\n       <use x=\"63.623047\" xlink:href=\"#DejaVuSans-48\"/>\r\n      </g>\r\n     </g>\r\n    </g>\r\n    <g id=\"text_8\">\r\n     <!-- Epochs -->\r\n     <defs>\r\n      <path d=\"M 9.8125 72.90625 \r\nL 55.90625 72.90625 \r\nL 55.90625 64.59375 \r\nL 19.671875 64.59375 \r\nL 19.671875 43.015625 \r\nL 54.390625 43.015625 \r\nL 54.390625 34.71875 \r\nL 19.671875 34.71875 \r\nL 19.671875 8.296875 \r\nL 56.78125 8.296875 \r\nL 56.78125 0 \r\nL 9.8125 0 \r\nz\r\n\" id=\"DejaVuSans-69\"/>\r\n      <path d=\"M 18.109375 8.203125 \r\nL 18.109375 -20.796875 \r\nL 9.078125 -20.796875 \r\nL 9.078125 54.6875 \r\nL 18.109375 54.6875 \r\nL 18.109375 46.390625 \r\nQ 20.953125 51.265625 25.265625 53.625 \r\nQ 29.59375 56 35.59375 56 \r\nQ 45.5625 56 51.78125 48.09375 \r\nQ 58.015625 40.1875 58.015625 27.296875 \r\nQ 58.015625 14.40625 51.78125 6.484375 \r\nQ 45.5625 -1.421875 35.59375 -1.421875 \r\nQ 29.59375 -1.421875 25.265625 0.953125 \r\nQ 20.953125 3.328125 18.109375 8.203125 \r\nz\r\nM 48.6875 27.296875 \r\nQ 48.6875 37.203125 44.609375 42.84375 \r\nQ 40.53125 48.484375 33.40625 48.484375 \r\nQ 26.265625 48.484375 22.1875 42.84375 \r\nQ 18.109375 37.203125 18.109375 27.296875 \r\nQ 18.109375 17.390625 22.1875 11.75 \r\nQ 26.265625 6.109375 33.40625 6.109375 \r\nQ 40.53125 6.109375 44.609375 11.75 \r\nQ 48.6875 17.390625 48.6875 27.296875 \r\nz\r\n\" id=\"DejaVuSans-112\"/>\r\n      <path d=\"M 30.609375 48.390625 \r\nQ 23.390625 48.390625 19.1875 42.75 \r\nQ 14.984375 37.109375 14.984375 27.296875 \r\nQ 14.984375 17.484375 19.15625 11.84375 \r\nQ 23.34375 6.203125 30.609375 6.203125 \r\nQ 37.796875 6.203125 41.984375 11.859375 \r\nQ 46.1875 17.53125 46.1875 27.296875 \r\nQ 46.1875 37.015625 41.984375 42.703125 \r\nQ 37.796875 48.390625 30.609375 48.390625 \r\nz\r\nM 30.609375 56 \r\nQ 42.328125 56 49.015625 48.375 \r\nQ 55.71875 40.765625 55.71875 27.296875 \r\nQ 55.71875 13.875 49.015625 6.21875 \r\nQ 42.328125 -1.421875 30.609375 -1.421875 \r\nQ 18.84375 -1.421875 12.171875 6.21875 \r\nQ 5.515625 13.875 5.515625 27.296875 \r\nQ 5.515625 40.765625 12.171875 48.375 \r\nQ 18.84375 56 30.609375 56 \r\nz\r\n\" id=\"DejaVuSans-111\"/>\r\n      <path d=\"M 48.78125 52.59375 \r\nL 48.78125 44.1875 \r\nQ 44.96875 46.296875 41.140625 47.34375 \r\nQ 37.3125 48.390625 33.40625 48.390625 \r\nQ 24.65625 48.390625 19.8125 42.84375 \r\nQ 14.984375 37.3125 14.984375 27.296875 \r\nQ 14.984375 17.28125 19.8125 11.734375 \r\nQ 24.65625 6.203125 33.40625 6.203125 \r\nQ 37.3125 6.203125 41.140625 7.25 \r\nQ 44.96875 8.296875 48.78125 10.40625 \r\nL 48.78125 2.09375 \r\nQ 45.015625 0.34375 40.984375 -0.53125 \r\nQ 36.96875 -1.421875 32.421875 -1.421875 \r\nQ 20.0625 -1.421875 12.78125 6.34375 \r\nQ 5.515625 14.109375 5.515625 27.296875 \r\nQ 5.515625 40.671875 12.859375 48.328125 \r\nQ 20.21875 56 33.015625 56 \r\nQ 37.15625 56 41.109375 55.140625 \r\nQ 45.0625 54.296875 48.78125 52.59375 \r\nz\r\n\" id=\"DejaVuSans-99\"/>\r\n      <path d=\"M 54.890625 33.015625 \r\nL 54.890625 0 \r\nL 45.90625 0 \r\nL 45.90625 32.71875 \r\nQ 45.90625 40.484375 42.875 44.328125 \r\nQ 39.84375 48.1875 33.796875 48.1875 \r\nQ 26.515625 48.1875 22.3125 43.546875 \r\nQ 18.109375 38.921875 18.109375 30.90625 \r\nL 18.109375 0 \r\nL 9.078125 0 \r\nL 9.078125 75.984375 \r\nL 18.109375 75.984375 \r\nL 18.109375 46.1875 \r\nQ 21.34375 51.125 25.703125 53.5625 \r\nQ 30.078125 56 35.796875 56 \r\nQ 45.21875 56 50.046875 50.171875 \r\nQ 54.890625 44.34375 54.890625 33.015625 \r\nz\r\n\" id=\"DejaVuSans-104\"/>\r\n      <path d=\"M 44.28125 53.078125 \r\nL 44.28125 44.578125 \r\nQ 40.484375 46.53125 36.375 47.5 \r\nQ 32.28125 48.484375 27.875 48.484375 \r\nQ 21.1875 48.484375 17.84375 46.4375 \r\nQ 14.5 44.390625 14.5 40.28125 \r\nQ 14.5 37.15625 16.890625 35.375 \r\nQ 19.28125 33.59375 26.515625 31.984375 \r\nL 29.59375 31.296875 \r\nQ 39.15625 29.25 43.1875 25.515625 \r\nQ 47.21875 21.78125 47.21875 15.09375 \r\nQ 47.21875 7.46875 41.1875 3.015625 \r\nQ 35.15625 -1.421875 24.609375 -1.421875 \r\nQ 20.21875 -1.421875 15.453125 -0.5625 \r\nQ 10.6875 0.296875 5.421875 2 \r\nL 5.421875 11.28125 \r\nQ 10.40625 8.6875 15.234375 7.390625 \r\nQ 20.0625 6.109375 24.8125 6.109375 \r\nQ 31.15625 6.109375 34.5625 8.28125 \r\nQ 37.984375 10.453125 37.984375 14.40625 \r\nQ 37.984375 18.0625 35.515625 20.015625 \r\nQ 33.0625 21.96875 24.703125 23.78125 \r\nL 21.578125 24.515625 \r\nQ 13.234375 26.265625 9.515625 29.90625 \r\nQ 5.8125 33.546875 5.8125 39.890625 \r\nQ 5.8125 47.609375 11.28125 51.796875 \r\nQ 16.75 56 26.8125 56 \r\nQ 31.78125 56 36.171875 55.265625 \r\nQ 40.578125 54.546875 44.28125 53.078125 \r\nz\r\n\" id=\"DejaVuSans-115\"/>\r\n     </defs>\r\n     <g transform=\"translate(199.628125 268.034687)scale(0.1 -0.1)\">\r\n      <use xlink:href=\"#DejaVuSans-69\"/>\r\n      <use x=\"63.183594\" xlink:href=\"#DejaVuSans-112\"/>\r\n      <use x=\"126.660156\" xlink:href=\"#DejaVuSans-111\"/>\r\n      <use x=\"187.841797\" xlink:href=\"#DejaVuSans-99\"/>\r\n      <use x=\"242.822266\" xlink:href=\"#DejaVuSans-104\"/>\r\n      <use x=\"306.201172\" xlink:href=\"#DejaVuSans-115\"/>\r\n     </g>\r\n    </g>\r\n   </g>\r\n   <g id=\"matplotlib.axis_2\">\r\n    <g id=\"ytick_1\">\r\n     <g id=\"line2d_8\">\r\n      <defs>\r\n       <path d=\"M 0 0 \r\nL -3.5 0 \r\n\" id=\"m669341dc59\" style=\"stroke:#000000;stroke-width:0.8;\"/>\r\n      </defs>\r\n      <g>\r\n       <use style=\"stroke:#000000;stroke-width:0.8;\" x=\"50.14375\" xlink:href=\"#m669341dc59\" y=\"235.192989\"/>\r\n      </g>\r\n     </g>\r\n     <g id=\"text_9\">\r\n      <!-- 0.80 -->\r\n      <defs>\r\n       <path d=\"M 10.6875 12.40625 \r\nL 21 12.40625 \r\nL 21 0 \r\nL 10.6875 0 \r\nz\r\n\" id=\"DejaVuSans-46\"/>\r\n       <path d=\"M 31.78125 34.625 \r\nQ 24.75 34.625 20.71875 30.859375 \r\nQ 16.703125 27.09375 16.703125 20.515625 \r\nQ 16.703125 13.921875 20.71875 10.15625 \r\nQ 24.75 6.390625 31.78125 6.390625 \r\nQ 38.8125 6.390625 42.859375 10.171875 \r\nQ 46.921875 13.96875 46.921875 20.515625 \r\nQ 46.921875 27.09375 42.890625 30.859375 \r\nQ 38.875 34.625 31.78125 34.625 \r\nz\r\nM 21.921875 38.8125 \r\nQ 15.578125 40.375 12.03125 44.71875 \r\nQ 8.5 49.078125 8.5 55.328125 \r\nQ 8.5 64.0625 14.71875 69.140625 \r\nQ 20.953125 74.21875 31.78125 74.21875 \r\nQ 42.671875 74.21875 48.875 69.140625 \r\nQ 55.078125 64.0625 55.078125 55.328125 \r\nQ 55.078125 49.078125 51.53125 44.71875 \r\nQ 48 40.375 41.703125 38.8125 \r\nQ 48.828125 37.15625 52.796875 32.3125 \r\nQ 56.78125 27.484375 56.78125 20.515625 \r\nQ 56.78125 9.90625 50.3125 4.234375 \r\nQ 43.84375 -1.421875 31.78125 -1.421875 \r\nQ 19.734375 -1.421875 13.25 4.234375 \r\nQ 6.78125 9.90625 6.78125 20.515625 \r\nQ 6.78125 27.484375 10.78125 32.3125 \r\nQ 14.796875 37.15625 21.921875 38.8125 \r\nz\r\nM 18.3125 54.390625 \r\nQ 18.3125 48.734375 21.84375 45.5625 \r\nQ 25.390625 42.390625 31.78125 42.390625 \r\nQ 38.140625 42.390625 41.71875 45.5625 \r\nQ 45.3125 48.734375 45.3125 54.390625 \r\nQ 45.3125 60.0625 41.71875 63.234375 \r\nQ 38.140625 66.40625 31.78125 66.40625 \r\nQ 25.390625 66.40625 21.84375 63.234375 \r\nQ 18.3125 60.0625 18.3125 54.390625 \r\nz\r\n\" id=\"DejaVuSans-56\"/>\r\n      </defs>\r\n      <g transform=\"translate(20.878125 238.992208)scale(0.1 -0.1)\">\r\n       <use xlink:href=\"#DejaVuSans-48\"/>\r\n       <use x=\"63.623047\" xlink:href=\"#DejaVuSans-46\"/>\r\n       <use x=\"95.410156\" xlink:href=\"#DejaVuSans-56\"/>\r\n       <use x=\"159.033203\" xlink:href=\"#DejaVuSans-48\"/>\r\n      </g>\r\n     </g>\r\n    </g>\r\n    <g id=\"ytick_2\">\r\n     <g id=\"line2d_9\">\r\n      <g>\r\n       <use style=\"stroke:#000000;stroke-width:0.8;\" x=\"50.14375\" xlink:href=\"#m669341dc59\" y=\"199.736005\"/>\r\n      </g>\r\n     </g>\r\n     <g id=\"text_10\">\r\n      <!-- 0.82 -->\r\n      <g transform=\"translate(20.878125 203.535224)scale(0.1 -0.1)\">\r\n       <use xlink:href=\"#DejaVuSans-48\"/>\r\n       <use x=\"63.623047\" xlink:href=\"#DejaVuSans-46\"/>\r\n       <use x=\"95.410156\" xlink:href=\"#DejaVuSans-56\"/>\r\n       <use x=\"159.033203\" xlink:href=\"#DejaVuSans-50\"/>\r\n      </g>\r\n     </g>\r\n    </g>\r\n    <g id=\"ytick_3\">\r\n     <g id=\"line2d_10\">\r\n      <g>\r\n       <use style=\"stroke:#000000;stroke-width:0.8;\" x=\"50.14375\" xlink:href=\"#m669341dc59\" y=\"164.279022\"/>\r\n      </g>\r\n     </g>\r\n     <g id=\"text_11\">\r\n      <!-- 0.84 -->\r\n      <defs>\r\n       <path d=\"M 37.796875 64.3125 \r\nL 12.890625 25.390625 \r\nL 37.796875 25.390625 \r\nz\r\nM 35.203125 72.90625 \r\nL 47.609375 72.90625 \r\nL 47.609375 25.390625 \r\nL 58.015625 25.390625 \r\nL 58.015625 17.1875 \r\nL 47.609375 17.1875 \r\nL 47.609375 0 \r\nL 37.796875 0 \r\nL 37.796875 17.1875 \r\nL 4.890625 17.1875 \r\nL 4.890625 26.703125 \r\nz\r\n\" id=\"DejaVuSans-52\"/>\r\n      </defs>\r\n      <g transform=\"translate(20.878125 168.07824)scale(0.1 -0.1)\">\r\n       <use xlink:href=\"#DejaVuSans-48\"/>\r\n       <use x=\"63.623047\" xlink:href=\"#DejaVuSans-46\"/>\r\n       <use x=\"95.410156\" xlink:href=\"#DejaVuSans-56\"/>\r\n       <use x=\"159.033203\" xlink:href=\"#DejaVuSans-52\"/>\r\n      </g>\r\n     </g>\r\n    </g>\r\n    <g id=\"ytick_4\">\r\n     <g id=\"line2d_11\">\r\n      <g>\r\n       <use style=\"stroke:#000000;stroke-width:0.8;\" x=\"50.14375\" xlink:href=\"#m669341dc59\" y=\"128.822038\"/>\r\n      </g>\r\n     </g>\r\n     <g id=\"text_12\">\r\n      <!-- 0.86 -->\r\n      <defs>\r\n       <path d=\"M 33.015625 40.375 \r\nQ 26.375 40.375 22.484375 35.828125 \r\nQ 18.609375 31.296875 18.609375 23.390625 \r\nQ 18.609375 15.53125 22.484375 10.953125 \r\nQ 26.375 6.390625 33.015625 6.390625 \r\nQ 39.65625 6.390625 43.53125 10.953125 \r\nQ 47.40625 15.53125 47.40625 23.390625 \r\nQ 47.40625 31.296875 43.53125 35.828125 \r\nQ 39.65625 40.375 33.015625 40.375 \r\nz\r\nM 52.59375 71.296875 \r\nL 52.59375 62.3125 \r\nQ 48.875 64.0625 45.09375 64.984375 \r\nQ 41.3125 65.921875 37.59375 65.921875 \r\nQ 27.828125 65.921875 22.671875 59.328125 \r\nQ 17.53125 52.734375 16.796875 39.40625 \r\nQ 19.671875 43.65625 24.015625 45.921875 \r\nQ 28.375 48.1875 33.59375 48.1875 \r\nQ 44.578125 48.1875 50.953125 41.515625 \r\nQ 57.328125 34.859375 57.328125 23.390625 \r\nQ 57.328125 12.15625 50.6875 5.359375 \r\nQ 44.046875 -1.421875 33.015625 -1.421875 \r\nQ 20.359375 -1.421875 13.671875 8.265625 \r\nQ 6.984375 17.96875 6.984375 36.375 \r\nQ 6.984375 53.65625 15.1875 63.9375 \r\nQ 23.390625 74.21875 37.203125 74.21875 \r\nQ 40.921875 74.21875 44.703125 73.484375 \r\nQ 48.484375 72.75 52.59375 71.296875 \r\nz\r\n\" id=\"DejaVuSans-54\"/>\r\n      </defs>\r\n      <g transform=\"translate(20.878125 132.621257)scale(0.1 -0.1)\">\r\n       <use xlink:href=\"#DejaVuSans-48\"/>\r\n       <use x=\"63.623047\" xlink:href=\"#DejaVuSans-46\"/>\r\n       <use x=\"95.410156\" xlink:href=\"#DejaVuSans-56\"/>\r\n       <use x=\"159.033203\" xlink:href=\"#DejaVuSans-54\"/>\r\n      </g>\r\n     </g>\r\n    </g>\r\n    <g id=\"ytick_5\">\r\n     <g id=\"line2d_12\">\r\n      <g>\r\n       <use style=\"stroke:#000000;stroke-width:0.8;\" x=\"50.14375\" xlink:href=\"#m669341dc59\" y=\"93.365055\"/>\r\n      </g>\r\n     </g>\r\n     <g id=\"text_13\">\r\n      <!-- 0.88 -->\r\n      <g transform=\"translate(20.878125 97.164273)scale(0.1 -0.1)\">\r\n       <use xlink:href=\"#DejaVuSans-48\"/>\r\n       <use x=\"63.623047\" xlink:href=\"#DejaVuSans-46\"/>\r\n       <use x=\"95.410156\" xlink:href=\"#DejaVuSans-56\"/>\r\n       <use x=\"159.033203\" xlink:href=\"#DejaVuSans-56\"/>\r\n      </g>\r\n     </g>\r\n    </g>\r\n    <g id=\"ytick_6\">\r\n     <g id=\"line2d_13\">\r\n      <g>\r\n       <use style=\"stroke:#000000;stroke-width:0.8;\" x=\"50.14375\" xlink:href=\"#m669341dc59\" y=\"57.908071\"/>\r\n      </g>\r\n     </g>\r\n     <g id=\"text_14\">\r\n      <!-- 0.90 -->\r\n      <defs>\r\n       <path d=\"M 10.984375 1.515625 \r\nL 10.984375 10.5 \r\nQ 14.703125 8.734375 18.5 7.8125 \r\nQ 22.3125 6.890625 25.984375 6.890625 \r\nQ 35.75 6.890625 40.890625 13.453125 \r\nQ 46.046875 20.015625 46.78125 33.40625 \r\nQ 43.953125 29.203125 39.59375 26.953125 \r\nQ 35.25 24.703125 29.984375 24.703125 \r\nQ 19.046875 24.703125 12.671875 31.3125 \r\nQ 6.296875 37.9375 6.296875 49.421875 \r\nQ 6.296875 60.640625 12.9375 67.421875 \r\nQ 19.578125 74.21875 30.609375 74.21875 \r\nQ 43.265625 74.21875 49.921875 64.515625 \r\nQ 56.59375 54.828125 56.59375 36.375 \r\nQ 56.59375 19.140625 48.40625 8.859375 \r\nQ 40.234375 -1.421875 26.421875 -1.421875 \r\nQ 22.703125 -1.421875 18.890625 -0.6875 \r\nQ 15.09375 0.046875 10.984375 1.515625 \r\nz\r\nM 30.609375 32.421875 \r\nQ 37.25 32.421875 41.125 36.953125 \r\nQ 45.015625 41.5 45.015625 49.421875 \r\nQ 45.015625 57.28125 41.125 61.84375 \r\nQ 37.25 66.40625 30.609375 66.40625 \r\nQ 23.96875 66.40625 20.09375 61.84375 \r\nQ 16.21875 57.28125 16.21875 49.421875 \r\nQ 16.21875 41.5 20.09375 36.953125 \r\nQ 23.96875 32.421875 30.609375 32.421875 \r\nz\r\n\" id=\"DejaVuSans-57\"/>\r\n      </defs>\r\n      <g transform=\"translate(20.878125 61.70729)scale(0.1 -0.1)\">\r\n       <use xlink:href=\"#DejaVuSans-48\"/>\r\n       <use x=\"63.623047\" xlink:href=\"#DejaVuSans-46\"/>\r\n       <use x=\"95.410156\" xlink:href=\"#DejaVuSans-57\"/>\r\n       <use x=\"159.033203\" xlink:href=\"#DejaVuSans-48\"/>\r\n      </g>\r\n     </g>\r\n    </g>\r\n    <g id=\"ytick_7\">\r\n     <g id=\"line2d_14\">\r\n      <g>\r\n       <use style=\"stroke:#000000;stroke-width:0.8;\" x=\"50.14375\" xlink:href=\"#m669341dc59\" y=\"22.451088\"/>\r\n      </g>\r\n     </g>\r\n     <g id=\"text_15\">\r\n      <!-- 0.92 -->\r\n      <g transform=\"translate(20.878125 26.250306)scale(0.1 -0.1)\">\r\n       <use xlink:href=\"#DejaVuSans-48\"/>\r\n       <use x=\"63.623047\" xlink:href=\"#DejaVuSans-46\"/>\r\n       <use x=\"95.410156\" xlink:href=\"#DejaVuSans-57\"/>\r\n       <use x=\"159.033203\" xlink:href=\"#DejaVuSans-50\"/>\r\n      </g>\r\n     </g>\r\n    </g>\r\n    <g id=\"text_16\">\r\n     <!-- Validation accuracy -->\r\n     <defs>\r\n      <path d=\"M 28.609375 0 \r\nL 0.78125 72.90625 \r\nL 11.078125 72.90625 \r\nL 34.1875 11.53125 \r\nL 57.328125 72.90625 \r\nL 67.578125 72.90625 \r\nL 39.796875 0 \r\nz\r\n\" id=\"DejaVuSans-86\"/>\r\n      <path d=\"M 34.28125 27.484375 \r\nQ 23.390625 27.484375 19.1875 25 \r\nQ 14.984375 22.515625 14.984375 16.5 \r\nQ 14.984375 11.71875 18.140625 8.90625 \r\nQ 21.296875 6.109375 26.703125 6.109375 \r\nQ 34.1875 6.109375 38.703125 11.40625 \r\nQ 43.21875 16.703125 43.21875 25.484375 \r\nL 43.21875 27.484375 \r\nz\r\nM 52.203125 31.203125 \r\nL 52.203125 0 \r\nL 43.21875 0 \r\nL 43.21875 8.296875 \r\nQ 40.140625 3.328125 35.546875 0.953125 \r\nQ 30.953125 -1.421875 24.3125 -1.421875 \r\nQ 15.921875 -1.421875 10.953125 3.296875 \r\nQ 6 8.015625 6 15.921875 \r\nQ 6 25.140625 12.171875 29.828125 \r\nQ 18.359375 34.515625 30.609375 34.515625 \r\nL 43.21875 34.515625 \r\nL 43.21875 35.40625 \r\nQ 43.21875 41.609375 39.140625 45 \r\nQ 35.0625 48.390625 27.6875 48.390625 \r\nQ 23 48.390625 18.546875 47.265625 \r\nQ 14.109375 46.140625 10.015625 43.890625 \r\nL 10.015625 52.203125 \r\nQ 14.9375 54.109375 19.578125 55.046875 \r\nQ 24.21875 56 28.609375 56 \r\nQ 40.484375 56 46.34375 49.84375 \r\nQ 52.203125 43.703125 52.203125 31.203125 \r\nz\r\n\" id=\"DejaVuSans-97\"/>\r\n      <path d=\"M 9.421875 75.984375 \r\nL 18.40625 75.984375 \r\nL 18.40625 0 \r\nL 9.421875 0 \r\nz\r\n\" id=\"DejaVuSans-108\"/>\r\n      <path d=\"M 9.421875 54.6875 \r\nL 18.40625 54.6875 \r\nL 18.40625 0 \r\nL 9.421875 0 \r\nz\r\nM 9.421875 75.984375 \r\nL 18.40625 75.984375 \r\nL 18.40625 64.59375 \r\nL 9.421875 64.59375 \r\nz\r\n\" id=\"DejaVuSans-105\"/>\r\n      <path d=\"M 45.40625 46.390625 \r\nL 45.40625 75.984375 \r\nL 54.390625 75.984375 \r\nL 54.390625 0 \r\nL 45.40625 0 \r\nL 45.40625 8.203125 \r\nQ 42.578125 3.328125 38.25 0.953125 \r\nQ 33.9375 -1.421875 27.875 -1.421875 \r\nQ 17.96875 -1.421875 11.734375 6.484375 \r\nQ 5.515625 14.40625 5.515625 27.296875 \r\nQ 5.515625 40.1875 11.734375 48.09375 \r\nQ 17.96875 56 27.875 56 \r\nQ 33.9375 56 38.25 53.625 \r\nQ 42.578125 51.265625 45.40625 46.390625 \r\nz\r\nM 14.796875 27.296875 \r\nQ 14.796875 17.390625 18.875 11.75 \r\nQ 22.953125 6.109375 30.078125 6.109375 \r\nQ 37.203125 6.109375 41.296875 11.75 \r\nQ 45.40625 17.390625 45.40625 27.296875 \r\nQ 45.40625 37.203125 41.296875 42.84375 \r\nQ 37.203125 48.484375 30.078125 48.484375 \r\nQ 22.953125 48.484375 18.875 42.84375 \r\nQ 14.796875 37.203125 14.796875 27.296875 \r\nz\r\n\" id=\"DejaVuSans-100\"/>\r\n      <path d=\"M 18.3125 70.21875 \r\nL 18.3125 54.6875 \r\nL 36.8125 54.6875 \r\nL 36.8125 47.703125 \r\nL 18.3125 47.703125 \r\nL 18.3125 18.015625 \r\nQ 18.3125 11.328125 20.140625 9.421875 \r\nQ 21.96875 7.515625 27.59375 7.515625 \r\nL 36.8125 7.515625 \r\nL 36.8125 0 \r\nL 27.59375 0 \r\nQ 17.1875 0 13.234375 3.875 \r\nQ 9.28125 7.765625 9.28125 18.015625 \r\nL 9.28125 47.703125 \r\nL 2.6875 47.703125 \r\nL 2.6875 54.6875 \r\nL 9.28125 54.6875 \r\nL 9.28125 70.21875 \r\nz\r\n\" id=\"DejaVuSans-116\"/>\r\n      <path d=\"M 54.890625 33.015625 \r\nL 54.890625 0 \r\nL 45.90625 0 \r\nL 45.90625 32.71875 \r\nQ 45.90625 40.484375 42.875 44.328125 \r\nQ 39.84375 48.1875 33.796875 48.1875 \r\nQ 26.515625 48.1875 22.3125 43.546875 \r\nQ 18.109375 38.921875 18.109375 30.90625 \r\nL 18.109375 0 \r\nL 9.078125 0 \r\nL 9.078125 54.6875 \r\nL 18.109375 54.6875 \r\nL 18.109375 46.1875 \r\nQ 21.34375 51.125 25.703125 53.5625 \r\nQ 30.078125 56 35.796875 56 \r\nQ 45.21875 56 50.046875 50.171875 \r\nQ 54.890625 44.34375 54.890625 33.015625 \r\nz\r\n\" id=\"DejaVuSans-110\"/>\r\n      <path id=\"DejaVuSans-32\"/>\r\n      <path d=\"M 8.5 21.578125 \r\nL 8.5 54.6875 \r\nL 17.484375 54.6875 \r\nL 17.484375 21.921875 \r\nQ 17.484375 14.15625 20.5 10.265625 \r\nQ 23.53125 6.390625 29.59375 6.390625 \r\nQ 36.859375 6.390625 41.078125 11.03125 \r\nQ 45.3125 15.671875 45.3125 23.6875 \r\nL 45.3125 54.6875 \r\nL 54.296875 54.6875 \r\nL 54.296875 0 \r\nL 45.3125 0 \r\nL 45.3125 8.40625 \r\nQ 42.046875 3.421875 37.71875 1 \r\nQ 33.40625 -1.421875 27.6875 -1.421875 \r\nQ 18.265625 -1.421875 13.375 4.4375 \r\nQ 8.5 10.296875 8.5 21.578125 \r\nz\r\nM 31.109375 56 \r\nz\r\n\" id=\"DejaVuSans-117\"/>\r\n      <path d=\"M 41.109375 46.296875 \r\nQ 39.59375 47.171875 37.8125 47.578125 \r\nQ 36.03125 48 33.890625 48 \r\nQ 26.265625 48 22.1875 43.046875 \r\nQ 18.109375 38.09375 18.109375 28.8125 \r\nL 18.109375 0 \r\nL 9.078125 0 \r\nL 9.078125 54.6875 \r\nL 18.109375 54.6875 \r\nL 18.109375 46.1875 \r\nQ 20.953125 51.171875 25.484375 53.578125 \r\nQ 30.03125 56 36.53125 56 \r\nQ 37.453125 56 38.578125 55.875 \r\nQ 39.703125 55.765625 41.0625 55.515625 \r\nz\r\n\" id=\"DejaVuSans-114\"/>\r\n      <path d=\"M 32.171875 -5.078125 \r\nQ 28.375 -14.84375 24.75 -17.8125 \r\nQ 21.140625 -20.796875 15.09375 -20.796875 \r\nL 7.90625 -20.796875 \r\nL 7.90625 -13.28125 \r\nL 13.1875 -13.28125 \r\nQ 16.890625 -13.28125 18.9375 -11.515625 \r\nQ 21 -9.765625 23.484375 -3.21875 \r\nL 25.09375 0.875 \r\nL 2.984375 54.6875 \r\nL 12.5 54.6875 \r\nL 29.59375 11.921875 \r\nL 46.6875 54.6875 \r\nL 56.203125 54.6875 \r\nz\r\n\" id=\"DejaVuSans-121\"/>\r\n     </defs>\r\n     <g transform=\"translate(14.798438 180.259219)rotate(-90)scale(0.1 -0.1)\">\r\n      <use xlink:href=\"#DejaVuSans-86\"/>\r\n      <use x=\"68.298828\" xlink:href=\"#DejaVuSans-97\"/>\r\n      <use x=\"129.578125\" xlink:href=\"#DejaVuSans-108\"/>\r\n      <use x=\"157.361328\" xlink:href=\"#DejaVuSans-105\"/>\r\n      <use x=\"185.144531\" xlink:href=\"#DejaVuSans-100\"/>\r\n      <use x=\"248.621094\" xlink:href=\"#DejaVuSans-97\"/>\r\n      <use x=\"309.900391\" xlink:href=\"#DejaVuSans-116\"/>\r\n      <use x=\"349.109375\" xlink:href=\"#DejaVuSans-105\"/>\r\n      <use x=\"376.892578\" xlink:href=\"#DejaVuSans-111\"/>\r\n      <use x=\"438.074219\" xlink:href=\"#DejaVuSans-110\"/>\r\n      <use x=\"501.453125\" xlink:href=\"#DejaVuSans-32\"/>\r\n      <use x=\"533.240234\" xlink:href=\"#DejaVuSans-97\"/>\r\n      <use x=\"594.519531\" xlink:href=\"#DejaVuSans-99\"/>\r\n      <use x=\"649.5\" xlink:href=\"#DejaVuSans-99\"/>\r\n      <use x=\"704.480469\" xlink:href=\"#DejaVuSans-117\"/>\r\n      <use x=\"767.859375\" xlink:href=\"#DejaVuSans-114\"/>\r\n      <use x=\"808.972656\" xlink:href=\"#DejaVuSans-97\"/>\r\n      <use x=\"870.251953\" xlink:href=\"#DejaVuSans-99\"/>\r\n      <use x=\"925.232422\" xlink:href=\"#DejaVuSans-121\"/>\r\n     </g>\r\n    </g>\r\n   </g>\r\n   <g id=\"line2d_15\">\r\n    <path clip-path=\"url(#p6b8b1637dc)\" d=\"M 65.361932 122.173888 \r\nL 75.85723 94.251529 \r\nL 86.352527 83.61436 \r\nL 96.847825 69.874823 \r\nL 107.343123 70.761184 \r\nL 117.838421 53.475995 \r\nL 128.333719 52.589529 \r\nL 138.829016 50.816702 \r\nL 149.324314 58.351293 \r\nL 159.819612 43.725291 \r\nL 170.31491 45.498118 \r\nL 180.810208 42.395645 \r\nL 191.305505 48.15741 \r\nL 201.800803 48.60059 \r\nL 212.296101 54.362355 \r\nL 222.791399 40.179533 \r\nL 233.286697 47.71423 \r\nL 243.781995 45.941298 \r\nL 254.277292 51.703063 \r\nL 264.77259 53.032709 \r\nL 275.267888 39.736353 \r\nL 285.763186 49.043876 \r\nL 296.258484 43.282111 \r\nL 306.753781 45.054937 \r\nL 317.249079 51.259882 \r\nL 327.744377 51.259882 \r\nL 338.239675 47.270944 \r\nL 348.734973 57.464827 \r\nL 359.23027 54.805535 \r\nL 369.725568 57.464827 \r\n\" style=\"fill:none;stroke:#1f77b4;stroke-linecap:square;stroke-width:1.5;\"/>\r\n   </g>\r\n   <g id=\"line2d_16\">\r\n    <path clip-path=\"url(#p6b8b1637dc)\" d=\"M 65.361932 143.004835 \r\nL 75.85723 92.921883 \r\nL 86.352527 79.625421 \r\nL 96.847825 98.240362 \r\nL 107.343123 74.306942 \r\nL 117.838421 57.908113 \r\nL 128.333719 64.113058 \r\nL 138.829016 53.475995 \r\nL 149.324314 49.043876 \r\nL 159.819612 56.135181 \r\nL 170.31491 51.703063 \r\nL 180.810208 46.384584 \r\nL 191.305505 45.498118 \r\nL 201.800803 43.725291 \r\nL 212.296101 37.520346 \r\nL 222.791399 42.395645 \r\nL 233.286697 49.487056 \r\nL 243.781995 43.282111 \r\nL 254.277292 35.304234 \r\nL 264.77259 48.60059 \r\nL 275.267888 45.941298 \r\nL 285.763186 49.487056 \r\nL 296.258484 43.725291 \r\nL 306.753781 42.838825 \r\nL 317.249079 44.168471 \r\nL 327.744377 52.589529 \r\nL 338.239675 48.15741 \r\nL 348.734973 47.270944 \r\nL 359.23027 50.373416 \r\nL 369.725568 53.032709 \r\n\" style=\"fill:none;stroke:#ff7f0e;stroke-linecap:square;stroke-width:1.5;\"/>\r\n   </g>\r\n   <g id=\"line2d_17\">\r\n    <path clip-path=\"url(#p6b8b1637dc)\" d=\"M 65.361932 99.570008 \r\nL 75.85723 102.229301 \r\nL 86.352527 84.057645 \r\nL 96.847825 72.977296 \r\nL 107.343123 56.578467 \r\nL 117.838421 60.12412 \r\nL 128.333719 49.487056 \r\nL 138.829016 57.464827 \r\nL 149.324314 48.15741 \r\nL 159.819612 45.054937 \r\nL 170.31491 40.622819 \r\nL 180.810208 32.201761 \r\nL 191.305505 43.725291 \r\nL 201.800803 40.622819 \r\nL 212.296101 37.07706 \r\nL 222.791399 34.861054 \r\nL 233.286697 33.974588 \r\nL 243.781995 39.293172 \r\nL 254.277292 38.406706 \r\nL 264.77259 34.417768 \r\nL 275.267888 48.60059 \r\nL 285.763186 37.520346 \r\nL 296.258484 36.63388 \r\nL 306.753781 37.07706 \r\nL 317.249079 40.179533 \r\nL 327.744377 39.293172 \r\nL 338.239675 37.963526 \r\nL 348.734973 45.498118 \r\nL 359.23027 43.725291 \r\nL 369.725568 41.509179 \r\n\" style=\"fill:none;stroke:#2ca02c;stroke-linecap:square;stroke-width:1.5;\"/>\r\n   </g>\r\n   <g id=\"line2d_18\">\r\n    <path clip-path=\"url(#p6b8b1637dc)\" d=\"M 65.361932 145.220841 \r\nL 75.85723 103.115767 \r\nL 86.352527 91.148951 \r\nL 96.847825 78.739061 \r\nL 107.343123 74.750122 \r\nL 117.838421 69.431643 \r\nL 128.333719 65.885885 \r\nL 138.829016 65.442705 \r\nL 149.324314 66.772351 \r\nL 159.819612 57.464827 \r\nL 170.31491 50.816702 \r\nL 180.810208 53.032709 \r\nL 191.305505 41.952465 \r\nL 201.800803 41.509179 \r\nL 212.296101 42.395645 \r\nL 222.791399 42.838825 \r\nL 233.286697 33.974588 \r\nL 243.781995 37.07706 \r\nL 254.277292 32.644942 \r\nL 264.77259 43.282111 \r\nL 275.267888 34.861054 \r\nL 285.763186 37.520346 \r\nL 296.258484 42.395645 \r\nL 306.753781 37.520346 \r\nL 317.249079 37.07706 \r\nL 327.744377 37.963526 \r\nL 338.239675 40.622819 \r\nL 348.734973 43.725291 \r\nL 359.23027 47.71423 \r\nL 369.725568 46.827764 \r\n\" style=\"fill:none;stroke:#d62728;stroke-linecap:square;stroke-width:1.5;\"/>\r\n   </g>\r\n   <g id=\"line2d_19\">\r\n    <path clip-path=\"url(#p6b8b1637dc)\" d=\"M 65.361932 106.218239 \r\nL 75.85723 96.024355 \r\nL 86.352527 91.148951 \r\nL 96.847825 81.398353 \r\nL 107.343123 76.522949 \r\nL 117.838421 64.556239 \r\nL 128.333719 70.318003 \r\nL 138.829016 58.794474 \r\nL 149.324314 54.805535 \r\nL 159.819612 55.692001 \r\nL 170.31491 53.919175 \r\nL 180.810208 54.805535 \r\nL 191.305505 46.384584 \r\nL 201.800803 51.259882 \r\nL 212.296101 48.60059 \r\nL 222.791399 53.475995 \r\nL 233.286697 48.15741 \r\nL 243.781995 40.622819 \r\nL 254.277292 48.60059 \r\nL 264.77259 46.827764 \r\nL 275.267888 50.373416 \r\nL 285.763186 47.270944 \r\nL 296.258484 49.930236 \r\nL 306.753781 41.952465 \r\nL 317.249079 46.384584 \r\nL 327.744377 41.952465 \r\nL 338.239675 39.736353 \r\nL 348.734973 37.07706 \r\nL 359.23027 33.974588 \r\nL 369.725568 45.054937 \r\n\" style=\"fill:none;stroke:#9467bd;stroke-linecap:square;stroke-width:1.5;\"/>\r\n   </g>\r\n   <g id=\"line2d_20\">\r\n    <path clip-path=\"url(#p6b8b1637dc)\" d=\"M 65.361932 120.400956 \r\nL 75.85723 100.013188 \r\nL 86.352527 94.251529 \r\nL 96.847825 95.137889 \r\nL 107.343123 81.398353 \r\nL 117.838421 80.068707 \r\nL 128.333719 71.204469 \r\nL 138.829016 73.420476 \r\nL 149.324314 61.453766 \r\nL 159.819612 60.5673 \r\nL 170.31491 61.896946 \r\nL 180.810208 54.805535 \r\nL 191.305505 50.373416 \r\nL 201.800803 58.794474 \r\nL 212.296101 56.135181 \r\nL 222.791399 56.578467 \r\nL 233.286697 53.475995 \r\nL 243.781995 49.930236 \r\nL 254.277292 48.60059 \r\nL 264.77259 43.282111 \r\nL 275.267888 50.373416 \r\nL 285.763186 48.15741 \r\nL 296.258484 45.941298 \r\nL 306.753781 43.282111 \r\nL 317.249079 42.395645 \r\nL 327.744377 44.168471 \r\nL 338.239675 48.60059 \r\nL 348.734973 48.15741 \r\nL 359.23027 52.146348 \r\nL 369.725568 49.930236 \r\n\" style=\"fill:none;stroke:#8c564b;stroke-linecap:square;stroke-width:1.5;\"/>\r\n   </g>\r\n   <g id=\"line2d_21\">\r\n    <path clip-path=\"url(#p6b8b1637dc)\" d=\"M 65.361932 139.459182 \r\nL 75.85723 107.991065 \r\nL 86.352527 100.899654 \r\nL 96.847825 90.262591 \r\nL 107.343123 92.035417 \r\nL 117.838421 79.625421 \r\nL 128.333719 83.171179 \r\nL 138.829016 72.09083 \r\nL 149.324314 68.988357 \r\nL 159.819612 62.783412 \r\nL 170.31491 59.68094 \r\nL 180.810208 61.010586 \r\nL 191.305505 57.021647 \r\nL 201.800803 61.453766 \r\nL 212.296101 58.794474 \r\nL 222.791399 58.794474 \r\nL 233.286697 62.783412 \r\nL 243.781995 60.5673 \r\nL 254.277292 58.351293 \r\nL 264.77259 54.362355 \r\nL 275.267888 53.919175 \r\nL 285.763186 50.373416 \r\nL 296.258484 54.362355 \r\nL 306.753781 54.362355 \r\nL 317.249079 52.589529 \r\nL 327.744377 49.930236 \r\nL 338.239675 52.146348 \r\nL 348.734973 50.816702 \r\nL 359.23027 46.827764 \r\nL 369.725568 47.71423 \r\n\" style=\"fill:none;stroke:#e377c2;stroke-linecap:square;stroke-width:1.5;\"/>\r\n   </g>\r\n   <g id=\"line2d_22\">\r\n    <path clip-path=\"url(#p6b8b1637dc)\" d=\"M 65.361932 165.165429 \r\nL 75.85723 152.312253 \r\nL 86.352527 104.888593 \r\nL 96.847825 104.002127 \r\nL 107.343123 95.137889 \r\nL 117.838421 87.603298 \r\nL 128.333719 89.376125 \r\nL 138.829016 103.115767 \r\nL 149.324314 82.284713 \r\nL 159.819612 93.808243 \r\nL 170.31491 80.955067 \r\nL 180.810208 81.841533 \r\nL 191.305505 76.079768 \r\nL 201.800803 79.182241 \r\nL 212.296101 80.511887 \r\nL 222.791399 71.64765 \r\nL 233.286697 76.522949 \r\nL 243.781995 70.761184 \r\nL 254.277292 64.999419 \r\nL 264.77259 66.329065 \r\nL 275.267888 64.999419 \r\nL 285.763186 74.306942 \r\nL 296.258484 66.772351 \r\nL 306.753781 66.329065 \r\nL 317.249079 67.215531 \r\nL 327.744377 73.420476 \r\nL 338.239675 68.988357 \r\nL 348.734973 61.896946 \r\nL 359.23027 64.556239 \r\nL 369.725568 61.896946 \r\n\" style=\"fill:none;stroke:#7f7f7f;stroke-linecap:square;stroke-width:1.5;\"/>\r\n   </g>\r\n   <g id=\"line2d_23\">\r\n    <path clip-path=\"url(#p6b8b1637dc)\" d=\"M 65.361932 229.874489 \r\nL 75.85723 189.542134 \r\nL 86.352527 173.586486 \r\nL 96.847825 128.378833 \r\nL 107.343123 145.220841 \r\nL 117.838421 112.866364 \r\nL 128.333719 105.331773 \r\nL 138.829016 112.423184 \r\nL 149.324314 111.536718 \r\nL 159.819612 102.229301 \r\nL 170.31491 100.456474 \r\nL 180.810208 100.899654 \r\nL 191.305505 92.921883 \r\nL 201.800803 96.467536 \r\nL 212.296101 107.104599 \r\nL 222.791399 93.808243 \r\nL 233.286697 94.694709 \r\nL 243.781995 88.046478 \r\nL 254.277292 94.251529 \r\nL 264.77259 91.148951 \r\nL 275.267888 96.024355 \r\nL 285.763186 100.013188 \r\nL 296.258484 102.229301 \r\nL 306.753781 88.489764 \r\nL 317.249079 92.921883 \r\nL 327.744377 97.797182 \r\nL 338.239675 97.797182 \r\nL 348.734973 106.218239 \r\nL 359.23027 97.797182 \r\nL 369.725568 91.592237 \r\n\" style=\"fill:none;stroke:#bcbd22;stroke-linecap:square;stroke-width:1.5;\"/>\r\n   </g>\r\n   <g id=\"patch_3\">\r\n    <path d=\"M 50.14375 239.758125 \r\nL 50.14375 22.318125 \r\n\" style=\"fill:none;stroke:#000000;stroke-linecap:square;stroke-linejoin:miter;stroke-width:0.8;\"/>\r\n   </g>\r\n   <g id=\"patch_4\">\r\n    <path d=\"M 384.94375 239.758125 \r\nL 384.94375 22.318125 \r\n\" style=\"fill:none;stroke:#000000;stroke-linecap:square;stroke-linejoin:miter;stroke-width:0.8;\"/>\r\n   </g>\r\n   <g id=\"patch_5\">\r\n    <path d=\"M 50.14375 239.758125 \r\nL 384.94375 239.758125 \r\n\" style=\"fill:none;stroke:#000000;stroke-linecap:square;stroke-linejoin:miter;stroke-width:0.8;\"/>\r\n   </g>\r\n   <g id=\"patch_6\">\r\n    <path d=\"M 50.14375 22.318125 \r\nL 384.94375 22.318125 \r\n\" style=\"fill:none;stroke:#000000;stroke-linecap:square;stroke-linejoin:miter;stroke-width:0.8;\"/>\r\n   </g>\r\n   <g id=\"text_17\">\r\n    <!-- Tuning dropout and number of epochs -->\r\n    <defs>\r\n     <path d=\"M -0.296875 72.90625 \r\nL 61.375 72.90625 \r\nL 61.375 64.59375 \r\nL 35.5 64.59375 \r\nL 35.5 0 \r\nL 25.59375 0 \r\nL 25.59375 64.59375 \r\nL -0.296875 64.59375 \r\nz\r\n\" id=\"DejaVuSans-84\"/>\r\n     <path d=\"M 45.40625 27.984375 \r\nQ 45.40625 37.75 41.375 43.109375 \r\nQ 37.359375 48.484375 30.078125 48.484375 \r\nQ 22.859375 48.484375 18.828125 43.109375 \r\nQ 14.796875 37.75 14.796875 27.984375 \r\nQ 14.796875 18.265625 18.828125 12.890625 \r\nQ 22.859375 7.515625 30.078125 7.515625 \r\nQ 37.359375 7.515625 41.375 12.890625 \r\nQ 45.40625 18.265625 45.40625 27.984375 \r\nz\r\nM 54.390625 6.78125 \r\nQ 54.390625 -7.171875 48.1875 -13.984375 \r\nQ 42 -20.796875 29.203125 -20.796875 \r\nQ 24.46875 -20.796875 20.265625 -20.09375 \r\nQ 16.0625 -19.390625 12.109375 -17.921875 \r\nL 12.109375 -9.1875 \r\nQ 16.0625 -11.328125 19.921875 -12.34375 \r\nQ 23.78125 -13.375 27.78125 -13.375 \r\nQ 36.625 -13.375 41.015625 -8.765625 \r\nQ 45.40625 -4.15625 45.40625 5.171875 \r\nL 45.40625 9.625 \r\nQ 42.625 4.78125 38.28125 2.390625 \r\nQ 33.9375 0 27.875 0 \r\nQ 17.828125 0 11.671875 7.65625 \r\nQ 5.515625 15.328125 5.515625 27.984375 \r\nQ 5.515625 40.671875 11.671875 48.328125 \r\nQ 17.828125 56 27.875 56 \r\nQ 33.9375 56 38.28125 53.609375 \r\nQ 42.625 51.21875 45.40625 46.390625 \r\nL 45.40625 54.6875 \r\nL 54.390625 54.6875 \r\nz\r\n\" id=\"DejaVuSans-103\"/>\r\n     <path d=\"M 52 44.1875 \r\nQ 55.375 50.25 60.0625 53.125 \r\nQ 64.75 56 71.09375 56 \r\nQ 79.640625 56 84.28125 50.015625 \r\nQ 88.921875 44.046875 88.921875 33.015625 \r\nL 88.921875 0 \r\nL 79.890625 0 \r\nL 79.890625 32.71875 \r\nQ 79.890625 40.578125 77.09375 44.375 \r\nQ 74.3125 48.1875 68.609375 48.1875 \r\nQ 61.625 48.1875 57.5625 43.546875 \r\nQ 53.515625 38.921875 53.515625 30.90625 \r\nL 53.515625 0 \r\nL 44.484375 0 \r\nL 44.484375 32.71875 \r\nQ 44.484375 40.625 41.703125 44.40625 \r\nQ 38.921875 48.1875 33.109375 48.1875 \r\nQ 26.21875 48.1875 22.15625 43.53125 \r\nQ 18.109375 38.875 18.109375 30.90625 \r\nL 18.109375 0 \r\nL 9.078125 0 \r\nL 9.078125 54.6875 \r\nL 18.109375 54.6875 \r\nL 18.109375 46.1875 \r\nQ 21.1875 51.21875 25.484375 53.609375 \r\nQ 29.78125 56 35.6875 56 \r\nQ 41.65625 56 45.828125 52.96875 \r\nQ 50 49.953125 52 44.1875 \r\nz\r\n\" id=\"DejaVuSans-109\"/>\r\n     <path d=\"M 48.6875 27.296875 \r\nQ 48.6875 37.203125 44.609375 42.84375 \r\nQ 40.53125 48.484375 33.40625 48.484375 \r\nQ 26.265625 48.484375 22.1875 42.84375 \r\nQ 18.109375 37.203125 18.109375 27.296875 \r\nQ 18.109375 17.390625 22.1875 11.75 \r\nQ 26.265625 6.109375 33.40625 6.109375 \r\nQ 40.53125 6.109375 44.609375 11.75 \r\nQ 48.6875 17.390625 48.6875 27.296875 \r\nz\r\nM 18.109375 46.390625 \r\nQ 20.953125 51.265625 25.265625 53.625 \r\nQ 29.59375 56 35.59375 56 \r\nQ 45.5625 56 51.78125 48.09375 \r\nQ 58.015625 40.1875 58.015625 27.296875 \r\nQ 58.015625 14.40625 51.78125 6.484375 \r\nQ 45.5625 -1.421875 35.59375 -1.421875 \r\nQ 29.59375 -1.421875 25.265625 0.953125 \r\nQ 20.953125 3.328125 18.109375 8.203125 \r\nL 18.109375 0 \r\nL 9.078125 0 \r\nL 9.078125 75.984375 \r\nL 18.109375 75.984375 \r\nz\r\n\" id=\"DejaVuSans-98\"/>\r\n     <path d=\"M 56.203125 29.59375 \r\nL 56.203125 25.203125 \r\nL 14.890625 25.203125 \r\nQ 15.484375 15.921875 20.484375 11.0625 \r\nQ 25.484375 6.203125 34.421875 6.203125 \r\nQ 39.59375 6.203125 44.453125 7.46875 \r\nQ 49.3125 8.734375 54.109375 11.28125 \r\nL 54.109375 2.78125 \r\nQ 49.265625 0.734375 44.1875 -0.34375 \r\nQ 39.109375 -1.421875 33.890625 -1.421875 \r\nQ 20.796875 -1.421875 13.15625 6.1875 \r\nQ 5.515625 13.8125 5.515625 26.8125 \r\nQ 5.515625 40.234375 12.765625 48.109375 \r\nQ 20.015625 56 32.328125 56 \r\nQ 43.359375 56 49.78125 48.890625 \r\nQ 56.203125 41.796875 56.203125 29.59375 \r\nz\r\nM 47.21875 32.234375 \r\nQ 47.125 39.59375 43.09375 43.984375 \r\nQ 39.0625 48.390625 32.421875 48.390625 \r\nQ 24.90625 48.390625 20.390625 44.140625 \r\nQ 15.875 39.890625 15.1875 32.171875 \r\nz\r\n\" id=\"DejaVuSans-101\"/>\r\n     <path d=\"M 37.109375 75.984375 \r\nL 37.109375 68.5 \r\nL 28.515625 68.5 \r\nQ 23.6875 68.5 21.796875 66.546875 \r\nQ 19.921875 64.59375 19.921875 59.515625 \r\nL 19.921875 54.6875 \r\nL 34.71875 54.6875 \r\nL 34.71875 47.703125 \r\nL 19.921875 47.703125 \r\nL 19.921875 0 \r\nL 10.890625 0 \r\nL 10.890625 47.703125 \r\nL 2.296875 47.703125 \r\nL 2.296875 54.6875 \r\nL 10.890625 54.6875 \r\nL 10.890625 58.5 \r\nQ 10.890625 67.625 15.140625 71.796875 \r\nQ 19.390625 75.984375 28.609375 75.984375 \r\nz\r\n\" id=\"DejaVuSans-102\"/>\r\n    </defs>\r\n    <g transform=\"translate(102.007188 16.318125)scale(0.12 -0.12)\">\r\n     <use xlink:href=\"#DejaVuSans-84\"/>\r\n     <use x=\"60.849609\" xlink:href=\"#DejaVuSans-117\"/>\r\n     <use x=\"124.228516\" xlink:href=\"#DejaVuSans-110\"/>\r\n     <use x=\"187.607422\" xlink:href=\"#DejaVuSans-105\"/>\r\n     <use x=\"215.390625\" xlink:href=\"#DejaVuSans-110\"/>\r\n     <use x=\"278.769531\" xlink:href=\"#DejaVuSans-103\"/>\r\n     <use x=\"342.246094\" xlink:href=\"#DejaVuSans-32\"/>\r\n     <use x=\"374.033203\" xlink:href=\"#DejaVuSans-100\"/>\r\n     <use x=\"437.509766\" xlink:href=\"#DejaVuSans-114\"/>\r\n     <use x=\"478.591797\" xlink:href=\"#DejaVuSans-111\"/>\r\n     <use x=\"539.773438\" xlink:href=\"#DejaVuSans-112\"/>\r\n     <use x=\"603.25\" xlink:href=\"#DejaVuSans-111\"/>\r\n     <use x=\"664.431641\" xlink:href=\"#DejaVuSans-117\"/>\r\n     <use x=\"727.810547\" xlink:href=\"#DejaVuSans-116\"/>\r\n     <use x=\"767.019531\" xlink:href=\"#DejaVuSans-32\"/>\r\n     <use x=\"798.806641\" xlink:href=\"#DejaVuSans-97\"/>\r\n     <use x=\"860.085938\" xlink:href=\"#DejaVuSans-110\"/>\r\n     <use x=\"923.464844\" xlink:href=\"#DejaVuSans-100\"/>\r\n     <use x=\"986.941406\" xlink:href=\"#DejaVuSans-32\"/>\r\n     <use x=\"1018.728516\" xlink:href=\"#DejaVuSans-110\"/>\r\n     <use x=\"1082.107422\" xlink:href=\"#DejaVuSans-117\"/>\r\n     <use x=\"1145.486328\" xlink:href=\"#DejaVuSans-109\"/>\r\n     <use x=\"1242.898438\" xlink:href=\"#DejaVuSans-98\"/>\r\n     <use x=\"1306.375\" xlink:href=\"#DejaVuSans-101\"/>\r\n     <use x=\"1367.898438\" xlink:href=\"#DejaVuSans-114\"/>\r\n     <use x=\"1409.011719\" xlink:href=\"#DejaVuSans-32\"/>\r\n     <use x=\"1440.798828\" xlink:href=\"#DejaVuSans-111\"/>\r\n     <use x=\"1501.980469\" xlink:href=\"#DejaVuSans-102\"/>\r\n     <use x=\"1537.185547\" xlink:href=\"#DejaVuSans-32\"/>\r\n     <use x=\"1568.972656\" xlink:href=\"#DejaVuSans-101\"/>\r\n     <use x=\"1630.496094\" xlink:href=\"#DejaVuSans-112\"/>\r\n     <use x=\"1693.972656\" xlink:href=\"#DejaVuSans-111\"/>\r\n     <use x=\"1755.154297\" xlink:href=\"#DejaVuSans-99\"/>\r\n     <use x=\"1810.134766\" xlink:href=\"#DejaVuSans-104\"/>\r\n     <use x=\"1873.513672\" xlink:href=\"#DejaVuSans-115\"/>\r\n    </g>\r\n   </g>\r\n   <g id=\"legend_1\">\r\n    <g id=\"patch_7\">\r\n     <path d=\"M 330.040625 234.758125 \r\nL 377.94375 234.758125 \r\nQ 379.94375 234.758125 379.94375 232.758125 \r\nL 379.94375 101.655 \r\nQ 379.94375 99.655 377.94375 99.655 \r\nL 330.040625 99.655 \r\nQ 328.040625 99.655 328.040625 101.655 \r\nL 328.040625 232.758125 \r\nQ 328.040625 234.758125 330.040625 234.758125 \r\nz\r\n\" style=\"fill:#ffffff;opacity:0.8;stroke:#cccccc;stroke-linejoin:miter;\"/>\r\n    </g>\r\n    <g id=\"line2d_24\">\r\n     <path d=\"M 332.040625 107.753438 \r\nL 352.040625 107.753438 \r\n\" style=\"fill:none;stroke:#1f77b4;stroke-linecap:square;stroke-width:1.5;\"/>\r\n    </g>\r\n    <g id=\"line2d_25\"/>\r\n    <g id=\"text_18\">\r\n     <!-- 0.1 -->\r\n     <g transform=\"translate(360.040625 111.253438)scale(0.1 -0.1)\">\r\n      <use xlink:href=\"#DejaVuSans-48\"/>\r\n      <use x=\"63.623047\" xlink:href=\"#DejaVuSans-46\"/>\r\n      <use x=\"95.410156\" xlink:href=\"#DejaVuSans-49\"/>\r\n     </g>\r\n    </g>\r\n    <g id=\"line2d_26\">\r\n     <path d=\"M 332.040625 122.431563 \r\nL 352.040625 122.431563 \r\n\" style=\"fill:none;stroke:#ff7f0e;stroke-linecap:square;stroke-width:1.5;\"/>\r\n    </g>\r\n    <g id=\"line2d_27\"/>\r\n    <g id=\"text_19\">\r\n     <!-- 0.2 -->\r\n     <g transform=\"translate(360.040625 125.931563)scale(0.1 -0.1)\">\r\n      <use xlink:href=\"#DejaVuSans-48\"/>\r\n      <use x=\"63.623047\" xlink:href=\"#DejaVuSans-46\"/>\r\n      <use x=\"95.410156\" xlink:href=\"#DejaVuSans-50\"/>\r\n     </g>\r\n    </g>\r\n    <g id=\"line2d_28\">\r\n     <path d=\"M 332.040625 137.109688 \r\nL 352.040625 137.109688 \r\n\" style=\"fill:none;stroke:#2ca02c;stroke-linecap:square;stroke-width:1.5;\"/>\r\n    </g>\r\n    <g id=\"line2d_29\"/>\r\n    <g id=\"text_20\">\r\n     <!-- 0.3 -->\r\n     <g transform=\"translate(360.040625 140.609688)scale(0.1 -0.1)\">\r\n      <use xlink:href=\"#DejaVuSans-48\"/>\r\n      <use x=\"63.623047\" xlink:href=\"#DejaVuSans-46\"/>\r\n      <use x=\"95.410156\" xlink:href=\"#DejaVuSans-51\"/>\r\n     </g>\r\n    </g>\r\n    <g id=\"line2d_30\">\r\n     <path d=\"M 332.040625 151.787813 \r\nL 352.040625 151.787813 \r\n\" style=\"fill:none;stroke:#d62728;stroke-linecap:square;stroke-width:1.5;\"/>\r\n    </g>\r\n    <g id=\"line2d_31\"/>\r\n    <g id=\"text_21\">\r\n     <!-- 0.4 -->\r\n     <g transform=\"translate(360.040625 155.287813)scale(0.1 -0.1)\">\r\n      <use xlink:href=\"#DejaVuSans-48\"/>\r\n      <use x=\"63.623047\" xlink:href=\"#DejaVuSans-46\"/>\r\n      <use x=\"95.410156\" xlink:href=\"#DejaVuSans-52\"/>\r\n     </g>\r\n    </g>\r\n    <g id=\"line2d_32\">\r\n     <path d=\"M 332.040625 166.465938 \r\nL 352.040625 166.465938 \r\n\" style=\"fill:none;stroke:#9467bd;stroke-linecap:square;stroke-width:1.5;\"/>\r\n    </g>\r\n    <g id=\"line2d_33\"/>\r\n    <g id=\"text_22\">\r\n     <!-- 0.5 -->\r\n     <g transform=\"translate(360.040625 169.965938)scale(0.1 -0.1)\">\r\n      <use xlink:href=\"#DejaVuSans-48\"/>\r\n      <use x=\"63.623047\" xlink:href=\"#DejaVuSans-46\"/>\r\n      <use x=\"95.410156\" xlink:href=\"#DejaVuSans-53\"/>\r\n     </g>\r\n    </g>\r\n    <g id=\"line2d_34\">\r\n     <path d=\"M 332.040625 181.144063 \r\nL 352.040625 181.144063 \r\n\" style=\"fill:none;stroke:#8c564b;stroke-linecap:square;stroke-width:1.5;\"/>\r\n    </g>\r\n    <g id=\"line2d_35\"/>\r\n    <g id=\"text_23\">\r\n     <!-- 0.6 -->\r\n     <g transform=\"translate(360.040625 184.644063)scale(0.1 -0.1)\">\r\n      <use xlink:href=\"#DejaVuSans-48\"/>\r\n      <use x=\"63.623047\" xlink:href=\"#DejaVuSans-46\"/>\r\n      <use x=\"95.410156\" xlink:href=\"#DejaVuSans-54\"/>\r\n     </g>\r\n    </g>\r\n    <g id=\"line2d_36\">\r\n     <path d=\"M 332.040625 195.822188 \r\nL 352.040625 195.822188 \r\n\" style=\"fill:none;stroke:#e377c2;stroke-linecap:square;stroke-width:1.5;\"/>\r\n    </g>\r\n    <g id=\"line2d_37\"/>\r\n    <g id=\"text_24\">\r\n     <!-- 0.7 -->\r\n     <defs>\r\n      <path d=\"M 8.203125 72.90625 \r\nL 55.078125 72.90625 \r\nL 55.078125 68.703125 \r\nL 28.609375 0 \r\nL 18.3125 0 \r\nL 43.21875 64.59375 \r\nL 8.203125 64.59375 \r\nz\r\n\" id=\"DejaVuSans-55\"/>\r\n     </defs>\r\n     <g transform=\"translate(360.040625 199.322188)scale(0.1 -0.1)\">\r\n      <use xlink:href=\"#DejaVuSans-48\"/>\r\n      <use x=\"63.623047\" xlink:href=\"#DejaVuSans-46\"/>\r\n      <use x=\"95.410156\" xlink:href=\"#DejaVuSans-55\"/>\r\n     </g>\r\n    </g>\r\n    <g id=\"line2d_38\">\r\n     <path d=\"M 332.040625 210.500313 \r\nL 352.040625 210.500313 \r\n\" style=\"fill:none;stroke:#7f7f7f;stroke-linecap:square;stroke-width:1.5;\"/>\r\n    </g>\r\n    <g id=\"line2d_39\"/>\r\n    <g id=\"text_25\">\r\n     <!-- 0.8 -->\r\n     <g transform=\"translate(360.040625 214.000313)scale(0.1 -0.1)\">\r\n      <use xlink:href=\"#DejaVuSans-48\"/>\r\n      <use x=\"63.623047\" xlink:href=\"#DejaVuSans-46\"/>\r\n      <use x=\"95.410156\" xlink:href=\"#DejaVuSans-56\"/>\r\n     </g>\r\n    </g>\r\n    <g id=\"line2d_40\">\r\n     <path d=\"M 332.040625 225.178438 \r\nL 352.040625 225.178438 \r\n\" style=\"fill:none;stroke:#bcbd22;stroke-linecap:square;stroke-width:1.5;\"/>\r\n    </g>\r\n    <g id=\"line2d_41\"/>\r\n    <g id=\"text_26\">\r\n     <!-- 0.9 -->\r\n     <g transform=\"translate(360.040625 228.678438)scale(0.1 -0.1)\">\r\n      <use xlink:href=\"#DejaVuSans-48\"/>\r\n      <use x=\"63.623047\" xlink:href=\"#DejaVuSans-46\"/>\r\n      <use x=\"95.410156\" xlink:href=\"#DejaVuSans-57\"/>\r\n     </g>\r\n    </g>\r\n   </g>\r\n  </g>\r\n </g>\r\n <defs>\r\n  <clipPath id=\"p6b8b1637dc\">\r\n   <rect height=\"217.44\" width=\"334.8\" x=\"50.14375\" y=\"22.318125\"/>\r\n  </clipPath>\r\n </defs>\r\n</svg>\r\n",
      "text/plain": "<Figure size 432x288 with 1 Axes>"
     },
     "metadata": {
      "needs_background": "light"
     },
     "output_type": "display_data"
    }
   ],
   "source": [
    "for i in range(0, len(dropouts)):\n",
    "    plt.plot(range(1, 31),\n",
    "             validation_accuracies[i],\n",
    "             \"C\"+str(i), # \"C0\" is the first color in the palette, C1 the second etc\n",
    "             label = str(dropouts[i]))\n",
    "\n",
    "plt.xlabel(\"Epochs\")\n",
    "plt.ylabel('Validation accuracy')\n",
    "plt.legend()\n",
    "plt.title(\"Tuning dropout and number of epochs\")\n",
    "plt.show()"
   ]
  },
  {
   "cell_type": "markdown",
   "metadata": {},
   "source": [
    "Cool. But *which* one is the best value?"
   ]
  },
  {
   "cell_type": "code",
   "execution_count": 163,
   "metadata": {},
   "outputs": [
    {
     "name": "stdout",
     "output_type": "stream",
     "text": "[0.9102500081062317, 0.9127500057220459, 0.9144999980926514, 0.9142500162124634, 0.9135000109672546, 0.9087499976158142, 0.90625, 0.8977500200271606, 0.8830000162124634]\n"
    }
   ],
   "source": [
    "# the following is the list of highest accuracy scores across epochs, for each dropout value\n",
    "best_scores = list(map(max, validation_accuracies))\n",
    "print(best_scores)"
   ]
  },
  {
   "cell_type": "code",
   "execution_count": 164,
   "metadata": {},
   "outputs": [
    {
     "name": "stdout",
     "output_type": "stream",
     "text": "0.3\n"
    }
   ],
   "source": [
    "# which dropout value had the best overall scores?\n",
    "index = best_scores.index(max(best_scores))\n",
    "print(dropouts[index])"
   ]
  },
  {
   "cell_type": "code",
   "execution_count": 167,
   "metadata": {},
   "outputs": [
    {
     "data": {
      "text/plain": "12"
     },
     "execution_count": 167,
     "metadata": {},
     "output_type": "execute_result"
    }
   ],
   "source": [
    "# in which epoch?\n",
    "validation_accuracies[index].index(max(best_scores)) + 1"
   ]
  },
  {
   "cell_type": "markdown",
   "metadata": {},
   "source": [
    "What are the performance of this model on the test set?"
   ]
  },
  {
   "cell_type": "code",
   "execution_count": 183,
   "metadata": {},
   "outputs": [],
   "source": [
    "# model\n",
    "model = Sequential() # initialize\n",
    "model.add(Dense(64, activation = \"relu\", input_dim = onehot_train.shape[1])) # dense layer with ReLU activation\n",
    "model.add(Dropout(0.3)) # droput\n",
    "model.add(Dense(1, activation = 'sigmoid')) # binary classification\n",
    "\n",
    "model.compile(loss = 'binary_crossentropy',\n",
    "              optimizer = 'adam',\n",
    "              metrics = ['accuracy'])"
   ]
  },
  {
   "cell_type": "code",
   "execution_count": 184,
   "metadata": {},
   "outputs": [
    {
     "name": "stdout",
     "output_type": "stream",
     "text": "Train on 16000 samples, validate on 4000 samples\nEpoch 1/30\n16000/16000 [==============================] - 2s 148us/step - loss: 0.3442 - accuracy: 0.8436 - val_loss: 0.2922 - val_accuracy: 0.8740\nEpoch 2/30\n16000/16000 [==============================] - 1s 87us/step - loss: 0.2698 - accuracy: 0.8771 - val_loss: 0.2806 - val_accuracy: 0.8750\nEpoch 3/30\n16000/16000 [==============================] - 1s 86us/step - loss: 0.2492 - accuracy: 0.8882 - val_loss: 0.2683 - val_accuracy: 0.8827\nEpoch 4/30\n16000/16000 [==============================] - 2s 150us/step - loss: 0.2349 - accuracy: 0.8960 - val_loss: 0.2665 - val_accuracy: 0.8827\nEpoch 5/30\n16000/16000 [==============================] - 2s 116us/step - loss: 0.2229 - accuracy: 0.9031 - val_loss: 0.2520 - val_accuracy: 0.8942\nEpoch 6/30\n16000/16000 [==============================] - 1s 86us/step - loss: 0.2125 - accuracy: 0.9079 - val_loss: 0.2456 - val_accuracy: 0.8960\nEpoch 7/30\n16000/16000 [==============================] - 1s 94us/step - loss: 0.2025 - accuracy: 0.9144 - val_loss: 0.2411 - val_accuracy: 0.9005\nEpoch 8/30\n16000/16000 [==============================] - 2s 98us/step - loss: 0.1922 - accuracy: 0.9179 - val_loss: 0.2361 - val_accuracy: 0.9030\nEpoch 9/30\n16000/16000 [==============================] - 2s 102us/step - loss: 0.1830 - accuracy: 0.9233 - val_loss: 0.2436 - val_accuracy: 0.9000\nEpoch 10/30\n16000/16000 [==============================] - 2s 108us/step - loss: 0.1756 - accuracy: 0.9259 - val_loss: 0.2426 - val_accuracy: 0.9032\nEpoch 11/30\n16000/16000 [==============================] - 2s 112us/step - loss: 0.1662 - accuracy: 0.9300 - val_loss: 0.2391 - val_accuracy: 0.9032\nEpoch 12/30\n16000/16000 [==============================] - 2s 101us/step - loss: 0.1617 - accuracy: 0.9321 - val_loss: 0.2297 - val_accuracy: 0.9090\nEpoch 13/30\n16000/16000 [==============================] - 1s 87us/step - loss: 0.1542 - accuracy: 0.9363 - val_loss: 0.2290 - val_accuracy: 0.9125\nEpoch 14/30\n16000/16000 [==============================] - 1s 84us/step - loss: 0.1465 - accuracy: 0.9394 - val_loss: 0.2316 - val_accuracy: 0.9087\nEpoch 15/30\n16000/16000 [==============================] - 1s 77us/step - loss: 0.1426 - accuracy: 0.9405 - val_loss: 0.2470 - val_accuracy: 0.9062\nEpoch 16/30\n16000/16000 [==============================] - 1s 77us/step - loss: 0.1374 - accuracy: 0.9427 - val_loss: 0.2362 - val_accuracy: 0.9125\nEpoch 17/30\n16000/16000 [==============================] - 1s 78us/step - loss: 0.1354 - accuracy: 0.9433 - val_loss: 0.2365 - val_accuracy: 0.9093\nEpoch 18/30\n16000/16000 [==============================] - 1s 78us/step - loss: 0.1284 - accuracy: 0.9461 - val_loss: 0.2301 - val_accuracy: 0.9103\nEpoch 19/30\n16000/16000 [==============================] - 1s 77us/step - loss: 0.1238 - accuracy: 0.9499 - val_loss: 0.2355 - val_accuracy: 0.9118\nEpoch 20/30\n16000/16000 [==============================] - 1s 80us/step - loss: 0.1224 - accuracy: 0.9494 - val_loss: 0.2334 - val_accuracy: 0.9112\nEpoch 21/30\n16000/16000 [==============================] - 1s 77us/step - loss: 0.1176 - accuracy: 0.9513 - val_loss: 0.2433 - val_accuracy: 0.9085\nEpoch 22/30\n16000/16000 [==============================] - 1s 79us/step - loss: 0.1133 - accuracy: 0.9529 - val_loss: 0.2487 - val_accuracy: 0.9080\nEpoch 23/30\n16000/16000 [==============================] - 1s 79us/step - loss: 0.1106 - accuracy: 0.9530 - val_loss: 0.2453 - val_accuracy: 0.9097\nEpoch 24/30\n16000/16000 [==============================] - 1s 77us/step - loss: 0.1092 - accuracy: 0.9550 - val_loss: 0.2515 - val_accuracy: 0.9103\nEpoch 25/30\n16000/16000 [==============================] - 1s 85us/step - loss: 0.1055 - accuracy: 0.9561 - val_loss: 0.2501 - val_accuracy: 0.9137\nEpoch 26/30\n16000/16000 [==============================] - 1s 77us/step - loss: 0.1014 - accuracy: 0.9588 - val_loss: 0.2528 - val_accuracy: 0.9118\nEpoch 27/30\n16000/16000 [==============================] - 1s 85us/step - loss: 0.1015 - accuracy: 0.9573 - val_loss: 0.2519 - val_accuracy: 0.9057\nEpoch 28/30\n16000/16000 [==============================] - 1s 80us/step - loss: 0.0980 - accuracy: 0.9603 - val_loss: 0.2523 - val_accuracy: 0.9100\nEpoch 29/30\n16000/16000 [==============================] - 1s 77us/step - loss: 0.0961 - accuracy: 0.9607 - val_loss: 0.2535 - val_accuracy: 0.9107\nEpoch 30/30\n16000/16000 [==============================] - 1s 88us/step - loss: 0.0937 - accuracy: 0.9609 - val_loss: 0.2695 - val_accuracy: 0.9075\n"
    }
   ],
   "source": [
    "# training\n",
    "history = model.fit(onehot_train,\n",
    "                    train_y,\n",
    "                    epochs = 30,\n",
    "                    batch_size = 32,\n",
    "                    validation_split = 0.2,\n",
    "                    verbose = 1)"
   ]
  },
  {
   "cell_type": "code",
   "execution_count": 185,
   "metadata": {},
   "outputs": [
    {
     "name": "stdout",
     "output_type": "stream",
     "text": "Accuracy=0.9119036732205457\nPrecision=0.8735550724949216, Recall=0.831825159208589, F1-Score=0.8503914648140878\n"
    }
   ],
   "source": [
    "# predictions of the model on test data\n",
    "from sklearn.metrics import accuracy_score, precision_recall_fscore_support\n",
    "pred = np.around(model.predict(onehot_test))\n",
    "print(\"Accuracy={}\".format(accuracy_score(test_y, pred)))\n",
    "pr, re, f1, su = precision_recall_fscore_support(test_y, pred, average='macro')\n",
    "print(\"Precision={}, Recall={}, F1-Score={}\".format(pr, re, f1))"
   ]
  },
  {
   "cell_type": "markdown",
   "metadata": {},
   "source": [
    "### Exercise 3\n",
    "What happens if the zeros used for padding are appended to the sequences instead of prepended?"
   ]
  },
  {
   "cell_type": "code",
   "execution_count": 195,
   "metadata": {},
   "outputs": [],
   "source": [
    "# reset train_x and test_x to original definition\n",
    "train_x = df_train.apply(lambda row: word_encoder(row.word, alphabet), axis = 1)\n",
    "test_x = df_test.apply(lambda row: word_encoder(row.word, alphabet), axis = 1)"
   ]
  },
  {
   "cell_type": "code",
   "execution_count": 196,
   "metadata": {},
   "outputs": [],
   "source": [
    "# padding\n",
    "train_x = pad_sequences(train_x, padding = \"post\") # default is \"pre\"\n",
    "test_x = pad_sequences(test_x, maxlen = train_x.shape[1], padding = \"post\")"
   ]
  },
  {
   "cell_type": "code",
   "execution_count": 197,
   "metadata": {},
   "outputs": [],
   "source": [
    "# encoding\n",
    "train_x_cat = to_categorical(train_x)\n",
    "test_x_cat = to_categorical(test_x)\n",
    "\n",
    "# flatten\n",
    "onehot_train = train_x_cat.reshape(train_x_cat.shape[0], train_x_cat.shape[1]*train_x_cat.shape[2])\n",
    "onehot_test = test_x_cat.reshape(test_x_cat.shape[0], test_x_cat.shape[1]*test_x_cat.shape[2])"
   ]
  },
  {
   "cell_type": "code",
   "execution_count": 198,
   "metadata": {},
   "outputs": [
    {
     "name": "stdout",
     "output_type": "stream",
     "text": "(20000, 961)\n(6561, 961)\n"
    }
   ],
   "source": [
    "# check\n",
    "print(onehot_train.shape)\n",
    "print(onehot_test.shape)"
   ]
  },
  {
   "cell_type": "code",
   "execution_count": 199,
   "metadata": {},
   "outputs": [
    {
     "name": "stdout",
     "output_type": "stream",
     "text": "Training with dropout=0.1...\nTraining with dropout=0.2...\nTraining with dropout=0.3...\nTraining with dropout=0.4...\nTraining with dropout=0.5...\nTraining with dropout=0.6...\nTraining with dropout=0.7...\nTraining with dropout=0.8...\nTraining with dropout=0.9...\nDone!\n"
    }
   ],
   "source": [
    "# tuning\n",
    "validation_accuracies = []\n",
    "for dropout_value in dropouts:\n",
    "    print(\"Training with dropout={}...\".format(dropout_value))\n",
    "    # model\n",
    "    model = Sequential() # initialize\n",
    "    model.add(Dense(64, activation = \"relu\", input_dim = onehot_train.shape[1])) # dense layer with ReLU activation\n",
    "    model.add(Dropout(dropout_value)) # droput\n",
    "    model.add(Dense(1, activation = 'sigmoid')) # binary classification\n",
    "\n",
    "    model.compile(loss = 'binary_crossentropy',\n",
    "                  optimizer = 'adam',\n",
    "                  metrics = ['accuracy'])\n",
    "    history = model.fit(onehot_train,\n",
    "              train_y,\n",
    "              epochs = 30,\n",
    "              batch_size = 32,\n",
    "              validation_split = 0.2,\n",
    "              verbose = 0)\n",
    "    validation_accuracies.append(history.history[\"val_accuracy\"])\n",
    "print(\"Done!\")"
   ]
  },
  {
   "cell_type": "code",
   "execution_count": 200,
   "metadata": {},
   "outputs": [
    {
     "data": {
      "image/png": "[encoded data removed]",
      "image/svg+xml": "<?xml version=\"1.0\" encoding=\"utf-8\" standalone=\"no\"?>\r\n<!DOCTYPE svg PUBLIC \"-//W3C//DTD SVG 1.1//EN\"\r\n  \"http://www.w3.org/Graphics/SVG/1.1/DTD/svg11.dtd\">\r\n<!-- Created with matplotlib (https://matplotlib.org/) -->\r\n<svg height=\"277.314375pt\" version=\"1.1\" viewBox=\"0 0 392.14375 277.314375\" width=\"392.14375pt\" xmlns=\"http://www.w3.org/2000/svg\" xmlns:xlink=\"http://www.w3.org/1999/xlink\">\r\n <defs>\r\n  <style type=\"text/css\">\r\n*{stroke-linecap:butt;stroke-linejoin:round;}\r\n  </style>\r\n </defs>\r\n <g id=\"figure_1\">\r\n  <g id=\"patch_1\">\r\n   <path d=\"M 0 277.314375 \r\nL 392.14375 277.314375 \r\nL 392.14375 0 \r\nL 0 0 \r\nz\r\n\" style=\"fill:none;\"/>\r\n  </g>\r\n  <g id=\"axes_1\">\r\n   <g id=\"patch_2\">\r\n    <path d=\"M 50.14375 239.758125 \r\nL 384.94375 239.758125 \r\nL 384.94375 22.318125 \r\nL 50.14375 22.318125 \r\nz\r\n\" style=\"fill:#ffffff;\"/>\r\n   </g>\r\n   <g id=\"matplotlib.axis_1\">\r\n    <g id=\"xtick_1\">\r\n     <g id=\"line2d_1\">\r\n      <defs>\r\n       <path d=\"M 0 0 \r\nL 0 3.5 \r\n\" id=\"m871c56e0fd\" style=\"stroke:#000000;stroke-width:0.8;\"/>\r\n      </defs>\r\n      <g>\r\n       <use style=\"stroke:#000000;stroke-width:0.8;\" x=\"54.866634\" xlink:href=\"#m871c56e0fd\" y=\"239.758125\"/>\r\n      </g>\r\n     </g>\r\n     <g id=\"text_1\">\r\n      <!-- 0 -->\r\n      <defs>\r\n       <path d=\"M 31.78125 66.40625 \r\nQ 24.171875 66.40625 20.328125 58.90625 \r\nQ 16.5 51.421875 16.5 36.375 \r\nQ 16.5 21.390625 20.328125 13.890625 \r\nQ 24.171875 6.390625 31.78125 6.390625 \r\nQ 39.453125 6.390625 43.28125 13.890625 \r\nQ 47.125 21.390625 47.125 36.375 \r\nQ 47.125 51.421875 43.28125 58.90625 \r\nQ 39.453125 66.40625 31.78125 66.40625 \r\nz\r\nM 31.78125 74.21875 \r\nQ 44.046875 74.21875 50.515625 64.515625 \r\nQ 56.984375 54.828125 56.984375 36.375 \r\nQ 56.984375 17.96875 50.515625 8.265625 \r\nQ 44.046875 -1.421875 31.78125 -1.421875 \r\nQ 19.53125 -1.421875 13.0625 8.265625 \r\nQ 6.59375 17.96875 6.59375 36.375 \r\nQ 6.59375 54.828125 13.0625 64.515625 \r\nQ 19.53125 74.21875 31.78125 74.21875 \r\nz\r\n\" id=\"DejaVuSans-48\"/>\r\n      </defs>\r\n      <g transform=\"translate(51.685384 254.356562)scale(0.1 -0.1)\">\r\n       <use xlink:href=\"#DejaVuSans-48\"/>\r\n      </g>\r\n     </g>\r\n    </g>\r\n    <g id=\"xtick_2\">\r\n     <g id=\"line2d_2\">\r\n      <g>\r\n       <use style=\"stroke:#000000;stroke-width:0.8;\" x=\"107.343123\" xlink:href=\"#m871c56e0fd\" y=\"239.758125\"/>\r\n      </g>\r\n     </g>\r\n     <g id=\"text_2\">\r\n      <!-- 5 -->\r\n      <defs>\r\n       <path d=\"M 10.796875 72.90625 \r\nL 49.515625 72.90625 \r\nL 49.515625 64.59375 \r\nL 19.828125 64.59375 \r\nL 19.828125 46.734375 \r\nQ 21.96875 47.46875 24.109375 47.828125 \r\nQ 26.265625 48.1875 28.421875 48.1875 \r\nQ 40.625 48.1875 47.75 41.5 \r\nQ 54.890625 34.8125 54.890625 23.390625 \r\nQ 54.890625 11.625 47.5625 5.09375 \r\nQ 40.234375 -1.421875 26.90625 -1.421875 \r\nQ 22.3125 -1.421875 17.546875 -0.640625 \r\nQ 12.796875 0.140625 7.71875 1.703125 \r\nL 7.71875 11.625 \r\nQ 12.109375 9.234375 16.796875 8.0625 \r\nQ 21.484375 6.890625 26.703125 6.890625 \r\nQ 35.15625 6.890625 40.078125 11.328125 \r\nQ 45.015625 15.765625 45.015625 23.390625 \r\nQ 45.015625 31 40.078125 35.4375 \r\nQ 35.15625 39.890625 26.703125 39.890625 \r\nQ 22.75 39.890625 18.8125 39.015625 \r\nQ 14.890625 38.140625 10.796875 36.28125 \r\nz\r\n\" id=\"DejaVuSans-53\"/>\r\n      </defs>\r\n      <g transform=\"translate(104.161873 254.356562)scale(0.1 -0.1)\">\r\n       <use xlink:href=\"#DejaVuSans-53\"/>\r\n      </g>\r\n     </g>\r\n    </g>\r\n    <g id=\"xtick_3\">\r\n     <g id=\"line2d_3\">\r\n      <g>\r\n       <use style=\"stroke:#000000;stroke-width:0.8;\" x=\"159.819612\" xlink:href=\"#m871c56e0fd\" y=\"239.758125\"/>\r\n      </g>\r\n     </g>\r\n     <g id=\"text_3\">\r\n      <!-- 10 -->\r\n      <defs>\r\n       <path d=\"M 12.40625 8.296875 \r\nL 28.515625 8.296875 \r\nL 28.515625 63.921875 \r\nL 10.984375 60.40625 \r\nL 10.984375 69.390625 \r\nL 28.421875 72.90625 \r\nL 38.28125 72.90625 \r\nL 38.28125 8.296875 \r\nL 54.390625 8.296875 \r\nL 54.390625 0 \r\nL 12.40625 0 \r\nz\r\n\" id=\"DejaVuSans-49\"/>\r\n      </defs>\r\n      <g transform=\"translate(153.457112 254.356562)scale(0.1 -0.1)\">\r\n       <use xlink:href=\"#DejaVuSans-49\"/>\r\n       <use x=\"63.623047\" xlink:href=\"#DejaVuSans-48\"/>\r\n      </g>\r\n     </g>\r\n    </g>\r\n    <g id=\"xtick_4\">\r\n     <g id=\"line2d_4\">\r\n      <g>\r\n       <use style=\"stroke:#000000;stroke-width:0.8;\" x=\"212.296101\" xlink:href=\"#m871c56e0fd\" y=\"239.758125\"/>\r\n      </g>\r\n     </g>\r\n     <g id=\"text_4\">\r\n      <!-- 15 -->\r\n      <g transform=\"translate(205.933601 254.356562)scale(0.1 -0.1)\">\r\n       <use xlink:href=\"#DejaVuSans-49\"/>\r\n       <use x=\"63.623047\" xlink:href=\"#DejaVuSans-53\"/>\r\n      </g>\r\n     </g>\r\n    </g>\r\n    <g id=\"xtick_5\">\r\n     <g id=\"line2d_5\">\r\n      <g>\r\n       <use style=\"stroke:#000000;stroke-width:0.8;\" x=\"264.77259\" xlink:href=\"#m871c56e0fd\" y=\"239.758125\"/>\r\n      </g>\r\n     </g>\r\n     <g id=\"text_5\">\r\n      <!-- 20 -->\r\n      <defs>\r\n       <path d=\"M 19.1875 8.296875 \r\nL 53.609375 8.296875 \r\nL 53.609375 0 \r\nL 7.328125 0 \r\nL 7.328125 8.296875 \r\nQ 12.9375 14.109375 22.625 23.890625 \r\nQ 32.328125 33.6875 34.8125 36.53125 \r\nQ 39.546875 41.84375 41.421875 45.53125 \r\nQ 43.3125 49.21875 43.3125 52.78125 \r\nQ 43.3125 58.59375 39.234375 62.25 \r\nQ 35.15625 65.921875 28.609375 65.921875 \r\nQ 23.96875 65.921875 18.8125 64.3125 \r\nQ 13.671875 62.703125 7.8125 59.421875 \r\nL 7.8125 69.390625 \r\nQ 13.765625 71.78125 18.9375 73 \r\nQ 24.125 74.21875 28.421875 74.21875 \r\nQ 39.75 74.21875 46.484375 68.546875 \r\nQ 53.21875 62.890625 53.21875 53.421875 \r\nQ 53.21875 48.921875 51.53125 44.890625 \r\nQ 49.859375 40.875 45.40625 35.40625 \r\nQ 44.1875 33.984375 37.640625 27.21875 \r\nQ 31.109375 20.453125 19.1875 8.296875 \r\nz\r\n\" id=\"DejaVuSans-50\"/>\r\n      </defs>\r\n      <g transform=\"translate(258.41009 254.356562)scale(0.1 -0.1)\">\r\n       <use xlink:href=\"#DejaVuSans-50\"/>\r\n       <use x=\"63.623047\" xlink:href=\"#DejaVuSans-48\"/>\r\n      </g>\r\n     </g>\r\n    </g>\r\n    <g id=\"xtick_6\">\r\n     <g id=\"line2d_6\">\r\n      <g>\r\n       <use style=\"stroke:#000000;stroke-width:0.8;\" x=\"317.249079\" xlink:href=\"#m871c56e0fd\" y=\"239.758125\"/>\r\n      </g>\r\n     </g>\r\n     <g id=\"text_6\">\r\n      <!-- 25 -->\r\n      <g transform=\"translate(310.886579 254.356562)scale(0.1 -0.1)\">\r\n       <use xlink:href=\"#DejaVuSans-50\"/>\r\n       <use x=\"63.623047\" xlink:href=\"#DejaVuSans-53\"/>\r\n      </g>\r\n     </g>\r\n    </g>\r\n    <g id=\"xtick_7\">\r\n     <g id=\"line2d_7\">\r\n      <g>\r\n       <use style=\"stroke:#000000;stroke-width:0.8;\" x=\"369.725568\" xlink:href=\"#m871c56e0fd\" y=\"239.758125\"/>\r\n      </g>\r\n     </g>\r\n     <g id=\"text_7\">\r\n      <!-- 30 -->\r\n      <defs>\r\n       <path d=\"M 40.578125 39.3125 \r\nQ 47.65625 37.796875 51.625 33 \r\nQ 55.609375 28.21875 55.609375 21.1875 \r\nQ 55.609375 10.40625 48.1875 4.484375 \r\nQ 40.765625 -1.421875 27.09375 -1.421875 \r\nQ 22.515625 -1.421875 17.65625 -0.515625 \r\nQ 12.796875 0.390625 7.625 2.203125 \r\nL 7.625 11.71875 \r\nQ 11.71875 9.328125 16.59375 8.109375 \r\nQ 21.484375 6.890625 26.8125 6.890625 \r\nQ 36.078125 6.890625 40.9375 10.546875 \r\nQ 45.796875 14.203125 45.796875 21.1875 \r\nQ 45.796875 27.640625 41.28125 31.265625 \r\nQ 36.765625 34.90625 28.71875 34.90625 \r\nL 20.21875 34.90625 \r\nL 20.21875 43.015625 \r\nL 29.109375 43.015625 \r\nQ 36.375 43.015625 40.234375 45.921875 \r\nQ 44.09375 48.828125 44.09375 54.296875 \r\nQ 44.09375 59.90625 40.109375 62.90625 \r\nQ 36.140625 65.921875 28.71875 65.921875 \r\nQ 24.65625 65.921875 20.015625 65.03125 \r\nQ 15.375 64.15625 9.8125 62.3125 \r\nL 9.8125 71.09375 \r\nQ 15.4375 72.65625 20.34375 73.4375 \r\nQ 25.25 74.21875 29.59375 74.21875 \r\nQ 40.828125 74.21875 47.359375 69.109375 \r\nQ 53.90625 64.015625 53.90625 55.328125 \r\nQ 53.90625 49.265625 50.4375 45.09375 \r\nQ 46.96875 40.921875 40.578125 39.3125 \r\nz\r\n\" id=\"DejaVuSans-51\"/>\r\n      </defs>\r\n      <g transform=\"translate(363.363068 254.356562)scale(0.1 -0.1)\">\r\n       <use xlink:href=\"#DejaVuSans-51\"/>\r\n       <use x=\"63.623047\" xlink:href=\"#DejaVuSans-48\"/>\r\n      </g>\r\n     </g>\r\n    </g>\r\n    <g id=\"text_8\">\r\n     <!-- Epochs -->\r\n     <defs>\r\n      <path d=\"M 9.8125 72.90625 \r\nL 55.90625 72.90625 \r\nL 55.90625 64.59375 \r\nL 19.671875 64.59375 \r\nL 19.671875 43.015625 \r\nL 54.390625 43.015625 \r\nL 54.390625 34.71875 \r\nL 19.671875 34.71875 \r\nL 19.671875 8.296875 \r\nL 56.78125 8.296875 \r\nL 56.78125 0 \r\nL 9.8125 0 \r\nz\r\n\" id=\"DejaVuSans-69\"/>\r\n      <path d=\"M 18.109375 8.203125 \r\nL 18.109375 -20.796875 \r\nL 9.078125 -20.796875 \r\nL 9.078125 54.6875 \r\nL 18.109375 54.6875 \r\nL 18.109375 46.390625 \r\nQ 20.953125 51.265625 25.265625 53.625 \r\nQ 29.59375 56 35.59375 56 \r\nQ 45.5625 56 51.78125 48.09375 \r\nQ 58.015625 40.1875 58.015625 27.296875 \r\nQ 58.015625 14.40625 51.78125 6.484375 \r\nQ 45.5625 -1.421875 35.59375 -1.421875 \r\nQ 29.59375 -1.421875 25.265625 0.953125 \r\nQ 20.953125 3.328125 18.109375 8.203125 \r\nz\r\nM 48.6875 27.296875 \r\nQ 48.6875 37.203125 44.609375 42.84375 \r\nQ 40.53125 48.484375 33.40625 48.484375 \r\nQ 26.265625 48.484375 22.1875 42.84375 \r\nQ 18.109375 37.203125 18.109375 27.296875 \r\nQ 18.109375 17.390625 22.1875 11.75 \r\nQ 26.265625 6.109375 33.40625 6.109375 \r\nQ 40.53125 6.109375 44.609375 11.75 \r\nQ 48.6875 17.390625 48.6875 27.296875 \r\nz\r\n\" id=\"DejaVuSans-112\"/>\r\n      <path d=\"M 30.609375 48.390625 \r\nQ 23.390625 48.390625 19.1875 42.75 \r\nQ 14.984375 37.109375 14.984375 27.296875 \r\nQ 14.984375 17.484375 19.15625 11.84375 \r\nQ 23.34375 6.203125 30.609375 6.203125 \r\nQ 37.796875 6.203125 41.984375 11.859375 \r\nQ 46.1875 17.53125 46.1875 27.296875 \r\nQ 46.1875 37.015625 41.984375 42.703125 \r\nQ 37.796875 48.390625 30.609375 48.390625 \r\nz\r\nM 30.609375 56 \r\nQ 42.328125 56 49.015625 48.375 \r\nQ 55.71875 40.765625 55.71875 27.296875 \r\nQ 55.71875 13.875 49.015625 6.21875 \r\nQ 42.328125 -1.421875 30.609375 -1.421875 \r\nQ 18.84375 -1.421875 12.171875 6.21875 \r\nQ 5.515625 13.875 5.515625 27.296875 \r\nQ 5.515625 40.765625 12.171875 48.375 \r\nQ 18.84375 56 30.609375 56 \r\nz\r\n\" id=\"DejaVuSans-111\"/>\r\n      <path d=\"M 48.78125 52.59375 \r\nL 48.78125 44.1875 \r\nQ 44.96875 46.296875 41.140625 47.34375 \r\nQ 37.3125 48.390625 33.40625 48.390625 \r\nQ 24.65625 48.390625 19.8125 42.84375 \r\nQ 14.984375 37.3125 14.984375 27.296875 \r\nQ 14.984375 17.28125 19.8125 11.734375 \r\nQ 24.65625 6.203125 33.40625 6.203125 \r\nQ 37.3125 6.203125 41.140625 7.25 \r\nQ 44.96875 8.296875 48.78125 10.40625 \r\nL 48.78125 2.09375 \r\nQ 45.015625 0.34375 40.984375 -0.53125 \r\nQ 36.96875 -1.421875 32.421875 -1.421875 \r\nQ 20.0625 -1.421875 12.78125 6.34375 \r\nQ 5.515625 14.109375 5.515625 27.296875 \r\nQ 5.515625 40.671875 12.859375 48.328125 \r\nQ 20.21875 56 33.015625 56 \r\nQ 37.15625 56 41.109375 55.140625 \r\nQ 45.0625 54.296875 48.78125 52.59375 \r\nz\r\n\" id=\"DejaVuSans-99\"/>\r\n      <path d=\"M 54.890625 33.015625 \r\nL 54.890625 0 \r\nL 45.90625 0 \r\nL 45.90625 32.71875 \r\nQ 45.90625 40.484375 42.875 44.328125 \r\nQ 39.84375 48.1875 33.796875 48.1875 \r\nQ 26.515625 48.1875 22.3125 43.546875 \r\nQ 18.109375 38.921875 18.109375 30.90625 \r\nL 18.109375 0 \r\nL 9.078125 0 \r\nL 9.078125 75.984375 \r\nL 18.109375 75.984375 \r\nL 18.109375 46.1875 \r\nQ 21.34375 51.125 25.703125 53.5625 \r\nQ 30.078125 56 35.796875 56 \r\nQ 45.21875 56 50.046875 50.171875 \r\nQ 54.890625 44.34375 54.890625 33.015625 \r\nz\r\n\" id=\"DejaVuSans-104\"/>\r\n      <path d=\"M 44.28125 53.078125 \r\nL 44.28125 44.578125 \r\nQ 40.484375 46.53125 36.375 47.5 \r\nQ 32.28125 48.484375 27.875 48.484375 \r\nQ 21.1875 48.484375 17.84375 46.4375 \r\nQ 14.5 44.390625 14.5 40.28125 \r\nQ 14.5 37.15625 16.890625 35.375 \r\nQ 19.28125 33.59375 26.515625 31.984375 \r\nL 29.59375 31.296875 \r\nQ 39.15625 29.25 43.1875 25.515625 \r\nQ 47.21875 21.78125 47.21875 15.09375 \r\nQ 47.21875 7.46875 41.1875 3.015625 \r\nQ 35.15625 -1.421875 24.609375 -1.421875 \r\nQ 20.21875 -1.421875 15.453125 -0.5625 \r\nQ 10.6875 0.296875 5.421875 2 \r\nL 5.421875 11.28125 \r\nQ 10.40625 8.6875 15.234375 7.390625 \r\nQ 20.0625 6.109375 24.8125 6.109375 \r\nQ 31.15625 6.109375 34.5625 8.28125 \r\nQ 37.984375 10.453125 37.984375 14.40625 \r\nQ 37.984375 18.0625 35.515625 20.015625 \r\nQ 33.0625 21.96875 24.703125 23.78125 \r\nL 21.578125 24.515625 \r\nQ 13.234375 26.265625 9.515625 29.90625 \r\nQ 5.8125 33.546875 5.8125 39.890625 \r\nQ 5.8125 47.609375 11.28125 51.796875 \r\nQ 16.75 56 26.8125 56 \r\nQ 31.78125 56 36.171875 55.265625 \r\nQ 40.578125 54.546875 44.28125 53.078125 \r\nz\r\n\" id=\"DejaVuSans-115\"/>\r\n     </defs>\r\n     <g transform=\"translate(199.628125 268.034687)scale(0.1 -0.1)\">\r\n      <use xlink:href=\"#DejaVuSans-69\"/>\r\n      <use x=\"63.183594\" xlink:href=\"#DejaVuSans-112\"/>\r\n      <use x=\"126.660156\" xlink:href=\"#DejaVuSans-111\"/>\r\n      <use x=\"187.841797\" xlink:href=\"#DejaVuSans-99\"/>\r\n      <use x=\"242.822266\" xlink:href=\"#DejaVuSans-104\"/>\r\n      <use x=\"306.201172\" xlink:href=\"#DejaVuSans-115\"/>\r\n     </g>\r\n    </g>\r\n   </g>\r\n   <g id=\"matplotlib.axis_2\">\r\n    <g id=\"ytick_1\">\r\n     <g id=\"line2d_8\">\r\n      <defs>\r\n       <path d=\"M 0 0 \r\nL -3.5 0 \r\n\" id=\"m0db06adcac\" style=\"stroke:#000000;stroke-width:0.8;\"/>\r\n      </defs>\r\n      <g>\r\n       <use style=\"stroke:#000000;stroke-width:0.8;\" x=\"50.14375\" xlink:href=\"#m0db06adcac\" y=\"233.657673\"/>\r\n      </g>\r\n     </g>\r\n     <g id=\"text_9\">\r\n      <!-- 0.80 -->\r\n      <defs>\r\n       <path d=\"M 10.6875 12.40625 \r\nL 21 12.40625 \r\nL 21 0 \r\nL 10.6875 0 \r\nz\r\n\" id=\"DejaVuSans-46\"/>\r\n       <path d=\"M 31.78125 34.625 \r\nQ 24.75 34.625 20.71875 30.859375 \r\nQ 16.703125 27.09375 16.703125 20.515625 \r\nQ 16.703125 13.921875 20.71875 10.15625 \r\nQ 24.75 6.390625 31.78125 6.390625 \r\nQ 38.8125 6.390625 42.859375 10.171875 \r\nQ 46.921875 13.96875 46.921875 20.515625 \r\nQ 46.921875 27.09375 42.890625 30.859375 \r\nQ 38.875 34.625 31.78125 34.625 \r\nz\r\nM 21.921875 38.8125 \r\nQ 15.578125 40.375 12.03125 44.71875 \r\nQ 8.5 49.078125 8.5 55.328125 \r\nQ 8.5 64.0625 14.71875 69.140625 \r\nQ 20.953125 74.21875 31.78125 74.21875 \r\nQ 42.671875 74.21875 48.875 69.140625 \r\nQ 55.078125 64.0625 55.078125 55.328125 \r\nQ 55.078125 49.078125 51.53125 44.71875 \r\nQ 48 40.375 41.703125 38.8125 \r\nQ 48.828125 37.15625 52.796875 32.3125 \r\nQ 56.78125 27.484375 56.78125 20.515625 \r\nQ 56.78125 9.90625 50.3125 4.234375 \r\nQ 43.84375 -1.421875 31.78125 -1.421875 \r\nQ 19.734375 -1.421875 13.25 4.234375 \r\nQ 6.78125 9.90625 6.78125 20.515625 \r\nQ 6.78125 27.484375 10.78125 32.3125 \r\nQ 14.796875 37.15625 21.921875 38.8125 \r\nz\r\nM 18.3125 54.390625 \r\nQ 18.3125 48.734375 21.84375 45.5625 \r\nQ 25.390625 42.390625 31.78125 42.390625 \r\nQ 38.140625 42.390625 41.71875 45.5625 \r\nQ 45.3125 48.734375 45.3125 54.390625 \r\nQ 45.3125 60.0625 41.71875 63.234375 \r\nQ 38.140625 66.40625 31.78125 66.40625 \r\nQ 25.390625 66.40625 21.84375 63.234375 \r\nQ 18.3125 60.0625 18.3125 54.390625 \r\nz\r\n\" id=\"DejaVuSans-56\"/>\r\n      </defs>\r\n      <g transform=\"translate(20.878125 237.456891)scale(0.1 -0.1)\">\r\n       <use xlink:href=\"#DejaVuSans-48\"/>\r\n       <use x=\"63.623047\" xlink:href=\"#DejaVuSans-46\"/>\r\n       <use x=\"95.410156\" xlink:href=\"#DejaVuSans-56\"/>\r\n       <use x=\"159.033203\" xlink:href=\"#DejaVuSans-48\"/>\r\n      </g>\r\n     </g>\r\n    </g>\r\n    <g id=\"ytick_2\">\r\n     <g id=\"line2d_9\">\r\n      <g>\r\n       <use style=\"stroke:#000000;stroke-width:0.8;\" x=\"50.14375\" xlink:href=\"#m0db06adcac\" y=\"195.82557\"/>\r\n      </g>\r\n     </g>\r\n     <g id=\"text_10\">\r\n      <!-- 0.82 -->\r\n      <g transform=\"translate(20.878125 199.624789)scale(0.1 -0.1)\">\r\n       <use xlink:href=\"#DejaVuSans-48\"/>\r\n       <use x=\"63.623047\" xlink:href=\"#DejaVuSans-46\"/>\r\n       <use x=\"95.410156\" xlink:href=\"#DejaVuSans-56\"/>\r\n       <use x=\"159.033203\" xlink:href=\"#DejaVuSans-50\"/>\r\n      </g>\r\n     </g>\r\n    </g>\r\n    <g id=\"ytick_3\">\r\n     <g id=\"line2d_10\">\r\n      <g>\r\n       <use style=\"stroke:#000000;stroke-width:0.8;\" x=\"50.14375\" xlink:href=\"#m0db06adcac\" y=\"157.993468\"/>\r\n      </g>\r\n     </g>\r\n     <g id=\"text_11\">\r\n      <!-- 0.84 -->\r\n      <defs>\r\n       <path d=\"M 37.796875 64.3125 \r\nL 12.890625 25.390625 \r\nL 37.796875 25.390625 \r\nz\r\nM 35.203125 72.90625 \r\nL 47.609375 72.90625 \r\nL 47.609375 25.390625 \r\nL 58.015625 25.390625 \r\nL 58.015625 17.1875 \r\nL 47.609375 17.1875 \r\nL 47.609375 0 \r\nL 37.796875 0 \r\nL 37.796875 17.1875 \r\nL 4.890625 17.1875 \r\nL 4.890625 26.703125 \r\nz\r\n\" id=\"DejaVuSans-52\"/>\r\n      </defs>\r\n      <g transform=\"translate(20.878125 161.792687)scale(0.1 -0.1)\">\r\n       <use xlink:href=\"#DejaVuSans-48\"/>\r\n       <use x=\"63.623047\" xlink:href=\"#DejaVuSans-46\"/>\r\n       <use x=\"95.410156\" xlink:href=\"#DejaVuSans-56\"/>\r\n       <use x=\"159.033203\" xlink:href=\"#DejaVuSans-52\"/>\r\n      </g>\r\n     </g>\r\n    </g>\r\n    <g id=\"ytick_4\">\r\n     <g id=\"line2d_11\">\r\n      <g>\r\n       <use style=\"stroke:#000000;stroke-width:0.8;\" x=\"50.14375\" xlink:href=\"#m0db06adcac\" y=\"120.161365\"/>\r\n      </g>\r\n     </g>\r\n     <g id=\"text_12\">\r\n      <!-- 0.86 -->\r\n      <defs>\r\n       <path d=\"M 33.015625 40.375 \r\nQ 26.375 40.375 22.484375 35.828125 \r\nQ 18.609375 31.296875 18.609375 23.390625 \r\nQ 18.609375 15.53125 22.484375 10.953125 \r\nQ 26.375 6.390625 33.015625 6.390625 \r\nQ 39.65625 6.390625 43.53125 10.953125 \r\nQ 47.40625 15.53125 47.40625 23.390625 \r\nQ 47.40625 31.296875 43.53125 35.828125 \r\nQ 39.65625 40.375 33.015625 40.375 \r\nz\r\nM 52.59375 71.296875 \r\nL 52.59375 62.3125 \r\nQ 48.875 64.0625 45.09375 64.984375 \r\nQ 41.3125 65.921875 37.59375 65.921875 \r\nQ 27.828125 65.921875 22.671875 59.328125 \r\nQ 17.53125 52.734375 16.796875 39.40625 \r\nQ 19.671875 43.65625 24.015625 45.921875 \r\nQ 28.375 48.1875 33.59375 48.1875 \r\nQ 44.578125 48.1875 50.953125 41.515625 \r\nQ 57.328125 34.859375 57.328125 23.390625 \r\nQ 57.328125 12.15625 50.6875 5.359375 \r\nQ 44.046875 -1.421875 33.015625 -1.421875 \r\nQ 20.359375 -1.421875 13.671875 8.265625 \r\nQ 6.984375 17.96875 6.984375 36.375 \r\nQ 6.984375 53.65625 15.1875 63.9375 \r\nQ 23.390625 74.21875 37.203125 74.21875 \r\nQ 40.921875 74.21875 44.703125 73.484375 \r\nQ 48.484375 72.75 52.59375 71.296875 \r\nz\r\n\" id=\"DejaVuSans-54\"/>\r\n      </defs>\r\n      <g transform=\"translate(20.878125 123.960584)scale(0.1 -0.1)\">\r\n       <use xlink:href=\"#DejaVuSans-48\"/>\r\n       <use x=\"63.623047\" xlink:href=\"#DejaVuSans-46\"/>\r\n       <use x=\"95.410156\" xlink:href=\"#DejaVuSans-56\"/>\r\n       <use x=\"159.033203\" xlink:href=\"#DejaVuSans-54\"/>\r\n      </g>\r\n     </g>\r\n    </g>\r\n    <g id=\"ytick_5\">\r\n     <g id=\"line2d_12\">\r\n      <g>\r\n       <use style=\"stroke:#000000;stroke-width:0.8;\" x=\"50.14375\" xlink:href=\"#m0db06adcac\" y=\"82.329263\"/>\r\n      </g>\r\n     </g>\r\n     <g id=\"text_13\">\r\n      <!-- 0.88 -->\r\n      <g transform=\"translate(20.878125 86.128482)scale(0.1 -0.1)\">\r\n       <use xlink:href=\"#DejaVuSans-48\"/>\r\n       <use x=\"63.623047\" xlink:href=\"#DejaVuSans-46\"/>\r\n       <use x=\"95.410156\" xlink:href=\"#DejaVuSans-56\"/>\r\n       <use x=\"159.033203\" xlink:href=\"#DejaVuSans-56\"/>\r\n      </g>\r\n     </g>\r\n    </g>\r\n    <g id=\"ytick_6\">\r\n     <g id=\"line2d_13\">\r\n      <g>\r\n       <use style=\"stroke:#000000;stroke-width:0.8;\" x=\"50.14375\" xlink:href=\"#m0db06adcac\" y=\"44.49716\"/>\r\n      </g>\r\n     </g>\r\n     <g id=\"text_14\">\r\n      <!-- 0.90 -->\r\n      <defs>\r\n       <path d=\"M 10.984375 1.515625 \r\nL 10.984375 10.5 \r\nQ 14.703125 8.734375 18.5 7.8125 \r\nQ 22.3125 6.890625 25.984375 6.890625 \r\nQ 35.75 6.890625 40.890625 13.453125 \r\nQ 46.046875 20.015625 46.78125 33.40625 \r\nQ 43.953125 29.203125 39.59375 26.953125 \r\nQ 35.25 24.703125 29.984375 24.703125 \r\nQ 19.046875 24.703125 12.671875 31.3125 \r\nQ 6.296875 37.9375 6.296875 49.421875 \r\nQ 6.296875 60.640625 12.9375 67.421875 \r\nQ 19.578125 74.21875 30.609375 74.21875 \r\nQ 43.265625 74.21875 49.921875 64.515625 \r\nQ 56.59375 54.828125 56.59375 36.375 \r\nQ 56.59375 19.140625 48.40625 8.859375 \r\nQ 40.234375 -1.421875 26.421875 -1.421875 \r\nQ 22.703125 -1.421875 18.890625 -0.6875 \r\nQ 15.09375 0.046875 10.984375 1.515625 \r\nz\r\nM 30.609375 32.421875 \r\nQ 37.25 32.421875 41.125 36.953125 \r\nQ 45.015625 41.5 45.015625 49.421875 \r\nQ 45.015625 57.28125 41.125 61.84375 \r\nQ 37.25 66.40625 30.609375 66.40625 \r\nQ 23.96875 66.40625 20.09375 61.84375 \r\nQ 16.21875 57.28125 16.21875 49.421875 \r\nQ 16.21875 41.5 20.09375 36.953125 \r\nQ 23.96875 32.421875 30.609375 32.421875 \r\nz\r\n\" id=\"DejaVuSans-57\"/>\r\n      </defs>\r\n      <g transform=\"translate(20.878125 48.296379)scale(0.1 -0.1)\">\r\n       <use xlink:href=\"#DejaVuSans-48\"/>\r\n       <use x=\"63.623047\" xlink:href=\"#DejaVuSans-46\"/>\r\n       <use x=\"95.410156\" xlink:href=\"#DejaVuSans-57\"/>\r\n       <use x=\"159.033203\" xlink:href=\"#DejaVuSans-48\"/>\r\n      </g>\r\n     </g>\r\n    </g>\r\n    <g id=\"text_15\">\r\n     <!-- Validation accuracy -->\r\n     <defs>\r\n      <path d=\"M 28.609375 0 \r\nL 0.78125 72.90625 \r\nL 11.078125 72.90625 \r\nL 34.1875 11.53125 \r\nL 57.328125 72.90625 \r\nL 67.578125 72.90625 \r\nL 39.796875 0 \r\nz\r\n\" id=\"DejaVuSans-86\"/>\r\n      <path d=\"M 34.28125 27.484375 \r\nQ 23.390625 27.484375 19.1875 25 \r\nQ 14.984375 22.515625 14.984375 16.5 \r\nQ 14.984375 11.71875 18.140625 8.90625 \r\nQ 21.296875 6.109375 26.703125 6.109375 \r\nQ 34.1875 6.109375 38.703125 11.40625 \r\nQ 43.21875 16.703125 43.21875 25.484375 \r\nL 43.21875 27.484375 \r\nz\r\nM 52.203125 31.203125 \r\nL 52.203125 0 \r\nL 43.21875 0 \r\nL 43.21875 8.296875 \r\nQ 40.140625 3.328125 35.546875 0.953125 \r\nQ 30.953125 -1.421875 24.3125 -1.421875 \r\nQ 15.921875 -1.421875 10.953125 3.296875 \r\nQ 6 8.015625 6 15.921875 \r\nQ 6 25.140625 12.171875 29.828125 \r\nQ 18.359375 34.515625 30.609375 34.515625 \r\nL 43.21875 34.515625 \r\nL 43.21875 35.40625 \r\nQ 43.21875 41.609375 39.140625 45 \r\nQ 35.0625 48.390625 27.6875 48.390625 \r\nQ 23 48.390625 18.546875 47.265625 \r\nQ 14.109375 46.140625 10.015625 43.890625 \r\nL 10.015625 52.203125 \r\nQ 14.9375 54.109375 19.578125 55.046875 \r\nQ 24.21875 56 28.609375 56 \r\nQ 40.484375 56 46.34375 49.84375 \r\nQ 52.203125 43.703125 52.203125 31.203125 \r\nz\r\n\" id=\"DejaVuSans-97\"/>\r\n      <path d=\"M 9.421875 75.984375 \r\nL 18.40625 75.984375 \r\nL 18.40625 0 \r\nL 9.421875 0 \r\nz\r\n\" id=\"DejaVuSans-108\"/>\r\n      <path d=\"M 9.421875 54.6875 \r\nL 18.40625 54.6875 \r\nL 18.40625 0 \r\nL 9.421875 0 \r\nz\r\nM 9.421875 75.984375 \r\nL 18.40625 75.984375 \r\nL 18.40625 64.59375 \r\nL 9.421875 64.59375 \r\nz\r\n\" id=\"DejaVuSans-105\"/>\r\n      <path d=\"M 45.40625 46.390625 \r\nL 45.40625 75.984375 \r\nL 54.390625 75.984375 \r\nL 54.390625 0 \r\nL 45.40625 0 \r\nL 45.40625 8.203125 \r\nQ 42.578125 3.328125 38.25 0.953125 \r\nQ 33.9375 -1.421875 27.875 -1.421875 \r\nQ 17.96875 -1.421875 11.734375 6.484375 \r\nQ 5.515625 14.40625 5.515625 27.296875 \r\nQ 5.515625 40.1875 11.734375 48.09375 \r\nQ 17.96875 56 27.875 56 \r\nQ 33.9375 56 38.25 53.625 \r\nQ 42.578125 51.265625 45.40625 46.390625 \r\nz\r\nM 14.796875 27.296875 \r\nQ 14.796875 17.390625 18.875 11.75 \r\nQ 22.953125 6.109375 30.078125 6.109375 \r\nQ 37.203125 6.109375 41.296875 11.75 \r\nQ 45.40625 17.390625 45.40625 27.296875 \r\nQ 45.40625 37.203125 41.296875 42.84375 \r\nQ 37.203125 48.484375 30.078125 48.484375 \r\nQ 22.953125 48.484375 18.875 42.84375 \r\nQ 14.796875 37.203125 14.796875 27.296875 \r\nz\r\n\" id=\"DejaVuSans-100\"/>\r\n      <path d=\"M 18.3125 70.21875 \r\nL 18.3125 54.6875 \r\nL 36.8125 54.6875 \r\nL 36.8125 47.703125 \r\nL 18.3125 47.703125 \r\nL 18.3125 18.015625 \r\nQ 18.3125 11.328125 20.140625 9.421875 \r\nQ 21.96875 7.515625 27.59375 7.515625 \r\nL 36.8125 7.515625 \r\nL 36.8125 0 \r\nL 27.59375 0 \r\nQ 17.1875 0 13.234375 3.875 \r\nQ 9.28125 7.765625 9.28125 18.015625 \r\nL 9.28125 47.703125 \r\nL 2.6875 47.703125 \r\nL 2.6875 54.6875 \r\nL 9.28125 54.6875 \r\nL 9.28125 70.21875 \r\nz\r\n\" id=\"DejaVuSans-116\"/>\r\n      <path d=\"M 54.890625 33.015625 \r\nL 54.890625 0 \r\nL 45.90625 0 \r\nL 45.90625 32.71875 \r\nQ 45.90625 40.484375 42.875 44.328125 \r\nQ 39.84375 48.1875 33.796875 48.1875 \r\nQ 26.515625 48.1875 22.3125 43.546875 \r\nQ 18.109375 38.921875 18.109375 30.90625 \r\nL 18.109375 0 \r\nL 9.078125 0 \r\nL 9.078125 54.6875 \r\nL 18.109375 54.6875 \r\nL 18.109375 46.1875 \r\nQ 21.34375 51.125 25.703125 53.5625 \r\nQ 30.078125 56 35.796875 56 \r\nQ 45.21875 56 50.046875 50.171875 \r\nQ 54.890625 44.34375 54.890625 33.015625 \r\nz\r\n\" id=\"DejaVuSans-110\"/>\r\n      <path id=\"DejaVuSans-32\"/>\r\n      <path d=\"M 8.5 21.578125 \r\nL 8.5 54.6875 \r\nL 17.484375 54.6875 \r\nL 17.484375 21.921875 \r\nQ 17.484375 14.15625 20.5 10.265625 \r\nQ 23.53125 6.390625 29.59375 6.390625 \r\nQ 36.859375 6.390625 41.078125 11.03125 \r\nQ 45.3125 15.671875 45.3125 23.6875 \r\nL 45.3125 54.6875 \r\nL 54.296875 54.6875 \r\nL 54.296875 0 \r\nL 45.3125 0 \r\nL 45.3125 8.40625 \r\nQ 42.046875 3.421875 37.71875 1 \r\nQ 33.40625 -1.421875 27.6875 -1.421875 \r\nQ 18.265625 -1.421875 13.375 4.4375 \r\nQ 8.5 10.296875 8.5 21.578125 \r\nz\r\nM 31.109375 56 \r\nz\r\n\" id=\"DejaVuSans-117\"/>\r\n      <path d=\"M 41.109375 46.296875 \r\nQ 39.59375 47.171875 37.8125 47.578125 \r\nQ 36.03125 48 33.890625 48 \r\nQ 26.265625 48 22.1875 43.046875 \r\nQ 18.109375 38.09375 18.109375 28.8125 \r\nL 18.109375 0 \r\nL 9.078125 0 \r\nL 9.078125 54.6875 \r\nL 18.109375 54.6875 \r\nL 18.109375 46.1875 \r\nQ 20.953125 51.171875 25.484375 53.578125 \r\nQ 30.03125 56 36.53125 56 \r\nQ 37.453125 56 38.578125 55.875 \r\nQ 39.703125 55.765625 41.0625 55.515625 \r\nz\r\n\" id=\"DejaVuSans-114\"/>\r\n      <path d=\"M 32.171875 -5.078125 \r\nQ 28.375 -14.84375 24.75 -17.8125 \r\nQ 21.140625 -20.796875 15.09375 -20.796875 \r\nL 7.90625 -20.796875 \r\nL 7.90625 -13.28125 \r\nL 13.1875 -13.28125 \r\nQ 16.890625 -13.28125 18.9375 -11.515625 \r\nQ 21 -9.765625 23.484375 -3.21875 \r\nL 25.09375 0.875 \r\nL 2.984375 54.6875 \r\nL 12.5 54.6875 \r\nL 29.59375 11.921875 \r\nL 46.6875 54.6875 \r\nL 56.203125 54.6875 \r\nz\r\n\" id=\"DejaVuSans-121\"/>\r\n     </defs>\r\n     <g transform=\"translate(14.798438 180.259219)rotate(-90)scale(0.1 -0.1)\">\r\n      <use xlink:href=\"#DejaVuSans-86\"/>\r\n      <use x=\"68.298828\" xlink:href=\"#DejaVuSans-97\"/>\r\n      <use x=\"129.578125\" xlink:href=\"#DejaVuSans-108\"/>\r\n      <use x=\"157.361328\" xlink:href=\"#DejaVuSans-105\"/>\r\n      <use x=\"185.144531\" xlink:href=\"#DejaVuSans-100\"/>\r\n      <use x=\"248.621094\" xlink:href=\"#DejaVuSans-97\"/>\r\n      <use x=\"309.900391\" xlink:href=\"#DejaVuSans-116\"/>\r\n      <use x=\"349.109375\" xlink:href=\"#DejaVuSans-105\"/>\r\n      <use x=\"376.892578\" xlink:href=\"#DejaVuSans-111\"/>\r\n      <use x=\"438.074219\" xlink:href=\"#DejaVuSans-110\"/>\r\n      <use x=\"501.453125\" xlink:href=\"#DejaVuSans-32\"/>\r\n      <use x=\"533.240234\" xlink:href=\"#DejaVuSans-97\"/>\r\n      <use x=\"594.519531\" xlink:href=\"#DejaVuSans-99\"/>\r\n      <use x=\"649.5\" xlink:href=\"#DejaVuSans-99\"/>\r\n      <use x=\"704.480469\" xlink:href=\"#DejaVuSans-117\"/>\r\n      <use x=\"767.859375\" xlink:href=\"#DejaVuSans-114\"/>\r\n      <use x=\"808.972656\" xlink:href=\"#DejaVuSans-97\"/>\r\n      <use x=\"870.251953\" xlink:href=\"#DejaVuSans-99\"/>\r\n      <use x=\"925.232422\" xlink:href=\"#DejaVuSans-121\"/>\r\n     </g>\r\n    </g>\r\n   </g>\r\n   <g id=\"line2d_14\">\r\n    <path clip-path=\"url(#pde26e52e48)\" d=\"M 65.361932 145.225094 \r\nL 75.85723 121.107185 \r\nL 86.352527 105.501446 \r\nL 96.847825 94.624716 \r\nL 107.343123 81.856405 \r\nL 117.838421 73.344122 \r\nL 128.333719 67.1964 \r\nL 138.829016 66.250666 \r\nL 149.324314 61.521658 \r\nL 159.819612 46.861653 \r\nL 170.31491 57.265517 \r\nL 180.810208 52.063529 \r\nL 191.305505 52.063529 \r\nL 201.800803 42.132645 \r\nL 212.296101 44.024226 \r\nL 222.791399 34.093342 \r\nL 233.286697 36.93077 \r\nL 243.781995 39.768197 \r\nL 254.277292 43.551359 \r\nL 264.77259 52.536508 \r\nL 275.267888 40.241064 \r\nL 285.763186 36.93077 \r\nL 296.258484 45.915919 \r\nL 306.753781 37.403637 \r\nL 317.249079 49.226214 \r\nL 327.744377 36.45779 \r\nL 338.239675 34.566209 \r\nL 348.734973 42.132645 \r\nL 359.23027 42.132645 \r\nL 369.725568 39.768197 \r\n\" style=\"fill:none;stroke:#1f77b4;stroke-linecap:square;stroke-width:1.5;\"/>\r\n   </g>\r\n   <g id=\"line2d_15\">\r\n    <path clip-path=\"url(#pde26e52e48)\" d=\"M 65.361932 147.589654 \r\nL 75.85723 148.535388 \r\nL 86.352527 121.580052 \r\nL 96.847825 116.378177 \r\nL 107.343123 94.624716 \r\nL 117.838421 83.275119 \r\nL 128.333719 70.979675 \r\nL 138.829016 68.142247 \r\nL 149.324314 59.629964 \r\nL 159.819612 65.777686 \r\nL 170.31491 64.831952 \r\nL 180.810208 38.349483 \r\nL 191.305505 54.900956 \r\nL 201.800803 50.171948 \r\nL 212.296101 50.171948 \r\nL 222.791399 51.590662 \r\nL 233.286697 51.590662 \r\nL 243.781995 53.955222 \r\nL 254.277292 47.8075 \r\nL 264.77259 41.186798 \r\nL 275.267888 48.280367 \r\nL 285.763186 47.8075 \r\nL 296.258484 55.846803 \r\nL 306.753781 40.241064 \r\nL 317.249079 39.768197 \r\nL 327.744377 44.497205 \r\nL 338.239675 44.970072 \r\nL 348.734973 44.970072 \r\nL 359.23027 43.078492 \r\nL 369.725568 44.497205 \r\n\" style=\"fill:none;stroke:#ff7f0e;stroke-linecap:square;stroke-width:1.5;\"/>\r\n   </g>\r\n   <g id=\"line2d_16\">\r\n    <path clip-path=\"url(#pde26e52e48)\" d=\"M 65.361932 141.914799 \r\nL 75.85723 140.496085 \r\nL 86.352527 109.284608 \r\nL 96.847825 98.880857 \r\nL 107.343123 99.826591 \r\nL 117.838421 76.18155 \r\nL 128.333719 70.979675 \r\nL 138.829016 72.398388 \r\nL 149.324314 66.723533 \r\nL 159.819612 54.428089 \r\nL 170.31491 57.738384 \r\nL 180.810208 52.063529 \r\nL 191.305505 46.388786 \r\nL 201.800803 51.117795 \r\nL 212.296101 48.280367 \r\nL 222.791399 43.551359 \r\nL 233.286697 39.768197 \r\nL 243.781995 45.915919 \r\nL 254.277292 46.388786 \r\nL 264.77259 39.768197 \r\nL 275.267888 35.512056 \r\nL 285.763186 40.713931 \r\nL 296.258484 48.280367 \r\nL 306.753781 42.132645 \r\nL 317.249079 40.241064 \r\nL 327.744377 47.33452 \r\nL 338.239675 44.024226 \r\nL 348.734973 41.659778 \r\nL 359.23027 43.551359 \r\nL 369.725568 44.024226 \r\n\" style=\"fill:none;stroke:#2ca02c;stroke-linecap:square;stroke-width:1.5;\"/>\r\n   </g>\r\n   <g id=\"line2d_17\">\r\n    <path clip-path=\"url(#pde26e52e48)\" d=\"M 65.361932 147.589654 \r\nL 75.85723 130.092335 \r\nL 86.352527 122.052919 \r\nL 96.847825 102.191152 \r\nL 107.343123 101.245305 \r\nL 117.838421 81.383425 \r\nL 128.333719 73.344122 \r\nL 138.829016 73.344122 \r\nL 149.324314 71.925409 \r\nL 159.819612 70.033828 \r\nL 170.31491 63.413239 \r\nL 180.810208 53.009375 \r\nL 191.305505 49.699081 \r\nL 201.800803 52.536508 \r\nL 212.296101 50.171948 \r\nL 222.791399 45.915919 \r\nL 233.286697 45.442939 \r\nL 243.781995 38.82235 \r\nL 254.277292 38.349483 \r\nL 264.77259 38.349483 \r\nL 275.267888 39.768197 \r\nL 285.763186 32.201761 \r\nL 296.258484 44.970072 \r\nL 306.753781 46.388786 \r\nL 317.249079 41.659778 \r\nL 327.744377 35.984923 \r\nL 338.239675 38.349483 \r\nL 348.734973 46.861653 \r\nL 359.23027 44.497205 \r\nL 369.725568 41.659778 \r\n\" style=\"fill:none;stroke:#d62728;stroke-linecap:square;stroke-width:1.5;\"/>\r\n   </g>\r\n   <g id=\"line2d_18\">\r\n    <path clip-path=\"url(#pde26e52e48)\" d=\"M 65.361932 146.17094 \r\nL 75.85723 131.983915 \r\nL 86.352527 110.703322 \r\nL 96.847825 118.269757 \r\nL 107.343123 99.826591 \r\nL 117.838421 98.880857 \r\nL 128.333719 81.856405 \r\nL 138.829016 80.910558 \r\nL 149.324314 81.383425 \r\nL 159.819612 70.979675 \r\nL 170.31491 72.871255 \r\nL 180.810208 87.531147 \r\nL 191.305505 60.575811 \r\nL 201.800803 55.846803 \r\nL 212.296101 69.087981 \r\nL 222.791399 59.157097 \r\nL 233.286697 54.900956 \r\nL 243.781995 52.536508 \r\nL 254.277292 51.590662 \r\nL 264.77259 52.063529 \r\nL 275.267888 58.68423 \r\nL 285.763186 57.738384 \r\nL 296.258484 44.024226 \r\nL 306.753781 44.970072 \r\nL 317.249079 54.900956 \r\nL 327.744377 45.915919 \r\nL 338.239675 53.009375 \r\nL 348.734973 55.373936 \r\nL 359.23027 43.078492 \r\nL 369.725568 57.738384 \r\n\" style=\"fill:none;stroke:#9467bd;stroke-linecap:square;stroke-width:1.5;\"/>\r\n   </g>\r\n   <g id=\"line2d_19\">\r\n    <path clip-path=\"url(#pde26e52e48)\" d=\"M 65.361932 149.954102 \r\nL 75.85723 139.550351 \r\nL 86.352527 133.402629 \r\nL 96.847825 127.254907 \r\nL 107.343123 118.742625 \r\nL 117.838421 101.245305 \r\nL 128.333719 97.935011 \r\nL 138.829016 92.733135 \r\nL 149.324314 86.585413 \r\nL 159.819612 98.407878 \r\nL 170.31491 79.964711 \r\nL 180.810208 81.383425 \r\nL 191.305505 71.925409 \r\nL 201.800803 70.033828 \r\nL 212.296101 69.560961 \r\nL 222.791399 72.398388 \r\nL 233.286697 63.886106 \r\nL 243.781995 61.048678 \r\nL 254.277292 64.831952 \r\nL 264.77259 59.157097 \r\nL 275.267888 52.063529 \r\nL 285.763186 57.265517 \r\nL 296.258484 62.467392 \r\nL 306.753781 48.753234 \r\nL 317.249079 60.102944 \r\nL 327.744377 52.536508 \r\nL 338.239675 45.442939 \r\nL 348.734973 63.413239 \r\nL 359.23027 53.482242 \r\nL 369.725568 53.009375 \r\n\" style=\"fill:none;stroke:#8c564b;stroke-linecap:square;stroke-width:1.5;\"/>\r\n   </g>\r\n   <g id=\"line2d_20\">\r\n    <path clip-path=\"url(#pde26e52e48)\" d=\"M 65.361932 179.746978 \r\nL 75.85723 131.983915 \r\nL 86.352527 126.30906 \r\nL 96.847825 116.851044 \r\nL 107.343123 113.067882 \r\nL 117.838421 104.5556 \r\nL 128.333719 101.245305 \r\nL 138.829016 104.082733 \r\nL 149.324314 102.664019 \r\nL 159.819612 95.097583 \r\nL 170.31491 97.935011 \r\nL 180.810208 88.476994 \r\nL 191.305505 91.787288 \r\nL 201.800803 87.531147 \r\nL 212.296101 81.856405 \r\nL 222.791399 88.476994 \r\nL 233.286697 95.097583 \r\nL 243.781995 81.383425 \r\nL 254.277292 75.708683 \r\nL 264.77259 73.344122 \r\nL 275.267888 71.925409 \r\nL 285.763186 69.087981 \r\nL 296.258484 64.358973 \r\nL 306.753781 68.615114 \r\nL 317.249079 61.994525 \r\nL 327.744377 61.521658 \r\nL 338.239675 66.250666 \r\nL 348.734973 64.358973 \r\nL 359.23027 57.738384 \r\nL 369.725568 66.723533 \r\n\" style=\"fill:none;stroke:#e377c2;stroke-linecap:square;stroke-width:1.5;\"/>\r\n   </g>\r\n   <g id=\"line2d_21\">\r\n    <path clip-path=\"url(#pde26e52e48)\" d=\"M 65.361932 210.012609 \r\nL 75.85723 157.520538 \r\nL 86.352527 151.845795 \r\nL 96.847825 133.875496 \r\nL 107.343123 133.402629 \r\nL 117.838421 118.269757 \r\nL 128.333719 126.30906 \r\nL 138.829016 130.565202 \r\nL 149.324314 114.486596 \r\nL 159.819612 107.865894 \r\nL 170.31491 111.649168 \r\nL 180.810208 113.540749 \r\nL 191.305505 100.299458 \r\nL 201.800803 103.136886 \r\nL 212.296101 105.501446 \r\nL 222.791399 100.299458 \r\nL 233.286697 106.44718 \r\nL 243.781995 104.082733 \r\nL 254.277292 101.245305 \r\nL 264.77259 88.476994 \r\nL 275.267888 96.989164 \r\nL 285.763186 99.826591 \r\nL 296.258484 89.422728 \r\nL 306.753781 86.112433 \r\nL 317.249079 91.787288 \r\nL 327.744377 100.772438 \r\nL 338.239675 91.787288 \r\nL 348.734973 86.585413 \r\nL 359.23027 84.220853 \r\nL 369.725568 84.220853 \r\n\" style=\"fill:none;stroke:#7f7f7f;stroke-linecap:square;stroke-width:1.5;\"/>\r\n   </g>\r\n   <g id=\"line2d_22\">\r\n    <path clip-path=\"url(#pde26e52e48)\" d=\"M 65.361932 229.874489 \r\nL 75.85723 229.874489 \r\nL 86.352527 220.416472 \r\nL 96.847825 212.377169 \r\nL 107.343123 172.180542 \r\nL 117.838421 166.978554 \r\nL 128.333719 157.993517 \r\nL 138.829016 146.643807 \r\nL 149.324314 166.03282 \r\nL 159.819612 150.427082 \r\nL 170.31491 148.062521 \r\nL 180.810208 141.914799 \r\nL 191.305505 146.17094 \r\nL 201.800803 145.698073 \r\nL 212.296101 131.983915 \r\nL 222.791399 125.363326 \r\nL 233.286697 145.698073 \r\nL 243.781995 146.17094 \r\nL 254.277292 149.481235 \r\nL 264.77259 118.742625 \r\nL 275.267888 141.914799 \r\nL 285.763186 132.929649 \r\nL 296.258484 132.929649 \r\nL 306.753781 131.038069 \r\nL 317.249079 134.821343 \r\nL 327.744377 127.254907 \r\nL 338.239675 132.456782 \r\nL 348.734973 129.146488 \r\nL 359.23027 128.200641 \r\nL 369.725568 129.146488 \r\n\" style=\"fill:none;stroke:#bcbd22;stroke-linecap:square;stroke-width:1.5;\"/>\r\n   </g>\r\n   <g id=\"patch_3\">\r\n    <path d=\"M 50.14375 239.758125 \r\nL 50.14375 22.318125 \r\n\" style=\"fill:none;stroke:#000000;stroke-linecap:square;stroke-linejoin:miter;stroke-width:0.8;\"/>\r\n   </g>\r\n   <g id=\"patch_4\">\r\n    <path d=\"M 384.94375 239.758125 \r\nL 384.94375 22.318125 \r\n\" style=\"fill:none;stroke:#000000;stroke-linecap:square;stroke-linejoin:miter;stroke-width:0.8;\"/>\r\n   </g>\r\n   <g id=\"patch_5\">\r\n    <path d=\"M 50.14375 239.758125 \r\nL 384.94375 239.758125 \r\n\" style=\"fill:none;stroke:#000000;stroke-linecap:square;stroke-linejoin:miter;stroke-width:0.8;\"/>\r\n   </g>\r\n   <g id=\"patch_6\">\r\n    <path d=\"M 50.14375 22.318125 \r\nL 384.94375 22.318125 \r\n\" style=\"fill:none;stroke:#000000;stroke-linecap:square;stroke-linejoin:miter;stroke-width:0.8;\"/>\r\n   </g>\r\n   <g id=\"text_16\">\r\n    <!-- Tuning dropout and number of epochs -->\r\n    <defs>\r\n     <path d=\"M -0.296875 72.90625 \r\nL 61.375 72.90625 \r\nL 61.375 64.59375 \r\nL 35.5 64.59375 \r\nL 35.5 0 \r\nL 25.59375 0 \r\nL 25.59375 64.59375 \r\nL -0.296875 64.59375 \r\nz\r\n\" id=\"DejaVuSans-84\"/>\r\n     <path d=\"M 45.40625 27.984375 \r\nQ 45.40625 37.75 41.375 43.109375 \r\nQ 37.359375 48.484375 30.078125 48.484375 \r\nQ 22.859375 48.484375 18.828125 43.109375 \r\nQ 14.796875 37.75 14.796875 27.984375 \r\nQ 14.796875 18.265625 18.828125 12.890625 \r\nQ 22.859375 7.515625 30.078125 7.515625 \r\nQ 37.359375 7.515625 41.375 12.890625 \r\nQ 45.40625 18.265625 45.40625 27.984375 \r\nz\r\nM 54.390625 6.78125 \r\nQ 54.390625 -7.171875 48.1875 -13.984375 \r\nQ 42 -20.796875 29.203125 -20.796875 \r\nQ 24.46875 -20.796875 20.265625 -20.09375 \r\nQ 16.0625 -19.390625 12.109375 -17.921875 \r\nL 12.109375 -9.1875 \r\nQ 16.0625 -11.328125 19.921875 -12.34375 \r\nQ 23.78125 -13.375 27.78125 -13.375 \r\nQ 36.625 -13.375 41.015625 -8.765625 \r\nQ 45.40625 -4.15625 45.40625 5.171875 \r\nL 45.40625 9.625 \r\nQ 42.625 4.78125 38.28125 2.390625 \r\nQ 33.9375 0 27.875 0 \r\nQ 17.828125 0 11.671875 7.65625 \r\nQ 5.515625 15.328125 5.515625 27.984375 \r\nQ 5.515625 40.671875 11.671875 48.328125 \r\nQ 17.828125 56 27.875 56 \r\nQ 33.9375 56 38.28125 53.609375 \r\nQ 42.625 51.21875 45.40625 46.390625 \r\nL 45.40625 54.6875 \r\nL 54.390625 54.6875 \r\nz\r\n\" id=\"DejaVuSans-103\"/>\r\n     <path d=\"M 52 44.1875 \r\nQ 55.375 50.25 60.0625 53.125 \r\nQ 64.75 56 71.09375 56 \r\nQ 79.640625 56 84.28125 50.015625 \r\nQ 88.921875 44.046875 88.921875 33.015625 \r\nL 88.921875 0 \r\nL 79.890625 0 \r\nL 79.890625 32.71875 \r\nQ 79.890625 40.578125 77.09375 44.375 \r\nQ 74.3125 48.1875 68.609375 48.1875 \r\nQ 61.625 48.1875 57.5625 43.546875 \r\nQ 53.515625 38.921875 53.515625 30.90625 \r\nL 53.515625 0 \r\nL 44.484375 0 \r\nL 44.484375 32.71875 \r\nQ 44.484375 40.625 41.703125 44.40625 \r\nQ 38.921875 48.1875 33.109375 48.1875 \r\nQ 26.21875 48.1875 22.15625 43.53125 \r\nQ 18.109375 38.875 18.109375 30.90625 \r\nL 18.109375 0 \r\nL 9.078125 0 \r\nL 9.078125 54.6875 \r\nL 18.109375 54.6875 \r\nL 18.109375 46.1875 \r\nQ 21.1875 51.21875 25.484375 53.609375 \r\nQ 29.78125 56 35.6875 56 \r\nQ 41.65625 56 45.828125 52.96875 \r\nQ 50 49.953125 52 44.1875 \r\nz\r\n\" id=\"DejaVuSans-109\"/>\r\n     <path d=\"M 48.6875 27.296875 \r\nQ 48.6875 37.203125 44.609375 42.84375 \r\nQ 40.53125 48.484375 33.40625 48.484375 \r\nQ 26.265625 48.484375 22.1875 42.84375 \r\nQ 18.109375 37.203125 18.109375 27.296875 \r\nQ 18.109375 17.390625 22.1875 11.75 \r\nQ 26.265625 6.109375 33.40625 6.109375 \r\nQ 40.53125 6.109375 44.609375 11.75 \r\nQ 48.6875 17.390625 48.6875 27.296875 \r\nz\r\nM 18.109375 46.390625 \r\nQ 20.953125 51.265625 25.265625 53.625 \r\nQ 29.59375 56 35.59375 56 \r\nQ 45.5625 56 51.78125 48.09375 \r\nQ 58.015625 40.1875 58.015625 27.296875 \r\nQ 58.015625 14.40625 51.78125 6.484375 \r\nQ 45.5625 -1.421875 35.59375 -1.421875 \r\nQ 29.59375 -1.421875 25.265625 0.953125 \r\nQ 20.953125 3.328125 18.109375 8.203125 \r\nL 18.109375 0 \r\nL 9.078125 0 \r\nL 9.078125 75.984375 \r\nL 18.109375 75.984375 \r\nz\r\n\" id=\"DejaVuSans-98\"/>\r\n     <path d=\"M 56.203125 29.59375 \r\nL 56.203125 25.203125 \r\nL 14.890625 25.203125 \r\nQ 15.484375 15.921875 20.484375 11.0625 \r\nQ 25.484375 6.203125 34.421875 6.203125 \r\nQ 39.59375 6.203125 44.453125 7.46875 \r\nQ 49.3125 8.734375 54.109375 11.28125 \r\nL 54.109375 2.78125 \r\nQ 49.265625 0.734375 44.1875 -0.34375 \r\nQ 39.109375 -1.421875 33.890625 -1.421875 \r\nQ 20.796875 -1.421875 13.15625 6.1875 \r\nQ 5.515625 13.8125 5.515625 26.8125 \r\nQ 5.515625 40.234375 12.765625 48.109375 \r\nQ 20.015625 56 32.328125 56 \r\nQ 43.359375 56 49.78125 48.890625 \r\nQ 56.203125 41.796875 56.203125 29.59375 \r\nz\r\nM 47.21875 32.234375 \r\nQ 47.125 39.59375 43.09375 43.984375 \r\nQ 39.0625 48.390625 32.421875 48.390625 \r\nQ 24.90625 48.390625 20.390625 44.140625 \r\nQ 15.875 39.890625 15.1875 32.171875 \r\nz\r\n\" id=\"DejaVuSans-101\"/>\r\n     <path d=\"M 37.109375 75.984375 \r\nL 37.109375 68.5 \r\nL 28.515625 68.5 \r\nQ 23.6875 68.5 21.796875 66.546875 \r\nQ 19.921875 64.59375 19.921875 59.515625 \r\nL 19.921875 54.6875 \r\nL 34.71875 54.6875 \r\nL 34.71875 47.703125 \r\nL 19.921875 47.703125 \r\nL 19.921875 0 \r\nL 10.890625 0 \r\nL 10.890625 47.703125 \r\nL 2.296875 47.703125 \r\nL 2.296875 54.6875 \r\nL 10.890625 54.6875 \r\nL 10.890625 58.5 \r\nQ 10.890625 67.625 15.140625 71.796875 \r\nQ 19.390625 75.984375 28.609375 75.984375 \r\nz\r\n\" id=\"DejaVuSans-102\"/>\r\n    </defs>\r\n    <g transform=\"translate(102.007188 16.318125)scale(0.12 -0.12)\">\r\n     <use xlink:href=\"#DejaVuSans-84\"/>\r\n     <use x=\"60.849609\" xlink:href=\"#DejaVuSans-117\"/>\r\n     <use x=\"124.228516\" xlink:href=\"#DejaVuSans-110\"/>\r\n     <use x=\"187.607422\" xlink:href=\"#DejaVuSans-105\"/>\r\n     <use x=\"215.390625\" xlink:href=\"#DejaVuSans-110\"/>\r\n     <use x=\"278.769531\" xlink:href=\"#DejaVuSans-103\"/>\r\n     <use x=\"342.246094\" xlink:href=\"#DejaVuSans-32\"/>\r\n     <use x=\"374.033203\" xlink:href=\"#DejaVuSans-100\"/>\r\n     <use x=\"437.509766\" xlink:href=\"#DejaVuSans-114\"/>\r\n     <use x=\"478.591797\" xlink:href=\"#DejaVuSans-111\"/>\r\n     <use x=\"539.773438\" xlink:href=\"#DejaVuSans-112\"/>\r\n     <use x=\"603.25\" xlink:href=\"#DejaVuSans-111\"/>\r\n     <use x=\"664.431641\" xlink:href=\"#DejaVuSans-117\"/>\r\n     <use x=\"727.810547\" xlink:href=\"#DejaVuSans-116\"/>\r\n     <use x=\"767.019531\" xlink:href=\"#DejaVuSans-32\"/>\r\n     <use x=\"798.806641\" xlink:href=\"#DejaVuSans-97\"/>\r\n     <use x=\"860.085938\" xlink:href=\"#DejaVuSans-110\"/>\r\n     <use x=\"923.464844\" xlink:href=\"#DejaVuSans-100\"/>\r\n     <use x=\"986.941406\" xlink:href=\"#DejaVuSans-32\"/>\r\n     <use x=\"1018.728516\" xlink:href=\"#DejaVuSans-110\"/>\r\n     <use x=\"1082.107422\" xlink:href=\"#DejaVuSans-117\"/>\r\n     <use x=\"1145.486328\" xlink:href=\"#DejaVuSans-109\"/>\r\n     <use x=\"1242.898438\" xlink:href=\"#DejaVuSans-98\"/>\r\n     <use x=\"1306.375\" xlink:href=\"#DejaVuSans-101\"/>\r\n     <use x=\"1367.898438\" xlink:href=\"#DejaVuSans-114\"/>\r\n     <use x=\"1409.011719\" xlink:href=\"#DejaVuSans-32\"/>\r\n     <use x=\"1440.798828\" xlink:href=\"#DejaVuSans-111\"/>\r\n     <use x=\"1501.980469\" xlink:href=\"#DejaVuSans-102\"/>\r\n     <use x=\"1537.185547\" xlink:href=\"#DejaVuSans-32\"/>\r\n     <use x=\"1568.972656\" xlink:href=\"#DejaVuSans-101\"/>\r\n     <use x=\"1630.496094\" xlink:href=\"#DejaVuSans-112\"/>\r\n     <use x=\"1693.972656\" xlink:href=\"#DejaVuSans-111\"/>\r\n     <use x=\"1755.154297\" xlink:href=\"#DejaVuSans-99\"/>\r\n     <use x=\"1810.134766\" xlink:href=\"#DejaVuSans-104\"/>\r\n     <use x=\"1873.513672\" xlink:href=\"#DejaVuSans-115\"/>\r\n    </g>\r\n   </g>\r\n   <g id=\"legend_1\">\r\n    <g id=\"patch_7\">\r\n     <path d=\"M 330.040625 234.758125 \r\nL 377.94375 234.758125 \r\nQ 379.94375 234.758125 379.94375 232.758125 \r\nL 379.94375 101.655 \r\nQ 379.94375 99.655 377.94375 99.655 \r\nL 330.040625 99.655 \r\nQ 328.040625 99.655 328.040625 101.655 \r\nL 328.040625 232.758125 \r\nQ 328.040625 234.758125 330.040625 234.758125 \r\nz\r\n\" style=\"fill:#ffffff;opacity:0.8;stroke:#cccccc;stroke-linejoin:miter;\"/>\r\n    </g>\r\n    <g id=\"line2d_23\">\r\n     <path d=\"M 332.040625 107.753438 \r\nL 352.040625 107.753438 \r\n\" style=\"fill:none;stroke:#1f77b4;stroke-linecap:square;stroke-width:1.5;\"/>\r\n    </g>\r\n    <g id=\"line2d_24\"/>\r\n    <g id=\"text_17\">\r\n     <!-- 0.1 -->\r\n     <g transform=\"translate(360.040625 111.253438)scale(0.1 -0.1)\">\r\n      <use xlink:href=\"#DejaVuSans-48\"/>\r\n      <use x=\"63.623047\" xlink:href=\"#DejaVuSans-46\"/>\r\n      <use x=\"95.410156\" xlink:href=\"#DejaVuSans-49\"/>\r\n     </g>\r\n    </g>\r\n    <g id=\"line2d_25\">\r\n     <path d=\"M 332.040625 122.431563 \r\nL 352.040625 122.431563 \r\n\" style=\"fill:none;stroke:#ff7f0e;stroke-linecap:square;stroke-width:1.5;\"/>\r\n    </g>\r\n    <g id=\"line2d_26\"/>\r\n    <g id=\"text_18\">\r\n     <!-- 0.2 -->\r\n     <g transform=\"translate(360.040625 125.931563)scale(0.1 -0.1)\">\r\n      <use xlink:href=\"#DejaVuSans-48\"/>\r\n      <use x=\"63.623047\" xlink:href=\"#DejaVuSans-46\"/>\r\n      <use x=\"95.410156\" xlink:href=\"#DejaVuSans-50\"/>\r\n     </g>\r\n    </g>\r\n    <g id=\"line2d_27\">\r\n     <path d=\"M 332.040625 137.109688 \r\nL 352.040625 137.109688 \r\n\" style=\"fill:none;stroke:#2ca02c;stroke-linecap:square;stroke-width:1.5;\"/>\r\n    </g>\r\n    <g id=\"line2d_28\"/>\r\n    <g id=\"text_19\">\r\n     <!-- 0.3 -->\r\n     <g transform=\"translate(360.040625 140.609688)scale(0.1 -0.1)\">\r\n      <use xlink:href=\"#DejaVuSans-48\"/>\r\n      <use x=\"63.623047\" xlink:href=\"#DejaVuSans-46\"/>\r\n      <use x=\"95.410156\" xlink:href=\"#DejaVuSans-51\"/>\r\n     </g>\r\n    </g>\r\n    <g id=\"line2d_29\">\r\n     <path d=\"M 332.040625 151.787813 \r\nL 352.040625 151.787813 \r\n\" style=\"fill:none;stroke:#d62728;stroke-linecap:square;stroke-width:1.5;\"/>\r\n    </g>\r\n    <g id=\"line2d_30\"/>\r\n    <g id=\"text_20\">\r\n     <!-- 0.4 -->\r\n     <g transform=\"translate(360.040625 155.287813)scale(0.1 -0.1)\">\r\n      <use xlink:href=\"#DejaVuSans-48\"/>\r\n      <use x=\"63.623047\" xlink:href=\"#DejaVuSans-46\"/>\r\n      <use x=\"95.410156\" xlink:href=\"#DejaVuSans-52\"/>\r\n     </g>\r\n    </g>\r\n    <g id=\"line2d_31\">\r\n     <path d=\"M 332.040625 166.465938 \r\nL 352.040625 166.465938 \r\n\" style=\"fill:none;stroke:#9467bd;stroke-linecap:square;stroke-width:1.5;\"/>\r\n    </g>\r\n    <g id=\"line2d_32\"/>\r\n    <g id=\"text_21\">\r\n     <!-- 0.5 -->\r\n     <g transform=\"translate(360.040625 169.965938)scale(0.1 -0.1)\">\r\n      <use xlink:href=\"#DejaVuSans-48\"/>\r\n      <use x=\"63.623047\" xlink:href=\"#DejaVuSans-46\"/>\r\n      <use x=\"95.410156\" xlink:href=\"#DejaVuSans-53\"/>\r\n     </g>\r\n    </g>\r\n    <g id=\"line2d_33\">\r\n     <path d=\"M 332.040625 181.144063 \r\nL 352.040625 181.144063 \r\n\" style=\"fill:none;stroke:#8c564b;stroke-linecap:square;stroke-width:1.5;\"/>\r\n    </g>\r\n    <g id=\"line2d_34\"/>\r\n    <g id=\"text_22\">\r\n     <!-- 0.6 -->\r\n     <g transform=\"translate(360.040625 184.644063)scale(0.1 -0.1)\">\r\n      <use xlink:href=\"#DejaVuSans-48\"/>\r\n      <use x=\"63.623047\" xlink:href=\"#DejaVuSans-46\"/>\r\n      <use x=\"95.410156\" xlink:href=\"#DejaVuSans-54\"/>\r\n     </g>\r\n    </g>\r\n    <g id=\"line2d_35\">\r\n     <path d=\"M 332.040625 195.822188 \r\nL 352.040625 195.822188 \r\n\" style=\"fill:none;stroke:#e377c2;stroke-linecap:square;stroke-width:1.5;\"/>\r\n    </g>\r\n    <g id=\"line2d_36\"/>\r\n    <g id=\"text_23\">\r\n     <!-- 0.7 -->\r\n     <defs>\r\n      <path d=\"M 8.203125 72.90625 \r\nL 55.078125 72.90625 \r\nL 55.078125 68.703125 \r\nL 28.609375 0 \r\nL 18.3125 0 \r\nL 43.21875 64.59375 \r\nL 8.203125 64.59375 \r\nz\r\n\" id=\"DejaVuSans-55\"/>\r\n     </defs>\r\n     <g transform=\"translate(360.040625 199.322188)scale(0.1 -0.1)\">\r\n      <use xlink:href=\"#DejaVuSans-48\"/>\r\n      <use x=\"63.623047\" xlink:href=\"#DejaVuSans-46\"/>\r\n      <use x=\"95.410156\" xlink:href=\"#DejaVuSans-55\"/>\r\n     </g>\r\n    </g>\r\n    <g id=\"line2d_37\">\r\n     <path d=\"M 332.040625 210.500313 \r\nL 352.040625 210.500313 \r\n\" style=\"fill:none;stroke:#7f7f7f;stroke-linecap:square;stroke-width:1.5;\"/>\r\n    </g>\r\n    <g id=\"line2d_38\"/>\r\n    <g id=\"text_24\">\r\n     <!-- 0.8 -->\r\n     <g transform=\"translate(360.040625 214.000313)scale(0.1 -0.1)\">\r\n      <use xlink:href=\"#DejaVuSans-48\"/>\r\n      <use x=\"63.623047\" xlink:href=\"#DejaVuSans-46\"/>\r\n      <use x=\"95.410156\" xlink:href=\"#DejaVuSans-56\"/>\r\n     </g>\r\n    </g>\r\n    <g id=\"line2d_39\">\r\n     <path d=\"M 332.040625 225.178438 \r\nL 352.040625 225.178438 \r\n\" style=\"fill:none;stroke:#bcbd22;stroke-linecap:square;stroke-width:1.5;\"/>\r\n    </g>\r\n    <g id=\"line2d_40\"/>\r\n    <g id=\"text_25\">\r\n     <!-- 0.9 -->\r\n     <g transform=\"translate(360.040625 228.678438)scale(0.1 -0.1)\">\r\n      <use xlink:href=\"#DejaVuSans-48\"/>\r\n      <use x=\"63.623047\" xlink:href=\"#DejaVuSans-46\"/>\r\n      <use x=\"95.410156\" xlink:href=\"#DejaVuSans-57\"/>\r\n     </g>\r\n    </g>\r\n   </g>\r\n  </g>\r\n </g>\r\n <defs>\r\n  <clipPath id=\"pde26e52e48\">\r\n   <rect height=\"217.44\" width=\"334.8\" x=\"50.14375\" y=\"22.318125\"/>\r\n  </clipPath>\r\n </defs>\r\n</svg>\r\n",
      "text/plain": "<Figure size 432x288 with 1 Axes>"
     },
     "metadata": {
      "needs_background": "light"
     },
     "output_type": "display_data"
    }
   ],
   "source": [
    "# visualize\n",
    "for i in range(0, len(dropouts)):\n",
    "    plt.plot(range(1, 31),\n",
    "             validation_accuracies[i],\n",
    "             \"C\"+str(i), # \"C0\" is the first color in the palette, C1 the second etc\n",
    "             label = str(dropouts[i]))\n",
    "\n",
    "plt.xlabel(\"Epochs\")\n",
    "plt.ylabel('Validation accuracy')\n",
    "plt.legend()\n",
    "plt.title(\"Tuning dropout and number of epochs\")\n",
    "plt.show()"
   ]
  },
  {
   "cell_type": "code",
   "execution_count": 202,
   "metadata": {},
   "outputs": [
    {
     "name": "stdout",
     "output_type": "stream",
     "text": "0.4\n"
    },
    {
     "data": {
      "text/plain": "22"
     },
     "execution_count": 202,
     "metadata": {},
     "output_type": "execute_result"
    }
   ],
   "source": [
    "# the following is the list of highest accuracy scores across epochs, for each dropout value\n",
    "best_scores = list(map(max, validation_accuracies))\n",
    "# which dropout value had the best overall scores?\n",
    "index = best_scores.index(max(best_scores))\n",
    "print(dropouts[index])\n",
    "# in which epoch?\n",
    "validation_accuracies[index].index(max(best_scores)) + 1"
   ]
  },
  {
   "cell_type": "code",
   "execution_count": 203,
   "metadata": {},
   "outputs": [
    {
     "name": "stdout",
     "output_type": "stream",
     "text": "Train on 16000 samples, validate on 4000 samples\nEpoch 1/30\n16000/16000 [==============================] - 2s 119us/step - loss: 0.4020 - accuracy: 0.8219 - val_loss: 0.3547 - val_accuracy: 0.8468\nEpoch 2/30\n16000/16000 [==============================] - 2s 111us/step - loss: 0.3324 - accuracy: 0.8549 - val_loss: 0.3339 - val_accuracy: 0.8595\nEpoch 3/30\n16000/16000 [==============================] - 2s 95us/step - loss: 0.3090 - accuracy: 0.8643 - val_loss: 0.3167 - val_accuracy: 0.8618\nEpoch 4/30\n16000/16000 [==============================] - 1s 89us/step - loss: 0.2932 - accuracy: 0.8747 - val_loss: 0.3077 - val_accuracy: 0.8700\nEpoch 5/30\n16000/16000 [==============================] - 2s 94us/step - loss: 0.2801 - accuracy: 0.8773 - val_loss: 0.3031 - val_accuracy: 0.8665\nEpoch 6/30\n16000/16000 [==============================] - 2s 115us/step - loss: 0.2679 - accuracy: 0.8811 - val_loss: 0.2886 - val_accuracy: 0.8767\nEpoch 7/30\n16000/16000 [==============================] - 2s 101us/step - loss: 0.2584 - accuracy: 0.8873 - val_loss: 0.2799 - val_accuracy: 0.8795\nEpoch 8/30\n16000/16000 [==============================] - 2s 102us/step - loss: 0.2491 - accuracy: 0.8942 - val_loss: 0.2771 - val_accuracy: 0.8800\nEpoch 9/30\n16000/16000 [==============================] - 2s 100us/step - loss: 0.2364 - accuracy: 0.9002 - val_loss: 0.2715 - val_accuracy: 0.8838\nEpoch 10/30\n16000/16000 [==============================] - 2s 97us/step - loss: 0.2273 - accuracy: 0.9025 - val_loss: 0.2617 - val_accuracy: 0.8888\nEpoch 11/30\n16000/16000 [==============================] - 2s 96us/step - loss: 0.2202 - accuracy: 0.9079 - val_loss: 0.2629 - val_accuracy: 0.8895\nEpoch 12/30\n16000/16000 [==============================] - 1s 83us/step - loss: 0.2157 - accuracy: 0.9073 - val_loss: 0.2577 - val_accuracy: 0.8970\nEpoch 13/30\n16000/16000 [==============================] - 2s 117us/step - loss: 0.2078 - accuracy: 0.9121 - val_loss: 0.2524 - val_accuracy: 0.8955\nEpoch 14/30\n16000/16000 [==============================] - 1s 87us/step - loss: 0.2030 - accuracy: 0.9135 - val_loss: 0.2543 - val_accuracy: 0.8935\nEpoch 15/30\n16000/16000 [==============================] - 1s 90us/step - loss: 0.1967 - accuracy: 0.9164 - val_loss: 0.2523 - val_accuracy: 0.8965\nEpoch 16/30\n16000/16000 [==============================] - 2s 107us/step - loss: 0.1919 - accuracy: 0.9169 - val_loss: 0.2486 - val_accuracy: 0.8982\nEpoch 17/30\n16000/16000 [==============================] - 2s 98us/step - loss: 0.1866 - accuracy: 0.9226 - val_loss: 0.2486 - val_accuracy: 0.8955\nEpoch 18/30\n16000/16000 [==============================] - 2s 98us/step - loss: 0.1789 - accuracy: 0.9250 - val_loss: 0.2504 - val_accuracy: 0.8997\nEpoch 19/30\n16000/16000 [==============================] - 2s 101us/step - loss: 0.1779 - accuracy: 0.9257 - val_loss: 0.2457 - val_accuracy: 0.8985\nEpoch 20/30\n16000/16000 [==============================] - 2s 95us/step - loss: 0.1721 - accuracy: 0.9270 - val_loss: 0.2448 - val_accuracy: 0.9022\nEpoch 21/30\n16000/16000 [==============================] - 2s 126us/step - loss: 0.1699 - accuracy: 0.9280 - val_loss: 0.2453 - val_accuracy: 0.9010\nEpoch 22/30\n16000/16000 [==============================] - 2s 108us/step - loss: 0.1660 - accuracy: 0.9299 - val_loss: 0.2502 - val_accuracy: 0.8985\nEpoch 23/30\n16000/16000 [==============================] - 2s 108us/step - loss: 0.1651 - accuracy: 0.9293 - val_loss: 0.2454 - val_accuracy: 0.9000\nEpoch 24/30\n16000/16000 [==============================] - 2s 115us/step - loss: 0.1612 - accuracy: 0.9317 - val_loss: 0.2458 - val_accuracy: 0.9000\nEpoch 25/30\n16000/16000 [==============================] - 2s 119us/step - loss: 0.1590 - accuracy: 0.9330 - val_loss: 0.2522 - val_accuracy: 0.8992\nEpoch 26/30\n16000/16000 [==============================] - 2s 106us/step - loss: 0.1533 - accuracy: 0.9357 - val_loss: 0.2505 - val_accuracy: 0.9007\nEpoch 27/30\n16000/16000 [==============================] - 2s 109us/step - loss: 0.1524 - accuracy: 0.9360 - val_loss: 0.2536 - val_accuracy: 0.8997\nEpoch 28/30\n16000/16000 [==============================] - 2s 103us/step - loss: 0.1483 - accuracy: 0.9372 - val_loss: 0.2532 - val_accuracy: 0.9038\nEpoch 29/30\n16000/16000 [==============================] - 2s 100us/step - loss: 0.1444 - accuracy: 0.9387 - val_loss: 0.2688 - val_accuracy: 0.8957\nEpoch 30/30\n16000/16000 [==============================] - 2s 101us/step - loss: 0.1435 - accuracy: 0.9379 - val_loss: 0.2552 - val_accuracy: 0.9007\n"
    }
   ],
   "source": [
    "# model\n",
    "model = Sequential() # initialize\n",
    "model.add(Dense(64, activation = \"relu\", input_dim = onehot_train.shape[1])) # dense layer with ReLU activation\n",
    "model.add(Dropout(0.4)) # droput\n",
    "model.add(Dense(1, activation = 'sigmoid')) # binary classification\n",
    "\n",
    "model.compile(loss = 'binary_crossentropy',\n",
    "              optimizer = 'adam',\n",
    "              metrics = ['accuracy'])\n",
    "# training\n",
    "history = model.fit(onehot_train,\n",
    "                    train_y,\n",
    "                    epochs = 30,\n",
    "                    batch_size = 32,\n",
    "                    validation_split = 0.2,\n",
    "                    verbose = 1)"
   ]
  },
  {
   "cell_type": "markdown",
   "metadata": {},
   "source": [
    "Evaluate the model on test data:"
   ]
  },
  {
   "cell_type": "code",
   "execution_count": 19,
   "metadata": {},
   "outputs": [],
   "source": [
    "from sklearn.metrics import accuracy_score, precision_recall_fscore_support"
   ]
  },
  {
   "cell_type": "code",
   "execution_count": 204,
   "metadata": {},
   "outputs": [
    {
     "name": "stdout",
     "output_type": "stream",
     "text": "Accuracy=0.9109891784788904\nPrecision=0.8650442287188196, Recall=0.8411756150172971, F1-Score=0.8523373377786521\n"
    }
   ],
   "source": [
    "# predictions of the model on test data\n",
    "pred = np.around(model.predict(onehot_test))\n",
    "# evaluation\n",
    "print(\"Accuracy={}\".format(accuracy_score(test_y, pred)))\n",
    "pr, re, f1, su = precision_recall_fscore_support(test_y, pred, average='macro')\n",
    "print(\"Precision={}, Recall={}, F1-Score={}\".format(pr, re, f1))"
   ]
  },
  {
   "cell_type": "markdown",
   "metadata": {},
   "source": [
    "Worse performance, but not by much. It's likely that the model learns something from the last three or four letters in a word (there are typical verb-endings and typical noun-endings in German). This information might be washed out by `post` padding."
   ]
  },
  {
   "cell_type": "markdown",
   "metadata": {},
   "source": [
    "### Exercise 4\n",
    "Back to logistic regression. Train and evaluate a logistic regression model on the same data, and compare with results of the nn trained above."
   ]
  },
  {
   "cell_type": "code",
   "execution_count": 219,
   "metadata": {},
   "outputs": [
    {
     "name": "stdout",
     "output_type": "stream",
     "text": "Train on 16000 samples, validate on 4000 samples\nEpoch 1/30\n16000/16000 [==============================] - 1s 60us/step - loss: 0.4614 - accuracy: 0.8044 - val_loss: 0.4227 - val_accuracy: 0.8020\nEpoch 2/30\n16000/16000 [==============================] - 1s 60us/step - loss: 0.3958 - accuracy: 0.8112 - val_loss: 0.3924 - val_accuracy: 0.8198\nEpoch 3/30\n16000/16000 [==============================] - 1s 60us/step - loss: 0.3707 - accuracy: 0.8307 - val_loss: 0.3771 - val_accuracy: 0.8322\nEpoch 4/30\n16000/16000 [==============================] - 1s 76us/step - loss: 0.3562 - accuracy: 0.8410 - val_loss: 0.3705 - val_accuracy: 0.8320\nEpoch 5/30\n16000/16000 [==============================] - 1s 52us/step - loss: 0.3471 - accuracy: 0.8469 - val_loss: 0.3625 - val_accuracy: 0.8425\nEpoch 6/30\n16000/16000 [==============================] - 1s 54us/step - loss: 0.3406 - accuracy: 0.8498 - val_loss: 0.3595 - val_accuracy: 0.8407\nEpoch 7/30\n16000/16000 [==============================] - 1s 58us/step - loss: 0.3358 - accuracy: 0.8500 - val_loss: 0.3550 - val_accuracy: 0.8443\nEpoch 8/30\n16000/16000 [==============================] - 1s 53us/step - loss: 0.3317 - accuracy: 0.8517 - val_loss: 0.3526 - val_accuracy: 0.8450\nEpoch 9/30\n16000/16000 [==============================] - 1s 55us/step - loss: 0.3288 - accuracy: 0.8525 - val_loss: 0.3508 - val_accuracy: 0.8462\nEpoch 10/30\n16000/16000 [==============================] - 1s 46us/step - loss: 0.3262 - accuracy: 0.8541 - val_loss: 0.3492 - val_accuracy: 0.8472\nEpoch 11/30\n16000/16000 [==============================] - 1s 46us/step - loss: 0.3245 - accuracy: 0.8542 - val_loss: 0.3483 - val_accuracy: 0.8462\nEpoch 12/30\n16000/16000 [==============================] - 1s 46us/step - loss: 0.3223 - accuracy: 0.8554 - val_loss: 0.3481 - val_accuracy: 0.8460\nEpoch 13/30\n16000/16000 [==============================] - 1s 51us/step - loss: 0.3208 - accuracy: 0.8549 - val_loss: 0.3464 - val_accuracy: 0.8443\nEpoch 14/30\n16000/16000 [==============================] - 1s 54us/step - loss: 0.3197 - accuracy: 0.8554 - val_loss: 0.3462 - val_accuracy: 0.8447\nEpoch 15/30\n16000/16000 [==============================] - 1s 54us/step - loss: 0.3187 - accuracy: 0.8570 - val_loss: 0.3457 - val_accuracy: 0.8462\nEpoch 16/30\n16000/16000 [==============================] - 1s 48us/step - loss: 0.3175 - accuracy: 0.8560 - val_loss: 0.3446 - val_accuracy: 0.8457\nEpoch 17/30\n16000/16000 [==============================] - 1s 55us/step - loss: 0.3170 - accuracy: 0.8562 - val_loss: 0.3442 - val_accuracy: 0.8445\nEpoch 18/30\n16000/16000 [==============================] - 1s 55us/step - loss: 0.3159 - accuracy: 0.8567 - val_loss: 0.3439 - val_accuracy: 0.8445\nEpoch 19/30\n16000/16000 [==============================] - 1s 56us/step - loss: 0.3152 - accuracy: 0.8569 - val_loss: 0.3440 - val_accuracy: 0.8475\nEpoch 20/30\n16000/16000 [==============================] - 1s 52us/step - loss: 0.3145 - accuracy: 0.8561 - val_loss: 0.3450 - val_accuracy: 0.8443\nEpoch 21/30\n16000/16000 [==============================] - 1s 50us/step - loss: 0.3140 - accuracy: 0.8565 - val_loss: 0.3441 - val_accuracy: 0.8440\nEpoch 22/30\n16000/16000 [==============================] - 1s 49us/step - loss: 0.3137 - accuracy: 0.8572 - val_loss: 0.3440 - val_accuracy: 0.8440\nEpoch 23/30\n16000/16000 [==============================] - 1s 53us/step - loss: 0.3130 - accuracy: 0.8570 - val_loss: 0.3436 - val_accuracy: 0.8438\nEpoch 24/30\n16000/16000 [==============================] - 1s 56us/step - loss: 0.3128 - accuracy: 0.8579 - val_loss: 0.3429 - val_accuracy: 0.8443\nEpoch 25/30\n16000/16000 [==============================] - 1s 54us/step - loss: 0.3122 - accuracy: 0.8573 - val_loss: 0.3428 - val_accuracy: 0.8460\nEpoch 26/30\n16000/16000 [==============================] - 1s 50us/step - loss: 0.3119 - accuracy: 0.8576 - val_loss: 0.3426 - val_accuracy: 0.8465\nEpoch 27/30\n16000/16000 [==============================] - 1s 56us/step - loss: 0.3116 - accuracy: 0.8579 - val_loss: 0.3429 - val_accuracy: 0.8440\nEpoch 28/30\n16000/16000 [==============================] - 1s 51us/step - loss: 0.3109 - accuracy: 0.8580 - val_loss: 0.3461 - val_accuracy: 0.8443\nEpoch 29/30\n16000/16000 [==============================] - 1s 48us/step - loss: 0.3110 - accuracy: 0.8569 - val_loss: 0.3428 - val_accuracy: 0.8443\nEpoch 30/30\n16000/16000 [==============================] - 1s 54us/step - loss: 0.3104 - accuracy: 0.8579 - val_loss: 0.3427 - val_accuracy: 0.8468\n"
    }
   ],
   "source": [
    "from keras.regularizers import l2\n",
    "# model\n",
    "model = Sequential() # initialize\n",
    "model.add(Dense(1, activation = 'sigmoid',\n",
    "                   input_dim = onehot_train.shape[1],\n",
    "                   kernel_regularizer = l2(0)))\n",
    "\n",
    "model.compile(loss = 'binary_crossentropy',\n",
    "              optimizer = 'adam',\n",
    "              metrics = ['accuracy'])\n",
    "# training\n",
    "history = model.fit(onehot_train,\n",
    "                    train_y,\n",
    "                    epochs = 30,\n",
    "                    batch_size = 32,\n",
    "                    validation_split = 0.2,\n",
    "                    verbose = 1)"
   ]
  },
  {
   "cell_type": "markdown",
   "metadata": {},
   "source": [
    "With a few manual tests we determined that no regularization yields better results."
   ]
  },
  {
   "cell_type": "code",
   "execution_count": 220,
   "metadata": {},
   "outputs": [
    {
     "name": "stdout",
     "output_type": "stream",
     "text": "Accuracy=0.8510897729004725\nPrecision=0.7681266068347956, Recall=0.7145113650094652, F1-Score=0.735431286085378\n"
    }
   ],
   "source": [
    "# evaluation of the model on test data\n",
    "pred = np.around(model.predict(onehot_test))\n",
    "print(\"Accuracy={}\".format(accuracy_score(test_y, pred)))\n",
    "pr, re, f1, su = precision_recall_fscore_support(test_y, pred, average='macro')\n",
    "print(\"Precision={}, Recall={}, F1-Score={}\".format(pr, re, f1))"
   ]
  },
  {
   "cell_type": "markdown",
   "metadata": {},
   "source": [
    "Notably worse than previous results."
   ]
  },
  {
   "cell_type": "markdown",
   "metadata": {},
   "source": [
    "### Exercise 5\n",
    "Recurrent neural networks. We train and tune a recurrent neural network using Gated Recurrent Unit (GRU), with `train_x` as defined at the beginning i.e. words as padded lists of integers but without one-hot-encoding the characters.\n",
    "\n",
    "First of all, the data:"
   ]
  },
  {
   "cell_type": "code",
   "execution_count": 13,
   "metadata": {},
   "outputs": [],
   "source": [
    "# reset train_x and test_x to original definition\n",
    "train_x = df_train.apply(lambda row: word_encoder(row.word, alphabet), axis = 1)\n",
    "test_x = df_test.apply(lambda row: word_encoder(row.word, alphabet), axis = 1)\n",
    "# padding\n",
    "train_x = pad_sequences(train_x, padding = \"pre\")\n",
    "test_x = pad_sequences(test_x, maxlen = train_x.shape[1], padding = \"pre\")"
   ]
  },
  {
   "cell_type": "code",
   "execution_count": 14,
   "metadata": {},
   "outputs": [
    {
     "data": {
      "text/plain": "(20000, 31)"
     },
     "execution_count": 14,
     "metadata": {},
     "output_type": "execute_result"
    }
   ],
   "source": [
    "train_x.shape"
   ]
  },
  {
   "cell_type": "markdown",
   "metadata": {},
   "source": [
    "Next, we define and try out one possible hyperparameter configuration of the model:"
   ]
  },
  {
   "cell_type": "code",
   "execution_count": 15,
   "metadata": {},
   "outputs": [],
   "source": [
    "from keras.layers import Embedding, GRU"
   ]
  },
  {
   "cell_type": "code",
   "execution_count": 16,
   "metadata": {},
   "outputs": [
    {
     "name": "stdout",
     "output_type": "stream",
     "text": "Model: \"sequential_1\"\n_________________________________________________________________\nLayer (type)                 Output Shape              Param #   \n=================================================================\nembedding_1 (Embedding)      (None, 31, 16)            512       \n_________________________________________________________________\ndropout_1 (Dropout)          (None, 31, 16)            0         \n_________________________________________________________________\ngru_1 (GRU)                  (None, 32)                4704      \n_________________________________________________________________\ndropout_2 (Dropout)          (None, 32)                0         \n_________________________________________________________________\ndense_1 (Dense)              (None, 1)                 33        \n=================================================================\nTotal params: 5,249\nTrainable params: 5,249\nNon-trainable params: 0\n_________________________________________________________________\n"
    }
   ],
   "source": [
    "# model\n",
    "model = Sequential() # initialize\n",
    "\n",
    "# embedding layer\n",
    "model.add(Embedding(input_dim = len(alphabet)+2, # length of alphabet (plus unknown) plus one\n",
    "                    input_length = train_x.shape[1], # length of each padded word\n",
    "                    output_dim = 16, # length of embedded vector\n",
    "                    mask_zero = True)) # the zeros in the padding are to be treated as special symbols\n",
    "model.add(Dropout(0.3)) # droput\n",
    "\n",
    "model.add(GRU(units = 32)) # GRU layer\n",
    "model.add(Dropout(0.3)) # droput\n",
    "\n",
    "model.add(Dense(1, activation = 'sigmoid')) # binary classification\n",
    "\n",
    "# this as before\n",
    "model.compile(loss = 'binary_crossentropy',\n",
    "              optimizer = 'adam',\n",
    "              metrics = ['accuracy'])\n",
    "\n",
    "model.summary()"
   ]
  },
  {
   "cell_type": "code",
   "execution_count": 18,
   "metadata": {},
   "outputs": [
    {
     "name": "stdout",
     "output_type": "stream",
     "text": "Train on 16000 samples, validate on 4000 samples\nEpoch 1/30\n16000/16000 [==============================] - 12s 762us/step - loss: 0.4154 - accuracy: 0.8170 - val_loss: 0.3472 - val_accuracy: 0.8278\nEpoch 2/30\n16000/16000 [==============================] - 11s 695us/step - loss: 0.3369 - accuracy: 0.8394 - val_loss: 0.3236 - val_accuracy: 0.8435\nEpoch 3/30\n16000/16000 [==============================] - 11s 692us/step - loss: 0.3162 - accuracy: 0.8531 - val_loss: 0.3257 - val_accuracy: 0.8403\nEpoch 4/30\n16000/16000 [==============================] - 11s 673us/step - loss: 0.3050 - accuracy: 0.8562 - val_loss: 0.2977 - val_accuracy: 0.8568\nEpoch 5/30\n16000/16000 [==============================] - 11s 713us/step - loss: 0.2940 - accuracy: 0.8611 - val_loss: 0.3083 - val_accuracy: 0.8520\nEpoch 6/30\n16000/16000 [==============================] - 11s 708us/step - loss: 0.2830 - accuracy: 0.8684 - val_loss: 0.2799 - val_accuracy: 0.8702\nEpoch 7/30\n16000/16000 [==============================] - 12s 721us/step - loss: 0.2779 - accuracy: 0.8708 - val_loss: 0.2730 - val_accuracy: 0.8742\nEpoch 8/30\n16000/16000 [==============================] - 12s 735us/step - loss: 0.2705 - accuracy: 0.8752 - val_loss: 0.2664 - val_accuracy: 0.8792\nEpoch 9/30\n16000/16000 [==============================] - 11s 669us/step - loss: 0.2662 - accuracy: 0.8802 - val_loss: 0.2602 - val_accuracy: 0.8840\nEpoch 10/30\n16000/16000 [==============================] - 11s 684us/step - loss: 0.2575 - accuracy: 0.8859 - val_loss: 0.2543 - val_accuracy: 0.8867\nEpoch 11/30\n16000/16000 [==============================] - 11s 677us/step - loss: 0.2520 - accuracy: 0.8891 - val_loss: 0.2450 - val_accuracy: 0.8915\nEpoch 12/30\n16000/16000 [==============================] - 12s 727us/step - loss: 0.2440 - accuracy: 0.8905 - val_loss: 0.2375 - val_accuracy: 0.8938\nEpoch 13/30\n16000/16000 [==============================] - 14s 883us/step - loss: 0.2388 - accuracy: 0.8959 - val_loss: 0.2328 - val_accuracy: 0.9010\nEpoch 14/30\n16000/16000 [==============================] - 14s 861us/step - loss: 0.2298 - accuracy: 0.9004 - val_loss: 0.2279 - val_accuracy: 0.8985\nEpoch 15/30\n16000/16000 [==============================] - 10s 650us/step - loss: 0.2280 - accuracy: 0.9020 - val_loss: 0.2242 - val_accuracy: 0.9020\nEpoch 16/30\n16000/16000 [==============================] - 11s 707us/step - loss: 0.2228 - accuracy: 0.9054 - val_loss: 0.2181 - val_accuracy: 0.9078\nEpoch 17/30\n16000/16000 [==============================] - 10s 646us/step - loss: 0.2200 - accuracy: 0.9062 - val_loss: 0.2176 - val_accuracy: 0.9078\nEpoch 18/30\n16000/16000 [==============================] - 12s 766us/step - loss: 0.2161 - accuracy: 0.9079 - val_loss: 0.2123 - val_accuracy: 0.9093\nEpoch 19/30\n16000/16000 [==============================] - 14s 906us/step - loss: 0.2138 - accuracy: 0.9096 - val_loss: 0.2116 - val_accuracy: 0.9070\nEpoch 20/30\n16000/16000 [==============================] - 12s 756us/step - loss: 0.2090 - accuracy: 0.9116 - val_loss: 0.2125 - val_accuracy: 0.9135\nEpoch 21/30\n16000/16000 [==============================] - 11s 660us/step - loss: 0.2065 - accuracy: 0.9127 - val_loss: 0.2036 - val_accuracy: 0.9120\nEpoch 22/30\n16000/16000 [==============================] - 9s 592us/step - loss: 0.2051 - accuracy: 0.9128 - val_loss: 0.2031 - val_accuracy: 0.9143\nEpoch 23/30\n16000/16000 [==============================] - 10s 625us/step - loss: 0.2004 - accuracy: 0.9134 - val_loss: 0.2002 - val_accuracy: 0.9170\nEpoch 24/30\n16000/16000 [==============================] - 10s 645us/step - loss: 0.2006 - accuracy: 0.9172 - val_loss: 0.1977 - val_accuracy: 0.9150\nEpoch 25/30\n16000/16000 [==============================] - 12s 729us/step - loss: 0.1953 - accuracy: 0.9169 - val_loss: 0.2052 - val_accuracy: 0.9147\nEpoch 26/30\n16000/16000 [==============================] - 11s 660us/step - loss: 0.1938 - accuracy: 0.9168 - val_loss: 0.1968 - val_accuracy: 0.9162\nEpoch 27/30\n16000/16000 [==============================] - 10s 613us/step - loss: 0.1929 - accuracy: 0.9171 - val_loss: 0.1953 - val_accuracy: 0.9215\nEpoch 28/30\n16000/16000 [==============================] - 10s 610us/step - loss: 0.1900 - accuracy: 0.9201 - val_loss: 0.1980 - val_accuracy: 0.9180\nEpoch 29/30\n16000/16000 [==============================] - 10s 653us/step - loss: 0.1879 - accuracy: 0.9196 - val_loss: 0.1877 - val_accuracy: 0.9243\nEpoch 30/30\n16000/16000 [==============================] - 11s 682us/step - loss: 0.1863 - accuracy: 0.9233 - val_loss: 0.1900 - val_accuracy: 0.9210\n"
    }
   ],
   "source": [
    "# training\n",
    "history = model.fit(train_x,\n",
    "                    train_y,\n",
    "                    epochs = 30,\n",
    "                    batch_size = 32,\n",
    "                    validation_split = 0.2,\n",
    "                    verbose = 1)"
   ]
  },
  {
   "cell_type": "markdown",
   "metadata": {},
   "source": [
    "Results seem already better than simple nn above, even with no tuning whatsoever.\n",
    "\n",
    "Evaluate the model on test data as well:"
   ]
  },
  {
   "cell_type": "code",
   "execution_count": 20,
   "metadata": {},
   "outputs": [
    {
     "name": "stdout",
     "output_type": "stream",
     "text": "Accuracy=0.9263831732967536\nPrecision=0.8903559110159086, Recall=0.8675418104354908, F1-Score=0.8783009710881744\n"
    }
   ],
   "source": [
    "# predictions of the model on test data\n",
    "pred = np.around(model.predict(test_x))\n",
    "# evaluation\n",
    "print(\"Accuracy={}\".format(accuracy_score(test_y, pred)))\n",
    "pr, re, f1, su = precision_recall_fscore_support(test_y, pred, average='macro')\n",
    "print(\"Precision={}, Recall={}, F1-Score={}\".format(pr, re, f1))"
   ]
  },
  {
   "cell_type": "markdown",
   "metadata": {},
   "source": [
    "Again, better results than tuned simple nn above.\n",
    "\n",
    "We can try to tune the rnn as well, in which case there are several hyperparameters: output of embedding layer, dropout value after this layer, number of GRU units, dropout after this layer, number of epochs...? \n",
    "\n",
    "We use `keras-tuner`:"
   ]
  },
  {
   "cell_type": "code",
   "execution_count": 41,
   "metadata": {},
   "outputs": [],
   "source": [
    "from tensorflow import keras # we need to import keras like this in order for it to work with keras-tuner\n",
    "from tensorflow.keras import layers\n",
    "from kerastuner.tuners import RandomSearch"
   ]
  },
  {
   "cell_type": "markdown",
   "metadata": {},
   "source": [
    "First, we wrap our rnn model above in a function which takes `hp` as argument, where `hp` is a variable where we sample hyperparameter values from:"
   ]
  },
  {
   "cell_type": "code",
   "execution_count": 74,
   "metadata": {},
   "outputs": [],
   "source": [
    "def build_model(hp): # notice where hp is referred to in the following defintion\n",
    "    # model\n",
    "    model = keras.Sequential()\n",
    "\n",
    "    # embedding layer\n",
    "    model.add(layers.Embedding(input_dim = len(alphabet)+2,\n",
    "                        input_length = train_x.shape[1],\n",
    "                        output_dim = hp.Int(\"output_dim\", # number of embedding output can range between 16 and 128\n",
    "                                            min_value=16,\n",
    "                                            max_value=128,\n",
    "                                            step=32),\n",
    "                        mask_zero = True))\n",
    "\n",
    "    model.add(layers.Dropout(rate = hp.Choice(\"rate_1\", # dropout can range between 0.1 and 0.5\n",
    "                                              values = [0.1, 0.2, 0.3, 0.4, 0.5])))\n",
    "\n",
    "    model.add(layers.GRU(units = hp.Int(\"units\", # number of GRUnits can range between 32 and 128\n",
    "                                        min_value=32,\n",
    "                                        max_value=128,\n",
    "                                        step=32)))\n",
    "\n",
    "    model.add(layers.Dropout(rate = hp.Choice(\"rate_2\", # dropout can range between 0.1 and 0.5\n",
    "                                              values = [0.1, 0.2, 0.3, 0.4, 0.5])))\n",
    "\n",
    "    model.add(layers.Dense(1, activation = 'sigmoid'))\n",
    "\n",
    "    # this as before\n",
    "    model.compile(loss = 'binary_crossentropy',\n",
    "                optimizer = 'adam',\n",
    "                metrics = ['accuracy'])\n",
    "    return(model)"
   ]
  },
  {
   "cell_type": "markdown",
   "metadata": {},
   "source": [
    "Next, we initialize a tuner:"
   ]
  },
  {
   "cell_type": "code",
   "execution_count": 79,
   "metadata": {},
   "outputs": [
    {
     "name": "stdout",
     "output_type": "stream",
     "text": "INFO:tensorflow:Reloading Oracle from existing project tuning\\assignment5\\oracle.json\n"
    }
   ],
   "source": [
    "tuner = RandomSearch(build_model, # the function defined above\n",
    "                     objective = \"val_accuracy\", # the metric to optimize\n",
    "                     max_trials = 5, # total number of trials to test\n",
    "                     executions_per_trial = 3, # how many models are built and fit in each trial\n",
    "                     directory = \"tuning\",\n",
    "                     project_name = \"assignment5\")"
   ]
  },
  {
   "cell_type": "code",
   "execution_count": 77,
   "metadata": {},
   "outputs": [
    {
     "data": {
      "text/html": "<span style=\"color:#4527A0\"><h1 style=\"font-size:18px\">Search space summary</h1></span>",
      "text/plain": "<IPython.core.display.HTML object>"
     },
     "metadata": {},
     "output_type": "display_data"
    },
    {
     "data": {
      "text/html": "<span style=\"color:cyan\"> |-Default search space size: 4</span>",
      "text/plain": "<IPython.core.display.HTML object>"
     },
     "metadata": {},
     "output_type": "display_data"
    },
    {
     "data": {
      "text/html": "<span style=\"color:#7E57C2\"><h2 style=\"font-size:16px\">output_dim (Int)</h2></span>",
      "text/plain": "<IPython.core.display.HTML object>"
     },
     "metadata": {},
     "output_type": "display_data"
    },
    {
     "data": {
      "text/html": "<span style=\"color:cyan\"> |-default: None</span>",
      "text/plain": "<IPython.core.display.HTML object>"
     },
     "metadata": {},
     "output_type": "display_data"
    },
    {
     "data": {
      "text/html": "<span style=\"color:blue\"> |-max_value: 128</span>",
      "text/plain": "<IPython.core.display.HTML object>"
     },
     "metadata": {},
     "output_type": "display_data"
    },
    {
     "data": {
      "text/html": "<span style=\"color:cyan\"> |-min_value: 16</span>",
      "text/plain": "<IPython.core.display.HTML object>"
     },
     "metadata": {},
     "output_type": "display_data"
    },
    {
     "data": {
      "text/html": "<span style=\"color:blue\"> |-sampling: None</span>",
      "text/plain": "<IPython.core.display.HTML object>"
     },
     "metadata": {},
     "output_type": "display_data"
    },
    {
     "data": {
      "text/html": "<span style=\"color:cyan\"> |-step: 32</span>",
      "text/plain": "<IPython.core.display.HTML object>"
     },
     "metadata": {},
     "output_type": "display_data"
    },
    {
     "data": {
      "text/html": "<span style=\"color:#7E57C2\"><h2 style=\"font-size:16px\">rate_1 (Choice)</h2></span>",
      "text/plain": "<IPython.core.display.HTML object>"
     },
     "metadata": {},
     "output_type": "display_data"
    },
    {
     "data": {
      "text/html": "<span style=\"color:cyan\"> |-default: 0.1</span>",
      "text/plain": "<IPython.core.display.HTML object>"
     },
     "metadata": {},
     "output_type": "display_data"
    },
    {
     "data": {
      "text/html": "<span style=\"color:blue\"> |-ordered: True</span>",
      "text/plain": "<IPython.core.display.HTML object>"
     },
     "metadata": {},
     "output_type": "display_data"
    },
    {
     "data": {
      "text/html": "<span style=\"color:cyan\"> |-values: [0.1, 0.2, 0.3, 0.4, 0.5]</span>",
      "text/plain": "<IPython.core.display.HTML object>"
     },
     "metadata": {},
     "output_type": "display_data"
    },
    {
     "data": {
      "text/html": "<span style=\"color:#7E57C2\"><h2 style=\"font-size:16px\">units (Int)</h2></span>",
      "text/plain": "<IPython.core.display.HTML object>"
     },
     "metadata": {},
     "output_type": "display_data"
    },
    {
     "data": {
      "text/html": "<span style=\"color:cyan\"> |-default: None</span>",
      "text/plain": "<IPython.core.display.HTML object>"
     },
     "metadata": {},
     "output_type": "display_data"
    },
    {
     "data": {
      "text/html": "<span style=\"color:blue\"> |-max_value: 128</span>",
      "text/plain": "<IPython.core.display.HTML object>"
     },
     "metadata": {},
     "output_type": "display_data"
    },
    {
     "data": {
      "text/html": "<span style=\"color:cyan\"> |-min_value: 32</span>",
      "text/plain": "<IPython.core.display.HTML object>"
     },
     "metadata": {},
     "output_type": "display_data"
    },
    {
     "data": {
      "text/html": "<span style=\"color:blue\"> |-sampling: None</span>",
      "text/plain": "<IPython.core.display.HTML object>"
     },
     "metadata": {},
     "output_type": "display_data"
    },
    {
     "data": {
      "text/html": "<span style=\"color:cyan\"> |-step: 32</span>",
      "text/plain": "<IPython.core.display.HTML object>"
     },
     "metadata": {},
     "output_type": "display_data"
    },
    {
     "data": {
      "text/html": "<span style=\"color:#7E57C2\"><h2 style=\"font-size:16px\">rate_2 (Choice)</h2></span>",
      "text/plain": "<IPython.core.display.HTML object>"
     },
     "metadata": {},
     "output_type": "display_data"
    },
    {
     "data": {
      "text/html": "<span style=\"color:cyan\"> |-default: 0.1</span>",
      "text/plain": "<IPython.core.display.HTML object>"
     },
     "metadata": {},
     "output_type": "display_data"
    },
    {
     "data": {
      "text/html": "<span style=\"color:blue\"> |-ordered: True</span>",
      "text/plain": "<IPython.core.display.HTML object>"
     },
     "metadata": {},
     "output_type": "display_data"
    },
    {
     "data": {
      "text/html": "<span style=\"color:cyan\"> |-values: [0.1, 0.2, 0.3, 0.4, 0.5]</span>",
      "text/plain": "<IPython.core.display.HTML object>"
     },
     "metadata": {},
     "output_type": "display_data"
    }
   ],
   "source": [
    "tuner.search_space_summary()"
   ]
  },
  {
   "cell_type": "markdown",
   "metadata": {},
   "source": [
    "Run the search:"
   ]
  },
  {
   "cell_type": "code",
   "execution_count": 80,
   "metadata": {},
   "outputs": [
    {
     "data": {
      "text/html": "<span style=\"color:#4527A0\"><h1 style=\"font-size:18px\">Trial complete</h1></span>",
      "text/plain": "<IPython.core.display.HTML object>"
     },
     "metadata": {},
     "output_type": "display_data"
    },
    {
     "data": {
      "text/html": "<span style=\"color:#4527A0\"><h1 style=\"font-size:18px\">Trial summary</h1></span>",
      "text/plain": "<IPython.core.display.HTML object>"
     },
     "metadata": {},
     "output_type": "display_data"
    },
    {
     "data": {
      "text/html": "<span style=\"color:cyan\"> |-Trial ID: 8e5c6c20c95c6117725575429e8d6522</span>",
      "text/plain": "<IPython.core.display.HTML object>"
     },
     "metadata": {},
     "output_type": "display_data"
    },
    {
     "data": {
      "text/html": "<span style=\"color:cyan\"> |-Score: 0.9041666984558105</span>",
      "text/plain": "<IPython.core.display.HTML object>"
     },
     "metadata": {},
     "output_type": "display_data"
    },
    {
     "data": {
      "text/html": "<span style=\"color:cyan\"> |-Best step: 0</span>",
      "text/plain": "<IPython.core.display.HTML object>"
     },
     "metadata": {},
     "output_type": "display_data"
    },
    {
     "data": {
      "text/html": "<span style=\"color:#7E57C2\"><h2 style=\"font-size:16px\">Hyperparameters:</h2></span>",
      "text/plain": "<IPython.core.display.HTML object>"
     },
     "metadata": {},
     "output_type": "display_data"
    },
    {
     "data": {
      "text/html": "<span style=\"color:cyan\"> |-output_dim: 80</span>",
      "text/plain": "<IPython.core.display.HTML object>"
     },
     "metadata": {},
     "output_type": "display_data"
    },
    {
     "data": {
      "text/html": "<span style=\"color:blue\"> |-rate_1: 0.4</span>",
      "text/plain": "<IPython.core.display.HTML object>"
     },
     "metadata": {},
     "output_type": "display_data"
    },
    {
     "data": {
      "text/html": "<span style=\"color:cyan\"> |-rate_2: 0.4</span>",
      "text/plain": "<IPython.core.display.HTML object>"
     },
     "metadata": {},
     "output_type": "display_data"
    },
    {
     "data": {
      "text/html": "<span style=\"color:blue\"> |-units: 128</span>",
      "text/plain": "<IPython.core.display.HTML object>"
     },
     "metadata": {},
     "output_type": "display_data"
    },
    {
     "data": {
      "text/html": "<span style=\"color:#4527A0\"><h1 style=\"font-size:18px\">Trial complete</h1></span>",
      "text/plain": "<IPython.core.display.HTML object>"
     },
     "metadata": {},
     "output_type": "display_data"
    },
    {
     "data": {
      "text/html": "<span style=\"color:#4527A0\"><h1 style=\"font-size:18px\">Trial summary</h1></span>",
      "text/plain": "<IPython.core.display.HTML object>"
     },
     "metadata": {},
     "output_type": "display_data"
    },
    {
     "data": {
      "text/html": "<span style=\"color:cyan\"> |-Trial ID: 92459d14a5bc8c83d7fdad4d61412cea</span>",
      "text/plain": "<IPython.core.display.HTML object>"
     },
     "metadata": {},
     "output_type": "display_data"
    },
    {
     "data": {
      "text/html": "<span style=\"color:cyan\"> |-Score: 0.8978333473205566</span>",
      "text/plain": "<IPython.core.display.HTML object>"
     },
     "metadata": {},
     "output_type": "display_data"
    },
    {
     "data": {
      "text/html": "<span style=\"color:cyan\"> |-Best step: 0</span>",
      "text/plain": "<IPython.core.display.HTML object>"
     },
     "metadata": {},
     "output_type": "display_data"
    },
    {
     "data": {
      "text/html": "<span style=\"color:#7E57C2\"><h2 style=\"font-size:16px\">Hyperparameters:</h2></span>",
      "text/plain": "<IPython.core.display.HTML object>"
     },
     "metadata": {},
     "output_type": "display_data"
    },
    {
     "data": {
      "text/html": "<span style=\"color:cyan\"> |-output_dim: 48</span>",
      "text/plain": "<IPython.core.display.HTML object>"
     },
     "metadata": {},
     "output_type": "display_data"
    },
    {
     "data": {
      "text/html": "<span style=\"color:blue\"> |-rate_1: 0.3</span>",
      "text/plain": "<IPython.core.display.HTML object>"
     },
     "metadata": {},
     "output_type": "display_data"
    },
    {
     "data": {
      "text/html": "<span style=\"color:cyan\"> |-rate_2: 0.2</span>",
      "text/plain": "<IPython.core.display.HTML object>"
     },
     "metadata": {},
     "output_type": "display_data"
    },
    {
     "data": {
      "text/html": "<span style=\"color:blue\"> |-units: 96</span>",
      "text/plain": "<IPython.core.display.HTML object>"
     },
     "metadata": {},
     "output_type": "display_data"
    },
    {
     "data": {
      "text/html": "<span style=\"color:#4527A0\"><h1 style=\"font-size:18px\">Trial complete</h1></span>",
      "text/plain": "<IPython.core.display.HTML object>"
     },
     "metadata": {},
     "output_type": "display_data"
    },
    {
     "data": {
      "text/html": "<span style=\"color:#4527A0\"><h1 style=\"font-size:18px\">Trial summary</h1></span>",
      "text/plain": "<IPython.core.display.HTML object>"
     },
     "metadata": {},
     "output_type": "display_data"
    },
    {
     "data": {
      "text/html": "<span style=\"color:cyan\"> |-Trial ID: 825dd58f899d5488420d71669c5914a1</span>",
      "text/plain": "<IPython.core.display.HTML object>"
     },
     "metadata": {},
     "output_type": "display_data"
    },
    {
     "data": {
      "text/html": "<span style=\"color:cyan\"> |-Score: 0.875666618347168</span>",
      "text/plain": "<IPython.core.display.HTML object>"
     },
     "metadata": {},
     "output_type": "display_data"
    },
    {
     "data": {
      "text/html": "<span style=\"color:cyan\"> |-Best step: 0</span>",
      "text/plain": "<IPython.core.display.HTML object>"
     },
     "metadata": {},
     "output_type": "display_data"
    },
    {
     "data": {
      "text/html": "<span style=\"color:#7E57C2\"><h2 style=\"font-size:16px\">Hyperparameters:</h2></span>",
      "text/plain": "<IPython.core.display.HTML object>"
     },
     "metadata": {},
     "output_type": "display_data"
    },
    {
     "data": {
      "text/html": "<span style=\"color:cyan\"> |-output_dim: 48</span>",
      "text/plain": "<IPython.core.display.HTML object>"
     },
     "metadata": {},
     "output_type": "display_data"
    },
    {
     "data": {
      "text/html": "<span style=\"color:blue\"> |-rate_1: 0.3</span>",
      "text/plain": "<IPython.core.display.HTML object>"
     },
     "metadata": {},
     "output_type": "display_data"
    },
    {
     "data": {
      "text/html": "<span style=\"color:cyan\"> |-rate_2: 0.5</span>",
      "text/plain": "<IPython.core.display.HTML object>"
     },
     "metadata": {},
     "output_type": "display_data"
    },
    {
     "data": {
      "text/html": "<span style=\"color:blue\"> |-units: 32</span>",
      "text/plain": "<IPython.core.display.HTML object>"
     },
     "metadata": {},
     "output_type": "display_data"
    },
    {
     "data": {
      "text/html": "<span style=\"color:#4527A0\"><h1 style=\"font-size:18px\">Trial complete</h1></span>",
      "text/plain": "<IPython.core.display.HTML object>"
     },
     "metadata": {},
     "output_type": "display_data"
    },
    {
     "data": {
      "text/html": "<span style=\"color:#4527A0\"><h1 style=\"font-size:18px\">Trial summary</h1></span>",
      "text/plain": "<IPython.core.display.HTML object>"
     },
     "metadata": {},
     "output_type": "display_data"
    },
    {
     "data": {
      "text/html": "<span style=\"color:cyan\"> |-Trial ID: da3aeafc2883244709593a33c92b83e7</span>",
      "text/plain": "<IPython.core.display.HTML object>"
     },
     "metadata": {},
     "output_type": "display_data"
    },
    {
     "data": {
      "text/html": "<span style=\"color:cyan\"> |-Score: 0.8764999508857727</span>",
      "text/plain": "<IPython.core.display.HTML object>"
     },
     "metadata": {},
     "output_type": "display_data"
    },
    {
     "data": {
      "text/html": "<span style=\"color:cyan\"> |-Best step: 0</span>",
      "text/plain": "<IPython.core.display.HTML object>"
     },
     "metadata": {},
     "output_type": "display_data"
    },
    {
     "data": {
      "text/html": "<span style=\"color:#7E57C2\"><h2 style=\"font-size:16px\">Hyperparameters:</h2></span>",
      "text/plain": "<IPython.core.display.HTML object>"
     },
     "metadata": {},
     "output_type": "display_data"
    },
    {
     "data": {
      "text/html": "<span style=\"color:cyan\"> |-output_dim: 48</span>",
      "text/plain": "<IPython.core.display.HTML object>"
     },
     "metadata": {},
     "output_type": "display_data"
    },
    {
     "data": {
      "text/html": "<span style=\"color:blue\"> |-rate_1: 0.5</span>",
      "text/plain": "<IPython.core.display.HTML object>"
     },
     "metadata": {},
     "output_type": "display_data"
    },
    {
     "data": {
      "text/html": "<span style=\"color:cyan\"> |-rate_2: 0.3</span>",
      "text/plain": "<IPython.core.display.HTML object>"
     },
     "metadata": {},
     "output_type": "display_data"
    },
    {
     "data": {
      "text/html": "<span style=\"color:blue\"> |-units: 32</span>",
      "text/plain": "<IPython.core.display.HTML object>"
     },
     "metadata": {},
     "output_type": "display_data"
    },
    {
     "data": {
      "text/html": "<span style=\"color:#4527A0\"><h1 style=\"font-size:18px\">Trial complete</h1></span>",
      "text/plain": "<IPython.core.display.HTML object>"
     },
     "metadata": {},
     "output_type": "display_data"
    },
    {
     "data": {
      "text/html": "<span style=\"color:#4527A0\"><h1 style=\"font-size:18px\">Trial summary</h1></span>",
      "text/plain": "<IPython.core.display.HTML object>"
     },
     "metadata": {},
     "output_type": "display_data"
    },
    {
     "data": {
      "text/html": "<span style=\"color:cyan\"> |-Trial ID: 96ca4f3eaee95666fe6dbdc2ed610566</span>",
      "text/plain": "<IPython.core.display.HTML object>"
     },
     "metadata": {},
     "output_type": "display_data"
    },
    {
     "data": {
      "text/html": "<span style=\"color:cyan\"> |-Score: 0.9063333868980408</span>",
      "text/plain": "<IPython.core.display.HTML object>"
     },
     "metadata": {},
     "output_type": "display_data"
    },
    {
     "data": {
      "text/html": "<span style=\"color:cyan\"> |-Best step: 0</span>",
      "text/plain": "<IPython.core.display.HTML object>"
     },
     "metadata": {},
     "output_type": "display_data"
    },
    {
     "data": {
      "text/html": "<span style=\"color:#7E57C2\"><h2 style=\"font-size:16px\">Hyperparameters:</h2></span>",
      "text/plain": "<IPython.core.display.HTML object>"
     },
     "metadata": {},
     "output_type": "display_data"
    },
    {
     "data": {
      "text/html": "<span style=\"color:cyan\"> |-output_dim: 112</span>",
      "text/plain": "<IPython.core.display.HTML object>"
     },
     "metadata": {},
     "output_type": "display_data"
    },
    {
     "data": {
      "text/html": "<span style=\"color:blue\"> |-rate_1: 0.2</span>",
      "text/plain": "<IPython.core.display.HTML object>"
     },
     "metadata": {},
     "output_type": "display_data"
    },
    {
     "data": {
      "text/html": "<span style=\"color:cyan\"> |-rate_2: 0.5</span>",
      "text/plain": "<IPython.core.display.HTML object>"
     },
     "metadata": {},
     "output_type": "display_data"
    },
    {
     "data": {
      "text/html": "<span style=\"color:blue\"> |-units: 96</span>",
      "text/plain": "<IPython.core.display.HTML object>"
     },
     "metadata": {},
     "output_type": "display_data"
    },
    {
     "name": "stdout",
     "output_type": "stream",
     "text": "INFO:tensorflow:Oracle triggered exit\n"
    }
   ],
   "source": [
    "tuner.search(train_x, train_y, epochs = 5, validation_split = 0.2, verbose = 0)"
   ]
  },
  {
   "cell_type": "markdown",
   "metadata": {},
   "source": [
    "Evaluate best model found on test data:"
   ]
  },
  {
   "cell_type": "code",
   "execution_count": 87,
   "metadata": {},
   "outputs": [
    {
     "name": "stdout",
     "output_type": "stream",
     "text": "WARNING:tensorflow:Unresolved object in checkpoint: (root).optimizer.iter\nWARNING:tensorflow:Unresolved object in checkpoint: (root).optimizer.beta_1\nWARNING:tensorflow:Unresolved object in checkpoint: (root).optimizer.beta_2\nWARNING:tensorflow:Unresolved object in checkpoint: (root).optimizer.decay\nWARNING:tensorflow:Unresolved object in checkpoint: (root).optimizer.learning_rate\nWARNING:tensorflow:A checkpoint was restored (e.g. tf.train.Checkpoint.restore or tf.keras.Model.load_weights) but not all checkpointed values were used. See above for specific issues. Use expect_partial() on the load status object, e.g. tf.train.Checkpoint.restore(...).expect_partial(), to silence these warnings, or use assert_consumed() to make the check explicit. See https://www.tensorflow.org/guide/checkpoint#loading_mechanics for details.\n"
    }
   ],
   "source": [
    "best_model = tuner.get_best_models()[0]"
   ]
  },
  {
   "cell_type": "code",
   "execution_count": 88,
   "metadata": {},
   "outputs": [
    {
     "name": "stdout",
     "output_type": "stream",
     "text": "Accuracy=0.9164761469288218\nPrecision=0.8752188193288963, Recall=0.8487822724648577, F1-Score=0.8610853019394897\n"
    }
   ],
   "source": [
    "# predictions of the model on test data\n",
    "pred = np.around(best_model.predict(test_x))\n",
    "# evaluation\n",
    "print(\"Accuracy={}\".format(accuracy_score(test_y, pred)))\n",
    "pr, re, f1, su = precision_recall_fscore_support(test_y, pred, average='macro')\n",
    "print(\"Precision={}, Recall={}, F1-Score={}\".format(pr, re, f1))"
   ]
  },
  {
   "cell_type": "markdown",
   "metadata": {},
   "source": [
    "Which is worse than the untuned rnn model above...🤔🤷"
   ]
  }
 ],
 "metadata": {
  "kernelspec": {
   "display_name": "Python 3.7.6 64-bit ('base': venv)",
   "language": "python",
   "name": "python37664bitbasevenv23cd022687ab470688da671eade16340"
  },
  "language_info": {
   "codemirror_mode": {
    "name": "ipython",
    "version": 3
   },
   "file_extension": ".py",
   "mimetype": "text/x-python",
   "name": "python",
   "nbconvert_exporter": "python",
   "pygments_lexer": "ipython3",
   "version": "3.7.6-final"
  }
 },
 "nbformat": 4,
 "nbformat_minor": 4
}