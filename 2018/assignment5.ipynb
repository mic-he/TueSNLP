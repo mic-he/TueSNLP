{
 "cells": [
  {
   "cell_type": "markdown",
   "metadata": {},
   "source": [
    "# Assignment 5\n",
    "## Word class prediction with neural networks\n",
    "The assignment and data are available here: https://snlp2018.github.io/assignments.html\n",
    "\n",
    "The file `data/train.txt` (and `test.txt` as well) contains a two-column, tab-separated dataset of German words, either nouns or verbs, each with its class label. We train a character-level neutral network to learn the word classes."
   ]
  },
  {
   "cell_type": "markdown",
   "metadata": {},
   "source": [
    "### Exercise 1\n",
    "Data pre-processing. Read the data and encode as follows: target labels as 0s and 1s;  word characters to integers and words to lists of integers.\n",
    "\n",
    "First, read data:"
   ]
  },
  {
   "cell_type": "code",
   "execution_count": 32,
   "metadata": {},
   "outputs": [],
   "source": [
    "import pandas as pd\n",
    "import numpy as np"
   ]
  },
  {
   "cell_type": "code",
   "execution_count": 33,
   "metadata": {},
   "outputs": [
    {
     "data": {
      "text/html": "<div>\n<style scoped>\n    .dataframe tbody tr th:only-of-type {\n        vertical-align: middle;\n    }\n\n    .dataframe tbody tr th {\n        vertical-align: top;\n    }\n\n    .dataframe thead th {\n        text-align: right;\n    }\n</style>\n<table border=\"1\" class=\"dataframe\">\n  <thead>\n    <tr style=\"text-align: right;\">\n      <th></th>\n      <th>class</th>\n      <th>word</th>\n    </tr>\n  </thead>\n  <tbody>\n    <tr>\n      <th>0</th>\n      <td>noun</td>\n      <td>gemeinderat</td>\n    </tr>\n    <tr>\n      <th>1</th>\n      <td>noun</td>\n      <td>grenzpolizei</td>\n    </tr>\n    <tr>\n      <th>2</th>\n      <td>verb</td>\n      <td>ruinieren</td>\n    </tr>\n    <tr>\n      <th>3</th>\n      <td>noun</td>\n      <td>halbtönen</td>\n    </tr>\n    <tr>\n      <th>4</th>\n      <td>noun</td>\n      <td>energieexporteuren</td>\n    </tr>\n  </tbody>\n</table>\n</div>",
      "text/plain": "  class                word\n0  noun         gemeinderat\n1  noun        grenzpolizei\n2  verb           ruinieren\n3  noun           halbtönen\n4  noun  energieexporteuren"
     },
     "execution_count": 33,
     "metadata": {},
     "output_type": "execute_result"
    }
   ],
   "source": [
    "df_train = pd.read_csv(\"data/train.txt\", sep = \"\\t\", names = [\"class\", \"word\"])\n",
    "df_train.head()"
   ]
  },
  {
   "cell_type": "code",
   "execution_count": 34,
   "metadata": {},
   "outputs": [
    {
     "data": {
      "text/html": "<div>\n<style scoped>\n    .dataframe tbody tr th:only-of-type {\n        vertical-align: middle;\n    }\n\n    .dataframe tbody tr th {\n        vertical-align: top;\n    }\n\n    .dataframe thead th {\n        text-align: right;\n    }\n</style>\n<table border=\"1\" class=\"dataframe\">\n  <thead>\n    <tr style=\"text-align: right;\">\n      <th></th>\n      <th>class</th>\n      <th>word</th>\n    </tr>\n  </thead>\n  <tbody>\n    <tr>\n      <th>0</th>\n      <td>noun</td>\n      <td>kaufverpflichtung</td>\n    </tr>\n    <tr>\n      <th>1</th>\n      <td>verb</td>\n      <td>kosten</td>\n    </tr>\n    <tr>\n      <th>2</th>\n      <td>noun</td>\n      <td>n</td>\n    </tr>\n    <tr>\n      <th>3</th>\n      <td>noun</td>\n      <td>blousons</td>\n    </tr>\n    <tr>\n      <th>4</th>\n      <td>noun</td>\n      <td>verwaltungsgeschäfte</td>\n    </tr>\n  </tbody>\n</table>\n</div>",
      "text/plain": "  class                  word\n0  noun     kaufverpflichtung\n1  verb                kosten\n2  noun                     n\n3  noun              blousons\n4  noun  verwaltungsgeschäfte"
     },
     "execution_count": 34,
     "metadata": {},
     "output_type": "execute_result"
    }
   ],
   "source": [
    "df_test = pd.read_csv(\"data/test.txt\", sep = \"\\t\", names = [\"class\", \"word\"])\n",
    "df_test.head()"
   ]
  },
  {
   "cell_type": "markdown",
   "metadata": {},
   "source": [
    "Next, encode `class`; convention: `noun` -> `0`; `verb` -> `1`"
   ]
  },
  {
   "cell_type": "code",
   "execution_count": 35,
   "metadata": {},
   "outputs": [
    {
     "data": {
      "text/html": "<div>\n<style scoped>\n    .dataframe tbody tr th:only-of-type {\n        vertical-align: middle;\n    }\n\n    .dataframe tbody tr th {\n        vertical-align: top;\n    }\n\n    .dataframe thead th {\n        text-align: right;\n    }\n</style>\n<table border=\"1\" class=\"dataframe\">\n  <thead>\n    <tr style=\"text-align: right;\">\n      <th></th>\n      <th>class</th>\n      <th>word</th>\n      <th>class_bin</th>\n    </tr>\n  </thead>\n  <tbody>\n    <tr>\n      <th>0</th>\n      <td>noun</td>\n      <td>gemeinderat</td>\n      <td>0</td>\n    </tr>\n    <tr>\n      <th>1</th>\n      <td>noun</td>\n      <td>grenzpolizei</td>\n      <td>0</td>\n    </tr>\n    <tr>\n      <th>2</th>\n      <td>verb</td>\n      <td>ruinieren</td>\n      <td>1</td>\n    </tr>\n    <tr>\n      <th>3</th>\n      <td>noun</td>\n      <td>halbtönen</td>\n      <td>0</td>\n    </tr>\n    <tr>\n      <th>4</th>\n      <td>noun</td>\n      <td>energieexporteuren</td>\n      <td>0</td>\n    </tr>\n  </tbody>\n</table>\n</div>",
      "text/plain": "  class                word  class_bin\n0  noun         gemeinderat          0\n1  noun        grenzpolizei          0\n2  verb           ruinieren          1\n3  noun           halbtönen          0\n4  noun  energieexporteuren          0"
     },
     "execution_count": 35,
     "metadata": {},
     "output_type": "execute_result"
    }
   ],
   "source": [
    "df_train[\"class_bin\"] = np.where(df_train[\"class\"] == \"noun\", 0, 1)\n",
    "df_train.head()"
   ]
  },
  {
   "cell_type": "code",
   "execution_count": 36,
   "metadata": {},
   "outputs": [
    {
     "data": {
      "text/html": "<div>\n<style scoped>\n    .dataframe tbody tr th:only-of-type {\n        vertical-align: middle;\n    }\n\n    .dataframe tbody tr th {\n        vertical-align: top;\n    }\n\n    .dataframe thead th {\n        text-align: right;\n    }\n</style>\n<table border=\"1\" class=\"dataframe\">\n  <thead>\n    <tr style=\"text-align: right;\">\n      <th></th>\n      <th>class</th>\n      <th>word</th>\n      <th>class_bin</th>\n    </tr>\n  </thead>\n  <tbody>\n    <tr>\n      <th>0</th>\n      <td>noun</td>\n      <td>kaufverpflichtung</td>\n      <td>0</td>\n    </tr>\n    <tr>\n      <th>1</th>\n      <td>verb</td>\n      <td>kosten</td>\n      <td>1</td>\n    </tr>\n    <tr>\n      <th>2</th>\n      <td>noun</td>\n      <td>n</td>\n      <td>0</td>\n    </tr>\n    <tr>\n      <th>3</th>\n      <td>noun</td>\n      <td>blousons</td>\n      <td>0</td>\n    </tr>\n    <tr>\n      <th>4</th>\n      <td>noun</td>\n      <td>verwaltungsgeschäfte</td>\n      <td>0</td>\n    </tr>\n  </tbody>\n</table>\n</div>",
      "text/plain": "  class                  word  class_bin\n0  noun     kaufverpflichtung          0\n1  verb                kosten          1\n2  noun                     n          0\n3  noun              blousons          0\n4  noun  verwaltungsgeschäfte          0"
     },
     "execution_count": 36,
     "metadata": {},
     "output_type": "execute_result"
    }
   ],
   "source": [
    "df_test[\"class_bin\"] = np.where(df_test[\"class\"] == \"noun\", 0, 1)\n",
    "df_test.head()"
   ]
  },
  {
   "cell_type": "markdown",
   "metadata": {},
   "source": [
    "Next, extract alphabet of Unicode characters from `df_train[\"words\"]` and map each to an integer (its position in the list will do):"
   ]
  },
  {
   "cell_type": "code",
   "execution_count": 37,
   "metadata": {},
   "outputs": [],
   "source": [
    "alphabet = list(set([c for word in [list(str(word)) for word in df_train[\"word\"].tolist()] for c in word]))"
   ]
  },
  {
   "cell_type": "code",
   "execution_count": 38,
   "metadata": {},
   "outputs": [
    {
     "name": "stdout",
     "output_type": "stream",
     "text": "['o', 'g', 'ß', 'j', 'q', 'k', 'm', 'a', 'r', 'y', 'z', 'ä', 'd', 'w', 'x', 'v', 'b', 's', 'l', 'c', 'ö', 't', 'ü', 'h', 'f', 'n', 'u', 'p', 'i', 'e']\n30\n"
    }
   ],
   "source": [
    "print(alphabet)\n",
    "print(len(alphabet))"
   ]
  },
  {
   "cell_type": "markdown",
   "metadata": {},
   "source": [
    "We define a function which takes a word and an alphabet and return a list of integers which encodes the input word: "
   ]
  },
  {
   "cell_type": "code",
   "execution_count": 39,
   "metadata": {},
   "outputs": [],
   "source": [
    "def word_encoder(word, alphabet):\n",
    "    out_list = []\n",
    "    for i, char in enumerate(str(word)):\n",
    "        if char in alphabet: # if the character belongs to the alphabet...\n",
    "            out_list.append(alphabet.index(char)+1) # ...its encoding is simply its position plus one, we'll use 0 for padding\n",
    "        else:\n",
    "            out_list.append(999) # integer reserved for out-of-alphabet characters\n",
    "    return out_list"
   ]
  },
  {
   "cell_type": "markdown",
   "metadata": {},
   "source": [
    "For example:"
   ]
  },
  {
   "cell_type": "code",
   "execution_count": 40,
   "metadata": {},
   "outputs": [
    {
     "data": {
      "text/plain": "[24, 30, 10]"
     },
     "execution_count": 40,
     "metadata": {},
     "output_type": "execute_result"
    }
   ],
   "source": [
    "word_encoder(\"hey\", alphabet)"
   ]
  },
  {
   "cell_type": "code",
   "execution_count": 41,
   "metadata": {},
   "outputs": [
    {
     "data": {
      "text/plain": "[24, 30, 999]"
     },
     "execution_count": 41,
     "metadata": {},
     "output_type": "execute_result"
    }
   ],
   "source": [
    "word_encoder(\"heÿ\", alphabet)"
   ]
  },
  {
   "cell_type": "code",
   "execution_count": 42,
   "metadata": {},
   "outputs": [
    {
     "data": {
      "text/plain": "[10, 30, 24, 999]"
     },
     "execution_count": 42,
     "metadata": {},
     "output_type": "execute_result"
    }
   ],
   "source": [
    "word_encoder(\"yehÿ\", alphabet)"
   ]
  },
  {
   "cell_type": "markdown",
   "metadata": {},
   "source": [
    "It works!\n",
    "\n",
    "Next, apply this function to each row in our dfs:"
   ]
  },
  {
   "cell_type": "code",
   "execution_count": 43,
   "metadata": {},
   "outputs": [],
   "source": [
    "df_train.loc[:, \"word_int\"] = df_train.apply(lambda row: word_encoder(row.word, alphabet), axis = 1)"
   ]
  },
  {
   "cell_type": "code",
   "execution_count": 44,
   "metadata": {},
   "outputs": [
    {
     "data": {
      "text/html": "<div>\n<style scoped>\n    .dataframe tbody tr th:only-of-type {\n        vertical-align: middle;\n    }\n\n    .dataframe tbody tr th {\n        vertical-align: top;\n    }\n\n    .dataframe thead th {\n        text-align: right;\n    }\n</style>\n<table border=\"1\" class=\"dataframe\">\n  <thead>\n    <tr style=\"text-align: right;\">\n      <th></th>\n      <th>class</th>\n      <th>word</th>\n      <th>class_bin</th>\n      <th>word_int</th>\n    </tr>\n  </thead>\n  <tbody>\n    <tr>\n      <th>0</th>\n      <td>noun</td>\n      <td>gemeinderat</td>\n      <td>0</td>\n      <td>[2, 30, 7, 30, 29, 26, 13, 30, 9, 8, 22]</td>\n    </tr>\n    <tr>\n      <th>1</th>\n      <td>noun</td>\n      <td>grenzpolizei</td>\n      <td>0</td>\n      <td>[2, 9, 30, 26, 11, 28, 1, 19, 29, 11, 30, 29]</td>\n    </tr>\n    <tr>\n      <th>2</th>\n      <td>verb</td>\n      <td>ruinieren</td>\n      <td>1</td>\n      <td>[9, 27, 29, 26, 29, 30, 9, 30, 26]</td>\n    </tr>\n    <tr>\n      <th>3</th>\n      <td>noun</td>\n      <td>halbtönen</td>\n      <td>0</td>\n      <td>[24, 8, 19, 17, 22, 21, 26, 30, 26]</td>\n    </tr>\n    <tr>\n      <th>4</th>\n      <td>noun</td>\n      <td>energieexporteuren</td>\n      <td>0</td>\n      <td>[30, 26, 30, 9, 2, 29, 30, 30, 15, 28, 1, 9, 2...</td>\n    </tr>\n  </tbody>\n</table>\n</div>",
      "text/plain": "  class                word  class_bin  \\\n0  noun         gemeinderat          0   \n1  noun        grenzpolizei          0   \n2  verb           ruinieren          1   \n3  noun           halbtönen          0   \n4  noun  energieexporteuren          0   \n\n                                            word_int  \n0           [2, 30, 7, 30, 29, 26, 13, 30, 9, 8, 22]  \n1      [2, 9, 30, 26, 11, 28, 1, 19, 29, 11, 30, 29]  \n2                 [9, 27, 29, 26, 29, 30, 9, 30, 26]  \n3                [24, 8, 19, 17, 22, 21, 26, 30, 26]  \n4  [30, 26, 30, 9, 2, 29, 30, 30, 15, 28, 1, 9, 2...  "
     },
     "execution_count": 44,
     "metadata": {},
     "output_type": "execute_result"
    }
   ],
   "source": [
    "df_train.head()"
   ]
  },
  {
   "cell_type": "code",
   "execution_count": 45,
   "metadata": {},
   "outputs": [],
   "source": [
    "df_test.loc[:, \"word_int\"] = df_test.apply(lambda row: word_encoder(row.word, alphabet), axis = 1)"
   ]
  },
  {
   "cell_type": "code",
   "execution_count": 46,
   "metadata": {},
   "outputs": [
    {
     "data": {
      "text/html": "<div>\n<style scoped>\n    .dataframe tbody tr th:only-of-type {\n        vertical-align: middle;\n    }\n\n    .dataframe tbody tr th {\n        vertical-align: top;\n    }\n\n    .dataframe thead th {\n        text-align: right;\n    }\n</style>\n<table border=\"1\" class=\"dataframe\">\n  <thead>\n    <tr style=\"text-align: right;\">\n      <th></th>\n      <th>class</th>\n      <th>word</th>\n      <th>class_bin</th>\n      <th>word_int</th>\n    </tr>\n  </thead>\n  <tbody>\n    <tr>\n      <th>0</th>\n      <td>noun</td>\n      <td>kaufverpflichtung</td>\n      <td>0</td>\n      <td>[6, 8, 27, 25, 16, 30, 9, 28, 25, 19, 29, 20, ...</td>\n    </tr>\n    <tr>\n      <th>1</th>\n      <td>verb</td>\n      <td>kosten</td>\n      <td>1</td>\n      <td>[6, 1, 18, 22, 30, 26]</td>\n    </tr>\n    <tr>\n      <th>2</th>\n      <td>noun</td>\n      <td>n</td>\n      <td>0</td>\n      <td>[26]</td>\n    </tr>\n    <tr>\n      <th>3</th>\n      <td>noun</td>\n      <td>blousons</td>\n      <td>0</td>\n      <td>[17, 19, 1, 27, 18, 1, 26, 18]</td>\n    </tr>\n    <tr>\n      <th>4</th>\n      <td>noun</td>\n      <td>verwaltungsgeschäfte</td>\n      <td>0</td>\n      <td>[16, 30, 9, 14, 8, 19, 22, 27, 26, 2, 18, 2, 3...</td>\n    </tr>\n  </tbody>\n</table>\n</div>",
      "text/plain": "  class                  word  class_bin  \\\n0  noun     kaufverpflichtung          0   \n1  verb                kosten          1   \n2  noun                     n          0   \n3  noun              blousons          0   \n4  noun  verwaltungsgeschäfte          0   \n\n                                            word_int  \n0  [6, 8, 27, 25, 16, 30, 9, 28, 25, 19, 29, 20, ...  \n1                             [6, 1, 18, 22, 30, 26]  \n2                                               [26]  \n3                     [17, 19, 1, 27, 18, 1, 26, 18]  \n4  [16, 30, 9, 14, 8, 19, 22, 27, 26, 2, 18, 2, 3...  "
     },
     "execution_count": 46,
     "metadata": {},
     "output_type": "execute_result"
    }
   ],
   "source": [
    "df_test.head()"
   ]
  },
  {
   "cell_type": "markdown",
   "metadata": {},
   "source": [
    "Next, padding: the sequences of features should all be of the same length (we use the length of the longest sequence). To do so, we use `sequence.pad_sequences` from `keras.preprocessing`:"
   ]
  },
  {
   "cell_type": "code",
   "execution_count": 47,
   "metadata": {},
   "outputs": [],
   "source": [
    "from keras.preprocessing.sequence import pad_sequences"
   ]
  },
  {
   "cell_type": "code",
   "execution_count": 48,
   "metadata": {},
   "outputs": [
    {
     "name": "stdout",
     "output_type": "stream",
     "text": "31\n"
    }
   ],
   "source": [
    "# how long is the longest word?\n",
    "max_word = max(len(word) for word in df_train[\"word_int\"])\n",
    "print(max_word)"
   ]
  },
  {
   "cell_type": "code",
   "execution_count": 49,
   "metadata": {},
   "outputs": [],
   "source": [
    "train_x = pad_sequences(df_train[\"word_int\"], maxlen = max_word + 1) # add one to account for unknown character too"
   ]
  },
  {
   "cell_type": "code",
   "execution_count": 50,
   "metadata": {},
   "outputs": [
    {
     "data": {
      "text/plain": "(20000, 32)"
     },
     "execution_count": 50,
     "metadata": {},
     "output_type": "execute_result"
    }
   ],
   "source": [
    "train_x.shape"
   ]
  },
  {
   "cell_type": "code",
   "execution_count": 51,
   "metadata": {},
   "outputs": [
    {
     "data": {
      "text/plain": "array([ 0,  0,  0,  0,  0,  0,  0,  0,  0,  0,  0,  0,  0,  0,  0,  0,  0,\n        0,  0,  0,  0,  2, 30,  7, 30, 29, 26, 13, 30,  9,  8, 22])"
     },
     "execution_count": 51,
     "metadata": {},
     "output_type": "execute_result"
    }
   ],
   "source": [
    "# for example\n",
    "train_x[0]"
   ]
  },
  {
   "cell_type": "code",
   "execution_count": 52,
   "metadata": {},
   "outputs": [],
   "source": [
    "# same for test features\n",
    "test_x = pad_sequences(df_test[\"word_int\"], maxlen = train_x.shape[1]) # the max length be the same between train and test"
   ]
  },
  {
   "cell_type": "markdown",
   "metadata": {},
   "source": [
    "Finally, one-hot encoding for characters (hence words are encoded into lists of vectors of 0s and 1s). We use `to_categorical` from `keras.utils`:"
   ]
  },
  {
   "cell_type": "code",
   "execution_count": 53,
   "metadata": {},
   "outputs": [],
   "source": [
    "from keras.utils import to_categorical"
   ]
  },
  {
   "cell_type": "code",
   "execution_count": 54,
   "metadata": {},
   "outputs": [],
   "source": [
    "train_x_cat = to_categorical(train_x)"
   ]
  },
  {
   "cell_type": "code",
   "execution_count": 55,
   "metadata": {},
   "outputs": [
    {
     "data": {
      "text/plain": "(20000, 32, 31)"
     },
     "execution_count": 55,
     "metadata": {},
     "output_type": "execute_result"
    }
   ],
   "source": [
    "train_x_cat.shape"
   ]
  },
  {
   "cell_type": "code",
   "execution_count": 56,
   "metadata": {},
   "outputs": [],
   "source": [
    "# flatten each row\n",
    "onehot_train = np.zeros(shape = (train_x_cat.shape[0], train_x_cat.shape[1]*train_x_cat.shape[2]))\n",
    "for i in range(0, train_x_cat.shape[0]):\n",
    "    onehot_train[i] = train_x_cat[i].flatten().tolist()"
   ]
  },
  {
   "cell_type": "code",
   "execution_count": 57,
   "metadata": {},
   "outputs": [
    {
     "data": {
      "text/plain": "(20000, 992)"
     },
     "execution_count": 57,
     "metadata": {},
     "output_type": "execute_result"
    }
   ],
   "source": [
    "onehot_train.shape"
   ]
  },
  {
   "cell_type": "code",
   "execution_count": 58,
   "metadata": {},
   "outputs": [],
   "source": [
    "# same for test features\n",
    "test_x_cat = to_categorical(test_x)\n",
    "\n",
    "onehot_test = np.zeros(shape = (test_x_cat.shape[0], test_x_cat.shape[1]*test_x_cat.shape[2]))\n",
    "for i in range(0, test_x_cat.shape[0]):\n",
    "    onehot_test[i] = test_x_cat[i].flatten().tolist()"
   ]
  },
  {
   "cell_type": "code",
   "execution_count": 59,
   "metadata": {},
   "outputs": [
    {
     "data": {
      "text/plain": "(6561, 992)"
     },
     "execution_count": 59,
     "metadata": {},
     "output_type": "execute_result"
    }
   ],
   "source": [
    "onehot_test.shape"
   ]
  },
  {
   "cell_type": "markdown",
   "metadata": {},
   "source": [
    "### Exercise 2\n",
    "We train and tune a simple feed-forward nn with `train_onehot` (features) as input and `train_y` (labels) as output, using `keras`.\n",
    "\n",
    "First, describe the model:"
   ]
  },
  {
   "cell_type": "code",
   "execution_count": 60,
   "metadata": {},
   "outputs": [],
   "source": [
    "from keras.models import Sequential\n",
    "from keras.layers import Dense, Activation, Dropout"
   ]
  },
  {
   "cell_type": "code",
   "execution_count": 63,
   "metadata": {},
   "outputs": [],
   "source": [
    "# model\n",
    "model = Sequential() # initialize\n",
    "model.add(Dense(64, activation = \"relu\", input_dim = onehot_train.shape[1])) # dense layer with ReLU activation\n",
    "model.add(Dropout(0.5)) # droput\n",
    "model.add(Dense(1, activation='softmax')) # binary classification\n",
    "\n",
    "model.compile(loss = 'binary_crossentropy',\n",
    "              optimizer = 'adam',\n",
    "              metrics = ['accuracy'])"
   ]
  },
  {
   "cell_type": "code",
   "execution_count": 66,
   "metadata": {},
   "outputs": [
    {
     "ename": "TypeError",
     "evalue": "Unrecognized keyword arguments: {'x_train': array([[1., 0., 0., ..., 0., 0., 0.],\n       [1., 0., 0., ..., 0., 1., 0.],\n       [1., 0., 0., ..., 0., 0., 0.],\n       ...,\n       [1., 0., 0., ..., 0., 0., 0.],\n       [1., 0., 0., ..., 0., 0., 1.],\n       [1., 0., 0., ..., 0., 0., 1.]]), 'y_train': 0        0\n1        0\n2        1\n3        0\n4        0\n        ..\n19995    0\n19996    0\n19997    1\n19998    1\n19999    0\nName: class_bin, Length: 20000, dtype: int32}",
     "output_type": "error",
     "traceback": [
      "\u001b[1;31m---------------------------------------------------------------------------\u001b[0m",
      "\u001b[1;31mTypeError\u001b[0m                                 Traceback (most recent call last)",
      "\u001b[1;32m<ipython-input-66-40cf7b643af6>\u001b[0m in \u001b[0;36m<module>\u001b[1;34m\u001b[0m\n\u001b[0;32m      4\u001b[0m                     \u001b[0mepochs\u001b[0m \u001b[1;33m=\u001b[0m \u001b[1;36m5\u001b[0m\u001b[1;33m,\u001b[0m\u001b[1;33m\u001b[0m\u001b[1;33m\u001b[0m\u001b[0m\n\u001b[0;32m      5\u001b[0m                     \u001b[0mbatch_size\u001b[0m \u001b[1;33m=\u001b[0m \u001b[1;36m32\u001b[0m\u001b[1;33m,\u001b[0m\u001b[1;33m\u001b[0m\u001b[1;33m\u001b[0m\u001b[0m\n\u001b[1;32m----> 6\u001b[1;33m                     validation_split = 0.2)\n\u001b[0m",
      "\u001b[1;32mc:\\Users\\mherbstritt\\base\\lib\\site-packages\\keras\\engine\\training.py\u001b[0m in \u001b[0;36mfit\u001b[1;34m(self, x, y, batch_size, epochs, verbose, callbacks, validation_split, validation_data, shuffle, class_weight, sample_weight, initial_epoch, steps_per_epoch, validation_steps, validation_freq, max_queue_size, workers, use_multiprocessing, **kwargs)\u001b[0m\n\u001b[0;32m   1116\u001b[0m             \u001b[0mepochs\u001b[0m \u001b[1;33m=\u001b[0m \u001b[0mkwargs\u001b[0m\u001b[1;33m.\u001b[0m\u001b[0mpop\u001b[0m\u001b[1;33m(\u001b[0m\u001b[1;34m'nb_epoch'\u001b[0m\u001b[1;33m)\u001b[0m\u001b[1;33m\u001b[0m\u001b[1;33m\u001b[0m\u001b[0m\n\u001b[0;32m   1117\u001b[0m         \u001b[1;32mif\u001b[0m \u001b[0mkwargs\u001b[0m\u001b[1;33m:\u001b[0m\u001b[1;33m\u001b[0m\u001b[1;33m\u001b[0m\u001b[0m\n\u001b[1;32m-> 1118\u001b[1;33m             \u001b[1;32mraise\u001b[0m \u001b[0mTypeError\u001b[0m\u001b[1;33m(\u001b[0m\u001b[1;34m'Unrecognized keyword arguments: '\u001b[0m \u001b[1;33m+\u001b[0m \u001b[0mstr\u001b[0m\u001b[1;33m(\u001b[0m\u001b[0mkwargs\u001b[0m\u001b[1;33m)\u001b[0m\u001b[1;33m)\u001b[0m\u001b[1;33m\u001b[0m\u001b[1;33m\u001b[0m\u001b[0m\n\u001b[0m\u001b[0;32m   1119\u001b[0m \u001b[1;33m\u001b[0m\u001b[0m\n\u001b[0;32m   1120\u001b[0m         \u001b[1;32mif\u001b[0m \u001b[0mx\u001b[0m \u001b[1;32mis\u001b[0m \u001b[1;32mNone\u001b[0m \u001b[1;32mand\u001b[0m \u001b[0my\u001b[0m \u001b[1;32mis\u001b[0m \u001b[1;32mNone\u001b[0m \u001b[1;32mand\u001b[0m \u001b[0msteps_per_epoch\u001b[0m \u001b[1;32mis\u001b[0m \u001b[1;32mNone\u001b[0m\u001b[1;33m:\u001b[0m\u001b[1;33m\u001b[0m\u001b[1;33m\u001b[0m\u001b[0m\n",
      "\u001b[1;31mTypeError\u001b[0m: Unrecognized keyword arguments: {'x_train': array([[1., 0., 0., ..., 0., 0., 0.],\n       [1., 0., 0., ..., 0., 1., 0.],\n       [1., 0., 0., ..., 0., 0., 0.],\n       ...,\n       [1., 0., 0., ..., 0., 0., 0.],\n       [1., 0., 0., ..., 0., 0., 1.],\n       [1., 0., 0., ..., 0., 0., 1.]]), 'y_train': 0        0\n1        0\n2        1\n3        0\n4        0\n        ..\n19995    0\n19996    0\n19997    1\n19998    1\n19999    0\nName: class_bin, Length: 20000, dtype: int32}"
     ]
    }
   ],
   "source": [
    "# training\n",
    "history = model.fit(x_train = onehot_train,\n",
    "                    y_train = df_train[\"class_bin\"],\n",
    "                    epochs = 5,\n",
    "                    batch_size = 32,\n",
    "                    validation_split = 0.2)"
   ]
  },
  {
   "cell_type": "code",
   "execution_count": null,
   "metadata": {},
   "outputs": [],
   "source": []
  }
 ],
 "metadata": {
  "kernelspec": {
   "display_name": "Python 3.7.6 64-bit ('base': venv)",
   "language": "python",
   "name": "python37664bitbasevenv23cd022687ab470688da671eade16340"
  },
  "language_info": {
   "codemirror_mode": {
    "name": "ipython",
    "version": 3
   },
   "file_extension": ".py",
   "mimetype": "text/x-python",
   "name": "python",
   "nbconvert_exporter": "python",
   "pygments_lexer": "ipython3",
   "version": "3.7.6-final"
  }
 },
 "nbformat": 4,
 "nbformat_minor": 4
}