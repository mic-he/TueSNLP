{
 "cells": [
  {
   "cell_type": "markdown",
   "metadata": {},
   "source": [
    "# Assignment 5\n",
    "## Word class prediction with neural networks\n",
    "The assignment and data are available here: https://snlp2018.github.io/assignments.html\n",
    "\n",
    "The file `data/train.txt` (and `test.txt` as well) contains a two-column, tab-separated dataset of German words, either nouns or verbs, each with its class label. We train a character-level neutral network to learn the word classes."
   ]
  },
  {
   "cell_type": "markdown",
   "metadata": {},
   "source": [
    "### Exercise 1\n",
    "Data pre-processing. Read the data and encode as follows: target labels as 0s and 1s;  word characters to integers and words to lists of integers.\n",
    "\n",
    "First, read data:"
   ]
  },
  {
   "cell_type": "code",
   "execution_count": 1,
   "metadata": {},
   "outputs": [],
   "source": [
    "import pandas as pd\n",
    "import numpy as np"
   ]
  },
  {
   "cell_type": "code",
   "execution_count": 2,
   "metadata": {},
   "outputs": [
    {
     "data": {
      "text/html": "<div>\n<style scoped>\n    .dataframe tbody tr th:only-of-type {\n        vertical-align: middle;\n    }\n\n    .dataframe tbody tr th {\n        vertical-align: top;\n    }\n\n    .dataframe thead th {\n        text-align: right;\n    }\n</style>\n<table border=\"1\" class=\"dataframe\">\n  <thead>\n    <tr style=\"text-align: right;\">\n      <th></th>\n      <th>class</th>\n      <th>word</th>\n    </tr>\n  </thead>\n  <tbody>\n    <tr>\n      <th>0</th>\n      <td>noun</td>\n      <td>gemeinderat</td>\n    </tr>\n    <tr>\n      <th>1</th>\n      <td>noun</td>\n      <td>grenzpolizei</td>\n    </tr>\n    <tr>\n      <th>2</th>\n      <td>verb</td>\n      <td>ruinieren</td>\n    </tr>\n    <tr>\n      <th>3</th>\n      <td>noun</td>\n      <td>halbtönen</td>\n    </tr>\n    <tr>\n      <th>4</th>\n      <td>noun</td>\n      <td>energieexporteuren</td>\n    </tr>\n  </tbody>\n</table>\n</div>",
      "text/plain": "  class                word\n0  noun         gemeinderat\n1  noun        grenzpolizei\n2  verb           ruinieren\n3  noun           halbtönen\n4  noun  energieexporteuren"
     },
     "execution_count": 2,
     "metadata": {},
     "output_type": "execute_result"
    }
   ],
   "source": [
    "df_train = pd.read_csv(\"data/train.txt\", sep = \"\\t\", names = [\"class\", \"word\"])\n",
    "df_train.head()"
   ]
  },
  {
   "cell_type": "code",
   "execution_count": 3,
   "metadata": {},
   "outputs": [
    {
     "data": {
      "text/html": "<div>\n<style scoped>\n    .dataframe tbody tr th:only-of-type {\n        vertical-align: middle;\n    }\n\n    .dataframe tbody tr th {\n        vertical-align: top;\n    }\n\n    .dataframe thead th {\n        text-align: right;\n    }\n</style>\n<table border=\"1\" class=\"dataframe\">\n  <thead>\n    <tr style=\"text-align: right;\">\n      <th></th>\n      <th>class</th>\n      <th>word</th>\n    </tr>\n  </thead>\n  <tbody>\n    <tr>\n      <th>0</th>\n      <td>noun</td>\n      <td>kaufverpflichtung</td>\n    </tr>\n    <tr>\n      <th>1</th>\n      <td>verb</td>\n      <td>kosten</td>\n    </tr>\n    <tr>\n      <th>2</th>\n      <td>noun</td>\n      <td>n</td>\n    </tr>\n    <tr>\n      <th>3</th>\n      <td>noun</td>\n      <td>blousons</td>\n    </tr>\n    <tr>\n      <th>4</th>\n      <td>noun</td>\n      <td>verwaltungsgeschäfte</td>\n    </tr>\n  </tbody>\n</table>\n</div>",
      "text/plain": "  class                  word\n0  noun     kaufverpflichtung\n1  verb                kosten\n2  noun                     n\n3  noun              blousons\n4  noun  verwaltungsgeschäfte"
     },
     "execution_count": 3,
     "metadata": {},
     "output_type": "execute_result"
    }
   ],
   "source": [
    "df_test = pd.read_csv(\"data/test.txt\", sep = \"\\t\", names = [\"class\", \"word\"])\n",
    "df_test.head()"
   ]
  },
  {
   "cell_type": "markdown",
   "metadata": {},
   "source": [
    "Next, encode `class`; convention: `noun` -> `0`; `verb` -> `1`"
   ]
  },
  {
   "cell_type": "code",
   "execution_count": 4,
   "metadata": {},
   "outputs": [
    {
     "data": {
      "text/plain": "array([0, 0, 1, 0, 0])"
     },
     "execution_count": 4,
     "metadata": {},
     "output_type": "execute_result"
    }
   ],
   "source": [
    "train_y = np.where(df_train[\"class\"] == \"noun\", 0, 1)\n",
    "train_y[0:5]"
   ]
  },
  {
   "cell_type": "code",
   "execution_count": 6,
   "metadata": {},
   "outputs": [
    {
     "data": {
      "text/plain": "array([0, 1, 0, 0, 0])"
     },
     "execution_count": 6,
     "metadata": {},
     "output_type": "execute_result"
    }
   ],
   "source": [
    "test_y = np.where(df_test[\"class\"] == \"noun\", 0, 1)\n",
    "test_y[0:5]"
   ]
  },
  {
   "cell_type": "markdown",
   "metadata": {},
   "source": [
    "Next, extract alphabet of Unicode characters from `df_train[\"words\"]` and map each to an integer (its position in the list will do):"
   ]
  },
  {
   "cell_type": "code",
   "execution_count": 5,
   "metadata": {},
   "outputs": [],
   "source": [
    "alphabet = list(set([c for word in [list(str(word)) for word in df_train[\"word\"].tolist()] for c in word]))"
   ]
  },
  {
   "cell_type": "code",
   "execution_count": 7,
   "metadata": {},
   "outputs": [
    {
     "name": "stdout",
     "output_type": "stream",
     "text": "['b', 'p', 'g', 'd', 'f', 'w', 'y', 'ä', 'x', 'i', 'k', 'h', 'l', 'c', 'ß', 'ü', 'j', 'm', 'e', 'v', 'q', 'r', 'n', 'u', 'z', 'ö', 's', 'a', 'o', 't']\n30\n"
    }
   ],
   "source": [
    "print(alphabet)\n",
    "print(len(alphabet))"
   ]
  },
  {
   "cell_type": "markdown",
   "metadata": {},
   "source": [
    "We define a function which takes a word and an alphabet and return a list of integers which encodes the input word: "
   ]
  },
  {
   "cell_type": "code",
   "execution_count": 8,
   "metadata": {},
   "outputs": [],
   "source": [
    "def word_encoder(word, alphabet):\n",
    "    word = str(word)\n",
    "    out_list = np.zeros(shape = len(word), dtype = \"int32\")\n",
    "    for i, char in enumerate(word):\n",
    "        if char in alphabet: # if the character belongs to the alphabet...\n",
    "            out_list[i] = alphabet.index(char)+1 # ...its encoding is simply its position plus one, we'll use 0 for padding\n",
    "        else:\n",
    "            out_list[i] = 999 # integer reserved for out-of-alphabet characters\n",
    "    return out_list"
   ]
  },
  {
   "cell_type": "markdown",
   "metadata": {},
   "source": [
    "For example:"
   ]
  },
  {
   "cell_type": "code",
   "execution_count": 9,
   "metadata": {},
   "outputs": [
    {
     "data": {
      "text/plain": "array([12, 19,  7])"
     },
     "execution_count": 9,
     "metadata": {},
     "output_type": "execute_result"
    }
   ],
   "source": [
    "word_encoder(\"hey\", alphabet)"
   ]
  },
  {
   "cell_type": "code",
   "execution_count": 11,
   "metadata": {},
   "outputs": [
    {
     "data": {
      "text/plain": "array([ 12,  19, 999])"
     },
     "execution_count": 11,
     "metadata": {},
     "output_type": "execute_result"
    }
   ],
   "source": [
    "word_encoder(\"heÿ\", alphabet)"
   ]
  },
  {
   "cell_type": "code",
   "execution_count": 10,
   "metadata": {},
   "outputs": [
    {
     "data": {
      "text/plain": "array([  7,  19,  12, 999])"
     },
     "execution_count": 10,
     "metadata": {},
     "output_type": "execute_result"
    }
   ],
   "source": [
    "word_encoder(\"yehÿ\", alphabet)"
   ]
  },
  {
   "cell_type": "markdown",
   "metadata": {},
   "source": [
    "It works!\n",
    "\n",
    "Next, apply this function to each row in our dfs:"
   ]
  },
  {
   "cell_type": "code",
   "execution_count": 34,
   "metadata": {},
   "outputs": [],
   "source": [
    "train_x = df_train.apply(lambda row: word_encoder(row.word, alphabet), axis = 1)"
   ]
  },
  {
   "cell_type": "code",
   "execution_count": 35,
   "metadata": {},
   "outputs": [
    {
     "data": {
      "text/plain": "0           [3, 19, 18, 19, 10, 23, 4, 19, 22, 28, 30]\n1       [3, 22, 19, 23, 25, 2, 29, 13, 10, 25, 19, 10]\n2                 [22, 24, 10, 23, 10, 19, 22, 19, 23]\n3                  [12, 28, 13, 1, 30, 26, 23, 19, 23]\n4    [19, 23, 19, 22, 3, 10, 19, 19, 9, 2, 29, 22, ...\ndtype: object"
     },
     "execution_count": 35,
     "metadata": {},
     "output_type": "execute_result"
    }
   ],
   "source": [
    "train_x[0:5]"
   ]
  },
  {
   "cell_type": "code",
   "execution_count": 36,
   "metadata": {},
   "outputs": [],
   "source": [
    "test_x = df_test.apply(lambda row: word_encoder(row.word, alphabet), axis = 1)"
   ]
  },
  {
   "cell_type": "code",
   "execution_count": 37,
   "metadata": {},
   "outputs": [
    {
     "data": {
      "text/plain": "0    [11, 28, 24, 5, 20, 19, 22, 2, 5, 13, 10, 14, ...\n1                             [11, 29, 27, 30, 19, 23]\n2                                                 [23]\n3                      [1, 13, 29, 24, 27, 29, 23, 27]\n4    [20, 19, 22, 6, 28, 13, 30, 24, 23, 3, 27, 3, ...\ndtype: object"
     },
     "execution_count": 37,
     "metadata": {},
     "output_type": "execute_result"
    }
   ],
   "source": [
    "test_x[0:5]"
   ]
  },
  {
   "cell_type": "markdown",
   "metadata": {},
   "source": [
    "Next, padding: the sequences of features should all be of the same length (we use the length of the longest sequence). To do so, we use `sequence.pad_sequences` from `keras.preprocessing`:"
   ]
  },
  {
   "cell_type": "code",
   "execution_count": 38,
   "metadata": {},
   "outputs": [],
   "source": [
    "from keras.preprocessing.sequence import pad_sequences"
   ]
  },
  {
   "cell_type": "code",
   "execution_count": 39,
   "metadata": {},
   "outputs": [
    {
     "name": "stdout",
     "output_type": "stream",
     "text": "31\n"
    }
   ],
   "source": [
    "# how long is the longest word?\n",
    "max_word = max(len(word) for word in train_x)\n",
    "print(max_word)"
   ]
  },
  {
   "cell_type": "code",
   "execution_count": 40,
   "metadata": {},
   "outputs": [],
   "source": [
    "train_x = pad_sequences(train_x)"
   ]
  },
  {
   "cell_type": "code",
   "execution_count": 41,
   "metadata": {},
   "outputs": [
    {
     "data": {
      "text/plain": "(20000, 31)"
     },
     "execution_count": 41,
     "metadata": {},
     "output_type": "execute_result"
    }
   ],
   "source": [
    "train_x.shape"
   ]
  },
  {
   "cell_type": "code",
   "execution_count": 42,
   "metadata": {},
   "outputs": [
    {
     "data": {
      "text/plain": "array([ 0,  0,  0,  0,  0,  0,  0,  0,  0,  0,  0,  0,  0,  0,  0,  0,  0,\n        0,  0,  0,  3, 19, 18, 19, 10, 23,  4, 19, 22, 28, 30])"
     },
     "execution_count": 42,
     "metadata": {},
     "output_type": "execute_result"
    }
   ],
   "source": [
    "# for example\n",
    "train_x[0]"
   ]
  },
  {
   "cell_type": "code",
   "execution_count": 43,
   "metadata": {},
   "outputs": [],
   "source": [
    "# same for test features\n",
    "test_x = pad_sequences(test_x, maxlen = train_x.shape[1]) # the max length be the same between train and test"
   ]
  },
  {
   "cell_type": "markdown",
   "metadata": {},
   "source": [
    "Finally, one-hot encoding for characters (hence words are encoded into lists of vectors of 0s and 1s). We use `to_categorical` from `keras.utils`:"
   ]
  },
  {
   "cell_type": "code",
   "execution_count": 44,
   "metadata": {},
   "outputs": [],
   "source": [
    "from keras.utils import to_categorical"
   ]
  },
  {
   "cell_type": "code",
   "execution_count": 45,
   "metadata": {},
   "outputs": [],
   "source": [
    "train_x_cat = to_categorical(train_x)"
   ]
  },
  {
   "cell_type": "code",
   "execution_count": 46,
   "metadata": {},
   "outputs": [
    {
     "data": {
      "text/plain": "(20000, 31, 31)"
     },
     "execution_count": 46,
     "metadata": {},
     "output_type": "execute_result"
    }
   ],
   "source": [
    "train_x_cat.shape"
   ]
  },
  {
   "cell_type": "code",
   "execution_count": 48,
   "metadata": {},
   "outputs": [],
   "source": [
    "# flatten each row\n",
    "onehot_train = train_x_cat.reshape(train_x_cat.shape[0], train_x_cat.shape[1]*train_x_cat.shape[2])"
   ]
  },
  {
   "cell_type": "code",
   "execution_count": 49,
   "metadata": {},
   "outputs": [
    {
     "data": {
      "text/plain": "array([1., 0., 0., 0., 0., 0., 0., 0., 0., 0., 0., 0., 0., 0., 0., 0., 0.,\n       0., 0., 0., 0., 0., 0., 0., 0., 0., 0., 0., 0., 0., 0., 1., 0., 0.,\n       0., 0., 0., 0., 0., 0., 0., 0., 0., 0., 0., 0., 0., 0., 0., 0., 0.,\n       0., 0., 0., 0., 0., 0., 0., 0., 0., 0., 0., 1., 0., 0., 0., 0., 0.,\n       0., 0., 0., 0., 0., 0., 0., 0., 0., 0., 0., 0., 0., 0., 0., 0., 0.,\n       0., 0., 0., 0., 0., 0., 0., 0., 1., 0., 0., 0., 0., 0., 0., 0., 0.,\n       0., 0., 0., 0., 0., 0., 0., 0., 0., 0., 0., 0., 0., 0., 0., 0., 0.,\n       0., 0., 0., 0., 0., 1., 0., 0., 0., 0., 0., 0., 0., 0., 0., 0., 0.,\n       0., 0., 0., 0., 0., 0., 0., 0., 0., 0., 0., 0., 0., 0., 0., 0., 0.,\n       0., 0., 1., 0., 0., 0., 0., 0., 0., 0., 0., 0., 0., 0., 0., 0., 0.,\n       0., 0., 0., 0., 0., 0., 0., 0., 0., 0., 0., 0., 0., 0., 0., 0., 1.,\n       0., 0., 0., 0., 0., 0., 0., 0., 0., 0., 0., 0., 0., 0., 0., 0., 0.,\n       0., 0., 0., 0., 0., 0., 0., 0., 0., 0., 0., 0., 0., 1., 0., 0., 0.,\n       0., 0., 0., 0., 0., 0., 0., 0., 0., 0., 0., 0., 0., 0., 0., 0., 0.,\n       0., 0., 0., 0., 0., 0., 0., 0., 0., 0., 1., 0., 0., 0., 0., 0., 0.,\n       0., 0., 0., 0., 0., 0., 0., 0., 0., 0., 0., 0., 0., 0., 0., 0., 0.,\n       0., 0., 0., 0., 0., 0., 0., 1., 0., 0., 0., 0., 0., 0., 0., 0., 0.,\n       0., 0., 0., 0., 0., 0., 0., 0., 0., 0., 0., 0., 0., 0., 0., 0., 0.,\n       0., 0., 0., 0., 1., 0., 0., 0., 0., 0., 0., 0., 0., 0., 0., 0., 0.,\n       0., 0., 0., 0., 0., 0., 0., 0., 0., 0., 0., 0., 0., 0., 0., 0., 0.,\n       0., 1., 0., 0., 0., 0., 0., 0., 0., 0., 0., 0., 0., 0., 0., 0., 0.,\n       0., 0., 0., 0., 0., 0., 0., 0., 0., 0., 0., 0., 0., 0., 0., 1., 0.,\n       0., 0., 0., 0., 0., 0., 0., 0., 0., 0., 0., 0., 0., 0., 0., 0., 0.,\n       0., 0., 0., 0., 0., 0., 0., 0., 0., 0., 0., 0., 1., 0., 0., 0., 0.,\n       0., 0., 0., 0., 0., 0., 0., 0., 0., 0., 0., 0., 0., 0., 0., 0., 0.,\n       0., 0., 0., 0., 0., 0., 0., 0., 0., 1., 0., 0., 0., 0., 0., 0., 0.,\n       0., 0., 0., 0., 0., 0., 0., 0., 0., 0., 0., 0., 0., 0., 0., 0., 0.,\n       0., 0., 0., 0., 0., 0., 1., 0., 0., 0., 0., 0., 0., 0., 0., 0., 0.,\n       0., 0., 0., 0., 0., 0., 0., 0., 0., 0., 0., 0., 0., 0., 0., 0., 0.,\n       0., 0., 0., 1., 0., 0., 0., 0., 0., 0., 0., 0., 0., 0., 0., 0., 0.,\n       0., 0., 0., 0., 0., 0., 0., 0., 0., 0., 0., 0., 0., 0., 0., 0., 0.,\n       1., 0., 0., 0., 0., 0., 0., 0., 0., 0., 0., 0., 0., 0., 0., 0., 0.,\n       0., 0., 0., 0., 0., 0., 0., 0., 0., 0., 0., 0., 0., 0., 1., 0., 0.,\n       0., 0., 0., 0., 0., 0., 0., 0., 0., 0., 0., 0., 0., 0., 0., 0., 0.,\n       0., 0., 0., 0., 0., 0., 0., 0., 0., 0., 0., 1., 0., 0., 0., 0., 0.,\n       0., 0., 0., 0., 0., 0., 0., 0., 0., 0., 0., 0., 0., 0., 0., 0., 0.,\n       0., 0., 0., 0., 0., 0., 0., 0., 0., 0., 0., 1., 0., 0., 0., 0., 0.,\n       0., 0., 0., 0., 0., 0., 0., 0., 0., 0., 0., 0., 0., 0., 0., 0., 0.,\n       0., 0., 0., 0., 0., 0., 0., 0., 0., 0., 0., 0., 0., 0., 0., 0., 0.,\n       0., 0., 0., 0., 0., 0., 0., 1., 0., 0., 0., 0., 0., 0., 0., 0., 0.,\n       0., 0., 0., 0., 0., 0., 0., 0., 0., 0., 0., 0., 0., 0., 0., 0., 0.,\n       0., 0., 0., 1., 0., 0., 0., 0., 0., 0., 0., 0., 0., 0., 0., 0., 0.,\n       0., 0., 0., 0., 0., 0., 0., 0., 0., 0., 0., 0., 0., 0., 0., 0., 0.,\n       0., 1., 0., 0., 0., 0., 0., 0., 0., 0., 0., 0., 0., 0., 0., 0., 0.,\n       0., 0., 0., 0., 0., 0., 1., 0., 0., 0., 0., 0., 0., 0., 0., 0., 0.,\n       0., 0., 0., 0., 0., 0., 0., 0., 0., 0., 0., 0., 0., 0., 0., 0., 0.,\n       0., 0., 0., 0., 0., 0., 0., 0., 0., 0., 0., 0., 0., 0., 0., 0., 1.,\n       0., 0., 0., 0., 0., 0., 0., 0., 0., 0., 0., 1., 0., 0., 0., 0., 0.,\n       0., 0., 0., 0., 0., 0., 0., 0., 0., 0., 0., 0., 0., 0., 0., 0., 0.,\n       0., 0., 0., 0., 0., 0., 0., 0., 0., 0., 0., 0., 0., 0., 0., 0., 0.,\n       0., 0., 0., 0., 0., 0., 1., 0., 0., 0., 0., 0., 0., 0., 0., 0., 0.,\n       0., 0., 0., 0., 0., 0., 0., 0., 0., 0., 0., 0., 0., 0., 0., 0., 0.,\n       0., 0., 0., 0., 0., 0., 1., 0., 0., 0., 0., 0., 0., 0., 0., 0., 0.,\n       0., 0., 0., 0., 0., 0., 0., 0., 0., 0., 0., 0., 0., 0., 0., 0., 0.,\n       0., 0., 0., 0., 0., 0., 0., 0., 0., 1., 0., 0., 0., 0., 0., 0., 0.,\n       0., 0., 0., 0., 0., 0., 0., 0., 0., 0., 0., 0., 0., 0., 0., 0., 0.,\n       0., 0., 0., 0., 0., 0., 0., 0., 1.], dtype=float32)"
     },
     "execution_count": 49,
     "metadata": {},
     "output_type": "execute_result"
    }
   ],
   "source": [
    "onehot_train.shape"
   ]
  },
  {
   "cell_type": "code",
   "execution_count": 50,
   "metadata": {},
   "outputs": [],
   "source": [
    "# same for test\n",
    "test_x_cat = to_categorical(test_x)\n",
    "\n",
    "onehot_test = test_x_cat.reshape(test_x_cat.shape[0], test_x_cat.shape[1]*test_x_cat.shape[2])"
   ]
  },
  {
   "cell_type": "code",
   "execution_count": 51,
   "metadata": {},
   "outputs": [
    {
     "data": {
      "text/plain": "(6561, 961)"
     },
     "execution_count": 51,
     "metadata": {},
     "output_type": "execute_result"
    }
   ],
   "source": [
    "onehot_test.shape"
   ]
  },
  {
   "cell_type": "markdown",
   "metadata": {},
   "source": [
    "### Exercise 2\n",
    "We train and tune a simple feed-forward nn with `train_onehot` (features) as input and `train_y` (labels) as output, using `keras`.\n",
    "\n",
    "First, describe the model:"
   ]
  },
  {
   "cell_type": "code",
   "execution_count": 61,
   "metadata": {},
   "outputs": [],
   "source": [
    "from keras.models import Sequential\n",
    "from keras.layers import Dense, Activation, Dropout"
   ]
  },
  {
   "cell_type": "code",
   "execution_count": 62,
   "metadata": {},
   "outputs": [],
   "source": [
    "# model\n",
    "model = Sequential() # initialize\n",
    "model.add(Dense(64, activation = \"relu\", input_dim = onehot_train.shape[1])) # dense layer with ReLU activation\n",
    "model.add(Dropout(0.2)) # droput\n",
    "model.add(Dense(1, activation = 'softmax')) # binary classification\n",
    "\n",
    "model.compile(loss = 'binary_crossentropy',\n",
    "              optimizer = 'adam',\n",
    "              metrics = ['accuracy'])"
   ]
  },
  {
   "cell_type": "code",
   "execution_count": 63,
   "metadata": {},
   "outputs": [
    {
     "name": "stdout",
     "output_type": "stream",
     "text": "Model: \"sequential_4\"\n_________________________________________________________________\nLayer (type)                 Output Shape              Param #   \n=================================================================\ndense_6 (Dense)              (None, 64)                61568     \n_________________________________________________________________\ndropout_3 (Dropout)          (None, 64)                0         \n_________________________________________________________________\ndense_7 (Dense)              (None, 1)                 65        \n=================================================================\nTotal params: 61,633\nTrainable params: 61,633\nNon-trainable params: 0\n_________________________________________________________________\n"
    }
   ],
   "source": [
    "model.summary()"
   ]
  },
  {
   "cell_type": "markdown",
   "metadata": {},
   "source": [
    "Training:"
   ]
  },
  {
   "cell_type": "code",
   "execution_count": 64,
   "metadata": {},
   "outputs": [
    {
     "name": "stdout",
     "output_type": "stream",
     "text": "Train on 16000 samples, validate on 4000 samples\nEpoch 1/30\n16000/16000 [==============================] - 1s 63us/step - loss: 12.3663 - accuracy: 0.1935 - val_loss: 12.2299 - val_accuracy: 0.1980\nEpoch 2/30\n16000/16000 [==============================] - 1s 47us/step - loss: 12.3663 - accuracy: 0.1935 - val_loss: 12.2299 - val_accuracy: 0.1980\nEpoch 3/30\n16000/16000 [==============================] - 1s 48us/step - loss: 12.3663 - accuracy: 0.1935 - val_loss: 12.2299 - val_accuracy: 0.1980\nEpoch 4/30\n16000/16000 [==============================] - 1s 52us/step - loss: 12.3663 - accuracy: 0.1935 - val_loss: 12.2299 - val_accuracy: 0.1980\nEpoch 5/30\n16000/16000 [==============================] - 1s 48us/step - loss: 12.3663 - accuracy: 0.1935 - val_loss: 12.2299 - val_accuracy: 0.1980\nEpoch 6/30\n16000/16000 [==============================] - 1s 49us/step - loss: 12.3663 - accuracy: 0.1935 - val_loss: 12.2299 - val_accuracy: 0.1980\nEpoch 7/30\n16000/16000 [==============================] - 1s 49us/step - loss: 12.3663 - accuracy: 0.1935 - val_loss: 12.2299 - val_accuracy: 0.1980\nEpoch 8/30\n16000/16000 [==============================] - 1s 48us/step - loss: 12.3663 - accuracy: 0.1935 - val_loss: 12.2299 - val_accuracy: 0.1980\nEpoch 9/30\n16000/16000 [==============================] - 1s 48us/step - loss: 12.3663 - accuracy: 0.1935 - val_loss: 12.2299 - val_accuracy: 0.1980\nEpoch 10/30\n16000/16000 [==============================] - 1s 47us/step - loss: 12.3663 - accuracy: 0.1935 - val_loss: 12.2299 - val_accuracy: 0.1980\nEpoch 11/30\n16000/16000 [==============================] - 1s 48us/step - loss: 12.3663 - accuracy: 0.1935 - val_loss: 12.2299 - val_accuracy: 0.1980\nEpoch 12/30\n16000/16000 [==============================] - 1s 48us/step - loss: 12.3663 - accuracy: 0.1935 - val_loss: 12.2299 - val_accuracy: 0.1980\nEpoch 13/30\n16000/16000 [==============================] - 1s 52us/step - loss: 12.3663 - accuracy: 0.1935 - val_loss: 12.2299 - val_accuracy: 0.1980\nEpoch 14/30\n16000/16000 [==============================] - 1s 48us/step - loss: 12.3663 - accuracy: 0.1935 - val_loss: 12.2299 - val_accuracy: 0.1980\nEpoch 15/30\n16000/16000 [==============================] - 1s 48us/step - loss: 12.3663 - accuracy: 0.1935 - val_loss: 12.2299 - val_accuracy: 0.1980\nEpoch 16/30\n16000/16000 [==============================] - 1s 48us/step - loss: 12.3663 - accuracy: 0.1935 - val_loss: 12.2299 - val_accuracy: 0.1980\nEpoch 17/30\n16000/16000 [==============================] - 1s 49us/step - loss: 12.3663 - accuracy: 0.1935 - val_loss: 12.2299 - val_accuracy: 0.1980\nEpoch 18/30\n16000/16000 [==============================] - 1s 48us/step - loss: 12.3663 - accuracy: 0.1935 - val_loss: 12.2299 - val_accuracy: 0.1980\nEpoch 19/30\n16000/16000 [==============================] - 1s 50us/step - loss: 12.3663 - accuracy: 0.1935 - val_loss: 12.2299 - val_accuracy: 0.1980\nEpoch 20/30\n16000/16000 [==============================] - 1s 48us/step - loss: 12.3663 - accuracy: 0.1935 - val_loss: 12.2299 - val_accuracy: 0.1980\nEpoch 21/30\n16000/16000 [==============================] - 1s 47us/step - loss: 12.3663 - accuracy: 0.1935 - val_loss: 12.2299 - val_accuracy: 0.1980\nEpoch 22/30\n16000/16000 [==============================] - 1s 55us/step - loss: 12.3663 - accuracy: 0.1935 - val_loss: 12.2299 - val_accuracy: 0.1980\nEpoch 23/30\n16000/16000 [==============================] - 1s 51us/step - loss: 12.3663 - accuracy: 0.1935 - val_loss: 12.2299 - val_accuracy: 0.1980\nEpoch 24/30\n16000/16000 [==============================] - 1s 62us/step - loss: 12.3663 - accuracy: 0.1935 - val_loss: 12.2299 - val_accuracy: 0.1980\nEpoch 25/30\n16000/16000 [==============================] - 1s 60us/step - loss: 12.3663 - accuracy: 0.1935 - val_loss: 12.2299 - val_accuracy: 0.1980\nEpoch 26/30\n16000/16000 [==============================] - 1s 63us/step - loss: 12.3663 - accuracy: 0.1935 - val_loss: 12.2299 - val_accuracy: 0.1980\nEpoch 27/30\n16000/16000 [==============================] - 1s 53us/step - loss: 12.3663 - accuracy: 0.1935 - val_loss: 12.2299 - val_accuracy: 0.1980\nEpoch 28/30\n16000/16000 [==============================] - 1s 63us/step - loss: 12.3663 - accuracy: 0.1935 - val_loss: 12.2299 - val_accuracy: 0.1980\nEpoch 29/30\n16000/16000 [==============================] - 1s 61us/step - loss: 12.3663 - accuracy: 0.1935 - val_loss: 12.2299 - val_accuracy: 0.1980\nEpoch 30/30\n16000/16000 [==============================] - 1s 52us/step - loss: 12.3663 - accuracy: 0.1935 - val_loss: 12.2299 - val_accuracy: 0.1980\n"
    }
   ],
   "source": [
    "# training\n",
    "history = model.fit(onehot_train,\n",
    "                    train_y,\n",
    "                    epochs = 30,\n",
    "                    batch_size = 64,\n",
    "                    validation_split = 0.2,\n",
    "                    verbose = 1)"
   ]
  },
  {
   "cell_type": "code",
   "execution_count": null,
   "metadata": {},
   "outputs": [],
   "source": [
    "loss, accuracy = model.evaluate(onehot_train, train_y, verbose = False)\n",
    "print(\"On training set, Loss={}, Accuracy={}\".format(loss, accuracy))"
   ]
  },
  {
   "cell_type": "code",
   "execution_count": 60,
   "metadata": {},
   "outputs": [
    {
     "name": "stdout",
     "output_type": "stream",
     "text": "On testing set, Loss=12.306769774828973, Accuracy=0.19295838475227356\n"
    }
   ],
   "source": [
    "loss, accuracy = model.evaluate(onehot_test, test_y, verbose = False)\n",
    "print(\"On testing set, Loss={}, Accuracy={}\".format(loss, accuracy))"
   ]
  },
  {
   "cell_type": "code",
   "execution_count": null,
   "metadata": {},
   "outputs": [],
   "source": []
  }
 ],
 "metadata": {
  "kernelspec": {
   "display_name": "Python 3.7.6 64-bit ('base': venv)",
   "language": "python",
   "name": "python37664bitbasevenv23cd022687ab470688da671eade16340"
  },
  "language_info": {
   "codemirror_mode": {
    "name": "ipython",
    "version": 3
   },
   "file_extension": ".py",
   "mimetype": "text/x-python",
   "name": "python",
   "nbconvert_exporter": "python",
   "pygments_lexer": "ipython3",
   "version": "3.7.6-final"
  }
 },
 "nbformat": 4,
 "nbformat_minor": 4
}