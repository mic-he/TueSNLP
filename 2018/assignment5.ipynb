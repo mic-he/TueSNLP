{
 "cells": [
  {
   "cell_type": "markdown",
   "metadata": {},
   "source": [
    "# Assignment 5\n",
    "## Word class prediction with neural networks\n",
    "The assignment and data are available here: https://snlp2018.github.io/assignments.html\n",
    "\n",
    "The file `data/train.txt` (and `test.txt` as well) contains a two-column, tab-separated dataset of German words, either nouns or verbs, each with its class label. We train a character-level neutral network to learn the word classes."
   ]
  },
  {
   "cell_type": "markdown",
   "metadata": {},
   "source": [
    "### Exercise 1\n",
    "Data pre-processing. Read the data and encode as follows: target labels as 0s and 1s;  word characters to integers and words to lists of integers.\n",
    "\n",
    "First, read data:"
   ]
  },
  {
   "cell_type": "code",
   "execution_count": 1,
   "metadata": {},
   "outputs": [],
   "source": [
    "import pandas as pd\n",
    "import numpy as np"
   ]
  },
  {
   "cell_type": "code",
   "execution_count": 2,
   "metadata": {},
   "outputs": [
    {
     "data": {
      "text/html": "<div>\n<style scoped>\n    .dataframe tbody tr th:only-of-type {\n        vertical-align: middle;\n    }\n\n    .dataframe tbody tr th {\n        vertical-align: top;\n    }\n\n    .dataframe thead th {\n        text-align: right;\n    }\n</style>\n<table border=\"1\" class=\"dataframe\">\n  <thead>\n    <tr style=\"text-align: right;\">\n      <th></th>\n      <th>class</th>\n      <th>word</th>\n    </tr>\n  </thead>\n  <tbody>\n    <tr>\n      <th>0</th>\n      <td>noun</td>\n      <td>gemeinderat</td>\n    </tr>\n    <tr>\n      <th>1</th>\n      <td>noun</td>\n      <td>grenzpolizei</td>\n    </tr>\n    <tr>\n      <th>2</th>\n      <td>verb</td>\n      <td>ruinieren</td>\n    </tr>\n    <tr>\n      <th>3</th>\n      <td>noun</td>\n      <td>halbtönen</td>\n    </tr>\n    <tr>\n      <th>4</th>\n      <td>noun</td>\n      <td>energieexporteuren</td>\n    </tr>\n  </tbody>\n</table>\n</div>",
      "text/plain": "  class                word\n0  noun         gemeinderat\n1  noun        grenzpolizei\n2  verb           ruinieren\n3  noun           halbtönen\n4  noun  energieexporteuren"
     },
     "execution_count": 2,
     "metadata": {},
     "output_type": "execute_result"
    }
   ],
   "source": [
    "df_train = pd.read_csv(\"data/train.txt\", sep = \"\\t\", names = [\"class\", \"word\"])\n",
    "df_train.head()"
   ]
  },
  {
   "cell_type": "code",
   "execution_count": 3,
   "metadata": {},
   "outputs": [
    {
     "data": {
      "text/html": "<div>\n<style scoped>\n    .dataframe tbody tr th:only-of-type {\n        vertical-align: middle;\n    }\n\n    .dataframe tbody tr th {\n        vertical-align: top;\n    }\n\n    .dataframe thead th {\n        text-align: right;\n    }\n</style>\n<table border=\"1\" class=\"dataframe\">\n  <thead>\n    <tr style=\"text-align: right;\">\n      <th></th>\n      <th>class</th>\n      <th>word</th>\n    </tr>\n  </thead>\n  <tbody>\n    <tr>\n      <th>0</th>\n      <td>noun</td>\n      <td>kaufverpflichtung</td>\n    </tr>\n    <tr>\n      <th>1</th>\n      <td>verb</td>\n      <td>kosten</td>\n    </tr>\n    <tr>\n      <th>2</th>\n      <td>noun</td>\n      <td>n</td>\n    </tr>\n    <tr>\n      <th>3</th>\n      <td>noun</td>\n      <td>blousons</td>\n    </tr>\n    <tr>\n      <th>4</th>\n      <td>noun</td>\n      <td>verwaltungsgeschäfte</td>\n    </tr>\n  </tbody>\n</table>\n</div>",
      "text/plain": "  class                  word\n0  noun     kaufverpflichtung\n1  verb                kosten\n2  noun                     n\n3  noun              blousons\n4  noun  verwaltungsgeschäfte"
     },
     "execution_count": 3,
     "metadata": {},
     "output_type": "execute_result"
    }
   ],
   "source": [
    "df_test = pd.read_csv(\"data/test.txt\", sep = \"\\t\", names = [\"class\", \"word\"])\n",
    "df_test.head()"
   ]
  },
  {
   "cell_type": "markdown",
   "metadata": {},
   "source": [
    "Next, encode `class`; convention: `noun` -> `0`; `verb` -> `1`"
   ]
  },
  {
   "cell_type": "code",
   "execution_count": 4,
   "metadata": {},
   "outputs": [
    {
     "data": {
      "text/html": "<div>\n<style scoped>\n    .dataframe tbody tr th:only-of-type {\n        vertical-align: middle;\n    }\n\n    .dataframe tbody tr th {\n        vertical-align: top;\n    }\n\n    .dataframe thead th {\n        text-align: right;\n    }\n</style>\n<table border=\"1\" class=\"dataframe\">\n  <thead>\n    <tr style=\"text-align: right;\">\n      <th></th>\n      <th>class</th>\n      <th>word</th>\n      <th>class_bin</th>\n    </tr>\n  </thead>\n  <tbody>\n    <tr>\n      <th>0</th>\n      <td>noun</td>\n      <td>gemeinderat</td>\n      <td>0</td>\n    </tr>\n    <tr>\n      <th>1</th>\n      <td>noun</td>\n      <td>grenzpolizei</td>\n      <td>0</td>\n    </tr>\n    <tr>\n      <th>2</th>\n      <td>verb</td>\n      <td>ruinieren</td>\n      <td>1</td>\n    </tr>\n    <tr>\n      <th>3</th>\n      <td>noun</td>\n      <td>halbtönen</td>\n      <td>0</td>\n    </tr>\n    <tr>\n      <th>4</th>\n      <td>noun</td>\n      <td>energieexporteuren</td>\n      <td>0</td>\n    </tr>\n  </tbody>\n</table>\n</div>",
      "text/plain": "  class                word  class_bin\n0  noun         gemeinderat          0\n1  noun        grenzpolizei          0\n2  verb           ruinieren          1\n3  noun           halbtönen          0\n4  noun  energieexporteuren          0"
     },
     "execution_count": 4,
     "metadata": {},
     "output_type": "execute_result"
    }
   ],
   "source": [
    "df_train[\"class_bin\"] = np.where(df_train[\"class\"] == \"noun\", 0, 1)\n",
    "df_train.head()"
   ]
  },
  {
   "cell_type": "code",
   "execution_count": 5,
   "metadata": {},
   "outputs": [
    {
     "data": {
      "text/html": "<div>\n<style scoped>\n    .dataframe tbody tr th:only-of-type {\n        vertical-align: middle;\n    }\n\n    .dataframe tbody tr th {\n        vertical-align: top;\n    }\n\n    .dataframe thead th {\n        text-align: right;\n    }\n</style>\n<table border=\"1\" class=\"dataframe\">\n  <thead>\n    <tr style=\"text-align: right;\">\n      <th></th>\n      <th>class</th>\n      <th>word</th>\n      <th>class_bin</th>\n    </tr>\n  </thead>\n  <tbody>\n    <tr>\n      <th>0</th>\n      <td>noun</td>\n      <td>kaufverpflichtung</td>\n      <td>0</td>\n    </tr>\n    <tr>\n      <th>1</th>\n      <td>verb</td>\n      <td>kosten</td>\n      <td>1</td>\n    </tr>\n    <tr>\n      <th>2</th>\n      <td>noun</td>\n      <td>n</td>\n      <td>0</td>\n    </tr>\n    <tr>\n      <th>3</th>\n      <td>noun</td>\n      <td>blousons</td>\n      <td>0</td>\n    </tr>\n    <tr>\n      <th>4</th>\n      <td>noun</td>\n      <td>verwaltungsgeschäfte</td>\n      <td>0</td>\n    </tr>\n  </tbody>\n</table>\n</div>",
      "text/plain": "  class                  word  class_bin\n0  noun     kaufverpflichtung          0\n1  verb                kosten          1\n2  noun                     n          0\n3  noun              blousons          0\n4  noun  verwaltungsgeschäfte          0"
     },
     "execution_count": 5,
     "metadata": {},
     "output_type": "execute_result"
    }
   ],
   "source": [
    "df_test[\"class_bin\"] = np.where(df_test[\"class\"] == \"noun\", 0, 1)\n",
    "df_test.head()"
   ]
  },
  {
   "cell_type": "markdown",
   "metadata": {},
   "source": [
    "Next, extract alphabet of Unicode characters from `df_train[\"words\"]` and map each to an integer (its position in the list will do):"
   ]
  },
  {
   "cell_type": "code",
   "execution_count": 6,
   "metadata": {},
   "outputs": [],
   "source": [
    "alphabet = list(set([c for word in [list(str(word)) for word in df_train[\"word\"].tolist()] for c in word]))"
   ]
  },
  {
   "cell_type": "code",
   "execution_count": 7,
   "metadata": {},
   "outputs": [
    {
     "name": "stdout",
     "output_type": "stream",
     "text": "['e', 'j', 'u', 'ß', 's', 'l', 'd', 'y', 'v', 'w', 'a', 'p', 'ö', 'c', 'k', 'q', 'ü', 'x', 'ä', 'g', 'm', 't', 'h', 'i', 'r', 'f', 'b', 'o', 'n', 'z']\n30\n"
    }
   ],
   "source": [
    "print(alphabet)\n",
    "print(len(alphabet))"
   ]
  },
  {
   "cell_type": "markdown",
   "metadata": {},
   "source": [
    "We define a function which takes a word and an alphabet and return a list of integers which encodes the input word: "
   ]
  },
  {
   "cell_type": "code",
   "execution_count": 8,
   "metadata": {},
   "outputs": [],
   "source": [
    "def word_encoder(word, alphabet):\n",
    "    out_list = []\n",
    "    for i, char in enumerate(str(word)):\n",
    "        if char in alphabet: # if the character belongs to the alphabet...\n",
    "            out_list.append(alphabet.index(char)+1) # ...its encoding is simply its position plus one, we'll use 0 for padding\n",
    "        else:\n",
    "            out_list.append(999) # integer reserved for out-of-alphabet characters\n",
    "    return out_list"
   ]
  },
  {
   "cell_type": "markdown",
   "metadata": {},
   "source": [
    "For example:"
   ]
  },
  {
   "cell_type": "code",
   "execution_count": 9,
   "metadata": {},
   "outputs": [
    {
     "data": {
      "text/plain": "[23, 1, 8]"
     },
     "execution_count": 9,
     "metadata": {},
     "output_type": "execute_result"
    }
   ],
   "source": [
    "word_encoder(\"hey\", alphabet)"
   ]
  },
  {
   "cell_type": "code",
   "execution_count": 10,
   "metadata": {},
   "outputs": [
    {
     "data": {
      "text/plain": "[23, 1, 999]"
     },
     "execution_count": 10,
     "metadata": {},
     "output_type": "execute_result"
    }
   ],
   "source": [
    "word_encoder(\"heÿ\", alphabet)"
   ]
  },
  {
   "cell_type": "code",
   "execution_count": 11,
   "metadata": {},
   "outputs": [
    {
     "data": {
      "text/plain": "[8, 1, 23, 999]"
     },
     "execution_count": 11,
     "metadata": {},
     "output_type": "execute_result"
    }
   ],
   "source": [
    "word_encoder(\"yehÿ\", alphabet)"
   ]
  },
  {
   "cell_type": "markdown",
   "metadata": {},
   "source": [
    "It works!\n",
    "\n",
    "Next, apply this function to each row in our dfs:"
   ]
  },
  {
   "cell_type": "code",
   "execution_count": 12,
   "metadata": {},
   "outputs": [],
   "source": [
    "df_train.loc[:, \"word_int\"] = df_train.apply(lambda row: word_encoder(row.word, alphabet), axis = 1)"
   ]
  },
  {
   "cell_type": "code",
   "execution_count": 13,
   "metadata": {},
   "outputs": [
    {
     "data": {
      "text/html": "<div>\n<style scoped>\n    .dataframe tbody tr th:only-of-type {\n        vertical-align: middle;\n    }\n\n    .dataframe tbody tr th {\n        vertical-align: top;\n    }\n\n    .dataframe thead th {\n        text-align: right;\n    }\n</style>\n<table border=\"1\" class=\"dataframe\">\n  <thead>\n    <tr style=\"text-align: right;\">\n      <th></th>\n      <th>class</th>\n      <th>word</th>\n      <th>class_bin</th>\n      <th>word_int</th>\n    </tr>\n  </thead>\n  <tbody>\n    <tr>\n      <th>0</th>\n      <td>noun</td>\n      <td>gemeinderat</td>\n      <td>0</td>\n      <td>[20, 1, 21, 1, 24, 29, 7, 1, 25, 11, 22]</td>\n    </tr>\n    <tr>\n      <th>1</th>\n      <td>noun</td>\n      <td>grenzpolizei</td>\n      <td>0</td>\n      <td>[20, 25, 1, 29, 30, 12, 28, 6, 24, 30, 1, 24]</td>\n    </tr>\n    <tr>\n      <th>2</th>\n      <td>verb</td>\n      <td>ruinieren</td>\n      <td>1</td>\n      <td>[25, 3, 24, 29, 24, 1, 25, 1, 29]</td>\n    </tr>\n    <tr>\n      <th>3</th>\n      <td>noun</td>\n      <td>halbtönen</td>\n      <td>0</td>\n      <td>[23, 11, 6, 27, 22, 13, 29, 1, 29]</td>\n    </tr>\n    <tr>\n      <th>4</th>\n      <td>noun</td>\n      <td>energieexporteuren</td>\n      <td>0</td>\n      <td>[1, 29, 1, 25, 20, 24, 1, 1, 18, 12, 28, 25, 2...</td>\n    </tr>\n  </tbody>\n</table>\n</div>",
      "text/plain": "  class                word  class_bin  \\\n0  noun         gemeinderat          0   \n1  noun        grenzpolizei          0   \n2  verb           ruinieren          1   \n3  noun           halbtönen          0   \n4  noun  energieexporteuren          0   \n\n                                            word_int  \n0           [20, 1, 21, 1, 24, 29, 7, 1, 25, 11, 22]  \n1      [20, 25, 1, 29, 30, 12, 28, 6, 24, 30, 1, 24]  \n2                  [25, 3, 24, 29, 24, 1, 25, 1, 29]  \n3                 [23, 11, 6, 27, 22, 13, 29, 1, 29]  \n4  [1, 29, 1, 25, 20, 24, 1, 1, 18, 12, 28, 25, 2...  "
     },
     "execution_count": 13,
     "metadata": {},
     "output_type": "execute_result"
    }
   ],
   "source": [
    "df_train.head()"
   ]
  },
  {
   "cell_type": "code",
   "execution_count": 14,
   "metadata": {},
   "outputs": [],
   "source": [
    "df_test.loc[:, \"word_int\"] = df_test.apply(lambda row: word_encoder(row.word, alphabet), axis = 1)"
   ]
  },
  {
   "cell_type": "code",
   "execution_count": 15,
   "metadata": {},
   "outputs": [
    {
     "data": {
      "text/html": "<div>\n<style scoped>\n    .dataframe tbody tr th:only-of-type {\n        vertical-align: middle;\n    }\n\n    .dataframe tbody tr th {\n        vertical-align: top;\n    }\n\n    .dataframe thead th {\n        text-align: right;\n    }\n</style>\n<table border=\"1\" class=\"dataframe\">\n  <thead>\n    <tr style=\"text-align: right;\">\n      <th></th>\n      <th>class</th>\n      <th>word</th>\n      <th>class_bin</th>\n      <th>word_int</th>\n    </tr>\n  </thead>\n  <tbody>\n    <tr>\n      <th>0</th>\n      <td>noun</td>\n      <td>kaufverpflichtung</td>\n      <td>0</td>\n      <td>[15, 11, 3, 26, 9, 1, 25, 12, 26, 6, 24, 14, 2...</td>\n    </tr>\n    <tr>\n      <th>1</th>\n      <td>verb</td>\n      <td>kosten</td>\n      <td>1</td>\n      <td>[15, 28, 5, 22, 1, 29]</td>\n    </tr>\n    <tr>\n      <th>2</th>\n      <td>noun</td>\n      <td>n</td>\n      <td>0</td>\n      <td>[29]</td>\n    </tr>\n    <tr>\n      <th>3</th>\n      <td>noun</td>\n      <td>blousons</td>\n      <td>0</td>\n      <td>[27, 6, 28, 3, 5, 28, 29, 5]</td>\n    </tr>\n    <tr>\n      <th>4</th>\n      <td>noun</td>\n      <td>verwaltungsgeschäfte</td>\n      <td>0</td>\n      <td>[9, 1, 25, 10, 11, 6, 22, 3, 29, 20, 5, 20, 1,...</td>\n    </tr>\n  </tbody>\n</table>\n</div>",
      "text/plain": "  class                  word  class_bin  \\\n0  noun     kaufverpflichtung          0   \n1  verb                kosten          1   \n2  noun                     n          0   \n3  noun              blousons          0   \n4  noun  verwaltungsgeschäfte          0   \n\n                                            word_int  \n0  [15, 11, 3, 26, 9, 1, 25, 12, 26, 6, 24, 14, 2...  \n1                             [15, 28, 5, 22, 1, 29]  \n2                                               [29]  \n3                       [27, 6, 28, 3, 5, 28, 29, 5]  \n4  [9, 1, 25, 10, 11, 6, 22, 3, 29, 20, 5, 20, 1,...  "
     },
     "execution_count": 15,
     "metadata": {},
     "output_type": "execute_result"
    }
   ],
   "source": [
    "df_test.head()"
   ]
  },
  {
   "cell_type": "markdown",
   "metadata": {},
   "source": [
    "Next, padding: the sequences of features should all be of the same length (we use the length of the longest sequence). To do so, we use `sequence.pad_sequences` from `keras.preprocessing`:"
   ]
  },
  {
   "cell_type": "code",
   "execution_count": 16,
   "metadata": {},
   "outputs": [
    {
     "name": "stderr",
     "output_type": "stream",
     "text": "Using TensorFlow backend.\n"
    }
   ],
   "source": [
    "from keras.preprocessing.sequence import pad_sequences"
   ]
  },
  {
   "cell_type": "code",
   "execution_count": 17,
   "metadata": {},
   "outputs": [
    {
     "name": "stdout",
     "output_type": "stream",
     "text": "31\n"
    }
   ],
   "source": [
    "# how long is the longest word?\n",
    "max_word = max(len(word) for word in df_train[\"word_int\"])\n",
    "print(max_word)"
   ]
  },
  {
   "cell_type": "code",
   "execution_count": 18,
   "metadata": {},
   "outputs": [],
   "source": [
    "train_x = pad_sequences(df_train[\"word_int\"], maxlen = max_word + 1) # add one to account for unknown character too"
   ]
  },
  {
   "cell_type": "code",
   "execution_count": 19,
   "metadata": {},
   "outputs": [
    {
     "data": {
      "text/plain": "(20000, 32)"
     },
     "execution_count": 19,
     "metadata": {},
     "output_type": "execute_result"
    }
   ],
   "source": [
    "train_x.shape"
   ]
  },
  {
   "cell_type": "code",
   "execution_count": 20,
   "metadata": {},
   "outputs": [
    {
     "data": {
      "text/plain": "array([ 0,  0,  0,  0,  0,  0,  0,  0,  0,  0,  0,  0,  0,  0,  0,  0,  0,\n        0,  0,  0,  0, 20,  1, 21,  1, 24, 29,  7,  1, 25, 11, 22])"
     },
     "execution_count": 20,
     "metadata": {},
     "output_type": "execute_result"
    }
   ],
   "source": [
    "# for example\n",
    "train_x[0]"
   ]
  },
  {
   "cell_type": "code",
   "execution_count": 21,
   "metadata": {},
   "outputs": [],
   "source": [
    "# same for test features\n",
    "test_x = pad_sequences(df_test[\"word_int\"], maxlen = train_x.shape[1]) # the max length be the same between train and test"
   ]
  },
  {
   "cell_type": "markdown",
   "metadata": {},
   "source": [
    "Finally, one-hot encoding for characters (hence words are encoded into lists of vectors of 0s and 1s). We use `to_categorical` from `keras.utils`:"
   ]
  },
  {
   "cell_type": "code",
   "execution_count": 22,
   "metadata": {},
   "outputs": [],
   "source": [
    "from keras.utils import to_categorical"
   ]
  },
  {
   "cell_type": "code",
   "execution_count": 23,
   "metadata": {},
   "outputs": [],
   "source": [
    "train_x_cat = to_categorical(train_x)"
   ]
  },
  {
   "cell_type": "code",
   "execution_count": 24,
   "metadata": {},
   "outputs": [
    {
     "data": {
      "text/plain": "(20000, 32, 31)"
     },
     "execution_count": 24,
     "metadata": {},
     "output_type": "execute_result"
    }
   ],
   "source": [
    "train_x_cat.shape"
   ]
  },
  {
   "cell_type": "code",
   "execution_count": 25,
   "metadata": {},
   "outputs": [],
   "source": [
    "# flatten each row\n",
    "onehot_train = [] \n",
    "for i in range(0, train_x_cat.shape[0]):\n",
    "    onehot_train.append(train_x_cat[i].flatten().tolist())"
   ]
  },
  {
   "cell_type": "code",
   "execution_count": 26,
   "metadata": {},
   "outputs": [
    {
     "name": "stdout",
     "output_type": "stream",
     "text": "20000\n992\n"
    }
   ],
   "source": [
    "print(len(onehot_train))\n",
    "print(len(onehot_train[0]))"
   ]
  },
  {
   "cell_type": "code",
   "execution_count": 27,
   "metadata": {},
   "outputs": [],
   "source": [
    "# same for test features\n",
    "test_x_cat = to_categorical(test_x)\n",
    "\n",
    "onehot_test = []\n",
    "for i in range(0, test_x_cat.shape[0]):\n",
    "    onehot_test.append(test_x_cat[i].flatten().tolist())"
   ]
  },
  {
   "cell_type": "code",
   "execution_count": 28,
   "metadata": {},
   "outputs": [
    {
     "name": "stdout",
     "output_type": "stream",
     "text": "6561\n992\n"
    }
   ],
   "source": [
    "print(len(onehot_test))\n",
    "print(len(onehot_test[0]))"
   ]
  },
  {
   "cell_type": "markdown",
   "metadata": {},
   "source": [
    "### Exercise 2\n",
    "We train and tune a simple feed-forward nn with `train_onehot` (features) as input and `train_y` (labels) as output, using `keras`.\n",
    "\n",
    "First, describe the model:"
   ]
  },
  {
   "cell_type": "code",
   "execution_count": 29,
   "metadata": {},
   "outputs": [],
   "source": [
    "from keras.models import Sequential\n",
    "from keras.layers import Dense, Activation, Dropout"
   ]
  },
  {
   "cell_type": "code",
   "execution_count": 30,
   "metadata": {},
   "outputs": [],
   "source": [
    "# model\n",
    "model = Sequential() # initialize\n",
    "model.add(Dense(64, activation = \"relu\", input_dim = len(onehot_train[0]))) # dense layer with ReLU activation\n",
    "model.add(Dropout(0.5)) # droput\n",
    "model.add(Dense(1, activation = 'softmax')) # binary classification\n",
    "\n",
    "model.compile(loss = 'binary_crossentropy',\n",
    "              optimizer = 'adam',\n",
    "              metrics = ['accuracy'])"
   ]
  },
  {
   "cell_type": "markdown",
   "metadata": {},
   "source": []
  },
  {
   "cell_type": "code",
   "execution_count": 31,
   "metadata": {},
   "outputs": [],
   "source": [
    "# training\n",
    "model.fit(x_train = onehot_train,\n",
    "                    y_train = df_train[\"class_bin\"],\n",
    "                    epochs = 5,\n",
    "                    batch_size = 32,\n",
    "                    validation_split = 0.2,\n",
    "                    verbose = 1)"
   ]
  }
 ],
 "metadata": {
  "kernelspec": {
   "display_name": "Python 3.7.6 64-bit ('base': venv)",
   "language": "python",
   "name": "python37664bitbasevenvb8febc2764254ae2abe0685f99c2de92"
  },
  "language_info": {
   "codemirror_mode": {
    "name": "ipython",
    "version": 3
   },
   "file_extension": ".py",
   "mimetype": "text/x-python",
   "name": "python",
   "nbconvert_exporter": "python",
   "pygments_lexer": "ipython3",
   "version": "3.7.6-final"
  }
 },
 "nbformat": 4,
 "nbformat_minor": 4
}