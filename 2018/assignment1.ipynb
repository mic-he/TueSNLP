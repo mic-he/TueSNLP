{
 "cells": [
  {
   "cell_type": "markdown",
   "metadata": {},
   "source": [
    "# TueSNLP - Assignment 1"
   ]
  },
  {
   "cell_type": "markdown",
   "metadata": {},
   "source": [
    "## Collecting a twitter corpus\n",
    "The assignment is available here: https://snlp2018.github.io/assignments.html"
   ]
  },
  {
   "cell_type": "markdown",
   "metadata": {},
   "source": [
    "### Exercise 1\n",
    "Exercise 1 is essentially \"choose a language\" :)\n",
    "Let's pick Italian."
   ]
  },
  {
   "cell_type": "markdown",
   "metadata": {},
   "source": [
    "### Exercise 2\n",
    "Use `tweepy` to collect 10k tweets in the chosen language.\n",
    "\n",
    "First of all, we created a Twitter developer account and created a so-called app (https://developer.twitter.com/en/account/get-started), in order to generate an API secret key. This is used by `tweepy` to autenticate and use the APIs (http://docs.tweepy.org/en/latest/auth_tutorial.html#oauth-2-authentication)."
   ]
  },
  {
   "cell_type": "code",
   "execution_count": null,
   "metadata": {},
   "outputs": [],
   "source": [
    "# libraries\n",
    "#!pip install tweepy # if necessary\n",
    "import tweepy"
   ]
  },
  {
   "cell_type": "code",
   "execution_count": null,
   "metadata": {},
   "outputs": [],
   "source": [
    "# we saved the keys as two lines in a simple text file (ignored by git)\n",
    "with open(\"keys.txt\", \"r\") as input_f:\n",
    "    keys = input_f.read().splitlines()\n",
    "\n",
    "user_key = keys[0]\n",
    "secret_key = keys[1]"
   ]
  },
  {
   "cell_type": "code",
   "execution_count": null,
   "metadata": {},
   "outputs": [],
   "source": [
    "# use tweepy's AppAuthHandler method\n",
    "auth = tweepy.AppAuthHandler(user_key, secret_key)\n",
    "api = tweepy.API(auth, wait_on_rate_limit=True)"
   ]
  },
  {
   "cell_type": "markdown",
   "metadata": {},
   "source": [
    "If the autentication is successful, the following code should print 10 tweets containing keyword `tweepy`:"
   ]
  },
  {
   "cell_type": "code",
   "execution_count": null,
   "metadata": {},
   "outputs": [],
   "source": [
    "for tweet in tweepy.Cursor(api.search, q=\"tweepy\").items(10):\n",
    "    print(tweet.text)"
   ]
  },
  {
   "cell_type": "markdown",
   "metadata": {},
   "source": [
    "It works!"
   ]
  },
  {
   "cell_type": "markdown",
   "metadata": {},
   "source": [
    "Similarly, the following code will print 10 tweets in Italian containing keyword `pizza`:"
   ]
  },
  {
   "cell_type": "code",
   "execution_count": null,
   "metadata": {},
   "outputs": [],
   "source": [
    "for tweet in tweepy.Cursor(api.search, q=\"pizza\", lang=\"it\").items(10):\n",
    "    print(tweet.text)"
   ]
  },
  {
   "cell_type": "markdown",
   "metadata": {},
   "source": [
    "We can use an empty space `%20` as keyword to simply get tweets in Italian:"
   ]
  },
  {
   "cell_type": "code",
   "execution_count": null,
   "metadata": {},
   "outputs": [],
   "source": [
    "for tweet in tweepy.Cursor(api.search, q=\"%20\", lang=\"it\").items(10):\n",
    "    print(tweet.text)"
   ]
  },
  {
   "cell_type": "markdown",
   "metadata": {},
   "source": [
    "We want to  get at least 10k tweets not shorter than 50 characters. To do so we can stream with the `Cursor` method and filter based on character count until we reach 10k tweets."
   ]
  },
  {
   "cell_type": "code",
   "execution_count": null,
   "metadata": {},
   "outputs": [],
   "source": [
    "### NOTE: the following code should do the job conceptually, but it takes ages and \n",
    "### we eventually got API response 503, i.e. service unavailable\n",
    "\n",
    "tweets = [] # initialize empty list\n",
    "i = 0 # initialize counter\n",
    "       \n",
    "# filter for tweets longer than 50 characters, stop when we collected 10k\n",
    "for tweet in tweepy.Cursor(api.search, q=\"%20\", lang=\"it\").items():\n",
    "    if i <= 10000 & len(tweet.text) >= 50: \n",
    "        tweets.append(tweet.text)\n",
    "        i += 1"
   ]
  },
  {
   "cell_type": "markdown",
   "metadata": {},
   "source": [
    "We need to try other approaches :)"
   ]
  }
 ],
 "metadata": {
  "kernelspec": {
   "display_name": "Python 3",
   "language": "python",
   "name": "python3"
  },
  "language_info": {
   "codemirror_mode": {
    "name": "ipython",
    "version": 3
   },
   "file_extension": ".py",
   "mimetype": "text/x-python",
   "name": "python",
   "nbconvert_exporter": "python",
   "pygments_lexer": "ipython3",
   "version": "3.7.6"
  }
 },
 "nbformat": 4,
 "nbformat_minor": 2
}
