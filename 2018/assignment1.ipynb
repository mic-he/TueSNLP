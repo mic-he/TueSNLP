{
 "cells": [
  {
   "cell_type": "markdown",
   "metadata": {},
   "source": [
    "# TueSNLP - Assignment 1"
   ]
  },
  {
   "cell_type": "markdown",
   "metadata": {},
   "source": [
    "## Collecting a twitter corpus\n",
    "The assignment is available here: https://snlp2018.github.io/assignments.html"
   ]
  },
  {
   "cell_type": "markdown",
   "metadata": {},
   "source": [
    "### Exercise 1\n",
    "Exercise 1 is essentially \"choose a language\" :)\n",
    "Let's pick Italian."
   ]
  },
  {
   "cell_type": "markdown",
   "metadata": {},
   "source": [
    "### Exercise 2\n",
    "Use `tweepy` to collect 10k tweets in the chosen language.\n",
    "\n",
    "First of all, we created a Twitter developer account and created a so-called app (https://developer.twitter.com/en/account/get-started), in order to generate an API secret key. This is used by `tweepy` to autenticate and use the APIs (http://docs.tweepy.org/en/latest/auth_tutorial.html#oauth-2-authentication)."
   ]
  },
  {
   "cell_type": "code",
   "execution_count": 49,
   "metadata": {},
   "outputs": [],
   "source": [
    "# libraries\n",
    "#!pip install tweepy # if necessary\n",
    "import tweepy"
   ]
  },
  {
   "cell_type": "code",
   "execution_count": 50,
   "metadata": {},
   "outputs": [],
   "source": [
    "# we saved the keys as two lines in a simple text file (ignored by git)\n",
    "with open(\"keys.txt\", \"r\") as input_f:\n",
    "    keys = input_f.read().splitlines()\n",
    "\n",
    "user_key = keys[0]\n",
    "secret_key = keys[1]"
   ]
  },
  {
   "cell_type": "code",
   "execution_count": 51,
   "metadata": {},
   "outputs": [],
   "source": [
    "# use tweepy's AppAuthHandler method\n",
    "auth = tweepy.AppAuthHandler(user_key, secret_key)\n",
    "api = tweepy.API(auth, wait_on_rate_limit=True)"
   ]
  },
  {
   "cell_type": "markdown",
   "metadata": {},
   "source": [
    "If the autentication is successful, the following code should print 10 tweets containing keyword `tweepy`:"
   ]
  },
  {
   "cell_type": "code",
   "execution_count": 52,
   "metadata": {},
   "outputs": [
    {
     "name": "stdout",
     "output_type": "stream",
     "text": [
      "Hello Tweepy\n",
      "RT @MarekCichy2: @IsItNSFW , a simple tweetbot for all your pic NSFW-ness checking needs. I described its incredibly easy setup below. @cla…\n",
      "Sending my first tweet via Tweepy!\n",
      "RT @data_complex: @Juanizio_C En python existe la libreria tweetpy para bajar la info de Twitter mediante la API de Twitter (https://t.co/K…\n",
      "@energeticod This bot is powered by Python 3 and the Requests, Tweepy, and gspread libraries.\n",
      "\n",
      "Source code is avail… https://t.co/yU4axfHB0O\n",
      "What if i modified my tweepy script to vague someone with a very long array of subtle personal digs randomly sample… https://t.co/OgOlBEf7tz\n",
      "RT @sexybeesht: @meteorbower 1. go to https://t.co/xf91igYURy\n",
      "2. Register an app, name it something funny\n",
      "3. Get the tokens and put them [h…\n",
      "Hello Tweepy , testing status with Tweepy :)\n",
      "Hello Tweepy\n",
      "RT @TaikoMegane: Tweepyでpythonについて呟いたアカウントをフォローしまくってみた - 駆け出し眼鏡のプログラミング道場 #はてなブログ https://t.co/Cc0FMpDwMX\n"
     ]
    }
   ],
   "source": [
    "for tweet in tweepy.Cursor(api.search, q=\"tweepy\").items(10):\n",
    "    print(tweet.text)"
   ]
  },
  {
   "cell_type": "markdown",
   "metadata": {},
   "source": [
    "It works!"
   ]
  },
  {
   "cell_type": "markdown",
   "metadata": {},
   "source": [
    "Similarly, the following code will print 10 tweets in Italian containing keyword `pizza`:"
   ]
  },
  {
   "cell_type": "code",
   "execution_count": 53,
   "metadata": {},
   "outputs": [
    {
     "name": "stdout",
     "output_type": "stream",
     "text": [
      "RT @Maxz79: @leo_the_teacher Mio padre vive nel centro storico di Torino: oggi mi ha spedito alcuni dagherrotipi con immagini assurde e tri…\n",
      "@frances86749945 10 cose per cui #valeLaPena vivere:\n",
      "- Il sorriso di mio marito\n",
      "- l'essere innamorati \n",
      "- le nostre… https://t.co/qvwF5hjJxo\n",
      "✅ Nuova ricetta salata del giorno ✅\n",
      "TARALLI SENZA BOLLITURA, CLASSICI e In 2 varianti: alla PIZZA e alla CIPOLLA\n",
      "ri… https://t.co/JjWWkUcF11\n",
      "L'altro giorno stavo al bar co er pupone @Totti e ad un certo punto sento na puzza demmerda, me giro e chi ce stava… https://t.co/YKG310i2mf\n",
      "e niente va avanti insultandomi a caso perché praticamente siccome uso il pos sono troia (?????) e io stavo per dir… https://t.co/jRYMqnuFhq\n",
      "RT @ofi_crazy: Le dio una pizza al papa 😂😂https://t.co/Nr6KDNbi7K\n",
      "@NMercad Make a da pizza\n",
      "Make a da bambina\n",
      "RT @ofi_crazy: Le dio una pizza al papa 😂😂https://t.co/Nr6KDNbi7K\n",
      "tia mira esta pizza\n",
      "RT @ofi_crazy: Le dio una pizza al papa 😂😂https://t.co/Nr6KDNbi7K\n"
     ]
    }
   ],
   "source": [
    "for tweet in tweepy.Cursor(api.search, q=\"pizza\", lang=\"it\").items(10):\n",
    "    print(tweet.text)"
   ]
  },
  {
   "cell_type": "markdown",
   "metadata": {},
   "source": [
    "We can use an empty space `%20` as keyword to simply get tweets in Italian:"
   ]
  },
  {
   "cell_type": "code",
   "execution_count": 54,
   "metadata": {},
   "outputs": [
    {
     "name": "stdout",
     "output_type": "stream",
     "text": [
      "RT @IzzieTheUnicorn: Porta Venezia, Milano 🌻 https://t.co/la4CWU8ihc\n",
      "RT @MarroneEmma: L’attimo prima di salire sul palco di Sanremo.\n",
      "Un groviglio di emozioni e la voglia di fare bene e di essere all’altezza i…\n",
      "A @yonkykong esto le mola.\n",
      "@DolceSlytherin JSJDJSJS SI PERO YO DIGO EN LA VIDA REAL LITERAL EN ST E IT//\n",
      "RT @MariaAlongi2: Nessuno può salvarti se non\n",
      "te stesso,\n",
      "e ne #valeLaPena .\n",
      "Non è una guerra facile da vincere,\n",
      "ma se c'è una vittoria per…\n",
      "Maró e ora che cosa sono questi occhiali ??! Ahahahahahah aiuto https://t.co/fVlzSUdxd3\n",
      "@tatjana31 @mrfrancescato @grotondi @berlusconi @Antonio_Tajani @TINAGULLI1 @Cosmodelafuente @cafifal @rete4 Anche… https://t.co/Zjs4SZTRm2\n",
      "RT @AndreaParre87: Mezza puntata di #Sanremo2020 e il #Coronavirus è già un lontano ricordo\n",
      "Certe cose,mo,non so spiegarle\n",
      "RT @Massimo84478004: @Loryge69 @CSalvinipremier @SabrySonoIo Perchè pagare il canone x vedere sta roba? Se scorporassimo il canone dalla fa…\n"
     ]
    }
   ],
   "source": [
    "for tweet in tweepy.Cursor(api.search, q=\"%20\", lang=\"it\").items(10):\n",
    "    print(tweet.text)"
   ]
  },
  {
   "cell_type": "markdown",
   "metadata": {},
   "source": [
    "We want to  get at least 10k tweets not shorter than 50 characters. To do so we can stream with the `Cursor` method and filter based on character count until we reach 10k tweets."
   ]
  },
  {
   "cell_type": "code",
   "execution_count": null,
   "metadata": {},
   "outputs": [],
   "source": [
    "tweets = [] # initialize empty list\n",
    "i = 0 # initialize counter\n",
    "\n",
    "# write a function to handle time limits\n",
    "#def limit_handled(cursor):\n",
    "#    while True:\n",
    "#        try:\n",
    "#            yield cursor.next()\n",
    "#        except tweepy.RateLimitError:\n",
    "#            time.sleep(15 * 60) # 15 minutes wait when RateLimitError occurs\n",
    "            \n",
    "# wrap the cursor in the function, filter for tweets longer than 50 characters, stop when we collected 10k\n",
    "#for tweet in limit_handled(tweepy.Cursor(api.search, q=\"%20\", lang=\"it\").items()):\n",
    "for tweet in tweepy.Cursor(api.search, q=\"%20\", lang=\"it\").items():\n",
    "    if i <= 1000 & len(tweet.text) >= 50:\n",
    "        tweets.append(tweet.text)\n",
    "        i += 1"
   ]
  },
  {
   "cell_type": "code",
   "execution_count": null,
   "metadata": {},
   "outputs": [],
   "source": [
    "len(tweets)"
   ]
  },
  {
   "cell_type": "code",
   "execution_count": null,
   "metadata": {},
   "outputs": [],
   "source": []
  }
 ],
 "metadata": {
  "kernelspec": {
   "display_name": "Python 3",
   "language": "python",
   "name": "python3"
  },
  "language_info": {
   "codemirror_mode": {
    "name": "ipython",
    "version": 3
   },
   "file_extension": ".py",
   "mimetype": "text/x-python",
   "name": "python",
   "nbconvert_exporter": "python",
   "pygments_lexer": "ipython3",
   "version": "3.5.2"
  }
 },
 "nbformat": 4,
 "nbformat_minor": 2
}
