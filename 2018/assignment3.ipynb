{
 "cells": [
  {
   "cell_type": "markdown",
   "metadata": {},
   "source": [
    "# TueSNLP - Assignment 3"
   ]
  },
  {
   "cell_type": "markdown",
   "metadata": {},
   "source": [
    "## Language identification\n",
    "The assignment is available here: https://snlp2018.github.io/assignments.html."
   ]
  },
  {
   "cell_type": "markdown",
   "metadata": {},
   "source": [
    "### Exercise 1\n",
    "This exercise is about creating a dataset of sentences in different languages starting from ids of tweets collected during the class. We don't have access to the private repo where the tweets had been saved, so we try to keep the spirit of the exercise using data from http://tatoeba.org a crowd-sourced collection of sentences and translations.\n",
    "\n",
    "In particular, http://downloads.tatoeba.org/exports/sentences.tar.bz2 contains ~8 milion sentences each with corresponding language code. In order to mimic the dataset originally provided for the assignment, we select 30 languages at random and pick a certain number of random sentences for each language. We use the majority of sentences to build the development set and the remainder to build an evaluation set which will be used to evaluate our model(s). Precise quantities and ratio will be determined after we explore the dataset."
   ]
  },
  {
   "cell_type": "code",
   "execution_count": 1,
   "metadata": {},
   "outputs": [],
   "source": [
    "# libraries\n",
    "import pandas as pd\n",
    "import numpy as np\n",
    "import re\n",
    "import random\n",
    "import string\n",
    "import progressbar"
   ]
  },
  {
   "cell_type": "code",
   "execution_count": 2,
   "metadata": {},
   "outputs": [
    {
     "data": {
      "text/html": [
       "<div>\n",
       "<style scoped>\n",
       "    .dataframe tbody tr th:only-of-type {\n",
       "        vertical-align: middle;\n",
       "    }\n",
       "\n",
       "    .dataframe tbody tr th {\n",
       "        vertical-align: top;\n",
       "    }\n",
       "\n",
       "    .dataframe thead th {\n",
       "        text-align: right;\n",
       "    }\n",
       "</style>\n",
       "<table border=\"1\" class=\"dataframe\">\n",
       "  <thead>\n",
       "    <tr style=\"text-align: right;\">\n",
       "      <th></th>\n",
       "      <th>id</th>\n",
       "      <th>lang</th>\n",
       "      <th>sentence</th>\n",
       "    </tr>\n",
       "  </thead>\n",
       "  <tbody>\n",
       "    <tr>\n",
       "      <th>0</th>\n",
       "      <td>1</td>\n",
       "      <td>cmn</td>\n",
       "      <td>我們試試看！</td>\n",
       "    </tr>\n",
       "    <tr>\n",
       "      <th>1</th>\n",
       "      <td>2</td>\n",
       "      <td>cmn</td>\n",
       "      <td>我该去睡觉了。</td>\n",
       "    </tr>\n",
       "    <tr>\n",
       "      <th>2</th>\n",
       "      <td>3</td>\n",
       "      <td>cmn</td>\n",
       "      <td>你在干什麼啊？</td>\n",
       "    </tr>\n",
       "    <tr>\n",
       "      <th>3</th>\n",
       "      <td>4</td>\n",
       "      <td>cmn</td>\n",
       "      <td>這是什麼啊？</td>\n",
       "    </tr>\n",
       "    <tr>\n",
       "      <th>4</th>\n",
       "      <td>5</td>\n",
       "      <td>cmn</td>\n",
       "      <td>今天是６月１８号，也是Muiriel的生日！</td>\n",
       "    </tr>\n",
       "  </tbody>\n",
       "</table>\n",
       "</div>"
      ],
      "text/plain": [
       "   id lang                sentence\n",
       "0   1  cmn                  我們試試看！\n",
       "1   2  cmn                 我该去睡觉了。\n",
       "2   3  cmn                 你在干什麼啊？\n",
       "3   4  cmn                  這是什麼啊？\n",
       "4   5  cmn  今天是６月１８号，也是Muiriel的生日！"
      ]
     },
     "execution_count": 2,
     "metadata": {},
     "output_type": "execute_result"
    }
   ],
   "source": [
    "# read data\n",
    "full_data_raw = pd.read_csv(\"data/sentences.csv\", sep = \"\\t\", names = [\"id\", \"lang\", \"sentence\"])\n",
    "full_data_raw.head()"
   ]
  },
  {
   "cell_type": "markdown",
   "metadata": {},
   "source": [
    "We don't need sentence id, we can drop the column:"
   ]
  },
  {
   "cell_type": "code",
   "execution_count": 3,
   "metadata": {},
   "outputs": [],
   "source": [
    "full_data_raw = full_data_raw.drop(\"id\", axis = 1)"
   ]
  },
  {
   "cell_type": "code",
   "execution_count": 4,
   "metadata": {},
   "outputs": [
    {
     "data": {
      "text/plain": [
       "lang            349\n",
       "sentence    8132514\n",
       "dtype: int64"
      ]
     },
     "execution_count": 4,
     "metadata": {},
     "output_type": "execute_result"
    }
   ],
   "source": [
    "# how many unique languages?\n",
    "full_data_raw.nunique()"
   ]
  },
  {
   "cell_type": "markdown",
   "metadata": {},
   "source": [
    "Let's pick 30 languages at random, then filter the df:"
   ]
  },
  {
   "cell_type": "code",
   "execution_count": 7,
   "metadata": {},
   "outputs": [
    {
     "name": "stdout",
     "output_type": "stream",
     "text": [
      "['\\\\N', 'mlt', 'haw', 'tpw', 'oss', 'pes', 'kum', 'koi', 'ilo', 'tet', 'nov', 'bar', 'fin', 'kjh', 'gil', 'lzh', 'arg', 'eus', 'hrv', 'kir', 'sot', 'bam', 'sma', 'mlg', 'ber', 'kaz', 'lkt', 'epo', 'afh', 'hil']\n"
     ]
    }
   ],
   "source": [
    "random.seed(1)\n",
    "languages = random.sample(set(full_data_raw[\"lang\"]), 30)\n",
    "print(languages)"
   ]
  },
  {
   "cell_type": "markdown",
   "metadata": {},
   "source": [
    "The `\\\\N` is suspicious, let's see what it corresponds to in the df:"
   ]
  },
  {
   "cell_type": "code",
   "execution_count": 8,
   "metadata": {},
   "outputs": [
    {
     "data": {
      "text/html": [
       "<div>\n",
       "<style scoped>\n",
       "    .dataframe tbody tr th:only-of-type {\n",
       "        vertical-align: middle;\n",
       "    }\n",
       "\n",
       "    .dataframe tbody tr th {\n",
       "        vertical-align: top;\n",
       "    }\n",
       "\n",
       "    .dataframe thead th {\n",
       "        text-align: right;\n",
       "    }\n",
       "</style>\n",
       "<table border=\"1\" class=\"dataframe\">\n",
       "  <thead>\n",
       "    <tr style=\"text-align: right;\">\n",
       "      <th></th>\n",
       "      <th>lang</th>\n",
       "      <th>sentence</th>\n",
       "    </tr>\n",
       "  </thead>\n",
       "  <tbody>\n",
       "    <tr>\n",
       "      <th>6095934</th>\n",
       "      <td>\\N</td>\n",
       "      <td>Sābuku mamayamin, niyaꞋ takiteku manaꞋul magla...</td>\n",
       "    </tr>\n",
       "    <tr>\n",
       "      <th>6104047</th>\n",
       "      <td>\\N</td>\n",
       "      <td>Kataau kano koson i Ama' min pana mataau!</td>\n",
       "    </tr>\n",
       "    <tr>\n",
       "      <th>6310650</th>\n",
       "      <td>\\N</td>\n",
       "      <td>Нуӈан дэмэрипчут дылви амаскиви донӈорочон.</td>\n",
       "    </tr>\n",
       "    <tr>\n",
       "      <th>6310656</th>\n",
       "      <td>\\N</td>\n",
       "      <td>Чикчакун дочадяран, мудана ачинди иргикэндиви ...</td>\n",
       "    </tr>\n",
       "    <tr>\n",
       "      <th>6310661</th>\n",
       "      <td>\\N</td>\n",
       "      <td>Том сома дэмэр куӈакан бичэн.</td>\n",
       "    </tr>\n",
       "  </tbody>\n",
       "</table>\n",
       "</div>"
      ],
      "text/plain": [
       "        lang                                           sentence\n",
       "6095934   \\N  Sābuku mamayamin, niyaꞋ takiteku manaꞋul magla...\n",
       "6104047   \\N          Kataau kano koson i Ama' min pana mataau!\n",
       "6310650   \\N        Нуӈан дэмэрипчут дылви амаскиви донӈорочон.\n",
       "6310656   \\N  Чикчакун дочадяран, мудана ачинди иргикэндиви ...\n",
       "6310661   \\N                      Том сома дэмэр куӈакан бичэн."
      ]
     },
     "execution_count": 8,
     "metadata": {},
     "output_type": "execute_result"
    }
   ],
   "source": [
    "# filter df\n",
    "full_data_raw[full_data_raw[\"lang\"] == \"\\\\N\"].head()"
   ]
  },
  {
   "cell_type": "markdown",
   "metadata": {},
   "source": [
    "It appears to be a placeholder for missing language codes. Let's filter out the corresponding rows:\n",
    "\n",
    "(eventually, if our classifier work well enough, we will be able to use it to infer the missing language codes...)"
   ]
  },
  {
   "cell_type": "code",
   "execution_count": 13,
   "metadata": {},
   "outputs": [
    {
     "data": {
      "text/plain": [
       "lang            348\n",
       "sentence    8132424\n",
       "dtype: int64"
      ]
     },
     "execution_count": 13,
     "metadata": {},
     "output_type": "execute_result"
    }
   ],
   "source": [
    "filtered_data = full_data_raw[full_data_raw[\"lang\"] != \"\\\\N\"].reset_index(drop=True)\n",
    "filtered_data.nunique()"
   ]
  },
  {
   "cell_type": "markdown",
   "metadata": {},
   "source": [
    "We don't know how many sentences there are for each language. Before sampling 30 languages, let's remove those with less than 100 sentences:"
   ]
  },
  {
   "cell_type": "code",
   "execution_count": 14,
   "metadata": {},
   "outputs": [
    {
     "data": {
      "text/html": [
       "<div>\n",
       "<style scoped>\n",
       "    .dataframe tbody tr th:only-of-type {\n",
       "        vertical-align: middle;\n",
       "    }\n",
       "\n",
       "    .dataframe tbody tr th {\n",
       "        vertical-align: top;\n",
       "    }\n",
       "\n",
       "    .dataframe thead th {\n",
       "        text-align: right;\n",
       "    }\n",
       "</style>\n",
       "<table border=\"1\" class=\"dataframe\">\n",
       "  <thead>\n",
       "    <tr style=\"text-align: right;\">\n",
       "      <th></th>\n",
       "      <th>lang</th>\n",
       "      <th>sentence</th>\n",
       "    </tr>\n",
       "    <tr>\n",
       "      <th>lang</th>\n",
       "      <th></th>\n",
       "      <th></th>\n",
       "    </tr>\n",
       "  </thead>\n",
       "  <tbody>\n",
       "    <tr>\n",
       "      <th>abk</th>\n",
       "      <td>1</td>\n",
       "      <td>26</td>\n",
       "    </tr>\n",
       "    <tr>\n",
       "      <th>acm</th>\n",
       "      <td>1</td>\n",
       "      <td>49</td>\n",
       "    </tr>\n",
       "    <tr>\n",
       "      <th>ady</th>\n",
       "      <td>1</td>\n",
       "      <td>31</td>\n",
       "    </tr>\n",
       "    <tr>\n",
       "      <th>afb</th>\n",
       "      <td>1</td>\n",
       "      <td>133</td>\n",
       "    </tr>\n",
       "    <tr>\n",
       "      <th>afh</th>\n",
       "      <td>1</td>\n",
       "      <td>79</td>\n",
       "    </tr>\n",
       "  </tbody>\n",
       "</table>\n",
       "</div>"
      ],
      "text/plain": [
       "      lang  sentence\n",
       "lang                \n",
       "abk      1        26\n",
       "acm      1        49\n",
       "ady      1        31\n",
       "afb      1       133\n",
       "afh      1        79"
      ]
     },
     "execution_count": 14,
     "metadata": {},
     "output_type": "execute_result"
    }
   ],
   "source": [
    "sentence_count = filtered_data.groupby(\"lang\").nunique() # group by language and count sentences per group\n",
    "sentence_count.head()"
   ]
  },
  {
   "cell_type": "code",
   "execution_count": 15,
   "metadata": {},
   "outputs": [
    {
     "data": {
      "text/plain": [
       "178"
      ]
     },
     "execution_count": 15,
     "metadata": {},
     "output_type": "execute_result"
    }
   ],
   "source": [
    "# extract only languages with >99 sentences\n",
    "languages = sentence_count[sentence_count[\"sentence\"] > 99].index.values\n",
    "len(languages)"
   ]
  },
  {
   "cell_type": "markdown",
   "metadata": {},
   "source": [
    "Among these, we sample 30:"
   ]
  },
  {
   "cell_type": "code",
   "execution_count": 16,
   "metadata": {},
   "outputs": [
    {
     "name": "stdout",
     "output_type": "stream",
     "text": [
      "['bar', 'cbk', 'bul', 'ldn', 'eus', 'wuu', 'kab', 'hrx', 'tha', 'got', 'vol', 'ast', 'swe', 'eng', 'nds', 'mar', 'prg', 'lit', 'sah', 'nob', 'pol', 'ido', 'urd', 'arz', 'lfn', 'ori', 'kaz', 'lvs', 'mya', 'rom']\n"
     ]
    }
   ],
   "source": [
    "random.seed(2)\n",
    "languages = random.sample(list(languages), 30)\n",
    "print(languages)"
   ]
  },
  {
   "cell_type": "markdown",
   "metadata": {},
   "source": [
    "Next, let's pick 50 sentences at random for each language:"
   ]
  },
  {
   "cell_type": "code",
   "execution_count": 17,
   "metadata": {},
   "outputs": [
    {
     "data": {
      "text/html": [
       "<div>\n",
       "<style scoped>\n",
       "    .dataframe tbody tr th:only-of-type {\n",
       "        vertical-align: middle;\n",
       "    }\n",
       "\n",
       "    .dataframe tbody tr th {\n",
       "        vertical-align: top;\n",
       "    }\n",
       "\n",
       "    .dataframe thead th {\n",
       "        text-align: right;\n",
       "    }\n",
       "</style>\n",
       "<table border=\"1\" class=\"dataframe\">\n",
       "  <thead>\n",
       "    <tr style=\"text-align: right;\">\n",
       "      <th></th>\n",
       "      <th>lang</th>\n",
       "      <th>sentence</th>\n",
       "    </tr>\n",
       "  </thead>\n",
       "  <tbody>\n",
       "    <tr>\n",
       "      <th>0</th>\n",
       "      <td>arz</td>\n",
       "      <td>كل الناس بتحب المكان ده.</td>\n",
       "    </tr>\n",
       "    <tr>\n",
       "      <th>1</th>\n",
       "      <td>arz</td>\n",
       "      <td>كله محصل بعضه.</td>\n",
       "    </tr>\n",
       "    <tr>\n",
       "      <th>2</th>\n",
       "      <td>arz</td>\n",
       "      <td>كارلوس طلع الجبل.</td>\n",
       "    </tr>\n",
       "    <tr>\n",
       "      <th>3</th>\n",
       "      <td>arz</td>\n",
       "      <td>مفيش أي مشاكل.</td>\n",
       "    </tr>\n",
       "    <tr>\n",
       "      <th>4</th>\n",
       "      <td>arz</td>\n",
       "      <td>معدش بيشوف.</td>\n",
       "    </tr>\n",
       "  </tbody>\n",
       "</table>\n",
       "</div>"
      ],
      "text/plain": [
       "  lang                  sentence\n",
       "0  arz  كل الناس بتحب المكان ده.\n",
       "1  arz            كله محصل بعضه.\n",
       "2  arz         كارلوس طلع الجبل.\n",
       "3  arz            مفيش أي مشاكل.\n",
       "4  arz               معدش بيشوف."
      ]
     },
     "execution_count": 17,
     "metadata": {},
     "output_type": "execute_result"
    }
   ],
   "source": [
    "sampled_data = filtered_data[filtered_data[\"lang\"].isin(languages)] # filter based on list of sampled languages\n",
    "# we apply a sampling function groupwise\n",
    "sampled_data = sampled_data.groupby(\"lang\").apply(lambda x : x.sample(50, random_state = 2)).reset_index(drop=True)\n",
    "sampled_data.head()"
   ]
  },
  {
   "cell_type": "code",
   "execution_count": 18,
   "metadata": {},
   "outputs": [
    {
     "data": {
      "text/plain": [
       "1500"
      ]
     },
     "execution_count": 18,
     "metadata": {},
     "output_type": "execute_result"
    }
   ],
   "source": [
    "sampled_data.shape[0]"
   ]
  },
  {
   "cell_type": "markdown",
   "metadata": {},
   "source": [
    "Finally, let's shuffle this and save as tsv:"
   ]
  },
  {
   "cell_type": "code",
   "execution_count": 19,
   "metadata": {},
   "outputs": [
    {
     "data": {
      "text/html": [
       "<div>\n",
       "<style scoped>\n",
       "    .dataframe tbody tr th:only-of-type {\n",
       "        vertical-align: middle;\n",
       "    }\n",
       "\n",
       "    .dataframe tbody tr th {\n",
       "        vertical-align: top;\n",
       "    }\n",
       "\n",
       "    .dataframe thead th {\n",
       "        text-align: right;\n",
       "    }\n",
       "</style>\n",
       "<table border=\"1\" class=\"dataframe\">\n",
       "  <thead>\n",
       "    <tr style=\"text-align: right;\">\n",
       "      <th></th>\n",
       "      <th>lang</th>\n",
       "      <th>sentence</th>\n",
       "    </tr>\n",
       "  </thead>\n",
       "  <tbody>\n",
       "    <tr>\n",
       "      <th>0</th>\n",
       "      <td>lit</td>\n",
       "      <td>Ši voverė baikšti.</td>\n",
       "    </tr>\n",
       "    <tr>\n",
       "      <th>1</th>\n",
       "      <td>vol</td>\n",
       "      <td>Blud obik no binon redikum ka olik.</td>\n",
       "    </tr>\n",
       "    <tr>\n",
       "      <th>2</th>\n",
       "      <td>swe</td>\n",
       "      <td>Hennes senaste föreställning var en stor framg...</td>\n",
       "    </tr>\n",
       "    <tr>\n",
       "      <th>3</th>\n",
       "      <td>ast</td>\n",
       "      <td>Tien la zuna de escargatiar nes ñarres.</td>\n",
       "    </tr>\n",
       "    <tr>\n",
       "      <th>4</th>\n",
       "      <td>eng</td>\n",
       "      <td>Sami listened to a few verses from the Quran.</td>\n",
       "    </tr>\n",
       "  </tbody>\n",
       "</table>\n",
       "</div>"
      ],
      "text/plain": [
       "  lang                                           sentence\n",
       "0  lit                                 Ši voverė baikšti.\n",
       "1  vol                Blud obik no binon redikum ka olik.\n",
       "2  swe  Hennes senaste föreställning var en stor framg...\n",
       "3  ast            Tien la zuna de escargatiar nes ñarres.\n",
       "4  eng      Sami listened to a few verses from the Quran."
      ]
     },
     "execution_count": 19,
     "metadata": {},
     "output_type": "execute_result"
    }
   ],
   "source": [
    "sampled_data = sampled_data.sample(n = sampled_data.shape[0], random_state = 2).reset_index(drop=True)\n",
    "sampled_data.head()"
   ]
  },
  {
   "cell_type": "markdown",
   "metadata": {},
   "source": [
    "Write to disk:"
   ]
  },
  {
   "cell_type": "code",
   "execution_count": 20,
   "metadata": {},
   "outputs": [],
   "source": [
    "sampled_data.to_csv(\"data/assignment3-data.tsv\", sep = \"\\t\", header = False, index = False)"
   ]
  },
  {
   "cell_type": "markdown",
   "metadata": {},
   "source": [
    "### Exercise 2"
   ]
  },
  {
   "cell_type": "markdown",
   "metadata": {},
   "source": [
    "This exercise is about feature extraction. Each sentence is tokenized at the level of character bigrams. Then each sentence is represented as an array of counts of bigrams, for each bigram in the dataset (so a very sparse array, the vast majority of entries will be 0)."
   ]
  },
  {
   "cell_type": "code",
   "execution_count": 21,
   "metadata": {},
   "outputs": [],
   "source": [
    "# define a function to extract character-level bigrams\n",
    "def sentence_tokenizer(in_string): # takes a string as input\n",
    "    tknzd_string = [] # initialize empty output\n",
    "    for i in range(0, len(in_string) - 1):\n",
    "        tknzd_string.append(in_string[i] + in_string[i+1]) # each bigram is a character followed by the next one\n",
    "    tknzd_string.insert(0, \"<BOS>\" + tknzd_string[0][0]) # first bigram is always <BOS>+first character\n",
    "    tknzd_string.append(tknzd_string[-1][-1] + \"<EOS>\") # last bigram is always last character+<EOS>\n",
    "    #tknzd_string = re.findall(\"..\", in_string)\n",
    "    return(tknzd_string)"
   ]
  },
  {
   "cell_type": "markdown",
   "metadata": {},
   "source": [
    "For example:"
   ]
  },
  {
   "cell_type": "code",
   "execution_count": 22,
   "metadata": {},
   "outputs": [
    {
     "name": "stdout",
     "output_type": "stream",
     "text": [
      "['<BOS>t', 'ti', 'i ', ' c', 'ch', 'he', 'e ', ' t', 'ti', 'i ', ' t', 'ta', 'ac', 'ch', 'hi', 'i ', ' i', 'i ', ' t', 'ta', 'ac', 'c ', ' t', 'ta', 'ac', 'ca', 'am', 'm ', ' i', 'i ', ' t', 'ta', 'ac', 'c ', ' a', 'a ', ' m', 'm<EOS>']\n"
     ]
    }
   ],
   "source": [
    "in_string = \"ti che ti tachi i tac tacam i tac a m\"\n",
    "\n",
    "out_string = sentence_tokenizer(in_string)\n",
    "print(out_string)"
   ]
  },
  {
   "cell_type": "code",
   "execution_count": 23,
   "metadata": {},
   "outputs": [],
   "source": [
    "# define a function to count bigrams in a sentence\n",
    "def bigram_counter(in_string):\n",
    "    tknzd_string = sentence_tokenizer(in_string)\n",
    "    bigrams, counts = np.unique(tknzd_string, return_counts=True)\n",
    "    return(bigrams, counts)"
   ]
  },
  {
   "cell_type": "markdown",
   "metadata": {},
   "source": [
    "For example:"
   ]
  },
  {
   "cell_type": "code",
   "execution_count": 24,
   "metadata": {},
   "outputs": [
    {
     "data": {
      "text/plain": [
       "(array([' a', ' c', ' i', ' m', ' t', '<BOS>t', 'a ', 'ac', 'am', 'c ',\n",
       "        'ca', 'ch', 'e ', 'he', 'hi', 'i ', 'i<EOS>', 'm ', 'mi', 'ta',\n",
       "        'ti'], dtype='<U6'),\n",
       " array([1, 1, 2, 1, 5, 1, 1, 4, 1, 2, 1, 2, 1, 1, 1, 5, 1, 1, 1, 4, 2],\n",
       "       dtype=int64))"
      ]
     },
     "execution_count": 24,
     "metadata": {},
     "output_type": "execute_result"
    }
   ],
   "source": [
    "in_string = \"ti che ti tachi i tac tacam i tac a mi\"\n",
    "bigram_counter(in_string)"
   ]
  },
  {
   "cell_type": "markdown",
   "metadata": {},
   "source": [
    "(we don't worry about the order of bigrams)"
   ]
  },
  {
   "cell_type": "markdown",
   "metadata": {},
   "source": [
    "Let's strip punctuation from the sentences, then tokenize all the sentences in the dataset:"
   ]
  },
  {
   "cell_type": "code",
   "execution_count": 25,
   "metadata": {},
   "outputs": [
    {
     "data": {
      "text/html": [
       "<div>\n",
       "<style scoped>\n",
       "    .dataframe tbody tr th:only-of-type {\n",
       "        vertical-align: middle;\n",
       "    }\n",
       "\n",
       "    .dataframe tbody tr th {\n",
       "        vertical-align: top;\n",
       "    }\n",
       "\n",
       "    .dataframe thead th {\n",
       "        text-align: right;\n",
       "    }\n",
       "</style>\n",
       "<table border=\"1\" class=\"dataframe\">\n",
       "  <thead>\n",
       "    <tr style=\"text-align: right;\">\n",
       "      <th></th>\n",
       "      <th>lang</th>\n",
       "      <th>sentence</th>\n",
       "      <th>clean_sentence</th>\n",
       "    </tr>\n",
       "  </thead>\n",
       "  <tbody>\n",
       "    <tr>\n",
       "      <th>0</th>\n",
       "      <td>lit</td>\n",
       "      <td>Ši voverė baikšti.</td>\n",
       "      <td>Ši voverė baikšti</td>\n",
       "    </tr>\n",
       "    <tr>\n",
       "      <th>1</th>\n",
       "      <td>vol</td>\n",
       "      <td>Blud obik no binon redikum ka olik.</td>\n",
       "      <td>Blud obik no binon redikum ka olik</td>\n",
       "    </tr>\n",
       "    <tr>\n",
       "      <th>2</th>\n",
       "      <td>swe</td>\n",
       "      <td>Hennes senaste föreställning var en stor framg...</td>\n",
       "      <td>Hennes senaste föreställning var en stor framgång</td>\n",
       "    </tr>\n",
       "    <tr>\n",
       "      <th>3</th>\n",
       "      <td>ast</td>\n",
       "      <td>Tien la zuna de escargatiar nes ñarres.</td>\n",
       "      <td>Tien la zuna de escargatiar nes ñarres</td>\n",
       "    </tr>\n",
       "    <tr>\n",
       "      <th>4</th>\n",
       "      <td>eng</td>\n",
       "      <td>Sami listened to a few verses from the Quran.</td>\n",
       "      <td>Sami listened to a few verses from the Quran</td>\n",
       "    </tr>\n",
       "  </tbody>\n",
       "</table>\n",
       "</div>"
      ],
      "text/plain": [
       "  lang                                           sentence  \\\n",
       "0  lit                                 Ši voverė baikšti.   \n",
       "1  vol                Blud obik no binon redikum ka olik.   \n",
       "2  swe  Hennes senaste föreställning var en stor framg...   \n",
       "3  ast            Tien la zuna de escargatiar nes ñarres.   \n",
       "4  eng      Sami listened to a few verses from the Quran.   \n",
       "\n",
       "                                      clean_sentence  \n",
       "0                                  Ši voverė baikšti  \n",
       "1                 Blud obik no binon redikum ka olik  \n",
       "2  Hennes senaste föreställning var en stor framgång  \n",
       "3             Tien la zuna de escargatiar nes ñarres  \n",
       "4       Sami listened to a few verses from the Quran  "
      ]
     },
     "execution_count": 25,
     "metadata": {},
     "output_type": "execute_result"
    }
   ],
   "source": [
    "sampled_data.loc[:, \"clean_sentence\"] = sampled_data.apply(lambda row : row.sentence.translate(str.maketrans('', '', string.punctuation)),\n",
    "                                               axis=1)\n",
    "sampled_data.head()"
   ]
  },
  {
   "cell_type": "code",
   "execution_count": 26,
   "metadata": {},
   "outputs": [],
   "source": [
    "sampled_data.loc[:, \"tokenized\"] = sampled_data.apply(lambda row : bigram_counter(row.clean_sentence)[0], axis=1)"
   ]
  },
  {
   "cell_type": "markdown",
   "metadata": {},
   "source": [
    "Next, count bigrams in each sentence:"
   ]
  },
  {
   "cell_type": "code",
   "execution_count": 27,
   "metadata": {},
   "outputs": [],
   "source": [
    "sampled_data.loc[:, \"counts\"] = sampled_data.apply(lambda row : bigram_counter(row.clean_sentence)[1], axis=1)"
   ]
  },
  {
   "cell_type": "code",
   "execution_count": 28,
   "metadata": {},
   "outputs": [
    {
     "data": {
      "text/html": [
       "<div>\n",
       "<style scoped>\n",
       "    .dataframe tbody tr th:only-of-type {\n",
       "        vertical-align: middle;\n",
       "    }\n",
       "\n",
       "    .dataframe tbody tr th {\n",
       "        vertical-align: top;\n",
       "    }\n",
       "\n",
       "    .dataframe thead th {\n",
       "        text-align: right;\n",
       "    }\n",
       "</style>\n",
       "<table border=\"1\" class=\"dataframe\">\n",
       "  <thead>\n",
       "    <tr style=\"text-align: right;\">\n",
       "      <th></th>\n",
       "      <th>lang</th>\n",
       "      <th>sentence</th>\n",
       "      <th>clean_sentence</th>\n",
       "      <th>tokenized</th>\n",
       "      <th>counts</th>\n",
       "    </tr>\n",
       "  </thead>\n",
       "  <tbody>\n",
       "    <tr>\n",
       "      <th>0</th>\n",
       "      <td>lit</td>\n",
       "      <td>Ši voverė baikšti.</td>\n",
       "      <td>Ši voverė baikšti</td>\n",
       "      <td>[ b,  v, &lt;BOS&gt;Š, ai, ba, er, i , i&lt;EOS&gt;, ik, k...</td>\n",
       "      <td>[1, 1, 1, 1, 1, 1, 1, 1, 1, 1, 1, 1, 1, 1, 1, ...</td>\n",
       "    </tr>\n",
       "    <tr>\n",
       "      <th>1</th>\n",
       "      <td>vol</td>\n",
       "      <td>Blud obik no binon redikum ka olik.</td>\n",
       "      <td>Blud obik no binon redikum ka olik</td>\n",
       "      <td>[ b,  k,  n,  o,  r, &lt;BOS&gt;B, Bl, a , bi, d , d...</td>\n",
       "      <td>[1, 1, 1, 2, 1, 1, 1, 1, 2, 1, 1, 1, 3, 1, 1, ...</td>\n",
       "    </tr>\n",
       "    <tr>\n",
       "      <th>2</th>\n",
       "      <td>swe</td>\n",
       "      <td>Hennes senaste föreställning var en stor framg...</td>\n",
       "      <td>Hennes senaste föreställning var en stor framgång</td>\n",
       "      <td>[ e,  f,  s,  v, &lt;BOS&gt;H, He, am, ar, as, e , e...</td>\n",
       "      <td>[1, 2, 2, 1, 1, 1, 1, 1, 1, 1, 3, 2, 1, 1, 1, ...</td>\n",
       "    </tr>\n",
       "    <tr>\n",
       "      <th>3</th>\n",
       "      <td>ast</td>\n",
       "      <td>Tien la zuna de escargatiar nes ñarres.</td>\n",
       "      <td>Tien la zuna de escargatiar nes ñarres</td>\n",
       "      <td>[ d,  e,  l,  n,  z,  ñ, &lt;BOS&gt;T, Ti, a , ar, a...</td>\n",
       "      <td>[1, 1, 1, 1, 1, 1, 1, 1, 2, 3, 1, 1, 1, 1, 1, ...</td>\n",
       "    </tr>\n",
       "    <tr>\n",
       "      <th>4</th>\n",
       "      <td>eng</td>\n",
       "      <td>Sami listened to a few verses from the Quran.</td>\n",
       "      <td>Sami listened to a few verses from the Quran</td>\n",
       "      <td>[ Q,  a,  f,  l,  t,  v, &lt;BOS&gt;S, Qu, Sa, a , a...</td>\n",
       "      <td>[1, 1, 2, 1, 2, 1, 1, 1, 1, 1, 1, 1, 1, 1, 1, ...</td>\n",
       "    </tr>\n",
       "  </tbody>\n",
       "</table>\n",
       "</div>"
      ],
      "text/plain": [
       "  lang                                           sentence  \\\n",
       "0  lit                                 Ši voverė baikšti.   \n",
       "1  vol                Blud obik no binon redikum ka olik.   \n",
       "2  swe  Hennes senaste föreställning var en stor framg...   \n",
       "3  ast            Tien la zuna de escargatiar nes ñarres.   \n",
       "4  eng      Sami listened to a few verses from the Quran.   \n",
       "\n",
       "                                      clean_sentence  \\\n",
       "0                                  Ši voverė baikšti   \n",
       "1                 Blud obik no binon redikum ka olik   \n",
       "2  Hennes senaste föreställning var en stor framgång   \n",
       "3             Tien la zuna de escargatiar nes ñarres   \n",
       "4       Sami listened to a few verses from the Quran   \n",
       "\n",
       "                                           tokenized  \\\n",
       "0  [ b,  v, <BOS>Š, ai, ba, er, i , i<EOS>, ik, k...   \n",
       "1  [ b,  k,  n,  o,  r, <BOS>B, Bl, a , bi, d , d...   \n",
       "2  [ e,  f,  s,  v, <BOS>H, He, am, ar, as, e , e...   \n",
       "3  [ d,  e,  l,  n,  z,  ñ, <BOS>T, Ti, a , ar, a...   \n",
       "4  [ Q,  a,  f,  l,  t,  v, <BOS>S, Qu, Sa, a , a...   \n",
       "\n",
       "                                              counts  \n",
       "0  [1, 1, 1, 1, 1, 1, 1, 1, 1, 1, 1, 1, 1, 1, 1, ...  \n",
       "1  [1, 1, 1, 2, 1, 1, 1, 1, 2, 1, 1, 1, 3, 1, 1, ...  \n",
       "2  [1, 2, 2, 1, 1, 1, 1, 1, 1, 1, 3, 2, 1, 1, 1, ...  \n",
       "3  [1, 1, 1, 1, 1, 1, 1, 1, 2, 3, 1, 1, 1, 1, 1, ...  \n",
       "4  [1, 1, 2, 1, 2, 1, 1, 1, 1, 1, 1, 1, 1, 1, 1, ...  "
      ]
     },
     "execution_count": 28,
     "metadata": {},
     "output_type": "execute_result"
    }
   ],
   "source": [
    "sampled_data.head()"
   ]
  },
  {
   "cell_type": "markdown",
   "metadata": {},
   "source": [
    "Next, let's collect the \"vocabulary\" of bigrams of the dataset:"
   ]
  },
  {
   "cell_type": "code",
   "execution_count": 29,
   "metadata": {},
   "outputs": [],
   "source": [
    "vocab = np.unique([bigram for tknzd_sentence in sampled_data[\"tokenized\"] for bigram in tknzd_sentence])"
   ]
  },
  {
   "cell_type": "code",
   "execution_count": 30,
   "metadata": {},
   "outputs": [
    {
     "data": {
      "text/plain": [
       "5517"
      ]
     },
     "execution_count": 30,
     "metadata": {},
     "output_type": "execute_result"
    }
   ],
   "source": [
    "len(vocab)"
   ]
  },
  {
   "cell_type": "markdown",
   "metadata": {},
   "source": [
    "Now that we have the complete vocabulary, we can split the dataset into development (90%) and evaluation (10%) set:"
   ]
  },
  {
   "cell_type": "code",
   "execution_count": 31,
   "metadata": {},
   "outputs": [],
   "source": [
    "dev_df = sampled_data.head(int(sampled_data.shape[0]*9/10))\n",
    "eval_df = sampled_data.tail(int(sampled_data.shape[0]*1/10)).reset_index(drop=True)"
   ]
  },
  {
   "cell_type": "markdown",
   "metadata": {},
   "source": [
    "For each set we want to initialize (then fill) a sparse matrix using `scipy` with as many rows as the number of sentences in the development or evaluationset and as many columns as the number of bigrams in the full vocab:"
   ]
  },
  {
   "cell_type": "code",
   "execution_count": 32,
   "metadata": {},
   "outputs": [],
   "source": [
    "from scipy import sparse"
   ]
  },
  {
   "cell_type": "code",
   "execution_count": 33,
   "metadata": {},
   "outputs": [],
   "source": [
    "def data_count_vectorizer(df, vocab): # df must have a 'lang' column \n",
    "    matrix = sparse.dok_matrix((df.shape[0], len(vocab)), dtype = np.int16) # initialize matrix\n",
    "    \n",
    "    # it might take a while, so let's add a progressbar to have an idea of the running time\n",
    "    bar = progressbar.ProgressBar(maxval = matrix.shape[0], \\\n",
    "        widgets = [progressbar.Bar('=', '[', ']'), ' ', progressbar.Percentage()])\n",
    "\n",
    "    bar.start()\n",
    "    for i in range(matrix.shape[0]): # for each sentence,\n",
    "        for j in range(matrix.shape[1]): # for each bigram in the vocabulary,\n",
    "            if vocab[j] in df[\"tokenized\"][i]: # if the bigram is found in the current sentence...\n",
    "                matrix[i, j] = df[\"counts\"][i][df[\"tokenized\"][i] == vocab[j]] # ...the value of the matrix is the count of that bigram in that sentence...\n",
    "            else:\n",
    "                matrix[i, j] = 0 # ...otherwise is 0\n",
    "        bar.update(i+1)\n",
    "    bar.finish()\n",
    "    \n",
    "    return(matrix, df['lang'])"
   ]
  },
  {
   "cell_type": "markdown",
   "metadata": {},
   "source": [
    "Finally, let's fill in the matrix for the development set:"
   ]
  },
  {
   "cell_type": "code",
   "execution_count": 34,
   "metadata": {},
   "outputs": [
    {
     "name": "stderr",
     "output_type": "stream",
     "text": [
      "[========================================================================] 100%\n"
     ]
    }
   ],
   "source": [
    "dev_matrix, dev_tags = data_count_vectorizer(dev_df, vocab)"
   ]
  },
  {
   "cell_type": "markdown",
   "metadata": {},
   "source": [
    "### Exercise 3\n",
    "Logistic regression using `sklearn.linear_model.LogisticRegression`:"
   ]
  },
  {
   "cell_type": "code",
   "execution_count": 35,
   "metadata": {},
   "outputs": [],
   "source": [
    "from sklearn import linear_model as lm"
   ]
  },
  {
   "cell_type": "code",
   "execution_count": 36,
   "metadata": {},
   "outputs": [],
   "source": [
    "logReg = lm.LogisticRegression() # initialize model\n",
    "\n",
    "X_train = dev_matrix # counts of bigrams as features\n",
    "y_train = dev_tags # language label as target"
   ]
  },
  {
   "cell_type": "code",
   "execution_count": 37,
   "metadata": {},
   "outputs": [
    {
     "data": {
      "text/plain": [
       "LogisticRegression(C=1.0, class_weight=None, dual=False, fit_intercept=True,\n",
       "                   intercept_scaling=1, l1_ratio=None, max_iter=100,\n",
       "                   multi_class='auto', n_jobs=None, penalty='l2',\n",
       "                   random_state=None, solver='lbfgs', tol=0.0001, verbose=0,\n",
       "                   warm_start=False)"
      ]
     },
     "execution_count": 37,
     "metadata": {},
     "output_type": "execute_result"
    }
   ],
   "source": [
    "logReg.fit(X_train, y_train) # train"
   ]
  },
  {
   "cell_type": "code",
   "execution_count": 38,
   "metadata": {},
   "outputs": [
    {
     "data": {
      "text/plain": [
       "1.0"
      ]
     },
     "execution_count": 38,
     "metadata": {},
     "output_type": "execute_result"
    }
   ],
   "source": [
    "logReg.score(X_train, y_train) # print score (mean accuracy)"
   ]
  },
  {
   "cell_type": "markdown",
   "metadata": {},
   "source": [
    "How about score on evaluation set?"
   ]
  },
  {
   "cell_type": "code",
   "execution_count": 39,
   "metadata": {},
   "outputs": [
    {
     "name": "stderr",
     "output_type": "stream",
     "text": [
      "[========================================================================] 100%\n"
     ]
    }
   ],
   "source": [
    "eval_matrix, eval_tags = data_count_vectorizer(eval_df, vocab)"
   ]
  },
  {
   "cell_type": "code",
   "execution_count": 40,
   "metadata": {},
   "outputs": [
    {
     "data": {
      "text/plain": [
       "0.88"
      ]
     },
     "execution_count": 40,
     "metadata": {},
     "output_type": "execute_result"
    }
   ],
   "source": [
    "X_eval = eval_matrix\n",
    "y_eval = eval_tags\n",
    "logReg.score(X_eval, y_eval) # print score (mean accuracy)"
   ]
  },
  {
   "cell_type": "markdown",
   "metadata": {},
   "source": [
    "Pretty good already. How abou using `CountVectorizer` from `sklearn`? "
   ]
  },
  {
   "cell_type": "code",
   "execution_count": 41,
   "metadata": {},
   "outputs": [],
   "source": [
    "from sklearn.feature_extraction.text import CountVectorizer"
   ]
  },
  {
   "cell_type": "code",
   "execution_count": 42,
   "metadata": {},
   "outputs": [],
   "source": [
    "sklearn_count_vectorizer = CountVectorizer(token_pattern = r\"..\") # initialize vectorizer \"split every two characters\""
   ]
  },
  {
   "cell_type": "markdown",
   "metadata": {},
   "source": [
    "The output is different from ours, i.e. the features are less fine grained. For example:"
   ]
  },
  {
   "cell_type": "code",
   "execution_count": 43,
   "metadata": {},
   "outputs": [
    {
     "data": {
      "text/plain": [
       "[' c', ' t', 'a ', 'c ', 'ca', 'ch', 'he', 'i ', 'm ', 'mi', 'ta', 'ti']"
      ]
     },
     "execution_count": 43,
     "metadata": {},
     "output_type": "execute_result"
    }
   ],
   "source": [
    "corpus = [\"ti che ti tachi i tac tacam i tac a mi\"]\n",
    "sklearn_count_vectorizer.fit_transform(corpus)\n",
    "sklearn_count_vectorizer.get_feature_names()"
   ]
  },
  {
   "cell_type": "code",
   "execution_count": 44,
   "metadata": {},
   "outputs": [],
   "source": [
    "sklearn_count_vectorizer = CountVectorizer(token_pattern = r\"..\") # initialize vectorizer \"split every two characters\"\n",
    "X_train = sklearn_count_vectorizer.fit_transform(dev_df[\"clean_sentence\"]) # transform training data"
   ]
  },
  {
   "cell_type": "code",
   "execution_count": 45,
   "metadata": {},
   "outputs": [
    {
     "data": {
      "text/plain": [
       "0.9948148148148148"
      ]
     },
     "execution_count": 45,
     "metadata": {},
     "output_type": "execute_result"
    }
   ],
   "source": [
    "logReg.fit(X_train, y_train) # train\n",
    "logReg.score(X_train, y_train) # print score (mean accuracy)"
   ]
  },
  {
   "cell_type": "code",
   "execution_count": 46,
   "metadata": {},
   "outputs": [],
   "source": [
    "X_eval = sklearn_count_vectorizer.transform(eval_df[\"clean_sentence\"]) # transform evaluation data"
   ]
  },
  {
   "cell_type": "code",
   "execution_count": 47,
   "metadata": {},
   "outputs": [
    {
     "data": {
      "text/plain": [
       "0.7666666666666667"
      ]
     },
     "execution_count": 47,
     "metadata": {},
     "output_type": "execute_result"
    }
   ],
   "source": [
    "y_eval = eval_tags\n",
    "logReg.score(X_eval, y_eval) # print score (mean accuracy)"
   ]
  },
  {
   "cell_type": "markdown",
   "metadata": {},
   "source": [
    "It's different but not by too much :) We expect it to be lower because the feature are less fine-grained here. It's much faster, though."
   ]
  },
  {
   "cell_type": "markdown",
   "metadata": {},
   "source": [
    "### Exercise 4\n",
    "We write a function that takes two sequences of labels (read: gold-standard labels and predicted labels) and a specific label as input and returns precision, recall and F1-score with respect to the input specific label."
   ]
  },
  {
   "cell_type": "code",
   "execution_count": 48,
   "metadata": {},
   "outputs": [],
   "source": [
    "def get_scores(true_labels, predicted_labels, label):\n",
    "    true_indices = [i for i, x in enumerate(true_labels) if x == label] # indices of true occurrences of \"label\"\n",
    "    predicted_indices = [i for i, x in enumerate(predicted_labels) if x == label] # predictions of true occ. of \"label\"\n",
    "    neg_true_indices = [i for i, x in enumerate(true_labels) if x != label] # indices of true occurrences of \"NOTlabel\"\n",
    "    neg_predicted_indices = [i for i, x in enumerate(predicted_labels) if x != label] # predictions of true occ. of \"NOTlabel\"\n",
    "\n",
    "    tp_indices = list(set(true_indices).intersection(predicted_indices)) # indices of true positives\n",
    "    fp_indices = [i for i in predicted_indices if not i in tp_indices] # indices of false positives\n",
    "    tn_indices = list(set(neg_true_indices).intersection(neg_predicted_indices)) # indices of true negatives\n",
    "    fn_indices = [i for i in neg_predicted_indices if not i in tn_indices] # indices of false negatives\n",
    "\n",
    "    tp = len(tp_indices) # how many?\n",
    "    fp = len(fp_indices)\n",
    "    fn = len(fn_indices)\n",
    "    \n",
    "    if tp + fp == 0:\n",
    "        precision, recall = 0, 0\n",
    "    else:\n",
    "        precision = tp / (tp + fp) # scores\n",
    "        recall = tp / (tp + fn)\n",
    "    if precision + recall == 0:\n",
    "        f1_score = 0\n",
    "    else:\n",
    "        f1_score = (2 * precision * recall) / (precision + recall)\n",
    "\n",
    "    return(precision, recall, f1_score)"
   ]
  },
  {
   "cell_type": "markdown",
   "metadata": {},
   "source": [
    "For example:"
   ]
  },
  {
   "cell_type": "code",
   "execution_count": 49,
   "metadata": {},
   "outputs": [],
   "source": [
    "true_labels = [\"ita\", \"fra\", \"eng\", \"deu\", \"esp\", \"por\", \"swe\", \n",
    "               \"ita\", \"fra\", \"eng\", \"deu\", \"esp\", \"por\", \"swe\",\n",
    "               \"ita\", \"fra\", \"eng\", \"deu\", \"esp\", \"por\", \"swe\", \n",
    "               \"ita\", \"fra\", \"eng\", \"deu\", \"esp\", \"por\", \"swe\", \n",
    "               \"ita\", \"fra\", \"eng\", \"deu\", \"esp\", \"por\", \"swe\",\n",
    "               \"ita\", \"fra\", \"eng\", \"deu\", \"esp\", \"por\", \"swe\",\n",
    "               \"ita\", \"fra\", \"eng\", \"deu\", \"esp\", \"por\", \"swe\"]\n",
    "\n",
    "predicted_labels = [\"ita\", \"fra\", \"fra\", \"eng\", \"por\", \"por\", \"esp\", \n",
    "                    \"ita\", \"fra\", \"deu\", \"deu\", \"esp\", \"por\", \"swe\",\n",
    "                    \"ita\", \"fra\", \"deu\", \"deu\", \"por\", \"por\", \"swe\", \n",
    "                    \"ita\", \"fra\", \"deu\", \"deu\", \"esp\", \"por\", \"swe\", \n",
    "                    \"ita\", \"fra\", \"deu\", \"deu\", \"esp\", \"por\", \"swe\",\n",
    "                    \"ita\", \"fra\", \"deu\", \"deu\", \"por\", \"esp\", \"swe\",\n",
    "                    \"ita\", \"fra\", \"eng\", \"swe\", \"esp\", \"por\", \"swe\"]"
   ]
  },
  {
   "cell_type": "code",
   "execution_count": 50,
   "metadata": {},
   "outputs": [
    {
     "name": "stdout",
     "output_type": "stream",
     "text": [
      "Precision: 1.0, Recall: 1.0, F1-score: 1.0\n"
     ]
    }
   ],
   "source": [
    "pr, re, f1 = get_scores(true_labels, predicted_labels, \"ita\")\n",
    "print(\"Precision: {}, Recall: {}, F1-score: {}\".format(pr, re, f1))"
   ]
  },
  {
   "cell_type": "code",
   "execution_count": 51,
   "metadata": {},
   "outputs": [
    {
     "name": "stdout",
     "output_type": "stream",
     "text": [
      "Precision: 0.875, Recall: 1.0, F1-score: 0.9333333333333333\n"
     ]
    }
   ],
   "source": [
    "pr, re, f1 = get_scores(true_labels, predicted_labels, \"fra\")\n",
    "print(\"Precision: {}, Recall: {}, F1-score: {}\".format(pr, re, f1))"
   ]
  },
  {
   "cell_type": "code",
   "execution_count": 52,
   "metadata": {},
   "outputs": [
    {
     "name": "stdout",
     "output_type": "stream",
     "text": [
      "Precision: 0.8571428571428571, Recall: 0.8571428571428571, F1-score: 0.8571428571428571\n"
     ]
    }
   ],
   "source": [
    "pr, re, f1 = get_scores(true_labels, predicted_labels, \"swe\")\n",
    "print(\"Precision: {}, Recall: {}, F1-score: {}\".format(pr, re, f1))"
   ]
  },
  {
   "cell_type": "markdown",
   "metadata": {},
   "source": [
    "Next, we write a function to compute averaged scores over a list of specific labels (instead of just one label as before):"
   ]
  },
  {
   "cell_type": "code",
   "execution_count": 53,
   "metadata": {},
   "outputs": [],
   "source": [
    "def avg_scores(true_labels, predicted_labels, labels):\n",
    "    precisions = [] # initialize empty lists\n",
    "    recalls = []\n",
    "    f1_scores = []\n",
    "    for label in list(set(labels)): # cycle through unique entries in label list\n",
    "        pr, re, f1 = get_scores(true_labels, predicted_labels, label)\n",
    "        precisions.append(pr)\n",
    "        recalls.append(re)\n",
    "        f1_scores.append(f1)\n",
    "    avg_precision = sum(precisions)/len(precisions) # compute average scores\n",
    "    avg_recall = sum(recalls)/len(recalls)\n",
    "    avg_f1_score = sum(f1_scores)/len(f1_scores)\n",
    "    \n",
    "    return(avg_precision, avg_recall, avg_f1_score)"
   ]
  },
  {
   "cell_type": "markdown",
   "metadata": {},
   "source": [
    "For example:"
   ]
  },
  {
   "cell_type": "code",
   "execution_count": 54,
   "metadata": {},
   "outputs": [
    {
     "name": "stdout",
     "output_type": "stream",
     "text": [
      "Macro average scores. Precision: 0.7236394557823129, Recall: 0.7346938775510203, F1-score: 0.7094740460286679\n"
     ]
    }
   ],
   "source": [
    "labels = [\"ita\", \"fra\", \"eng\", \"deu\", \"esp\", \"por\", \"swe\"]\n",
    "avg_pr, avg_re, avg_f1 = avg_scores(true_labels, predicted_labels, labels)\n",
    "print(\"Macro average scores. Precision: {}, Recall: {}, F1-score: {}\".format(avg_pr, avg_re, avg_f1))"
   ]
  },
  {
   "cell_type": "code",
   "execution_count": 55,
   "metadata": {},
   "outputs": [
    {
     "name": "stdout",
     "output_type": "stream",
     "text": [
      "Macro average scores. Precision: 0.9375, Recall: 1.0, F1-score: 0.9666666666666667\n"
     ]
    }
   ],
   "source": [
    "labels = [\"ita\", \"fra\"]\n",
    "avg_pr, avg_re, avg_f1 = avg_scores(true_labels, predicted_labels, labels)\n",
    "print(\"Macro average scores. Precision: {}, Recall: {}, F1-score: {}\".format(avg_pr, avg_re, avg_f1))"
   ]
  },
  {
   "cell_type": "markdown",
   "metadata": {},
   "source": [
    "Finally, let's compute these average scores for the model trained above."
   ]
  },
  {
   "cell_type": "code",
   "execution_count": 56,
   "metadata": {},
   "outputs": [],
   "source": [
    "true_labels = dev_tags\n",
    "predicted_labels = logReg.predict(X_train)\n",
    "labels = list(set(dev_df['lang']))"
   ]
  },
  {
   "cell_type": "code",
   "execution_count": 57,
   "metadata": {},
   "outputs": [
    {
     "name": "stdout",
     "output_type": "stream",
     "text": [
      "Macro average scores. Precision: 0.9952482269503545, Recall: 0.9949555842109034, F1-score: 0.9948906435802402\n"
     ]
    }
   ],
   "source": [
    "avg_pr, avg_re, avg_f1 = avg_scores(true_labels, predicted_labels, labels)\n",
    "print(\"Macro average scores. Precision: {}, Recall: {}, F1-score: {}\".format(avg_pr, avg_re, avg_f1))"
   ]
  },
  {
   "cell_type": "markdown",
   "metadata": {},
   "source": [
    "Double check with `sklearn.metrics`:"
   ]
  },
  {
   "cell_type": "code",
   "execution_count": 58,
   "metadata": {},
   "outputs": [],
   "source": [
    "from sklearn import metrics"
   ]
  },
  {
   "cell_type": "code",
   "execution_count": 59,
   "metadata": {},
   "outputs": [
    {
     "name": "stdout",
     "output_type": "stream",
     "text": [
      "Macro average scores (sklearn). Precision: 0.9952482269503545, Recall: 0.9949555842109034, F1-score: 0.9948906435802402\n"
     ]
    }
   ],
   "source": [
    "avg_pr_skl = metrics.precision_score(true_labels, predicted_labels, labels, average = \"macro\")\n",
    "avg_re_skl = metrics.recall_score(true_labels, predicted_labels, labels, average = \"macro\")\n",
    "avg_f1_skl = metrics.f1_score(true_labels, predicted_labels, labels, average = \"macro\")\n",
    "print(\"Macro average scores (sklearn). Precision: {}, Recall: {}, F1-score: {}\".format(avg_pr, avg_re, avg_f1))"
   ]
  },
  {
   "cell_type": "markdown",
   "metadata": {},
   "source": [
    "### Exercise 5\n",
    "Implement k-fold cross validation."
   ]
  },
  {
   "cell_type": "markdown",
   "metadata": {},
   "source": [
    "First, we write a function which takes two integers as input: the lenght of a dataframe (number of rows) and the number `k` of folds, and yields `k` lists of approximately the same length containing sampled integers (no repetitions) representing the indices of the rows in each fold:"
   ]
  },
  {
   "cell_type": "code",
   "execution_count": 60,
   "metadata": {},
   "outputs": [],
   "source": [
    "def indices_folder(df_length, k):\n",
    "    fold_length = df_length // k # integer part of this division is approximate length of each fold\n",
    "    remainder = df_length % k # the remainder of the division\n",
    "    row_indices = [i for i in range(0, df_length)] # the indeces of the the rows\n",
    "    output_list = [None] * k # initialize empty output list\n",
    "    for i in range(0, k): # for each fold...\n",
    "        if i < remainder: # the first n folds have one more element the the remaining ones\n",
    "            random.seed(2)\n",
    "            sampled_indices = random.sample(row_indices, fold_length + 1) # sample\n",
    "        else:\n",
    "            random.seed(2)\n",
    "            sampled_indices = random.sample(row_indices, fold_length)\n",
    "        output_list[i] = sampled_indices # assign list of sampled indices\n",
    "        row_indices = list(set(row_indices) - set(sampled_indices)) # remove \"used\" indices\n",
    "    return(output_list)"
   ]
  },
  {
   "cell_type": "markdown",
   "metadata": {},
   "source": [
    "For example:"
   ]
  },
  {
   "cell_type": "code",
   "execution_count": 61,
   "metadata": {},
   "outputs": [
    {
     "data": {
      "text/plain": [
       "[[1, 2, 11],\n",
       " [3, 4, 20],\n",
       " [5, 21, 19],\n",
       " [0, 6, 17],\n",
       " [7, 8],\n",
       " [9, 18],\n",
       " [10, 16],\n",
       " [12, 15],\n",
       " [13, 14]]"
      ]
     },
     "execution_count": 61,
     "metadata": {},
     "output_type": "execute_result"
    }
   ],
   "source": [
    "df_length, k = 22, 9\n",
    "indices_folder(df_length, k)"
   ]
  },
  {
   "cell_type": "markdown",
   "metadata": {},
   "source": [
    "Next, we write a function which takes a dataframe and a list of indices as input, splits the dataframe extracting the rows corresponding to the indices in the list and return two dataframes: train e validation"
   ]
  },
  {
   "cell_type": "code",
   "execution_count": 62,
   "metadata": {},
   "outputs": [],
   "source": [
    "def dataframe_splitter(df, input_list):\n",
    "    train_df = df.iloc[list(set(df.index) - set(input_list)), :].reset_index(drop=True)\n",
    "    val_df = df.iloc[input_list, :].reset_index(drop=True)\n",
    "    return(train_df, val_df)"
   ]
  },
  {
   "cell_type": "markdown",
   "metadata": {},
   "source": [
    "For example:"
   ]
  },
  {
   "cell_type": "code",
   "execution_count": 63,
   "metadata": {},
   "outputs": [],
   "source": [
    "df = dev_df.head(57)\n",
    "input_list = [1, 5, 35, 48]\n",
    "train_df, val_df = dataframe_splitter(df, input_list)"
   ]
  },
  {
   "cell_type": "code",
   "execution_count": 64,
   "metadata": {},
   "outputs": [
    {
     "name": "stdout",
     "output_type": "stream",
     "text": [
      "(53, 5)\n",
      "(4, 5)\n"
     ]
    }
   ],
   "source": [
    "print(train_df.shape)\n",
    "print(val_df.shape)"
   ]
  },
  {
   "cell_type": "markdown",
   "metadata": {},
   "source": [
    "Next, we write a function to train a logistic regression model on a df and return the macro averaged scores on training and validation data, which are obtained according to list of indices. Given the fact that the results were comparable, we use `CountVectorizer` instead of our own procedure, to make things quicker:"
   ]
  },
  {
   "cell_type": "code",
   "execution_count": 66,
   "metadata": {},
   "outputs": [],
   "source": [
    "def train_validate(df, input_list):\n",
    "\n",
    "    # split df according to list of indices\n",
    "    train_df, val_df = dataframe_splitter(df, input_list)\n",
    "    sklearn_count_vectorizer = CountVectorizer(token_pattern = r\"..\") # initialize vectorizer \"split every two characters\"\n",
    "\n",
    "    # training\n",
    "    X_train = sklearn_count_vectorizer.fit_transform(train_df[\"clean_sentence\"]) # counts of bigrams as features\n",
    "    y_train = train_df[\"lang\"] # language label as target\n",
    "    \n",
    "    logReg = lm.LogisticRegression() # initialize model\n",
    "    logReg.fit(X_train, y_train) # train\n",
    "\n",
    "    labels = list(set(y_train)) # macro average relative to set of unique labels\n",
    "    true_labels  = y_train\n",
    "    predicted_labels = logReg.predict(X_train) # prediction\n",
    "    avg_pr_tr, avg_re_tr, avg_f1_tr = avg_scores(true_labels, predicted_labels, labels) # scores\n",
    "    print(\"Macro average scores on training data. Precision: {}, Recall: {}, F1-score: {}\".format(avg_pr_tr, avg_re_tr, avg_f1_tr))\n",
    "\n",
    "    # validation\n",
    "    X_val = sklearn_count_vectorizer.transform(val_df[\"clean_sentence\"]) # counts of bigrams as features\n",
    "    y_val = val_df[\"lang\"] # language label as target\n",
    "\n",
    "    labels = list(set(y_val))\n",
    "    true_labels  = y_val\n",
    "    predicted_labels = logReg.predict(X_val)\n",
    "    avg_pr_val, avg_re_val, avg_f1_val = avg_scores(true_labels, predicted_labels, labels)\n",
    "    print(\"Macro average scores on validation data. Precision: {}, Recall: {}, F1-score: {}\".format(avg_pr_val, avg_re_val, avg_f1_val))\n",
    "    \n",
    "    return(avg_pr_tr, avg_re_tr, avg_f1_tr, avg_pr_val, avg_re_val, avg_f1_val)"
   ]
  },
  {
   "cell_type": "markdown",
   "metadata": {},
   "source": [
    "For example:"
   ]
  },
  {
   "cell_type": "code",
   "execution_count": 67,
   "metadata": {},
   "outputs": [],
   "source": [
    "df = dev_df.head(100)\n",
    "input_list = [i for i in range(43, 78)]"
   ]
  },
  {
   "cell_type": "code",
   "execution_count": 68,
   "metadata": {},
   "outputs": [
    {
     "name": "stdout",
     "output_type": "stream",
     "text": [
      "Macro average scores on training data. Precision: 1.0, Recall: 1.0, F1-score: 1.0\n",
      "Macro average scores on validation data. Precision: 0.19841269841269837, Recall: 0.12698412698412698, F1-score: 0.15079365079365076\n"
     ]
    }
   ],
   "source": [
    "scores = train_validate(df, input_list)"
   ]
  },
  {
   "cell_type": "code",
   "execution_count": 69,
   "metadata": {},
   "outputs": [
    {
     "data": {
      "text/plain": [
       "(1.0, 1.0, 1.0, 0.19841269841269837, 0.12698412698412698, 0.15079365079365076)"
      ]
     },
     "execution_count": 69,
     "metadata": {},
     "output_type": "execute_result"
    }
   ],
   "source": [
    "scores"
   ]
  },
  {
   "cell_type": "markdown",
   "metadata": {},
   "source": [
    "Finally, we define a function to perform k-fold cross-validation, i.e. it takes a df and a value `k` as input, it trains `k` models and outputs the mean macro averaged scores:"
   ]
  },
  {
   "cell_type": "code",
   "execution_count": 70,
   "metadata": {},
   "outputs": [],
   "source": [
    "def cross_validation(df, k):\n",
    "    \n",
    "    precision_scores_tr = [] # initialize empty lists where we keep track of scores\n",
    "    recall_scores_tr = []\n",
    "    f1_scores_tr = []\n",
    "    precision_scores_val = []\n",
    "    recall_scores_val = []\n",
    "    f1_scores_val = []\n",
    "    \n",
    "    folds = indices_folder(df.shape[0], k)\n",
    "    \n",
    "    for i in range(0, k):\n",
    "        print(\"Working on fold #{}\".format(i+1))\n",
    "        fold = folds[i]\n",
    "        scores = train_validate(df, fold)\n",
    "    \n",
    "        precision_scores_tr.append(scores[0])\n",
    "        recall_scores_tr.append(scores[1])\n",
    "        f1_scores_tr.append(scores[2])\n",
    "        precision_scores_val.append(scores[3])\n",
    "        recall_scores_val.append(scores[4])\n",
    "        f1_scores_val.append(scores[5])\n",
    "    \n",
    "    print(\"Done!\\n\")\n",
    "    avg_pr_tr = sum(precision_scores_tr)/k\n",
    "    avg_re_tr = sum(recall_scores_tr)/k\n",
    "    avg_f1_tr = sum(f1_scores_tr)/k\n",
    "    avg_pr_val = sum(precision_scores_val)/k\n",
    "    avg_re_val = sum(recall_scores_val)/k\n",
    "    avg_f1_val = sum(f1_scores_val)/k\n",
    "    \n",
    "    print(\"Mean scores on training data, k={}. Precision: {}, Recall: {}, F1-score: {}\".format(k, avg_pr_tr, avg_re_tr, avg_f1_tr))\n",
    "    print(\"Mean scores on validation data, k={}. Precision: {}, Recall: {}, F1-score: {}\".format(k, avg_pr_val, avg_re_val, avg_f1_val))\n",
    "    "
   ]
  },
  {
   "cell_type": "markdown",
   "metadata": {},
   "source": [
    "For example:"
   ]
  },
  {
   "cell_type": "code",
   "execution_count": 71,
   "metadata": {},
   "outputs": [],
   "source": [
    "df = sampled_data\n",
    "k = 5"
   ]
  },
  {
   "cell_type": "code",
   "execution_count": 72,
   "metadata": {},
   "outputs": [
    {
     "name": "stdout",
     "output_type": "stream",
     "text": [
      "Working on fold #1\n",
      "Macro average scores on training data. Precision: 0.9970971466270823, Recall: 0.9964122315592904, F1-score: 0.99667529367428\n",
      "Macro average scores on validation data. Precision: 0.7187368479473742, Recall: 0.7132926795426795, F1-score: 0.6907173032249319\n",
      "Working on fold #2\n",
      "Macro average scores on training data. Precision: 0.9953664552501762, Recall: 0.9949030261416445, F1-score: 0.9949037137204818\n",
      "Macro average scores on validation data. Precision: 0.8256912531912532, Recall: 0.7908573833573834, F1-score: 0.7847957029310512\n",
      "Working on fold #3\n",
      "Macro average scores on training data. Precision: 0.9952380952380953, Recall: 0.9944247950024587, F1-score: 0.9945597283375062\n",
      "Macro average scores on validation data. Precision: 0.7769708069708069, Recall: 0.7419602157102158, F1-score: 0.731048578267943\n",
      "Working on fold #4\n",
      "Macro average scores on training data. Precision: 0.9984496124031008, Recall: 0.9983516483516482, F1-score: 0.998371842347746\n",
      "Macro average scores on validation data. Precision: 0.8204811331985247, Recall: 0.8045704295704295, F1-score: 0.7923402419571824\n",
      "Working on fold #5\n",
      "Macro average scores on training data. Precision: 0.9984848484848484, Recall: 0.9984126984126984, F1-score: 0.9984117980714692\n",
      "Macro average scores on validation data. Precision: 0.774806915271811, Recall: 0.7377275502275503, F1-score: 0.7327125870852033\n",
      "Done!\n",
      "\n",
      "Mean scores on training data, k=5. Precision: 0.9969272316006605, Recall: 0.9965008798935481, F1-score: 0.9965844752302966\n",
      "Mean scores on validation data, k=5. Precision: 0.783337391315954, Recall: 0.7576816516816517, F1-score: 0.7463228826932624\n"
     ]
    }
   ],
   "source": [
    "cross_validation(df, k)"
   ]
  },
  {
   "cell_type": "markdown",
   "metadata": {},
   "source": [
    "### Exercise 6\n",
    "Hyperparameter(s) fine-tuning. Which value of the regularization constant achieves the best balance between the scores for training and evaluation datasets? We define a function which takes training and evaluation data as input, together with a list of possible regularization strength values, and yields vectors of precision, recall, f1 scores for each regularization value and for both training and evluation data."
   ]
  },
  {
   "cell_type": "code",
   "execution_count": 73,
   "metadata": {},
   "outputs": [],
   "source": [
    "def log_reg_tuning(X_train, y_train, X_eval, y_eval, values):\n",
    "    \n",
    "    pr_tr_scores = [] # initialize\n",
    "    re_tr_scores = []\n",
    "    f1_tr_scores = []\n",
    "    pr_eva_scores = []\n",
    "    re_eva_scores = []\n",
    "    f1_eva_scores = []\n",
    "    \n",
    "    # it might take a while, so let's add a progressbar to have an idea of the running time\n",
    "    print(\"Working on it, please wait...\")\n",
    "    bar = progressbar.ProgressBar(maxval = len(values), \\\n",
    "        widgets = [progressbar.Bar('=', '[', ']'), ' ', progressbar.Percentage()])\n",
    "    bar.start()\n",
    "    \n",
    "    for i, c in enumerate(values): # we fit a logistic regression model for each regulariz. value\n",
    "        # training\n",
    "        logReg = lm.LogisticRegression(C = 1/c) # initialize model with c value (inverse of regularization)\n",
    "        logReg.fit(X_train, y_train) # train\n",
    "\n",
    "        labels = list(set(y_train)) # macro average relative to set of unique labels\n",
    "        true_labels  = y_train\n",
    "        predicted_labels = logReg.predict(X_train) # prediction\n",
    "        avg_pr_tr, avg_re_tr, avg_f1_tr = avg_scores(true_labels, predicted_labels, labels) # scores\n",
    "        pr_tr_scores.append(avg_pr_tr)\n",
    "        re_tr_scores.append(avg_re_tr)\n",
    "        f1_tr_scores.append(avg_f1_tr)\n",
    "\n",
    "        # evaluation\n",
    "        labels = list(set(y_eval))\n",
    "        true_labels  = y_eval\n",
    "        predicted_labels = logReg.predict(X_eval) # prediction\n",
    "        avg_pr_eva, avg_re_eva, avg_f1_eva = avg_scores(true_labels, predicted_labels, labels) # scores\n",
    "        pr_eva_scores.append(avg_pr_eva)\n",
    "        re_eva_scores.append(avg_re_eva)\n",
    "        f1_eva_scores.append(avg_f1_eva)\n",
    "        \n",
    "        bar.update(i + 1)\n",
    "    bar.finish()\n",
    "    print(\"Done!\")\n",
    "    return(pr_tr_scores, re_tr_scores, f1_tr_scores, pr_eva_scores, re_eva_scores, f1_eva_scores)"
   ]
  },
  {
   "cell_type": "markdown",
   "metadata": {},
   "source": [
    "For example:"
   ]
  },
  {
   "cell_type": "code",
   "execution_count": 74,
   "metadata": {},
   "outputs": [],
   "source": [
    "X_train = dev_matrix # we go back to the original dev and eval dfs, no k-fold here\n",
    "y_train = dev_tags\n",
    "X_eval = eval_matrix\n",
    "y_eval = eval_tags\n",
    "\n",
    "values = [n for n in range(1, 30)]"
   ]
  },
  {
   "cell_type": "code",
   "execution_count": 75,
   "metadata": {},
   "outputs": [
    {
     "name": "stderr",
     "output_type": "stream",
     "text": [
      "[                                                                        ]   0%\r"
     ]
    },
    {
     "name": "stdout",
     "output_type": "stream",
     "text": [
      "Working on it, please wait...\n"
     ]
    },
    {
     "name": "stderr",
     "output_type": "stream",
     "text": [
      "[========================================================================] 100%\r"
     ]
    },
    {
     "name": "stdout",
     "output_type": "stream",
     "text": [
      "Done!\n"
     ]
    },
    {
     "name": "stderr",
     "output_type": "stream",
     "text": [
      "\n"
     ]
    }
   ],
   "source": [
    "pr_tr_scores, re_tr_scores, f1_tr_scores, pr_eva_scores, re_eva_scores, f1_eva_scores = log_reg_tuning(X_train,\n",
    "                                                                                                       y_train,\n",
    "                                                                                                       X_eval,\n",
    "                                                                                                       y_eval, \n",
    "                                                                                                       values)"
   ]
  },
  {
   "cell_type": "markdown",
   "metadata": {},
   "source": [
    "Let's plot the three pairs of scores as function of the regularization strength:"
   ]
  },
  {
   "cell_type": "code",
   "execution_count": 77,
   "metadata": {},
   "outputs": [],
   "source": [
    "import matplotlib.pyplot as plt\n",
    "%matplotlib inline"
   ]
  },
  {
   "cell_type": "code",
   "execution_count": 78,
   "metadata": {},
   "outputs": [
    {
     "data": {
      "image/png": "[encoded data removed]",
      "text/plain": [
       "<Figure size 432x288 with 1 Axes>"
      ]
     },
     "metadata": {
      "needs_background": "light"
     },
     "output_type": "display_data"
    }
   ],
   "source": [
    "# precision\n",
    "plt.plot(range(1, len(values)+1), pr_tr_scores, \"bs\", label = 'train')\n",
    "plt.plot(range(1, len(values)+1), pr_eva_scores, \"r^\", label = 'evaluation')\n",
    "plt.xlabel(\"Regularization strenght\")\n",
    "plt.ylabel('Precision')\n",
    "plt.legend()\n",
    "plt.title(\"Effect of reg. strength on precision\")\n",
    "plt.show()"
   ]
  },
  {
   "cell_type": "code",
   "execution_count": 79,
   "metadata": {},
   "outputs": [
    {
     "data": {
      "image/png": "[encoded data removed]",
      "text/plain": [
       "<Figure size 432x288 with 1 Axes>"
      ]
     },
     "metadata": {
      "needs_background": "light"
     },
     "output_type": "display_data"
    }
   ],
   "source": [
    "# recall\n",
    "plt.plot(range(1, len(values)+1), re_tr_scores, \"bs\", label = 'train')\n",
    "plt.plot(range(1, len(values)+1), re_eva_scores, \"r^\", label = 'evaluation')\n",
    "plt.xlabel(\"Regularization strenght\")\n",
    "plt.ylabel('Recall')\n",
    "plt.legend()\n",
    "plt.title(\"Effect of reg. strength on recall\")\n",
    "plt.show()"
   ]
  },
  {
   "cell_type": "code",
   "execution_count": 80,
   "metadata": {},
   "outputs": [
    {
     "data": {
      "image/png": "[encoded data removed]",
      "text/plain": [
       "<Figure size 432x288 with 1 Axes>"
      ]
     },
     "metadata": {
      "needs_background": "light"
     },
     "output_type": "display_data"
    }
   ],
   "source": [
    "# f1\n",
    "plt.plot(range(1, len(values)+1), f1_tr_scores, \"bs\", label = 'train')\n",
    "plt.plot(range(1, len(values)+1), f1_eva_scores, \"r^\", label = 'evaluation')\n",
    "plt.xlabel(\"Regularization strenght\")\n",
    "plt.ylabel('F1')\n",
    "plt.legend()\n",
    "plt.title(\"Effect of reg. strength on F1\")\n",
    "plt.show()"
   ]
  },
  {
   "cell_type": "markdown",
   "metadata": {},
   "source": [
    "Is this right?"
   ]
  }
 ],
 "metadata": {
  "kernelspec": {
   "display_name": "Python 3",
   "language": "python",
   "name": "python3"
  },
  "language_info": {
   "codemirror_mode": {
    "name": "ipython",
    "version": 3
   },
   "file_extension": ".py",
   "mimetype": "text/x-python",
   "name": "python",
   "nbconvert_exporter": "python",
   "pygments_lexer": "ipython3",
   "version": "3.7.6"
  }
 },
 "nbformat": 4,
 "nbformat_minor": 4
}
